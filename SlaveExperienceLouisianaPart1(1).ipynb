{
 "cells": [
  {
   "cell_type": "markdown",
   "id": "776e7b47-dd2b-418c-a17f-c7c509cd067f",
   "metadata": {},
   "source": [
    "Last article, I gave my basic reasons for pursuing a research project into the changing demographics of the slave trade in the Americas. This was very broad, and very vague. However, now I am about to plunge into locating the necessary data to reconstruct the history I wish to reconstruct. And already I am running into technical issues. \n",
    "\n",
    "The archive I want to use was created 22 years ago, back when Microsoft was the preeminent provider of consumer computer products. Everything is saved as a .dbf database file, with .sav, .sps and other files used to port it to an SPSS application. I had never heard of SPSS before this project. It's a proprietary system currently owned by IBM and used heavily in the GIS community. Opening this type of layered database file in a modern environment is complicated. Microsoft has a deprecated product, Visual FoxPro, and of course there are paid products. However, I want to use a modern Jupyter notebook with Python, pandas and other standard data science tools.\n",
    "\n",
    "I turned to the great oracle, Google, to find out how to open a .dbf file in Jupyter. There is a fairly well known package, PySal, that seemed ideal. Unfortunately, I am using Python 3.8. Pysal is dependent on a package called Rasterio, which in turn is dependent on a set of C libraries called GDAL. And here is where I ran into issues. GDAL does not, for some reason, edit its path environment variables on a Windows machine with Python 3.8. There are open issues with several development teams, but all are quite recent (the past year or so) and the issue is not yet fixed. While I'd love to use a Linux machine, at the moment I'm stuck with Windows.\n",
    "\n",
    "So I am going to have to sacrifice the convenience of Pysal and turn to a more hacked together solution. Python comes with a dbfread library. It is going to take some work to get dbfread into Pandas, but hopefully not too much."
   ]
  },
  {
   "cell_type": "code",
   "execution_count": 1,
   "id": "7172926a-631f-40e3-9329-320309174275",
   "metadata": {},
   "outputs": [],
   "source": [
    "import pandas as pd\n",
    "from dbfread import DBF\n",
    "\n",
    "# Need this later on for data cleaning\n",
    "import numpy as np\n",
    "import datetime\n",
    "\n",
    "# Chart visualization\n",
    "import matplotlib.pyplot as plt\n",
    "from matplotlib.colors import ListedColormap\n",
    "\n",
    "# Nearest Neighbor Algorithm\n",
    "from sklearn.model_selection import train_test_split\n",
    "from sklearn.preprocessing import StandardScaler\n",
    "from sklearn.neighbors import KNeighborsClassifier\n",
    "from sklearn.metrics import classification_report, confusion_matrix\n",
    "import plotly.graph_objects as go\n",
    "import numpy as np\n",
    "from sklearn.datasets import make_moons\n",
    "from sklearn.model_selection import train_test_split\n",
    "from sklearn.neighbors import KNeighborsClassifier\n",
    "import statistics"
   ]
  },
  {
   "cell_type": "markdown",
   "id": "cb477f82-3e6f-4682-adb8-d6e26891e34e",
   "metadata": {},
   "source": [
    "Above, I imported Pandas. Pandas is perhaps the most popular data science package for Python and is extremely useful. I've used some of its competitors, especially Turi, and Pandas is both better documented and more supported. It does have some strange quirks, such as its odd use of zero indexing, but overall is a fun package to use.\n",
    "\n",
    "Notice I'm also using dbfread. I'm using a script form the documentation at https://dbfread.readthedocs.io/en/latest/exporting_data.html. Please be nice to me processor gods, I just want a dataframe."
   ]
  },
  {
   "cell_type": "code",
   "execution_count": 2,
   "id": "ebae8a97-f821-4124-b87b-7577cfce8905",
   "metadata": {},
   "outputs": [],
   "source": [
    "dbf = DBF('SLAVE.DBF')"
   ]
  },
  {
   "cell_type": "markdown",
   "id": "bf1123a0-d04a-4fc0-bfbc-a60b1d9a2af7",
   "metadata": {},
   "source": [
    "Let's try to convert the .dbf database into a Pandas dataframe. I'm going to use Pandass' inbuilt DataFrame function because it will continue to be updated with Pandas' development. It is important to note that dbfread is only a somewhat maintained library. After parsing the source code, I noticed a lot of development is still needed. This would come back to bite me as I worked with this project. Per dbfread's documentation, we also need to pass an iterable form of the dbf file we created above. Below is the single line of code that nearly destroyed my sanity."
   ]
  },
  {
   "cell_type": "code",
   "execution_count": 30,
   "id": "74d0a99f-f44f-4c0e-8c6f-da388d77e8ab",
   "metadata": {},
   "outputs": [],
   "source": [
    "df = pd.DataFrame(iter(dbf))"
   ]
  },
  {
   "cell_type": "markdown",
   "id": "5d396c15-f576-49af-98b3-5e46a73a02b1",
   "metadata": {},
   "source": [
    "Originally, this errored. And it errored in the most bizarre way. It was throwing errors about float numbers and integers with full stops. I was very confused and google didn't help much. In fact, most people just ended up editing their data file. I do not have the ability to open a dbf file, nor did I really want to open a file, edit it however many times, and close it again. So, I opened the source code of dbfread to the line that triggered the exception. Below I have a copy of the exception, lovingly recreated for you after I fixed it. Notice all the nonsense about integers and floats and b'.'."
   ]
  },
  {
   "cell_type": "markdown",
   "id": "c9d02239-67e6-4b60-9452-30ecce73e21d",
   "metadata": {},
   "source": [
    "---------------------------------------------------------------------------\n",
    "ValueError                                Traceback (most recent call last)\n",
    "c:\\users\\casti\\appdata\\local\\programs\\python\\python38\\lib\\site-packages\\dbfread\\field_parser.py in parseN(self, field, data)\n",
    "    179         try:\n",
    "--> 180             return int(data)\n",
    "    181         except ValueError:\n",
    "\n",
    "ValueError: invalid literal for int() with base 10: b'.'\n",
    "\n",
    "***Edited for clarity***\n",
    "\n",
    "c:\\users\\casti\\appdata\\local\\programs\\python\\python38\\lib\\site-packages\\dbfread\\field_parser.py in parseN(self, field, data)\n",
    "    184             else:\n",
    "    185                 # Account for , in numeric fields\n",
    "--> 186                 return float(data.replace(b',',b'.'))\n",
    "    187                 '''\n",
    "    188                 if isinstance(data, float) or len(data) >= 2:\n",
    "\n",
    "ValueError: could not convert string to float: b'.'"
   ]
  },
  {
   "cell_type": "markdown",
   "id": "db7e8827-5c1e-4bc0-8d7b-4e39fca73c6f",
   "metadata": {},
   "source": [
    "As I said, googling this error only turned up more people with the same issue. Since I couldn't use the package that everyone else seemed to prefer (PySal!) I decided to wade into the source code. Perhaps somewhere in the field_parser.py file I'd find a clue to fixing my code.\n",
    "\n",
    "I didn't. Instead, I found the reason the code errored in the first place. Here's some code taken directly from the fieldParser.py file in the dbfread package.\n",
    "\n",
    "    def parseN(self, field, data):\n",
    "        \"\"\"\n",
    "        Parse numeric field (N)\n",
    "\n",
    "        Returns int, float or None if the field is empty.\n",
    "        \"\"\"\n",
    "        \n",
    "        # In some files * is used for padding.\n",
    "        data = data.strip().strip(b'*')\n",
    "        try:\n",
    "            return int(data)\n",
    "        except ValueError:\n",
    "            if not data.strip():\n",
    "                return None\n",
    "            else:\n",
    "                # Account for , in numeric fields\n",
    "                return float(data.replace(b',',b'.'))\n",
    "                \n",
    "Folks, that was the entirety of the exception handling. The default case was, simply, to replace all commas with full stops and then try to convert whatever monstrosity resulted into a float. It is understandable Python didn't really want to do this. By this logic, if the number 1,234.56 was passed to the parseN method, the result would be 1.234.56. This is, obviously, neither a float nor an integer. It is an unholy creation of man. I decided to fix this.\n",
    "\n",
    "First, I decided the final case should be the float NaN. NaN stands for, in the surreally linear logic of computer scientists, *N*ot *A* *N*umber. Get it? NaN...Not A Number. This meant that, if the code was absolutely sure we were dealing with numbers, but it kept mangling whatever it was passed, it should just insert the Pythonic equivalent of a shrug. This is probably not the best design, but short of refactoring the whole dbfreads library I thought it would work as a stopgap. The code now read:\n",
    "\n",
    "    def parseN(self, field, data):\n",
    "        \"\"\"\n",
    "        Parse numeric field (N)\n",
    "\n",
    "        Returns int, float or None if the field is empty.\n",
    "        \"\"\"\n",
    "        \n",
    "        # In some files * is used for padding.\n",
    "        \n",
    "        data = data.strip().strip(b'*')\n",
    "        try:\n",
    "            return int(data)\n",
    "        except ValueError:\n",
    "            if not data.strip():\n",
    "                return None\n",
    "            else:\n",
    "                # Account for , in numeric fields\n",
    "                if isinstance(data, float):\n",
    "                    return float(data.replace(b',', b'.')\n",
    "                return float(b\"NaN\")\n",
    "                \n",
    "I don't actually know why the function needs to return a binary code. Perhaps there's a calling function somewhere in dbfreads that only accepts binary. Maybe it's a powermove on the part of the developers, who wanted to remind the computer it only speaks binary. Nonetheless, I am now returning the binary version of the float number \"NaN\".\n",
    "\n",
    "This didn't quite fix my problem. Instead, I still kept getting that error about the binary full stop from earlier. It had moved on a few lines (I was inserting counters at one point to trace where in the file there were errors) but I was still having problems with this function. So I started thinking about when a number might *look* like a float but was, in fact, never meant to be such a thing. Suppose there was a field that said *0,*. This would obviously be corruption or entry error, but hey data is messy. If you called this parseN function on *0,*, it wouldn't convert to an integer, it *would* raise an exception, but would not trigger the replace method. Instead, it would turn into a float \"NaN\". I didn't want that data loss, even if I don't understand the data. So, I should really build a trap for such pieces of data.\n",
    "\n",
    "\n",
    "    def parseN(self, field, data):\n",
    "        \"\"\"\n",
    "        Parse numeric field (N)\n",
    "\n",
    "        Returns int, float or None if the field is empty.\n",
    "        \"\"\"\n",
    "        \n",
    "        # In some files * is used for padding.\n",
    "        data = data.strip().strip(b'*')\n",
    "\n",
    "        try:\n",
    "            return int(data)\n",
    "        except ValueError:\n",
    "            if not data.strip():\n",
    "                return None\n",
    "            else:\n",
    "                # Account for , in numeric fields\n",
    "\n",
    "                if len(data) >= 2:\n",
    "                    return float(data.replace(b',',b'.'))\n",
    "                return float(b'NaN')\n",
    "                \n",
    "See my clever little trap? I'm checking to see if the length of the data is over 2. Why? Well, I've already checked if the number is a float. If the data was *0,0* it would already be caught. But the number *1,500.0* still won't be caught. I don't want numbers that are only 1 digit long. They will easily convert to integers, unless the program is trying to pass *','* or some other crazy character as a number. I don't know enought about the program to dig through why it is trying to pass those characters, so I weed them out with the length check. Now, *1,500.0* will get the floating point conversion treatment it deserves."
   ]
  },
  {
   "cell_type": "markdown",
   "id": "d1e341b7-d6fa-4b58-ae04-3732316e4435",
   "metadata": {},
   "source": [
    "I also had to make one other little edit. There was a similar problem with a datetime method. However, in this case it looks like the originaly developer forgot to add a .strip() method they clearly meant to. This is because, in the comments, they clearly indicate they intend on testing for both empty spaces *and* spaces full of zeros for a datetime column. Nonetheless, they only strip off the zeros, not the spaces. I added a clause looking for the empty spaces and now it works."
   ]
  },
  {
   "cell_type": "markdown",
   "id": "b02e469c-01e8-4dc2-b282-42cdea3ce4ca",
   "metadata": {},
   "source": [
    "This is the end of the post. There's still a lot of work to do to make this data accessible and accurate enough for any sort of valid historical conclusions to be drawn. However, it is now loaded, the dbfread source code has been strengthened, and it's time to take a break. Somewhere, distantly, I hear a martini glass clinking."
   ]
  },
  {
   "cell_type": "markdown",
   "id": "e18329b8-362a-46de-b674-7342f602c52a",
   "metadata": {},
   "source": [
    "OK, picking up where I left off. It's time to clean this data! To see what I mean, observe the following code:"
   ]
  },
  {
   "cell_type": "code",
   "execution_count": 31,
   "id": "4a9a1de0-18c9-4b24-9abe-116c9873679d",
   "metadata": {},
   "outputs": [
    {
     "data": {
      "text/plain": [
       "DOCDATE        object\n",
       "YEAR            int64\n",
       "DOCNO          object\n",
       "NOTARY         object\n",
       "CODER         float64\n",
       "               ...   \n",
       "ARRIVEDATE     object\n",
       "FROM           object\n",
       "UNBAPT        float64\n",
       "VIA           float64\n",
       "COMMENTS       object\n",
       "Length: 114, dtype: object"
      ]
     },
     "execution_count": 31,
     "metadata": {},
     "output_type": "execute_result"
    }
   ],
   "source": [
    "df.dtypes\n",
    "\n",
    "    "
   ]
  },
  {
   "cell_type": "markdown",
   "id": "ce187f1d-c926-44a0-a107-9d1d2fcf2d29",
   "metadata": {},
   "source": [
    "While there are 114 columns to be concerned about, we need to start at the very beginning. The column DOCDATE should be a datetime object, but notice that Pandas currently only knows that this column is an object. The object dtype indicates some form of string, or a mixed type column. This tricky little clause means we are uncertain if all but one DOCDATE entries is a proper datetime object, and one is broken, or if there is a scattering of non-datetime objects."
   ]
  },
  {
   "cell_type": "code",
   "execution_count": 32,
   "id": "5e48973e-89f8-478c-a1e4-60230c84a4da",
   "metadata": {},
   "outputs": [
    {
     "data": {
      "text/plain": [
       "dtype('<M8[ns]')"
      ]
     },
     "execution_count": 32,
     "metadata": {},
     "output_type": "execute_result"
    }
   ],
   "source": [
    "df['DOCDATE'] = pd.to_datetime(df['DOCDATE'])\n",
    "df['DOCDATE'].dtype"
   ]
  },
  {
   "cell_type": "code",
   "execution_count": 33,
   "id": "db8a7c40-4c46-471d-80ee-48e82309ab41",
   "metadata": {},
   "outputs": [
    {
     "data": {
      "text/plain": [
       "DOCDATE       datetime64[ns]\n",
       "YEAR                   int64\n",
       "DOCNO                 object\n",
       "NOTARY                object\n",
       "CODER                float64\n",
       "                   ...      \n",
       "ARRIVEDATE            object\n",
       "FROM                  object\n",
       "UNBAPT               float64\n",
       "VIA                  float64\n",
       "COMMENTS              object\n",
       "Length: 114, dtype: object"
      ]
     },
     "execution_count": 33,
     "metadata": {},
     "output_type": "execute_result"
    }
   ],
   "source": [
    "df.dtypes"
   ]
  },
  {
   "cell_type": "markdown",
   "id": "0ab1fd2c-90c3-456f-a231-5118972342ae",
   "metadata": {},
   "source": [
    "Surprisingly, I was able to simply convert the DOCDATE column directly to the datetime object in Python. This indicates the DOCDATE column was, in fact, full of dates and not something else. We can continue on like this for all 114 columns. "
   ]
  },
  {
   "cell_type": "markdown",
   "id": "7bf31db7-e379-49d4-b623-f055f1c49cfc",
   "metadata": {},
   "source": [
    "I'm about to do something a bit controversial. Essentially, I'm converting my YEAR column, but to an integer and not a date. My reason for this is pretty simple. I don't actually want to use the year column AS a date. Dates are for things like machine output and other artifacts from the Information Age. I'm interested in a simple number, namely the number of years in the Common Era. I may have to manipulate this data in ways that is more useful as an integer, such as finding how many years elapsed between a slaves sale and resale, etc. While there are probably functions for all of this work, for the sake of clarity I'm converting YEAR into an integer and not a date."
   ]
  },
  {
   "cell_type": "code",
   "execution_count": 34,
   "id": "eecf5a9c-c348-47de-9b9f-7ebabdf0845b",
   "metadata": {},
   "outputs": [
    {
     "data": {
      "text/plain": [
       "0         1719\n",
       "1         1719\n",
       "2         1719\n",
       "3         1719\n",
       "4         1719\n",
       "          ... \n",
       "100661    1820\n",
       "100662    1820\n",
       "100663    1820\n",
       "100664    1820\n",
       "100665    1820\n",
       "Name: YEAR, Length: 100666, dtype: int32"
      ]
     },
     "execution_count": 34,
     "metadata": {},
     "output_type": "execute_result"
    }
   ],
   "source": [
    "df['YEAR'].astype('int')"
   ]
  },
  {
   "cell_type": "markdown",
   "id": "c4039cc0-fdff-420e-8ef3-60a127cf5a86",
   "metadata": {},
   "source": [
    "As fun as it might be to continually change each of these fields by hand, I'm the lazy sort of data analyst who believes computers were invented so I could lounge in the pool. It's time to put some good old Python into use. I know there are 114 columns. I know that I want *most* of those columns to be strings. This is because there is a lot of data that is best understood as text. Columns like NOTARY and FROM are clearly meant to be a personal name and a placename. However, there are a few that should *NOT* be strings. The column ARRIVEDATE, for instance, should always be a datetime. \n",
    "Other columns should be mostly an integer or float, except for some sort of value indicating an unknown status. The column AGE, for instance, should never be a string unless the answer is 'UNKNOWN'. While the practice of owning humans as chattel was dehumanizing in the extreme, the resale of humans did create a need for strict record keeping. Most slave ages would be known to a relatively sure degree, if they were born on a plantation. A slave newly trafficked, or perhaps resold from a more chaotic or fraudulent area, would have an unknown age. So what I need to do now is find all of the columns that *look* like they should be non-strings. If their current pandas dtype is 'object', this indicates mixed types such as a number and a string, a float and an int, or some other form of mixed up data.\n",
    "So, first, I need to identify which columns have mixed types. Below I wrote some code to iterate over the dataframe, select all of the object dtypes, and return a list. I know in introductory programming courses I hated the section on list comprehensions, because they seemed to be confusing, but in a Jupyter notebook like this it really is quite handy to have all of the code on a single line."
   ]
  },
  {
   "cell_type": "code",
   "execution_count": 35,
   "id": "f4d8108c-d87b-4786-af52-c2955a3134b5",
   "metadata": {},
   "outputs": [],
   "source": [
    "object_col = [col for col in df.columns if df[col].dtype == 'object']"
   ]
  },
  {
   "cell_type": "markdown",
   "id": "84cd420a-b5cb-4fe5-ac40-c96855bd82d2",
   "metadata": {},
   "source": [
    "Now that I know precisely what columns have an object dtype, I need to inspect the list manually. I don't know of an automatic way to figure out what columns shouldn't have strings. Perhaps when the singularity comes, this will be a side effect. Of course, it doesn't seem like Skynet or whatever Facebook means by Meta will care much for human history.\n",
    "\n",
    "So, should the Singularity come, I'm putting in my bid as Advisor to the Singularity on History. In the meantime, I'm going to try to continue rehumanizing people who were dehumanized. And fighting the good fight against corrupt data. And drink as many ciders as possible.\n",
    "\n",
    "To return to the point, let's see what columns might potentially need our attention."
   ]
  },
  {
   "cell_type": "code",
   "execution_count": 36,
   "id": "718f6626-3b04-4f89-8083-8fb140503777",
   "metadata": {},
   "outputs": [
    {
     "data": {
      "text/plain": [
       "['DOCNO',\n",
       " 'NOTARY',\n",
       " 'DATEINV',\n",
       " 'DATESALE',\n",
       " 'PARISH',\n",
       " 'ESTATE_OF',\n",
       " 'FIRSTNAME',\n",
       " 'ESTATE',\n",
       " 'SELLER',\n",
       " 'FIRST1',\n",
       " 'BUYER',\n",
       " 'FIRST2',\n",
       " 'NAMEXPLAIN',\n",
       " 'NAME',\n",
       " 'SKILLS',\n",
       " 'CHARACTER',\n",
       " 'SICK',\n",
       " 'SPELL',\n",
       " 'GROUPMEMB',\n",
       " 'INVCUR',\n",
       " 'SALECUR',\n",
       " 'FAMILY',\n",
       " 'SPNATMOM',\n",
       " 'MATENAME',\n",
       " 'SPELNAMATE',\n",
       " 'SPNADAD',\n",
       " 'SPNAGM',\n",
       " 'SPNAGRPA',\n",
       " 'CAPTAIN',\n",
       " 'SHIP',\n",
       " 'ARRIVEDATE',\n",
       " 'FROM',\n",
       " 'COMMENTS']"
      ]
     },
     "execution_count": 36,
     "metadata": {},
     "output_type": "execute_result"
    }
   ],
   "source": [
    "object_col"
   ]
  },
  {
   "cell_type": "markdown",
   "id": "8804b728-307a-40e7-9f9c-f7590a697ff4",
   "metadata": {},
   "source": [
    "From this list, I have identified only a few columns that clearly require an integer, float or date. 'DOCNO' is, I'm fairly certain, going to be a numeric code for the documents. It is also possible it is an alphanumeric code, but given the small(ish) number of documents and age of the project I suspect it is numeric. However, ARRIVEDATE, AGE, DATESALE and DATEINV all seem like they should not be strings. There are a few columns that I'm just not sure about. What is SALECUR? Or INVCUR? Since I don't know, I'll have to inspect the columns manually after I'm done this work. But for now, it is import to get as many columns as possible finished.\n",
    "Below I will make a list of columns I don't think are strings. I will call this, creatively, not_strings. I can add to it later using list methods, and delete if I'm mistaken. I am also using a list comprehension to pull out the not_strings entries from the object_col list. I will call this new list, again creatively, strings."
   ]
  },
  {
   "cell_type": "code",
   "execution_count": 37,
   "id": "7b3c7496-7d6b-4be8-894f-a6754ca8408e",
   "metadata": {},
   "outputs": [],
   "source": [
    "not_strings = ['DOCNO',\n",
    "               'ARRIVEDATE',\n",
    "               'AGE',\n",
    "               'DATESALE',\n",
    "               'DATEINV',\n",
    "               'CODER',\n",
    "               'DEPOT',\n",
    "               'LOCATION',\n",
    "               'DOCTYPE',\n",
    "               'MAROON',\n",
    "               'REVOLTS',\n",
    "               'LANGUAGE',\n",
    "               'AFLANG',\n",
    "               'LINGUISTIC',\n",
    "               'FREE',\n",
    "               'ESTFREE',\n",
    "               'ESTATEPOP',\n",
    "               'WENT',\n",
    "               'NAMETYPE',\n",
    "               'SEX',\n",
    "               'RACE',\n",
    "               'AGE',\n",
    "               'AGECATN',\n",
    "               'SKILLCAT',\n",
    "               'EXPERT',\n",
    "               'APPRENTICE',\n",
    "               'ALITTLE',\n",
    "               'SKILL2',\n",
    "               'SKILL3',\n",
    "               'SKILL4',\n",
    "               'SKILL5',\n",
    "               'CHARCAT',\n",
    "               'CHARCAT2',\n",
    "               'CHARCAT3',\n",
    "               'SICKCAT',\n",
    "               'SICK2',\n",
    "               'SICK3',\n",
    "               'SICK4',\n",
    "               'BIRTHPL',\n",
    "               'BRUT',\n",
    "               'GROUP',\n",
    "               'INVVALUE',\n",
    "               'INVVALP',\n",
    "               'SALEVALUE',\n",
    "               'SALEVALP',\n",
    "               'FAMILY_Y_N',\n",
    "               'CHILDREN',\n",
    "               'MALE',\n",
    "               'FEMALE',\n",
    "               'UNDER5',\n",
    "               'PREGNANT',\n",
    "               'MOTHER',\n",
    "               'AGEMOM',\n",
    "               'RACEMOM',\n",
    "               'INVWMOM',\n",
    "               'SOLDWMOM',\n",
    "               'ORMOM',\n",
    "               'MATE',\n",
    "               'AGEMATE',\n",
    "               'AGECATMATE',\n",
    "               'RACEMATE',\n",
    "               'ORIGINMATE',\n",
    "               'FATHER',\n",
    "               'AGEDAD',\n",
    "               'RACEDAD',\n",
    "               'ORDAD',\n",
    "               'GRANDCHILD',\n",
    "               'GRANDSONS',\n",
    "               'GDAUGHTERS',\n",
    "               'GRANDMA',\n",
    "               'AGEGRANDMA',\n",
    "               'ORGRANDMA',\n",
    "               'GRANPA',\n",
    "               'AGEGRANDPA',\n",
    "               'ORGRANDPA',\n",
    "               'EMANCIP',\n",
    "               'DEAD',\n",
    "               'RUNAWAY',\n",
    "               'ENTERPRISE',\n",
    "               'STPORT',\n",
    "               'VIA'\n",
    "              ]\n",
    "\n",
    "strings = [entry for entry in df if entry not in not_strings ]\n",
    "dates = ['DOCDATE','ARRIVEDATE','DATESALE','DATEINV']\n",
    "integers = [entries for entries in not_strings if entries not in dates]"
   ]
  },
  {
   "cell_type": "markdown",
   "id": "04d505a4-1f85-4b69-bc55-329d7a81de9d",
   "metadata": {},
   "source": [
    "Now that I have all of these lists floating around, it is time to actually convert things to strings. It took me awhile to figure out the current method to do this. Pandas was created as a numerical and scientific computing library. It is only recently that a better string dtype has been added. Using methods that seem obvious (to_string()) does not change the dtype. Instead, you need to use a very specific set of formats. Scouring the internet, again, is not very helpful, to the tune of, \"The documentation is your best source, look at it here\" https://pandas.pydata.org/pandas-docs/stable/user_guide/text.html. Although the string datatype was first implemented in Pandas 1.0.0, there are StackOverflow posts listing incorrect methods for this conversion. ONLY use the ones in the documentation."
   ]
  },
  {
   "cell_type": "code",
   "execution_count": 38,
   "id": "8ca731d3-1591-4481-9274-64dace0fdf20",
   "metadata": {},
   "outputs": [],
   "source": [
    "def cols_to_correct_type(list_col, type_col):\n",
    "    '''\n",
    "    Takes a list of columns that should be converted to a given type and converts them all.\n",
    "    '''\n",
    "    for entries in list_col: #iterate over my list of strings, not the entire Dataframe\n",
    "        df[entries] = df[entries].astype(type_col)  \n",
    "\n",
    "\n",
    "cols_to_correct_type(strings, 'string')\n",
    "\n"
   ]
  },
  {
   "cell_type": "code",
   "execution_count": 39,
   "id": "68a46813-8012-4879-8d5b-7a7c52c6f1eb",
   "metadata": {},
   "outputs": [
    {
     "data": {
      "text/plain": [
       "'DOCNO'"
      ]
     },
     "execution_count": 39,
     "metadata": {},
     "output_type": "execute_result"
    }
   ],
   "source": [
    "integers[0]\n"
   ]
  },
  {
   "cell_type": "code",
   "execution_count": 40,
   "id": "a8f6fc46-0aea-47b1-930c-f1cb8e86cc6e",
   "metadata": {},
   "outputs": [],
   "source": [
    "integers = integers[1:]"
   ]
  },
  {
   "cell_type": "code",
   "execution_count": 41,
   "id": "e4188f9b-ab31-4811-b475-2a621ce86497",
   "metadata": {},
   "outputs": [],
   "source": [
    "pd.get_option(\"mode.use_inf_as_na\")\n",
    "pd.set_option(\"mode.use_inf_as_na\", True)\n",
    "\n",
    "for col in integers:\n",
    "\n",
    "    df[col] = df[col].replace(r'^\\s*$', np.nan, regex=True)\n",
    "\n",
    "cols_to_correct_type(integers, 'float')"
   ]
  },
  {
   "cell_type": "code",
   "execution_count": 42,
   "id": "6c1b48aa-7c4f-46fb-bf41-de351732f9a9",
   "metadata": {},
   "outputs": [],
   "source": [
    "for col in integers:\n",
    "    if df[col].dtype != 'float64':\n",
    "        print(df[col].dtype)"
   ]
  },
  {
   "cell_type": "code",
   "execution_count": 43,
   "id": "bfb07bd1-ec9f-48c5-8cef-a8240b5ae90e",
   "metadata": {},
   "outputs": [],
   "source": [
    "for col in integers:\n",
    "    df[col] = df[col].fillna(int(-1))\n",
    "cols_to_correct_type(integers, 'int')"
   ]
  },
  {
   "cell_type": "code",
   "execution_count": 44,
   "id": "5cdd93a1-c12e-45ab-a36c-39ed10fa5f3c",
   "metadata": {},
   "outputs": [],
   "source": [
    "for col in strings:\n",
    "    df[col] = df[col].fillna('UNKNOWN')\n",
    "    "
   ]
  },
  {
   "cell_type": "code",
   "execution_count": 45,
   "id": "84acb63b-5cd2-4526-947a-c7e451468b8e",
   "metadata": {},
   "outputs": [
    {
     "name": "stdout",
     "output_type": "stream",
     "text": [
      "['COMMENTS']\n"
     ]
    }
   ],
   "source": [
    "for col in strings:\n",
    "    offenders = []\n",
    "    if df[col].isin(['']).any():\n",
    "        offenders.append(col)\n",
    "print(offenders)\n"
   ]
  },
  {
   "cell_type": "code",
   "execution_count": 46,
   "id": "713d7513-6efd-4d20-a294-88d69ef7fd35",
   "metadata": {},
   "outputs": [],
   "source": [
    "df = df.drop(columns=['COMMENTS'])"
   ]
  },
  {
   "cell_type": "code",
   "execution_count": null,
   "id": "e75ec066-b513-40b1-bf18-026547e015bb",
   "metadata": {},
   "outputs": [],
   "source": []
  },
  {
   "cell_type": "code",
   "execution_count": 47,
   "id": "dbc08bb2-0026-4181-9421-a27f3abf3c98",
   "metadata": {},
   "outputs": [
    {
     "data": {
      "text/plain": [
       "['DOCDATE', 'ARRIVEDATE', 'DATESALE', 'DATEINV']"
      ]
     },
     "execution_count": 47,
     "metadata": {},
     "output_type": "execute_result"
    }
   ],
   "source": [
    "dates"
   ]
  },
  {
   "cell_type": "code",
   "execution_count": 48,
   "id": "e72f2bd0-c95c-433c-aa6c-9c4a11d02ebc",
   "metadata": {},
   "outputs": [
    {
     "data": {
      "text/plain": [
       "DOCDATE       string\n",
       "YEAR          string\n",
       "DOCNO         object\n",
       "NOTARY        string\n",
       "CODER          int32\n",
       "               ...  \n",
       "SHIP          string\n",
       "ARRIVEDATE    object\n",
       "FROM          string\n",
       "UNBAPT        string\n",
       "VIA            int32\n",
       "Length: 113, dtype: object"
      ]
     },
     "execution_count": 48,
     "metadata": {},
     "output_type": "execute_result"
    }
   ],
   "source": [
    "# Test to make sure I've successfully added strings\n",
    "df.dtypes"
   ]
  },
  {
   "cell_type": "markdown",
   "id": "af4883f2-051f-4e51-bafc-b0b43dc1797a",
   "metadata": {},
   "source": [
    "As you can see, I have successfully changed the vast majority of the columns to strings. However, I'm not done yet. What about those five columns with mixed types?"
   ]
  },
  {
   "cell_type": "code",
   "execution_count": 49,
   "id": "351e1789-dbc5-47de-9669-54a5d9787e6e",
   "metadata": {},
   "outputs": [
    {
     "data": {
      "text/plain": [
       "['DOCDATE', 'ARRIVEDATE', 'DATESALE', 'DATEINV']"
      ]
     },
     "execution_count": 49,
     "metadata": {},
     "output_type": "execute_result"
    }
   ],
   "source": [
    "dates"
   ]
  },
  {
   "cell_type": "markdown",
   "id": "7495f302-d04d-4924-90bc-ae9e03aee44f",
   "metadata": {},
   "source": [
    "Yeah, those. Let's fix those up. I suspect DOCNO should be a set of integers, but I'm not sure."
   ]
  },
  {
   "cell_type": "code",
   "execution_count": 50,
   "id": "7916612b-d54f-49ab-91b8-6f95821c9de3",
   "metadata": {},
   "outputs": [
    {
     "data": {
      "text/plain": [
       "0               \n",
       "1               \n",
       "2               \n",
       "3               \n",
       "4               \n",
       "           ...  \n",
       "100661      3754\n",
       "100662       223\n",
       "100663       224\n",
       "100664       363\n",
       "100665       363\n",
       "Name: DOCNO, Length: 100666, dtype: object"
      ]
     },
     "execution_count": 50,
     "metadata": {},
     "output_type": "execute_result"
    }
   ],
   "source": [
    "df['DOCNO']"
   ]
  },
  {
   "cell_type": "code",
   "execution_count": 51,
   "id": "531f45ad-d642-4b81-a843-26dce6108f61",
   "metadata": {},
   "outputs": [],
   "source": [
    "df['DOCNO'] = df['DOCNO'].fillna('-1')"
   ]
  },
  {
   "cell_type": "code",
   "execution_count": 52,
   "id": "4f01c709-9a81-4f42-ab77-fd15ef3f7d6f",
   "metadata": {},
   "outputs": [
    {
     "data": {
      "text/plain": [
       "False"
      ]
     },
     "execution_count": 52,
     "metadata": {},
     "output_type": "execute_result"
    }
   ],
   "source": [
    "df['DOCNO'].isna().any()"
   ]
  },
  {
   "cell_type": "code",
   "execution_count": 53,
   "id": "14085b23-f11e-4287-a218-494372156246",
   "metadata": {},
   "outputs": [
    {
     "data": {
      "text/plain": [
       "0               \n",
       "1               \n",
       "2               \n",
       "3               \n",
       "4               \n",
       "           ...  \n",
       "100661      3754\n",
       "100662       223\n",
       "100663       224\n",
       "100664       363\n",
       "100665       363\n",
       "Name: DOCNO, Length: 100666, dtype: object"
      ]
     },
     "execution_count": 53,
     "metadata": {},
     "output_type": "execute_result"
    }
   ],
   "source": [
    "df['DOCNO']"
   ]
  },
  {
   "cell_type": "code",
   "execution_count": 56,
   "id": "0b81397e-cf44-47ec-ad45-f57d5dc7e546",
   "metadata": {},
   "outputs": [],
   "source": [
    "df['DOCNO'] = df['DOCNO'].replace(''.strip(),-1,regex=True)"
   ]
  },
  {
   "cell_type": "code",
   "execution_count": 29,
   "id": "48249e3a-831a-40fd-9051-be0fda2eedff",
   "metadata": {},
   "outputs": [
    {
     "data": {
      "text/plain": [
       "0           \n",
       "1           \n",
       "2           \n",
       "3           \n",
       "4           \n",
       "          ..\n",
       "100661    -1\n",
       "100662    -1\n",
       "100663    -1\n",
       "100664    -1\n",
       "100665    -1\n",
       "Name: DOCNO, Length: 100666, dtype: object"
      ]
     },
     "execution_count": 29,
     "metadata": {},
     "output_type": "execute_result"
    }
   ],
   "source": [
    "df['DOCNO']"
   ]
  },
  {
   "cell_type": "markdown",
   "id": "1849ad4b-3091-49d1-ad0e-6dd49efd4c0a",
   "metadata": {},
   "source": [
    "Looks pretty integery to me. Let's try to convert."
   ]
  },
  {
   "cell_type": "code",
   "execution_count": 57,
   "id": "2c1d6a1b-f9ea-4a6f-afca-a45141e25e28",
   "metadata": {},
   "outputs": [
    {
     "ename": "ValueError",
     "evalue": "invalid literal for int() with base 10: 'fol.89'",
     "output_type": "error",
     "traceback": [
      "\u001b[1;31m---------------------------------------------------------------------------\u001b[0m",
      "\u001b[1;31mValueError\u001b[0m                                Traceback (most recent call last)",
      "\u001b[1;32m~\\AppData\\Local\\Temp/ipykernel_4636/3203796966.py\u001b[0m in \u001b[0;36m<module>\u001b[1;34m\u001b[0m\n\u001b[1;32m----> 1\u001b[1;33m \u001b[0mdf\u001b[0m\u001b[1;33m[\u001b[0m\u001b[1;34m'DOCNO'\u001b[0m\u001b[1;33m]\u001b[0m \u001b[1;33m=\u001b[0m \u001b[0mdf\u001b[0m\u001b[1;33m[\u001b[0m\u001b[1;34m'DOCNO'\u001b[0m\u001b[1;33m]\u001b[0m\u001b[1;33m.\u001b[0m\u001b[0mastype\u001b[0m\u001b[1;33m(\u001b[0m\u001b[1;34m'int'\u001b[0m\u001b[1;33m)\u001b[0m\u001b[1;33m\u001b[0m\u001b[1;33m\u001b[0m\u001b[0m\n\u001b[0m",
      "\u001b[1;32mc:\\users\\casti\\appdata\\local\\programs\\python\\python38\\lib\\site-packages\\pandas\\core\\generic.py\u001b[0m in \u001b[0;36mastype\u001b[1;34m(self, dtype, copy, errors)\u001b[0m\n\u001b[0;32m   5875\u001b[0m         \u001b[1;32melse\u001b[0m\u001b[1;33m:\u001b[0m\u001b[1;33m\u001b[0m\u001b[1;33m\u001b[0m\u001b[0m\n\u001b[0;32m   5876\u001b[0m             \u001b[1;31m# else, only a single dtype is given\u001b[0m\u001b[1;33m\u001b[0m\u001b[1;33m\u001b[0m\u001b[1;33m\u001b[0m\u001b[0m\n\u001b[1;32m-> 5877\u001b[1;33m             \u001b[0mnew_data\u001b[0m \u001b[1;33m=\u001b[0m \u001b[0mself\u001b[0m\u001b[1;33m.\u001b[0m\u001b[0m_mgr\u001b[0m\u001b[1;33m.\u001b[0m\u001b[0mastype\u001b[0m\u001b[1;33m(\u001b[0m\u001b[0mdtype\u001b[0m\u001b[1;33m=\u001b[0m\u001b[0mdtype\u001b[0m\u001b[1;33m,\u001b[0m \u001b[0mcopy\u001b[0m\u001b[1;33m=\u001b[0m\u001b[0mcopy\u001b[0m\u001b[1;33m,\u001b[0m \u001b[0merrors\u001b[0m\u001b[1;33m=\u001b[0m\u001b[0merrors\u001b[0m\u001b[1;33m)\u001b[0m\u001b[1;33m\u001b[0m\u001b[1;33m\u001b[0m\u001b[0m\n\u001b[0m\u001b[0;32m   5878\u001b[0m             \u001b[1;32mreturn\u001b[0m \u001b[0mself\u001b[0m\u001b[1;33m.\u001b[0m\u001b[0m_constructor\u001b[0m\u001b[1;33m(\u001b[0m\u001b[0mnew_data\u001b[0m\u001b[1;33m)\u001b[0m\u001b[1;33m.\u001b[0m\u001b[0m__finalize__\u001b[0m\u001b[1;33m(\u001b[0m\u001b[0mself\u001b[0m\u001b[1;33m,\u001b[0m \u001b[0mmethod\u001b[0m\u001b[1;33m=\u001b[0m\u001b[1;34m\"astype\"\u001b[0m\u001b[1;33m)\u001b[0m\u001b[1;33m\u001b[0m\u001b[1;33m\u001b[0m\u001b[0m\n\u001b[0;32m   5879\u001b[0m \u001b[1;33m\u001b[0m\u001b[0m\n",
      "\u001b[1;32mc:\\users\\casti\\appdata\\local\\programs\\python\\python38\\lib\\site-packages\\pandas\\core\\internals\\managers.py\u001b[0m in \u001b[0;36mastype\u001b[1;34m(self, dtype, copy, errors)\u001b[0m\n\u001b[0;32m    629\u001b[0m         \u001b[0mself\u001b[0m\u001b[1;33m,\u001b[0m \u001b[0mdtype\u001b[0m\u001b[1;33m,\u001b[0m \u001b[0mcopy\u001b[0m\u001b[1;33m:\u001b[0m \u001b[0mbool\u001b[0m \u001b[1;33m=\u001b[0m \u001b[1;32mFalse\u001b[0m\u001b[1;33m,\u001b[0m \u001b[0merrors\u001b[0m\u001b[1;33m:\u001b[0m \u001b[0mstr\u001b[0m \u001b[1;33m=\u001b[0m \u001b[1;34m\"raise\"\u001b[0m\u001b[1;33m\u001b[0m\u001b[1;33m\u001b[0m\u001b[0m\n\u001b[0;32m    630\u001b[0m     ) -> \"BlockManager\":\n\u001b[1;32m--> 631\u001b[1;33m         \u001b[1;32mreturn\u001b[0m \u001b[0mself\u001b[0m\u001b[1;33m.\u001b[0m\u001b[0mapply\u001b[0m\u001b[1;33m(\u001b[0m\u001b[1;34m\"astype\"\u001b[0m\u001b[1;33m,\u001b[0m \u001b[0mdtype\u001b[0m\u001b[1;33m=\u001b[0m\u001b[0mdtype\u001b[0m\u001b[1;33m,\u001b[0m \u001b[0mcopy\u001b[0m\u001b[1;33m=\u001b[0m\u001b[0mcopy\u001b[0m\u001b[1;33m,\u001b[0m \u001b[0merrors\u001b[0m\u001b[1;33m=\u001b[0m\u001b[0merrors\u001b[0m\u001b[1;33m)\u001b[0m\u001b[1;33m\u001b[0m\u001b[1;33m\u001b[0m\u001b[0m\n\u001b[0m\u001b[0;32m    632\u001b[0m \u001b[1;33m\u001b[0m\u001b[0m\n\u001b[0;32m    633\u001b[0m     def convert(\n",
      "\u001b[1;32mc:\\users\\casti\\appdata\\local\\programs\\python\\python38\\lib\\site-packages\\pandas\\core\\internals\\managers.py\u001b[0m in \u001b[0;36mapply\u001b[1;34m(self, f, align_keys, ignore_failures, **kwargs)\u001b[0m\n\u001b[0;32m    425\u001b[0m                     \u001b[0mapplied\u001b[0m \u001b[1;33m=\u001b[0m \u001b[0mb\u001b[0m\u001b[1;33m.\u001b[0m\u001b[0mapply\u001b[0m\u001b[1;33m(\u001b[0m\u001b[0mf\u001b[0m\u001b[1;33m,\u001b[0m \u001b[1;33m**\u001b[0m\u001b[0mkwargs\u001b[0m\u001b[1;33m)\u001b[0m\u001b[1;33m\u001b[0m\u001b[1;33m\u001b[0m\u001b[0m\n\u001b[0;32m    426\u001b[0m                 \u001b[1;32melse\u001b[0m\u001b[1;33m:\u001b[0m\u001b[1;33m\u001b[0m\u001b[1;33m\u001b[0m\u001b[0m\n\u001b[1;32m--> 427\u001b[1;33m                     \u001b[0mapplied\u001b[0m \u001b[1;33m=\u001b[0m \u001b[0mgetattr\u001b[0m\u001b[1;33m(\u001b[0m\u001b[0mb\u001b[0m\u001b[1;33m,\u001b[0m \u001b[0mf\u001b[0m\u001b[1;33m)\u001b[0m\u001b[1;33m(\u001b[0m\u001b[1;33m**\u001b[0m\u001b[0mkwargs\u001b[0m\u001b[1;33m)\u001b[0m\u001b[1;33m\u001b[0m\u001b[1;33m\u001b[0m\u001b[0m\n\u001b[0m\u001b[0;32m    428\u001b[0m             \u001b[1;32mexcept\u001b[0m \u001b[1;33m(\u001b[0m\u001b[0mTypeError\u001b[0m\u001b[1;33m,\u001b[0m \u001b[0mNotImplementedError\u001b[0m\u001b[1;33m)\u001b[0m\u001b[1;33m:\u001b[0m\u001b[1;33m\u001b[0m\u001b[1;33m\u001b[0m\u001b[0m\n\u001b[0;32m    429\u001b[0m                 \u001b[1;32mif\u001b[0m \u001b[1;32mnot\u001b[0m \u001b[0mignore_failures\u001b[0m\u001b[1;33m:\u001b[0m\u001b[1;33m\u001b[0m\u001b[1;33m\u001b[0m\u001b[0m\n",
      "\u001b[1;32mc:\\users\\casti\\appdata\\local\\programs\\python\\python38\\lib\\site-packages\\pandas\\core\\internals\\blocks.py\u001b[0m in \u001b[0;36mastype\u001b[1;34m(self, dtype, copy, errors)\u001b[0m\n\u001b[0;32m    671\u001b[0m             \u001b[0mvals1d\u001b[0m \u001b[1;33m=\u001b[0m \u001b[0mvalues\u001b[0m\u001b[1;33m.\u001b[0m\u001b[0mravel\u001b[0m\u001b[1;33m(\u001b[0m\u001b[1;33m)\u001b[0m\u001b[1;33m\u001b[0m\u001b[1;33m\u001b[0m\u001b[0m\n\u001b[0;32m    672\u001b[0m             \u001b[1;32mtry\u001b[0m\u001b[1;33m:\u001b[0m\u001b[1;33m\u001b[0m\u001b[1;33m\u001b[0m\u001b[0m\n\u001b[1;32m--> 673\u001b[1;33m                 \u001b[0mvalues\u001b[0m \u001b[1;33m=\u001b[0m \u001b[0mastype_nansafe\u001b[0m\u001b[1;33m(\u001b[0m\u001b[0mvals1d\u001b[0m\u001b[1;33m,\u001b[0m \u001b[0mdtype\u001b[0m\u001b[1;33m,\u001b[0m \u001b[0mcopy\u001b[0m\u001b[1;33m=\u001b[0m\u001b[1;32mTrue\u001b[0m\u001b[1;33m)\u001b[0m\u001b[1;33m\u001b[0m\u001b[1;33m\u001b[0m\u001b[0m\n\u001b[0m\u001b[0;32m    674\u001b[0m             \u001b[1;32mexcept\u001b[0m \u001b[1;33m(\u001b[0m\u001b[0mValueError\u001b[0m\u001b[1;33m,\u001b[0m \u001b[0mTypeError\u001b[0m\u001b[1;33m)\u001b[0m\u001b[1;33m:\u001b[0m\u001b[1;33m\u001b[0m\u001b[1;33m\u001b[0m\u001b[0m\n\u001b[0;32m    675\u001b[0m                 \u001b[1;31m# e.g. astype_nansafe can fail on object-dtype of strings\u001b[0m\u001b[1;33m\u001b[0m\u001b[1;33m\u001b[0m\u001b[1;33m\u001b[0m\u001b[0m\n",
      "\u001b[1;32mc:\\users\\casti\\appdata\\local\\programs\\python\\python38\\lib\\site-packages\\pandas\\core\\dtypes\\cast.py\u001b[0m in \u001b[0;36mastype_nansafe\u001b[1;34m(arr, dtype, copy, skipna)\u001b[0m\n\u001b[0;32m   1072\u001b[0m         \u001b[1;31m# work around NumPy brokenness, #1987\u001b[0m\u001b[1;33m\u001b[0m\u001b[1;33m\u001b[0m\u001b[1;33m\u001b[0m\u001b[0m\n\u001b[0;32m   1073\u001b[0m         \u001b[1;32mif\u001b[0m \u001b[0mnp\u001b[0m\u001b[1;33m.\u001b[0m\u001b[0missubdtype\u001b[0m\u001b[1;33m(\u001b[0m\u001b[0mdtype\u001b[0m\u001b[1;33m.\u001b[0m\u001b[0mtype\u001b[0m\u001b[1;33m,\u001b[0m \u001b[0mnp\u001b[0m\u001b[1;33m.\u001b[0m\u001b[0minteger\u001b[0m\u001b[1;33m)\u001b[0m\u001b[1;33m:\u001b[0m\u001b[1;33m\u001b[0m\u001b[1;33m\u001b[0m\u001b[0m\n\u001b[1;32m-> 1074\u001b[1;33m             \u001b[1;32mreturn\u001b[0m \u001b[0mlib\u001b[0m\u001b[1;33m.\u001b[0m\u001b[0mastype_intsafe\u001b[0m\u001b[1;33m(\u001b[0m\u001b[0marr\u001b[0m\u001b[1;33m.\u001b[0m\u001b[0mravel\u001b[0m\u001b[1;33m(\u001b[0m\u001b[1;33m)\u001b[0m\u001b[1;33m,\u001b[0m \u001b[0mdtype\u001b[0m\u001b[1;33m)\u001b[0m\u001b[1;33m.\u001b[0m\u001b[0mreshape\u001b[0m\u001b[1;33m(\u001b[0m\u001b[0marr\u001b[0m\u001b[1;33m.\u001b[0m\u001b[0mshape\u001b[0m\u001b[1;33m)\u001b[0m\u001b[1;33m\u001b[0m\u001b[1;33m\u001b[0m\u001b[0m\n\u001b[0m\u001b[0;32m   1075\u001b[0m \u001b[1;33m\u001b[0m\u001b[0m\n\u001b[0;32m   1076\u001b[0m         \u001b[1;31m# if we have a datetime/timedelta array of objects\u001b[0m\u001b[1;33m\u001b[0m\u001b[1;33m\u001b[0m\u001b[1;33m\u001b[0m\u001b[0m\n",
      "\u001b[1;32mpandas\\_libs\\lib.pyx\u001b[0m in \u001b[0;36mpandas._libs.lib.astype_intsafe\u001b[1;34m()\u001b[0m\n",
      "\u001b[1;31mValueError\u001b[0m: invalid literal for int() with base 10: 'fol.89'"
     ]
    }
   ],
   "source": [
    "df['DOCNO'] = df['DOCNO'].astype('int')"
   ]
  },
  {
   "cell_type": "markdown",
   "id": "79f3a9aa-6624-4080-8729-7c2b1f57ace3",
   "metadata": {},
   "source": [
    "Ooooh hooo hooo. An error. What might this beastie be?\n",
    "\n",
    "ValueError: invalid literal for int() with base 10: ''\n",
    "\n",
    "Looks like there are some emtpy spaces and/or someone left a blank in the column. Luckily, this is Pandas. It was made for precisely this moment. I could, theoretically, write a for loop that would replace *''* with, well, anything I want. However, all I really need is to call Pandas' function *replace* and someone much better at optimization will take care of the matter for me.\n",
    "\n",
    "First, I want Pandas to recognize empty spaces as a missing value. Basically, Pandas would really prefer that everything was just numbers. The library was created by some mad scientists, after all, and was never intended for historical research. It doesn't like to recognize things like *None* or a blank space as a missing value. But history is full of messy people doing messy things, so we have to allow as many types of missing values as possible."
   ]
  },
  {
   "cell_type": "code",
   "execution_count": 19,
   "id": "84a0b5d0-696b-431c-9ae1-367f67b5cc1b",
   "metadata": {},
   "outputs": [],
   "source": [
    "pd.get_option(\"mode.use_inf_as_na\")\n",
    "pd.set_option(\"mode.use_inf_as_na\", True)"
   ]
  },
  {
   "cell_type": "markdown",
   "id": "819093cc-cfc5-4bc5-bd8a-fa5e78285a4f",
   "metadata": {},
   "source": [
    "OK, after some random sampling, it seems like df['DOCNO'] is full of strings that look like numbers to the human eye. Consider the very last such entry: df['DOCNO'][100665]."
   ]
  },
  {
   "cell_type": "code",
   "execution_count": 20,
   "id": "dc5c4410-4615-4523-b85e-bb043745fee7",
   "metadata": {},
   "outputs": [
    {
     "data": {
      "text/plain": [
       "'   363'"
      ]
     },
     "execution_count": 20,
     "metadata": {},
     "output_type": "execute_result"
    }
   ],
   "source": [
    "df['DOCNO'][100665]"
   ]
  },
  {
   "cell_type": "markdown",
   "id": "4fef8d70-7e14-498b-91f4-e3293692ff4e",
   "metadata": {},
   "source": [
    "I want to remove ALL leading spaces. "
   ]
  },
  {
   "cell_type": "code",
   "execution_count": 21,
   "id": "f1d61130-13b2-41ae-a276-2a5551f1822b",
   "metadata": {},
   "outputs": [
    {
     "data": {
      "text/plain": [
       "'363'"
      ]
     },
     "execution_count": 21,
     "metadata": {},
     "output_type": "execute_result"
    }
   ],
   "source": [
    "df['DOCNO'][100665].strip()"
   ]
  },
  {
   "cell_type": "markdown",
   "id": "9ed3e8d8-f4e9-4c9b-a340-95901891c14f",
   "metadata": {},
   "source": [
    "But not just for that one entry. I want to do it for the entire column. There is, however, a slight problem. Observe this:"
   ]
  },
  {
   "cell_type": "code",
   "execution_count": 22,
   "id": "7b8fd9c3-0fa0-4673-af50-cde00d2e5844",
   "metadata": {},
   "outputs": [
    {
     "data": {
      "text/plain": [
       "''"
      ]
     },
     "execution_count": 22,
     "metadata": {},
     "output_type": "execute_result"
    }
   ],
   "source": [
    "df['DOCNO'][1]"
   ]
  },
  {
   "cell_type": "markdown",
   "id": "73fee3f3-ea12-4349-84a8-0b2bf1220508",
   "metadata": {},
   "source": [
    "I want to use the Pandas' replace function to insert NaN into every empty space. The reason for this is quite simple. An empty space may or may not be interpreted as a missing value, but NaN will ALWAYS be interpreted as a missing value."
   ]
  },
  {
   "cell_type": "code",
   "execution_count": 28,
   "id": "b07d2f6a-8f10-42a4-b1bd-eef80197b2f0",
   "metadata": {},
   "outputs": [],
   "source": [
    "df['DOCNO'] = df['DOCNO'].replace('',np.NaN)"
   ]
  },
  {
   "cell_type": "markdown",
   "id": "6cac2b20-471a-4771-8643-bbba9bf1e379",
   "metadata": {},
   "source": [
    "Pandas provides a method to check if I have empty values, as specified by NaN. It is the .isna() method."
   ]
  },
  {
   "cell_type": "code",
   "execution_count": 29,
   "id": "5c85ea79-a835-4eb3-b672-5481420f9361",
   "metadata": {},
   "outputs": [
    {
     "data": {
      "text/plain": [
       "0          True\n",
       "1          True\n",
       "2          True\n",
       "3          True\n",
       "4          True\n",
       "          ...  \n",
       "100661    False\n",
       "100662    False\n",
       "100663    False\n",
       "100664    False\n",
       "100665    False\n",
       "Name: DOCNO, Length: 100666, dtype: bool"
      ]
     },
     "execution_count": 29,
     "metadata": {},
     "output_type": "execute_result"
    }
   ],
   "source": [
    "df['DOCNO'].isna()"
   ]
  },
  {
   "cell_type": "markdown",
   "id": "82fa029f-ff82-4a98-a09e-78a9f0fd904c",
   "metadata": {},
   "source": [
    "OK, now I know that Pandas recognizes my missing values as missing values. What next? Well, let's try converting the DOCNO column to a float. NaN is technically a float value, and while Pandas provides an int64 type that will allow me to use NaN, I'd rather just convert to a float for now. The Pandas methods should also strip all of those leading blank spaces away. Hopefully. If the processor gods are merciful."
   ]
  },
  {
   "cell_type": "code",
   "execution_count": 30,
   "id": "95adb53d-33f7-46d3-ae6e-c82cba0f2f09",
   "metadata": {},
   "outputs": [
    {
     "ename": "ValueError",
     "evalue": "could not convert string to float: 'fol.89'",
     "output_type": "error",
     "traceback": [
      "\u001b[1;31m---------------------------------------------------------------------------\u001b[0m",
      "\u001b[1;31mValueError\u001b[0m                                Traceback (most recent call last)",
      "\u001b[1;32m~\\AppData\\Local\\Temp/ipykernel_7708/2039978824.py\u001b[0m in \u001b[0;36m<module>\u001b[1;34m\u001b[0m\n\u001b[1;32m----> 1\u001b[1;33m \u001b[0mdf\u001b[0m\u001b[1;33m[\u001b[0m\u001b[1;34m'DOCNO'\u001b[0m\u001b[1;33m]\u001b[0m \u001b[1;33m=\u001b[0m \u001b[0mdf\u001b[0m\u001b[1;33m[\u001b[0m\u001b[1;34m'DOCNO'\u001b[0m\u001b[1;33m]\u001b[0m\u001b[1;33m.\u001b[0m\u001b[0mastype\u001b[0m\u001b[1;33m(\u001b[0m\u001b[1;34m'float'\u001b[0m\u001b[1;33m)\u001b[0m\u001b[1;33m\u001b[0m\u001b[1;33m\u001b[0m\u001b[0m\n\u001b[0m",
      "\u001b[1;32mc:\\users\\casti\\appdata\\local\\programs\\python\\python38\\lib\\site-packages\\pandas\\core\\generic.py\u001b[0m in \u001b[0;36mastype\u001b[1;34m(self, dtype, copy, errors)\u001b[0m\n\u001b[0;32m   5875\u001b[0m         \u001b[1;32melse\u001b[0m\u001b[1;33m:\u001b[0m\u001b[1;33m\u001b[0m\u001b[1;33m\u001b[0m\u001b[0m\n\u001b[0;32m   5876\u001b[0m             \u001b[1;31m# else, only a single dtype is given\u001b[0m\u001b[1;33m\u001b[0m\u001b[1;33m\u001b[0m\u001b[1;33m\u001b[0m\u001b[0m\n\u001b[1;32m-> 5877\u001b[1;33m             \u001b[0mnew_data\u001b[0m \u001b[1;33m=\u001b[0m \u001b[0mself\u001b[0m\u001b[1;33m.\u001b[0m\u001b[0m_mgr\u001b[0m\u001b[1;33m.\u001b[0m\u001b[0mastype\u001b[0m\u001b[1;33m(\u001b[0m\u001b[0mdtype\u001b[0m\u001b[1;33m=\u001b[0m\u001b[0mdtype\u001b[0m\u001b[1;33m,\u001b[0m \u001b[0mcopy\u001b[0m\u001b[1;33m=\u001b[0m\u001b[0mcopy\u001b[0m\u001b[1;33m,\u001b[0m \u001b[0merrors\u001b[0m\u001b[1;33m=\u001b[0m\u001b[0merrors\u001b[0m\u001b[1;33m)\u001b[0m\u001b[1;33m\u001b[0m\u001b[1;33m\u001b[0m\u001b[0m\n\u001b[0m\u001b[0;32m   5878\u001b[0m             \u001b[1;32mreturn\u001b[0m \u001b[0mself\u001b[0m\u001b[1;33m.\u001b[0m\u001b[0m_constructor\u001b[0m\u001b[1;33m(\u001b[0m\u001b[0mnew_data\u001b[0m\u001b[1;33m)\u001b[0m\u001b[1;33m.\u001b[0m\u001b[0m__finalize__\u001b[0m\u001b[1;33m(\u001b[0m\u001b[0mself\u001b[0m\u001b[1;33m,\u001b[0m \u001b[0mmethod\u001b[0m\u001b[1;33m=\u001b[0m\u001b[1;34m\"astype\"\u001b[0m\u001b[1;33m)\u001b[0m\u001b[1;33m\u001b[0m\u001b[1;33m\u001b[0m\u001b[0m\n\u001b[0;32m   5879\u001b[0m \u001b[1;33m\u001b[0m\u001b[0m\n",
      "\u001b[1;32mc:\\users\\casti\\appdata\\local\\programs\\python\\python38\\lib\\site-packages\\pandas\\core\\internals\\managers.py\u001b[0m in \u001b[0;36mastype\u001b[1;34m(self, dtype, copy, errors)\u001b[0m\n\u001b[0;32m    629\u001b[0m         \u001b[0mself\u001b[0m\u001b[1;33m,\u001b[0m \u001b[0mdtype\u001b[0m\u001b[1;33m,\u001b[0m \u001b[0mcopy\u001b[0m\u001b[1;33m:\u001b[0m \u001b[0mbool\u001b[0m \u001b[1;33m=\u001b[0m \u001b[1;32mFalse\u001b[0m\u001b[1;33m,\u001b[0m \u001b[0merrors\u001b[0m\u001b[1;33m:\u001b[0m \u001b[0mstr\u001b[0m \u001b[1;33m=\u001b[0m \u001b[1;34m\"raise\"\u001b[0m\u001b[1;33m\u001b[0m\u001b[1;33m\u001b[0m\u001b[0m\n\u001b[0;32m    630\u001b[0m     ) -> \"BlockManager\":\n\u001b[1;32m--> 631\u001b[1;33m         \u001b[1;32mreturn\u001b[0m \u001b[0mself\u001b[0m\u001b[1;33m.\u001b[0m\u001b[0mapply\u001b[0m\u001b[1;33m(\u001b[0m\u001b[1;34m\"astype\"\u001b[0m\u001b[1;33m,\u001b[0m \u001b[0mdtype\u001b[0m\u001b[1;33m=\u001b[0m\u001b[0mdtype\u001b[0m\u001b[1;33m,\u001b[0m \u001b[0mcopy\u001b[0m\u001b[1;33m=\u001b[0m\u001b[0mcopy\u001b[0m\u001b[1;33m,\u001b[0m \u001b[0merrors\u001b[0m\u001b[1;33m=\u001b[0m\u001b[0merrors\u001b[0m\u001b[1;33m)\u001b[0m\u001b[1;33m\u001b[0m\u001b[1;33m\u001b[0m\u001b[0m\n\u001b[0m\u001b[0;32m    632\u001b[0m \u001b[1;33m\u001b[0m\u001b[0m\n\u001b[0;32m    633\u001b[0m     def convert(\n",
      "\u001b[1;32mc:\\users\\casti\\appdata\\local\\programs\\python\\python38\\lib\\site-packages\\pandas\\core\\internals\\managers.py\u001b[0m in \u001b[0;36mapply\u001b[1;34m(self, f, align_keys, ignore_failures, **kwargs)\u001b[0m\n\u001b[0;32m    425\u001b[0m                     \u001b[0mapplied\u001b[0m \u001b[1;33m=\u001b[0m \u001b[0mb\u001b[0m\u001b[1;33m.\u001b[0m\u001b[0mapply\u001b[0m\u001b[1;33m(\u001b[0m\u001b[0mf\u001b[0m\u001b[1;33m,\u001b[0m \u001b[1;33m**\u001b[0m\u001b[0mkwargs\u001b[0m\u001b[1;33m)\u001b[0m\u001b[1;33m\u001b[0m\u001b[1;33m\u001b[0m\u001b[0m\n\u001b[0;32m    426\u001b[0m                 \u001b[1;32melse\u001b[0m\u001b[1;33m:\u001b[0m\u001b[1;33m\u001b[0m\u001b[1;33m\u001b[0m\u001b[0m\n\u001b[1;32m--> 427\u001b[1;33m                     \u001b[0mapplied\u001b[0m \u001b[1;33m=\u001b[0m \u001b[0mgetattr\u001b[0m\u001b[1;33m(\u001b[0m\u001b[0mb\u001b[0m\u001b[1;33m,\u001b[0m \u001b[0mf\u001b[0m\u001b[1;33m)\u001b[0m\u001b[1;33m(\u001b[0m\u001b[1;33m**\u001b[0m\u001b[0mkwargs\u001b[0m\u001b[1;33m)\u001b[0m\u001b[1;33m\u001b[0m\u001b[1;33m\u001b[0m\u001b[0m\n\u001b[0m\u001b[0;32m    428\u001b[0m             \u001b[1;32mexcept\u001b[0m \u001b[1;33m(\u001b[0m\u001b[0mTypeError\u001b[0m\u001b[1;33m,\u001b[0m \u001b[0mNotImplementedError\u001b[0m\u001b[1;33m)\u001b[0m\u001b[1;33m:\u001b[0m\u001b[1;33m\u001b[0m\u001b[1;33m\u001b[0m\u001b[0m\n\u001b[0;32m    429\u001b[0m                 \u001b[1;32mif\u001b[0m \u001b[1;32mnot\u001b[0m \u001b[0mignore_failures\u001b[0m\u001b[1;33m:\u001b[0m\u001b[1;33m\u001b[0m\u001b[1;33m\u001b[0m\u001b[0m\n",
      "\u001b[1;32mc:\\users\\casti\\appdata\\local\\programs\\python\\python38\\lib\\site-packages\\pandas\\core\\internals\\blocks.py\u001b[0m in \u001b[0;36mastype\u001b[1;34m(self, dtype, copy, errors)\u001b[0m\n\u001b[0;32m    671\u001b[0m             \u001b[0mvals1d\u001b[0m \u001b[1;33m=\u001b[0m \u001b[0mvalues\u001b[0m\u001b[1;33m.\u001b[0m\u001b[0mravel\u001b[0m\u001b[1;33m(\u001b[0m\u001b[1;33m)\u001b[0m\u001b[1;33m\u001b[0m\u001b[1;33m\u001b[0m\u001b[0m\n\u001b[0;32m    672\u001b[0m             \u001b[1;32mtry\u001b[0m\u001b[1;33m:\u001b[0m\u001b[1;33m\u001b[0m\u001b[1;33m\u001b[0m\u001b[0m\n\u001b[1;32m--> 673\u001b[1;33m                 \u001b[0mvalues\u001b[0m \u001b[1;33m=\u001b[0m \u001b[0mastype_nansafe\u001b[0m\u001b[1;33m(\u001b[0m\u001b[0mvals1d\u001b[0m\u001b[1;33m,\u001b[0m \u001b[0mdtype\u001b[0m\u001b[1;33m,\u001b[0m \u001b[0mcopy\u001b[0m\u001b[1;33m=\u001b[0m\u001b[1;32mTrue\u001b[0m\u001b[1;33m)\u001b[0m\u001b[1;33m\u001b[0m\u001b[1;33m\u001b[0m\u001b[0m\n\u001b[0m\u001b[0;32m    674\u001b[0m             \u001b[1;32mexcept\u001b[0m \u001b[1;33m(\u001b[0m\u001b[0mValueError\u001b[0m\u001b[1;33m,\u001b[0m \u001b[0mTypeError\u001b[0m\u001b[1;33m)\u001b[0m\u001b[1;33m:\u001b[0m\u001b[1;33m\u001b[0m\u001b[1;33m\u001b[0m\u001b[0m\n\u001b[0;32m    675\u001b[0m                 \u001b[1;31m# e.g. astype_nansafe can fail on object-dtype of strings\u001b[0m\u001b[1;33m\u001b[0m\u001b[1;33m\u001b[0m\u001b[1;33m\u001b[0m\u001b[0m\n",
      "\u001b[1;32mc:\\users\\casti\\appdata\\local\\programs\\python\\python38\\lib\\site-packages\\pandas\\core\\dtypes\\cast.py\u001b[0m in \u001b[0;36mastype_nansafe\u001b[1;34m(arr, dtype, copy, skipna)\u001b[0m\n\u001b[0;32m   1095\u001b[0m     \u001b[1;32mif\u001b[0m \u001b[0mcopy\u001b[0m \u001b[1;32mor\u001b[0m \u001b[0mis_object_dtype\u001b[0m\u001b[1;33m(\u001b[0m\u001b[0marr\u001b[0m\u001b[1;33m)\u001b[0m \u001b[1;32mor\u001b[0m \u001b[0mis_object_dtype\u001b[0m\u001b[1;33m(\u001b[0m\u001b[0mdtype\u001b[0m\u001b[1;33m)\u001b[0m\u001b[1;33m:\u001b[0m\u001b[1;33m\u001b[0m\u001b[1;33m\u001b[0m\u001b[0m\n\u001b[0;32m   1096\u001b[0m         \u001b[1;31m# Explicit copy, or required since NumPy can't view from / to object.\u001b[0m\u001b[1;33m\u001b[0m\u001b[1;33m\u001b[0m\u001b[1;33m\u001b[0m\u001b[0m\n\u001b[1;32m-> 1097\u001b[1;33m         \u001b[1;32mreturn\u001b[0m \u001b[0marr\u001b[0m\u001b[1;33m.\u001b[0m\u001b[0mastype\u001b[0m\u001b[1;33m(\u001b[0m\u001b[0mdtype\u001b[0m\u001b[1;33m,\u001b[0m \u001b[0mcopy\u001b[0m\u001b[1;33m=\u001b[0m\u001b[1;32mTrue\u001b[0m\u001b[1;33m)\u001b[0m\u001b[1;33m\u001b[0m\u001b[1;33m\u001b[0m\u001b[0m\n\u001b[0m\u001b[0;32m   1098\u001b[0m \u001b[1;33m\u001b[0m\u001b[0m\n\u001b[0;32m   1099\u001b[0m     \u001b[1;32mreturn\u001b[0m \u001b[0marr\u001b[0m\u001b[1;33m.\u001b[0m\u001b[0mview\u001b[0m\u001b[1;33m(\u001b[0m\u001b[0mdtype\u001b[0m\u001b[1;33m)\u001b[0m\u001b[1;33m\u001b[0m\u001b[1;33m\u001b[0m\u001b[0m\n",
      "\u001b[1;31mValueError\u001b[0m: could not convert string to float: 'fol.89'"
     ]
    }
   ],
   "source": [
    "df['DOCNO'] = df['DOCNO'].astype('float')"
   ]
  },
  {
   "cell_type": "markdown",
   "id": "c687ca8b-c090-4c28-82ea-c3c043dad1d9",
   "metadata": {},
   "source": [
    "And...it errored. Why? Well, here is the error.\n",
    "\n",
    "ValueError: could not convert string to float: 'fol.89'\n",
    "\n",
    "This seems to say that I have a string in the column that I didn't know about. Unfortunately, I've already half converted the column to floats, so using string methods doesn't work too well. I'm going to have to sort through the column, look at the type of the individual row, and then find what columns contain anything with 'fol' in it."
   ]
  },
  {
   "cell_type": "code",
   "execution_count": 58,
   "id": "5e2b482d-a42a-4d10-94e8-3076ad6aa781",
   "metadata": {},
   "outputs": [
    {
     "name": "stdout",
     "output_type": "stream",
     "text": [
      "['fol.89']\n"
     ]
    }
   ],
   "source": [
    "def mixed_type_search(offending_phrase, col):\n",
    "    '''\n",
    "    Takes a string, the offending phrase, and searches for it in an entire column.\n",
    "    \n",
    "    Returns a list of all variations containing that phrase.\n",
    "    '''\n",
    "    # list of offending phrases\n",
    "    list_of_offense = []\n",
    "    \n",
    "    for elements in df[col]:       \n",
    "        try:\n",
    "            # We can only look at elements that are strings.\n",
    "            if type(elements) == str and offending_phrase in elements and elements not in list_of_offense:\n",
    "                list_of_offense.append(elements)\n",
    "                \n",
    "        except Exception as e:\n",
    "            try:\n",
    "                # This might go wrong. It shouldn't lead to an infinite loop, because the \n",
    "                # string conversion should make the offending value fail the test next go \n",
    "                # around.\n",
    "                \n",
    "                if type(elements) != str:\n",
    "                    mixed_type_search(str(elements),col)\n",
    "                    \n",
    "            except:\n",
    "                print(\"The offending phrase cannot be found due to type incompatibility\")\n",
    "                return False\n",
    "    return list_of_offense\n",
    "\n",
    "print(mixed_type_search('fol','DOCNO'))\n",
    "                "
   ]
  },
  {
   "cell_type": "markdown",
   "id": "8ab736f6-6648-4f5a-9b6d-c596106b66c7",
   "metadata": {},
   "source": [
    "Based on these results, it seems like there is only one fol (folder? folio? who cares?). It should be replaced with just simply the number 89, provided the number 89 doesn't already exist in the column. We should check that to make sure we aren't going to merge data that should be distinct."
   ]
  },
  {
   "cell_type": "code",
   "execution_count": 78,
   "id": "84e2aa78-b922-4901-8eea-60c7113c1999",
   "metadata": {},
   "outputs": [
    {
     "name": "stdout",
     "output_type": "stream",
     "text": [
      "Value is not in column already\n"
     ]
    }
   ],
   "source": [
    "def does_value_already_exist(value, col, sub_value=None):\n",
    "    '''\n",
    "    Takes a value and returns whether the column specified in col already contains\n",
    "    that value. Used to maintain unique data, such as in DOCNO.\n",
    "    \n",
    "    Value is used for longer strings such as 'fol.89'. But I want to check\n",
    "    whether 89 is in the file, but excluding fol.89.\n",
    "    '''\n",
    "    str(value)\n",
    "    str(col)\n",
    "    \n",
    "    # sub_value is optional so the method can be used with just one string\n",
    "    if value in df[col] and sub_value == None:\n",
    "        return True\n",
    "    \n",
    "    # exclusion logic\n",
    "    elif value not in df[col] and sub_value != None:\n",
    "        if sub_value in df[col] :\n",
    "            return True\n",
    "    return \"Value is not in column already\"\n",
    "\n",
    "print(does_value_already_exist('fol.89', 'DOCNO','89'))\n"
   ]
  },
  {
   "cell_type": "markdown",
   "id": "9f368403-b79f-4a51-844a-228ba30ad42c",
   "metadata": {},
   "source": [
    "Based on the results of the method above, I'd say we're ok replacing fol.89 with 89."
   ]
  },
  {
   "cell_type": "code",
   "execution_count": 60,
   "id": "b2da1a0d-cd31-427c-a16e-ce0bd1f8325a",
   "metadata": {},
   "outputs": [],
   "source": [
    "df['DOCNO'] = df['DOCNO'].replace('fol.89',89)"
   ]
  },
  {
   "cell_type": "code",
   "execution_count": 61,
   "id": "f8486f42-394d-410a-ac5b-ffe100c57738",
   "metadata": {},
   "outputs": [
    {
     "name": "stdout",
     "output_type": "stream",
     "text": [
      "[]\n"
     ]
    }
   ],
   "source": [
    "print(mixed_type_search('fol','DOCNO'))"
   ]
  },
  {
   "cell_type": "markdown",
   "id": "da47e428-a07b-4bb0-84e8-71c8b9a549df",
   "metadata": {},
   "source": [
    "Let's go back to our original goal of converting all of DOCNO to a float."
   ]
  },
  {
   "cell_type": "code",
   "execution_count": 62,
   "id": "8b605b73-0d87-4b6a-80f1-8de44cadc799",
   "metadata": {},
   "outputs": [
    {
     "ename": "ValueError",
     "evalue": "invalid literal for int() with base 10: 'VIII'",
     "output_type": "error",
     "traceback": [
      "\u001b[1;31m---------------------------------------------------------------------------\u001b[0m",
      "\u001b[1;31mValueError\u001b[0m                                Traceback (most recent call last)",
      "\u001b[1;32m~\\AppData\\Local\\Temp/ipykernel_4636/3203796966.py\u001b[0m in \u001b[0;36m<module>\u001b[1;34m\u001b[0m\n\u001b[1;32m----> 1\u001b[1;33m \u001b[0mdf\u001b[0m\u001b[1;33m[\u001b[0m\u001b[1;34m'DOCNO'\u001b[0m\u001b[1;33m]\u001b[0m \u001b[1;33m=\u001b[0m \u001b[0mdf\u001b[0m\u001b[1;33m[\u001b[0m\u001b[1;34m'DOCNO'\u001b[0m\u001b[1;33m]\u001b[0m\u001b[1;33m.\u001b[0m\u001b[0mastype\u001b[0m\u001b[1;33m(\u001b[0m\u001b[1;34m'int'\u001b[0m\u001b[1;33m)\u001b[0m\u001b[1;33m\u001b[0m\u001b[1;33m\u001b[0m\u001b[0m\n\u001b[0m",
      "\u001b[1;32mc:\\users\\casti\\appdata\\local\\programs\\python\\python38\\lib\\site-packages\\pandas\\core\\generic.py\u001b[0m in \u001b[0;36mastype\u001b[1;34m(self, dtype, copy, errors)\u001b[0m\n\u001b[0;32m   5875\u001b[0m         \u001b[1;32melse\u001b[0m\u001b[1;33m:\u001b[0m\u001b[1;33m\u001b[0m\u001b[1;33m\u001b[0m\u001b[0m\n\u001b[0;32m   5876\u001b[0m             \u001b[1;31m# else, only a single dtype is given\u001b[0m\u001b[1;33m\u001b[0m\u001b[1;33m\u001b[0m\u001b[1;33m\u001b[0m\u001b[0m\n\u001b[1;32m-> 5877\u001b[1;33m             \u001b[0mnew_data\u001b[0m \u001b[1;33m=\u001b[0m \u001b[0mself\u001b[0m\u001b[1;33m.\u001b[0m\u001b[0m_mgr\u001b[0m\u001b[1;33m.\u001b[0m\u001b[0mastype\u001b[0m\u001b[1;33m(\u001b[0m\u001b[0mdtype\u001b[0m\u001b[1;33m=\u001b[0m\u001b[0mdtype\u001b[0m\u001b[1;33m,\u001b[0m \u001b[0mcopy\u001b[0m\u001b[1;33m=\u001b[0m\u001b[0mcopy\u001b[0m\u001b[1;33m,\u001b[0m \u001b[0merrors\u001b[0m\u001b[1;33m=\u001b[0m\u001b[0merrors\u001b[0m\u001b[1;33m)\u001b[0m\u001b[1;33m\u001b[0m\u001b[1;33m\u001b[0m\u001b[0m\n\u001b[0m\u001b[0;32m   5878\u001b[0m             \u001b[1;32mreturn\u001b[0m \u001b[0mself\u001b[0m\u001b[1;33m.\u001b[0m\u001b[0m_constructor\u001b[0m\u001b[1;33m(\u001b[0m\u001b[0mnew_data\u001b[0m\u001b[1;33m)\u001b[0m\u001b[1;33m.\u001b[0m\u001b[0m__finalize__\u001b[0m\u001b[1;33m(\u001b[0m\u001b[0mself\u001b[0m\u001b[1;33m,\u001b[0m \u001b[0mmethod\u001b[0m\u001b[1;33m=\u001b[0m\u001b[1;34m\"astype\"\u001b[0m\u001b[1;33m)\u001b[0m\u001b[1;33m\u001b[0m\u001b[1;33m\u001b[0m\u001b[0m\n\u001b[0;32m   5879\u001b[0m \u001b[1;33m\u001b[0m\u001b[0m\n",
      "\u001b[1;32mc:\\users\\casti\\appdata\\local\\programs\\python\\python38\\lib\\site-packages\\pandas\\core\\internals\\managers.py\u001b[0m in \u001b[0;36mastype\u001b[1;34m(self, dtype, copy, errors)\u001b[0m\n\u001b[0;32m    629\u001b[0m         \u001b[0mself\u001b[0m\u001b[1;33m,\u001b[0m \u001b[0mdtype\u001b[0m\u001b[1;33m,\u001b[0m \u001b[0mcopy\u001b[0m\u001b[1;33m:\u001b[0m \u001b[0mbool\u001b[0m \u001b[1;33m=\u001b[0m \u001b[1;32mFalse\u001b[0m\u001b[1;33m,\u001b[0m \u001b[0merrors\u001b[0m\u001b[1;33m:\u001b[0m \u001b[0mstr\u001b[0m \u001b[1;33m=\u001b[0m \u001b[1;34m\"raise\"\u001b[0m\u001b[1;33m\u001b[0m\u001b[1;33m\u001b[0m\u001b[0m\n\u001b[0;32m    630\u001b[0m     ) -> \"BlockManager\":\n\u001b[1;32m--> 631\u001b[1;33m         \u001b[1;32mreturn\u001b[0m \u001b[0mself\u001b[0m\u001b[1;33m.\u001b[0m\u001b[0mapply\u001b[0m\u001b[1;33m(\u001b[0m\u001b[1;34m\"astype\"\u001b[0m\u001b[1;33m,\u001b[0m \u001b[0mdtype\u001b[0m\u001b[1;33m=\u001b[0m\u001b[0mdtype\u001b[0m\u001b[1;33m,\u001b[0m \u001b[0mcopy\u001b[0m\u001b[1;33m=\u001b[0m\u001b[0mcopy\u001b[0m\u001b[1;33m,\u001b[0m \u001b[0merrors\u001b[0m\u001b[1;33m=\u001b[0m\u001b[0merrors\u001b[0m\u001b[1;33m)\u001b[0m\u001b[1;33m\u001b[0m\u001b[1;33m\u001b[0m\u001b[0m\n\u001b[0m\u001b[0;32m    632\u001b[0m \u001b[1;33m\u001b[0m\u001b[0m\n\u001b[0;32m    633\u001b[0m     def convert(\n",
      "\u001b[1;32mc:\\users\\casti\\appdata\\local\\programs\\python\\python38\\lib\\site-packages\\pandas\\core\\internals\\managers.py\u001b[0m in \u001b[0;36mapply\u001b[1;34m(self, f, align_keys, ignore_failures, **kwargs)\u001b[0m\n\u001b[0;32m    425\u001b[0m                     \u001b[0mapplied\u001b[0m \u001b[1;33m=\u001b[0m \u001b[0mb\u001b[0m\u001b[1;33m.\u001b[0m\u001b[0mapply\u001b[0m\u001b[1;33m(\u001b[0m\u001b[0mf\u001b[0m\u001b[1;33m,\u001b[0m \u001b[1;33m**\u001b[0m\u001b[0mkwargs\u001b[0m\u001b[1;33m)\u001b[0m\u001b[1;33m\u001b[0m\u001b[1;33m\u001b[0m\u001b[0m\n\u001b[0;32m    426\u001b[0m                 \u001b[1;32melse\u001b[0m\u001b[1;33m:\u001b[0m\u001b[1;33m\u001b[0m\u001b[1;33m\u001b[0m\u001b[0m\n\u001b[1;32m--> 427\u001b[1;33m                     \u001b[0mapplied\u001b[0m \u001b[1;33m=\u001b[0m \u001b[0mgetattr\u001b[0m\u001b[1;33m(\u001b[0m\u001b[0mb\u001b[0m\u001b[1;33m,\u001b[0m \u001b[0mf\u001b[0m\u001b[1;33m)\u001b[0m\u001b[1;33m(\u001b[0m\u001b[1;33m**\u001b[0m\u001b[0mkwargs\u001b[0m\u001b[1;33m)\u001b[0m\u001b[1;33m\u001b[0m\u001b[1;33m\u001b[0m\u001b[0m\n\u001b[0m\u001b[0;32m    428\u001b[0m             \u001b[1;32mexcept\u001b[0m \u001b[1;33m(\u001b[0m\u001b[0mTypeError\u001b[0m\u001b[1;33m,\u001b[0m \u001b[0mNotImplementedError\u001b[0m\u001b[1;33m)\u001b[0m\u001b[1;33m:\u001b[0m\u001b[1;33m\u001b[0m\u001b[1;33m\u001b[0m\u001b[0m\n\u001b[0;32m    429\u001b[0m                 \u001b[1;32mif\u001b[0m \u001b[1;32mnot\u001b[0m \u001b[0mignore_failures\u001b[0m\u001b[1;33m:\u001b[0m\u001b[1;33m\u001b[0m\u001b[1;33m\u001b[0m\u001b[0m\n",
      "\u001b[1;32mc:\\users\\casti\\appdata\\local\\programs\\python\\python38\\lib\\site-packages\\pandas\\core\\internals\\blocks.py\u001b[0m in \u001b[0;36mastype\u001b[1;34m(self, dtype, copy, errors)\u001b[0m\n\u001b[0;32m    671\u001b[0m             \u001b[0mvals1d\u001b[0m \u001b[1;33m=\u001b[0m \u001b[0mvalues\u001b[0m\u001b[1;33m.\u001b[0m\u001b[0mravel\u001b[0m\u001b[1;33m(\u001b[0m\u001b[1;33m)\u001b[0m\u001b[1;33m\u001b[0m\u001b[1;33m\u001b[0m\u001b[0m\n\u001b[0;32m    672\u001b[0m             \u001b[1;32mtry\u001b[0m\u001b[1;33m:\u001b[0m\u001b[1;33m\u001b[0m\u001b[1;33m\u001b[0m\u001b[0m\n\u001b[1;32m--> 673\u001b[1;33m                 \u001b[0mvalues\u001b[0m \u001b[1;33m=\u001b[0m \u001b[0mastype_nansafe\u001b[0m\u001b[1;33m(\u001b[0m\u001b[0mvals1d\u001b[0m\u001b[1;33m,\u001b[0m \u001b[0mdtype\u001b[0m\u001b[1;33m,\u001b[0m \u001b[0mcopy\u001b[0m\u001b[1;33m=\u001b[0m\u001b[1;32mTrue\u001b[0m\u001b[1;33m)\u001b[0m\u001b[1;33m\u001b[0m\u001b[1;33m\u001b[0m\u001b[0m\n\u001b[0m\u001b[0;32m    674\u001b[0m             \u001b[1;32mexcept\u001b[0m \u001b[1;33m(\u001b[0m\u001b[0mValueError\u001b[0m\u001b[1;33m,\u001b[0m \u001b[0mTypeError\u001b[0m\u001b[1;33m)\u001b[0m\u001b[1;33m:\u001b[0m\u001b[1;33m\u001b[0m\u001b[1;33m\u001b[0m\u001b[0m\n\u001b[0;32m    675\u001b[0m                 \u001b[1;31m# e.g. astype_nansafe can fail on object-dtype of strings\u001b[0m\u001b[1;33m\u001b[0m\u001b[1;33m\u001b[0m\u001b[1;33m\u001b[0m\u001b[0m\n",
      "\u001b[1;32mc:\\users\\casti\\appdata\\local\\programs\\python\\python38\\lib\\site-packages\\pandas\\core\\dtypes\\cast.py\u001b[0m in \u001b[0;36mastype_nansafe\u001b[1;34m(arr, dtype, copy, skipna)\u001b[0m\n\u001b[0;32m   1072\u001b[0m         \u001b[1;31m# work around NumPy brokenness, #1987\u001b[0m\u001b[1;33m\u001b[0m\u001b[1;33m\u001b[0m\u001b[1;33m\u001b[0m\u001b[0m\n\u001b[0;32m   1073\u001b[0m         \u001b[1;32mif\u001b[0m \u001b[0mnp\u001b[0m\u001b[1;33m.\u001b[0m\u001b[0missubdtype\u001b[0m\u001b[1;33m(\u001b[0m\u001b[0mdtype\u001b[0m\u001b[1;33m.\u001b[0m\u001b[0mtype\u001b[0m\u001b[1;33m,\u001b[0m \u001b[0mnp\u001b[0m\u001b[1;33m.\u001b[0m\u001b[0minteger\u001b[0m\u001b[1;33m)\u001b[0m\u001b[1;33m:\u001b[0m\u001b[1;33m\u001b[0m\u001b[1;33m\u001b[0m\u001b[0m\n\u001b[1;32m-> 1074\u001b[1;33m             \u001b[1;32mreturn\u001b[0m \u001b[0mlib\u001b[0m\u001b[1;33m.\u001b[0m\u001b[0mastype_intsafe\u001b[0m\u001b[1;33m(\u001b[0m\u001b[0marr\u001b[0m\u001b[1;33m.\u001b[0m\u001b[0mravel\u001b[0m\u001b[1;33m(\u001b[0m\u001b[1;33m)\u001b[0m\u001b[1;33m,\u001b[0m \u001b[0mdtype\u001b[0m\u001b[1;33m)\u001b[0m\u001b[1;33m.\u001b[0m\u001b[0mreshape\u001b[0m\u001b[1;33m(\u001b[0m\u001b[0marr\u001b[0m\u001b[1;33m.\u001b[0m\u001b[0mshape\u001b[0m\u001b[1;33m)\u001b[0m\u001b[1;33m\u001b[0m\u001b[1;33m\u001b[0m\u001b[0m\n\u001b[0m\u001b[0;32m   1075\u001b[0m \u001b[1;33m\u001b[0m\u001b[0m\n\u001b[0;32m   1076\u001b[0m         \u001b[1;31m# if we have a datetime/timedelta array of objects\u001b[0m\u001b[1;33m\u001b[0m\u001b[1;33m\u001b[0m\u001b[1;33m\u001b[0m\u001b[0m\n",
      "\u001b[1;32mpandas\\_libs\\lib.pyx\u001b[0m in \u001b[0;36mpandas._libs.lib.astype_intsafe\u001b[1;34m()\u001b[0m\n",
      "\u001b[1;31mValueError\u001b[0m: invalid literal for int() with base 10: 'VIII'"
     ]
    }
   ],
   "source": [
    "df['DOCNO'] = df['DOCNO'].astype('int')"
   ]
  },
  {
   "cell_type": "markdown",
   "id": "e587ade2-9cbd-44fc-98c9-d6f8d245f116",
   "metadata": {},
   "source": [
    "Good heavens, another error.\n",
    "\n",
    "ValueError: could not convert string to float: 'VIII'\n",
    "\n",
    "This one, again, should be easy to fix. That's just the roman numeral 8. However, we need to check if doc 8 is already used."
   ]
  },
  {
   "cell_type": "code",
   "execution_count": 79,
   "id": "2d87d1ec-3904-4fa7-a7c4-c4a0c467e27e",
   "metadata": {},
   "outputs": [
    {
     "data": {
      "text/plain": [
       "'Value is not in column already'"
      ]
     },
     "execution_count": 79,
     "metadata": {},
     "output_type": "execute_result"
    }
   ],
   "source": [
    "does_value_already_exist('8', 'DOCNO')  # No need for optional parameter, as I \n",
    "                                        # only care if 8 exists as a document \n",
    "                                        # number"
   ]
  },
  {
   "cell_type": "markdown",
   "id": "5ae4ec77-8ca4-46b4-8a25-a33a3423eae1",
   "metadata": {},
   "source": [
    "OK, I consider that clearance to just replace VIII with 8."
   ]
  },
  {
   "cell_type": "code",
   "execution_count": 80,
   "id": "fdbe7137-dc4e-4e7e-9902-e2cf91fdf4c0",
   "metadata": {},
   "outputs": [],
   "source": [
    "df['DOCNO']= df['DOCNO'].replace('VIII',8)"
   ]
  },
  {
   "cell_type": "markdown",
   "id": "3e648a2a-678c-44bb-84f5-0a7082b4dc5b",
   "metadata": {},
   "source": [
    "Time to try a float conversion again."
   ]
  },
  {
   "cell_type": "code",
   "execution_count": 81,
   "id": "254392b1-ca59-4f72-a543-fd9a2b45f77e",
   "metadata": {},
   "outputs": [],
   "source": [
    "df['DOCNO'] = df['DOCNO'].astype('int')"
   ]
  },
  {
   "cell_type": "markdown",
   "id": "e2e717e7-e55a-4679-aee0-63d523887d7c",
   "metadata": {},
   "source": [
    "And more errors. Honestly, it seems like this column could have been left a string. However, I also think imposing an obvious numbering system on the DOCNO column is important later on. Here's the error.\n",
    "\n",
    "ValueError: could not convert string to float: 'p.252'\n",
    "\n",
    "Let's see if it's around."
   ]
  },
  {
   "cell_type": "code",
   "execution_count": 38,
   "id": "5bdda62a-425e-46f0-b0d9-b16caeff7a6a",
   "metadata": {},
   "outputs": [
    {
     "data": {
      "text/plain": [
       "True"
      ]
     },
     "execution_count": 38,
     "metadata": {},
     "output_type": "execute_result"
    }
   ],
   "source": [
    "does_value_already_exist(252, 'DOCNO') "
   ]
  },
  {
   "cell_type": "markdown",
   "id": "fbf3e6f7-f050-46f1-94c3-96efc23eaa54",
   "metadata": {},
   "source": [
    "Well, that isn't good. There's already a document 252. Plus, that error message looks like a page number."
   ]
  },
  {
   "cell_type": "code",
   "execution_count": 65,
   "id": "a20a8b00-129b-4722-8e48-d6cf15c994fb",
   "metadata": {},
   "outputs": [
    {
     "name": "stdout",
     "output_type": "stream",
     "text": [
      "[[47281, 'p.252'], [47282, 'p.252'], [47283, 'p.252'], [47284, 'p.252'], [47619, 'p. 1'], [47620, 'p. 1'], [47621, 'p. 1'], [47622, 'p. 1'], [47623, 'p. 1'], [49165, 'p. 142'], [49357, 'p. 222'], [49358, 'p. 222'], [49359, 'p. 222'], [49360, 'p. 222'], [49361, 'p. 222'], [49362, 'p. 222'], [49363, 'p. 222'], [49364, 'p. 222'], [51120, 'p. 131'], [51121, 'p. 131'], [51122, 'p. 131'], [51123, 'p. 131'], [51124, 'p. 131'], [51125, 'p. 131'], [51126, 'p. 131'], [56819, 'p. 242']]\n"
     ]
    }
   ],
   "source": [
    "def search_for_string_in_column_entry(string, col):\n",
    "    '''\n",
    "    Takes a string and searches the given dataframe column for the string in a \n",
    "    cell of data. Then, returns a list of every location where string occurs.\n",
    "    '''\n",
    "    \n",
    "    return [[index, value] for index, value in df[col].items() if str(string) in str(value)]\n",
    "\n",
    "\n",
    "print(search_for_string_in_column_entry('p.','DOCNO'))\n"
   ]
  },
  {
   "cell_type": "markdown",
   "id": "e9c9c7a3-d3d7-4abb-a8d7-8506478f17ec",
   "metadata": {},
   "source": [
    "Based on these results, we can conclude that someone entered p.252 four times. But why? This seems increasingly like a page number. Is there more to the story? Maybe we should take a close look at each result."
   ]
  },
  {
   "cell_type": "code",
   "execution_count": 75,
   "id": "73ad7b91-76f5-4e66-92a9-7689e19d4e61",
   "metadata": {},
   "outputs": [
    {
     "name": "stdout",
     "output_type": "stream",
     "text": [
      "NOTARY Sp. W. Fla Vol. XI p.252 -1\n",
      "NOTARY Sp. W. Fla Vol. XI p.252 -1\n",
      "NOTARY Sp. W. Fla Vol. XI p.252 -1\n",
      "NOTARY Sp. W. Fla Vol. XI p.252 -1\n",
      "NOTARY SPWFLA Vol. 14 p. 1 -1\n",
      "NOTARY SPWFLA Vol. 14 p. 1 -1\n",
      "NOTARY SPWFLA Vol. 14 p. 1 -1\n",
      "NOTARY SPWFLA Vol. 14 p. 1 -1\n",
      "NOTARY SPWFLA Vol. 14 p. 1 -1\n",
      "NOTARY West Fla Papers XII p. 142 -1\n",
      "NOTARY Sp. W. Fla Vol. XII p. 222 -1\n",
      "NOTARY Sp. W. Fla Vol. XII p. 222 -1\n",
      "NOTARY Sp. W. Fla Vol. XII p. 222 -1\n",
      "NOTARY Sp. W. Fla Vol. XII p. 222 -1\n",
      "NOTARY Sp. W. Fla Vol. XII p. 222 -1\n",
      "NOTARY Sp. W. Fla Vol. XII p. 222 -1\n",
      "NOTARY Sp. W. Fla Vol. XII p. 222 -1\n",
      "NOTARY Sp. W. Fla Vol. XII p. 222 -1\n",
      "NOTARY Sp. W. Fla Vol. XIII p. 131 -1\n",
      "NOTARY Sp. W. Fla Vol. XIII p. 131 -1\n",
      "NOTARY Sp. W. Fla Vol. XIII p. 131 -1\n",
      "NOTARY Sp. W. Fla Vol. XIII p. 131 -1\n",
      "NOTARY Sp. W. Fla Vol. XIII p. 131 -1\n",
      "NOTARY Sp. W. Fla Vol. XIII p. 131 -1\n",
      "NOTARY Sp. W. Fla Vol. XIII p. 131 -1\n",
      "NOTARY Sp. W. Fla Vol. XII p. 242 -1\n"
     ]
    }
   ],
   "source": [
    "# page_numbers = search_for_string_in_column_entry('.','DOCNO')\n",
    "for entries in page_numbers:\n",
    "    print(\"NOTARY\",df['NOTARY'].iloc[entries[0]],df['DOCNO'].iloc[entries[0]])\n"
   ]
  },
  {
   "cell_type": "markdown",
   "id": "7adce4fb-9632-4414-a46d-8e7396cf823d",
   "metadata": {},
   "source": [
    "I suspect the DOCNO column, in these few cases, is meant to be a supplement to the Notary column. While I'm not sure what Sp. W. Fla Vol. XI precisely refers to (I'll have to dig into the older project's notes and source documents), it seems like the sort of thing that points to a book, which would incidentally have pages. So I'm going to transfer the DOCNO information to the Notary column.\n",
    "\n",
    "First, create a variable to store the indices AND values we want transferred."
   ]
  },
  {
   "cell_type": "code",
   "execution_count": 73,
   "id": "bd7f45c5-5771-4e66-82b8-f1b4a837daa3",
   "metadata": {},
   "outputs": [],
   "source": [
    "need_transfer_index_values = search_for_string_in_column_entry('.','DOCNO')\n",
    "need_transfer_index_only = [index for index, values in need_transfer_index_values]"
   ]
  },
  {
   "cell_type": "markdown",
   "id": "b1a3563a-f7b1-4587-9993-eceb3912207c",
   "metadata": {},
   "source": [
    "Now transfer the values in need_transfer over to the column 'NOTARY' and insert a -1 in column 'DOCNO'."
   ]
  },
  {
   "cell_type": "code",
   "execution_count": 42,
   "id": "73467952-16c6-4ab5-b509-fd25fb408587",
   "metadata": {},
   "outputs": [
    {
     "data": {
      "text/plain": [
       "'Sp. W. Fla Vol. XI'"
      ]
     },
     "execution_count": 42,
     "metadata": {},
     "output_type": "execute_result"
    }
   ],
   "source": [
    "df['NOTARY'].iloc[47281]"
   ]
  },
  {
   "cell_type": "code",
   "execution_count": 74,
   "id": "f36343b5-6b17-4047-9d4a-b6322e22dee0",
   "metadata": {},
   "outputs": [
    {
     "name": "stderr",
     "output_type": "stream",
     "text": [
      "c:\\users\\casti\\appdata\\local\\programs\\python\\python38\\lib\\site-packages\\pandas\\core\\indexing.py:1637: SettingWithCopyWarning: \n",
      "A value is trying to be set on a copy of a slice from a DataFrame\n",
      "\n",
      "See the caveats in the documentation: https://pandas.pydata.org/pandas-docs/stable/user_guide/indexing.html#returning-a-view-versus-a-copy\n",
      "  self._setitem_single_block(indexer, value, name)\n"
     ]
    }
   ],
   "source": [
    "def transfer_and_replace_col(new_col, old_col, new_value, indices):\n",
    "    '''\n",
    "    Transfers the values in old_col into new_col, replacing old_col with the new_value.\n",
    "    '''\n",
    "    for index in indices:\n",
    "        df[new_col].iloc[index] = df[new_col].loc[index] + ' ' + df[old_col].loc[index]\n",
    "        df[old_col].loc[index] = new_value\n",
    "        \n",
    "\n",
    "transfer_and_replace_col('NOTARY', 'DOCNO', -1, need_transfer_index_only)"
   ]
  },
  {
   "cell_type": "code",
   "execution_count": 44,
   "id": "679b4fb4-26f2-46c7-a217-4ad6caf9e341",
   "metadata": {},
   "outputs": [
    {
     "data": {
      "text/plain": [
       "47281       Sp. W. Fla Vol. XI p.252\n",
       "47282       Sp. W. Fla Vol. XI p.252\n",
       "47283       Sp. W. Fla Vol. XI p.252\n",
       "47284       Sp. W. Fla Vol. XI p.252\n",
       "47619            SPWFLA Vol. 14 p. 1\n",
       "47620            SPWFLA Vol. 14 p. 1\n",
       "47621            SPWFLA Vol. 14 p. 1\n",
       "47622            SPWFLA Vol. 14 p. 1\n",
       "47623            SPWFLA Vol. 14 p. 1\n",
       "49165     West Fla Papers XII p. 142\n",
       "49357     Sp. W. Fla Vol. XII p. 222\n",
       "49358     Sp. W. Fla Vol. XII p. 222\n",
       "49359     Sp. W. Fla Vol. XII p. 222\n",
       "49360     Sp. W. Fla Vol. XII p. 222\n",
       "49361     Sp. W. Fla Vol. XII p. 222\n",
       "49362     Sp. W. Fla Vol. XII p. 222\n",
       "49363     Sp. W. Fla Vol. XII p. 222\n",
       "49364     Sp. W. Fla Vol. XII p. 222\n",
       "51120    Sp. W. Fla Vol. XIII p. 131\n",
       "51121    Sp. W. Fla Vol. XIII p. 131\n",
       "51122    Sp. W. Fla Vol. XIII p. 131\n",
       "51123    Sp. W. Fla Vol. XIII p. 131\n",
       "51124    Sp. W. Fla Vol. XIII p. 131\n",
       "51125    Sp. W. Fla Vol. XIII p. 131\n",
       "51126    Sp. W. Fla Vol. XIII p. 131\n",
       "56819     Sp. W. Fla Vol. XII p. 242\n",
       "Name: NOTARY, dtype: string"
      ]
     },
     "execution_count": 44,
     "metadata": {},
     "output_type": "execute_result"
    }
   ],
   "source": [
    "df['NOTARY'].loc[need_transfer_index_only]"
   ]
  },
  {
   "cell_type": "code",
   "execution_count": 45,
   "id": "526778cc-ea9d-4ec3-b680-a6e7dc213913",
   "metadata": {},
   "outputs": [
    {
     "data": {
      "text/plain": [
       "47281    -1\n",
       "47282    -1\n",
       "47283    -1\n",
       "47284    -1\n",
       "47619    -1\n",
       "47620    -1\n",
       "47621    -1\n",
       "47622    -1\n",
       "47623    -1\n",
       "49165    -1\n",
       "49357    -1\n",
       "49358    -1\n",
       "49359    -1\n",
       "49360    -1\n",
       "49361    -1\n",
       "49362    -1\n",
       "49363    -1\n",
       "49364    -1\n",
       "51120    -1\n",
       "51121    -1\n",
       "51122    -1\n",
       "51123    -1\n",
       "51124    -1\n",
       "51125    -1\n",
       "51126    -1\n",
       "56819    -1\n",
       "Name: DOCNO, dtype: object"
      ]
     },
     "execution_count": 45,
     "metadata": {},
     "output_type": "execute_result"
    }
   ],
   "source": [
    "df['DOCNO'].loc[need_transfer_index_only]"
   ]
  },
  {
   "cell_type": "markdown",
   "id": "8106cb76-b0a1-463e-bb1a-b5b3f48dff6d",
   "metadata": {},
   "source": [
    "I will have to record somewhere that document number -1 is a transfer to the notary column. Now that we have removed the page numbers, it's time to actually convert everything to a float in the DOCNO column."
   ]
  },
  {
   "cell_type": "code",
   "execution_count": 76,
   "id": "18afd3ca-cba4-4b62-9090-5d764e11937d",
   "metadata": {},
   "outputs": [
    {
     "ename": "ValueError",
     "evalue": "could not convert string to float: 'VIII'",
     "output_type": "error",
     "traceback": [
      "\u001b[1;31m---------------------------------------------------------------------------\u001b[0m",
      "\u001b[1;31mValueError\u001b[0m                                Traceback (most recent call last)",
      "\u001b[1;32m~\\AppData\\Local\\Temp/ipykernel_4636/2039978824.py\u001b[0m in \u001b[0;36m<module>\u001b[1;34m\u001b[0m\n\u001b[1;32m----> 1\u001b[1;33m \u001b[0mdf\u001b[0m\u001b[1;33m[\u001b[0m\u001b[1;34m'DOCNO'\u001b[0m\u001b[1;33m]\u001b[0m \u001b[1;33m=\u001b[0m \u001b[0mdf\u001b[0m\u001b[1;33m[\u001b[0m\u001b[1;34m'DOCNO'\u001b[0m\u001b[1;33m]\u001b[0m\u001b[1;33m.\u001b[0m\u001b[0mastype\u001b[0m\u001b[1;33m(\u001b[0m\u001b[1;34m'float'\u001b[0m\u001b[1;33m)\u001b[0m\u001b[1;33m\u001b[0m\u001b[1;33m\u001b[0m\u001b[0m\n\u001b[0m",
      "\u001b[1;32mc:\\users\\casti\\appdata\\local\\programs\\python\\python38\\lib\\site-packages\\pandas\\core\\generic.py\u001b[0m in \u001b[0;36mastype\u001b[1;34m(self, dtype, copy, errors)\u001b[0m\n\u001b[0;32m   5875\u001b[0m         \u001b[1;32melse\u001b[0m\u001b[1;33m:\u001b[0m\u001b[1;33m\u001b[0m\u001b[1;33m\u001b[0m\u001b[0m\n\u001b[0;32m   5876\u001b[0m             \u001b[1;31m# else, only a single dtype is given\u001b[0m\u001b[1;33m\u001b[0m\u001b[1;33m\u001b[0m\u001b[1;33m\u001b[0m\u001b[0m\n\u001b[1;32m-> 5877\u001b[1;33m             \u001b[0mnew_data\u001b[0m \u001b[1;33m=\u001b[0m \u001b[0mself\u001b[0m\u001b[1;33m.\u001b[0m\u001b[0m_mgr\u001b[0m\u001b[1;33m.\u001b[0m\u001b[0mastype\u001b[0m\u001b[1;33m(\u001b[0m\u001b[0mdtype\u001b[0m\u001b[1;33m=\u001b[0m\u001b[0mdtype\u001b[0m\u001b[1;33m,\u001b[0m \u001b[0mcopy\u001b[0m\u001b[1;33m=\u001b[0m\u001b[0mcopy\u001b[0m\u001b[1;33m,\u001b[0m \u001b[0merrors\u001b[0m\u001b[1;33m=\u001b[0m\u001b[0merrors\u001b[0m\u001b[1;33m)\u001b[0m\u001b[1;33m\u001b[0m\u001b[1;33m\u001b[0m\u001b[0m\n\u001b[0m\u001b[0;32m   5878\u001b[0m             \u001b[1;32mreturn\u001b[0m \u001b[0mself\u001b[0m\u001b[1;33m.\u001b[0m\u001b[0m_constructor\u001b[0m\u001b[1;33m(\u001b[0m\u001b[0mnew_data\u001b[0m\u001b[1;33m)\u001b[0m\u001b[1;33m.\u001b[0m\u001b[0m__finalize__\u001b[0m\u001b[1;33m(\u001b[0m\u001b[0mself\u001b[0m\u001b[1;33m,\u001b[0m \u001b[0mmethod\u001b[0m\u001b[1;33m=\u001b[0m\u001b[1;34m\"astype\"\u001b[0m\u001b[1;33m)\u001b[0m\u001b[1;33m\u001b[0m\u001b[1;33m\u001b[0m\u001b[0m\n\u001b[0;32m   5879\u001b[0m \u001b[1;33m\u001b[0m\u001b[0m\n",
      "\u001b[1;32mc:\\users\\casti\\appdata\\local\\programs\\python\\python38\\lib\\site-packages\\pandas\\core\\internals\\managers.py\u001b[0m in \u001b[0;36mastype\u001b[1;34m(self, dtype, copy, errors)\u001b[0m\n\u001b[0;32m    629\u001b[0m         \u001b[0mself\u001b[0m\u001b[1;33m,\u001b[0m \u001b[0mdtype\u001b[0m\u001b[1;33m,\u001b[0m \u001b[0mcopy\u001b[0m\u001b[1;33m:\u001b[0m \u001b[0mbool\u001b[0m \u001b[1;33m=\u001b[0m \u001b[1;32mFalse\u001b[0m\u001b[1;33m,\u001b[0m \u001b[0merrors\u001b[0m\u001b[1;33m:\u001b[0m \u001b[0mstr\u001b[0m \u001b[1;33m=\u001b[0m \u001b[1;34m\"raise\"\u001b[0m\u001b[1;33m\u001b[0m\u001b[1;33m\u001b[0m\u001b[0m\n\u001b[0;32m    630\u001b[0m     ) -> \"BlockManager\":\n\u001b[1;32m--> 631\u001b[1;33m         \u001b[1;32mreturn\u001b[0m \u001b[0mself\u001b[0m\u001b[1;33m.\u001b[0m\u001b[0mapply\u001b[0m\u001b[1;33m(\u001b[0m\u001b[1;34m\"astype\"\u001b[0m\u001b[1;33m,\u001b[0m \u001b[0mdtype\u001b[0m\u001b[1;33m=\u001b[0m\u001b[0mdtype\u001b[0m\u001b[1;33m,\u001b[0m \u001b[0mcopy\u001b[0m\u001b[1;33m=\u001b[0m\u001b[0mcopy\u001b[0m\u001b[1;33m,\u001b[0m \u001b[0merrors\u001b[0m\u001b[1;33m=\u001b[0m\u001b[0merrors\u001b[0m\u001b[1;33m)\u001b[0m\u001b[1;33m\u001b[0m\u001b[1;33m\u001b[0m\u001b[0m\n\u001b[0m\u001b[0;32m    632\u001b[0m \u001b[1;33m\u001b[0m\u001b[0m\n\u001b[0;32m    633\u001b[0m     def convert(\n",
      "\u001b[1;32mc:\\users\\casti\\appdata\\local\\programs\\python\\python38\\lib\\site-packages\\pandas\\core\\internals\\managers.py\u001b[0m in \u001b[0;36mapply\u001b[1;34m(self, f, align_keys, ignore_failures, **kwargs)\u001b[0m\n\u001b[0;32m    425\u001b[0m                     \u001b[0mapplied\u001b[0m \u001b[1;33m=\u001b[0m \u001b[0mb\u001b[0m\u001b[1;33m.\u001b[0m\u001b[0mapply\u001b[0m\u001b[1;33m(\u001b[0m\u001b[0mf\u001b[0m\u001b[1;33m,\u001b[0m \u001b[1;33m**\u001b[0m\u001b[0mkwargs\u001b[0m\u001b[1;33m)\u001b[0m\u001b[1;33m\u001b[0m\u001b[1;33m\u001b[0m\u001b[0m\n\u001b[0;32m    426\u001b[0m                 \u001b[1;32melse\u001b[0m\u001b[1;33m:\u001b[0m\u001b[1;33m\u001b[0m\u001b[1;33m\u001b[0m\u001b[0m\n\u001b[1;32m--> 427\u001b[1;33m                     \u001b[0mapplied\u001b[0m \u001b[1;33m=\u001b[0m \u001b[0mgetattr\u001b[0m\u001b[1;33m(\u001b[0m\u001b[0mb\u001b[0m\u001b[1;33m,\u001b[0m \u001b[0mf\u001b[0m\u001b[1;33m)\u001b[0m\u001b[1;33m(\u001b[0m\u001b[1;33m**\u001b[0m\u001b[0mkwargs\u001b[0m\u001b[1;33m)\u001b[0m\u001b[1;33m\u001b[0m\u001b[1;33m\u001b[0m\u001b[0m\n\u001b[0m\u001b[0;32m    428\u001b[0m             \u001b[1;32mexcept\u001b[0m \u001b[1;33m(\u001b[0m\u001b[0mTypeError\u001b[0m\u001b[1;33m,\u001b[0m \u001b[0mNotImplementedError\u001b[0m\u001b[1;33m)\u001b[0m\u001b[1;33m:\u001b[0m\u001b[1;33m\u001b[0m\u001b[1;33m\u001b[0m\u001b[0m\n\u001b[0;32m    429\u001b[0m                 \u001b[1;32mif\u001b[0m \u001b[1;32mnot\u001b[0m \u001b[0mignore_failures\u001b[0m\u001b[1;33m:\u001b[0m\u001b[1;33m\u001b[0m\u001b[1;33m\u001b[0m\u001b[0m\n",
      "\u001b[1;32mc:\\users\\casti\\appdata\\local\\programs\\python\\python38\\lib\\site-packages\\pandas\\core\\internals\\blocks.py\u001b[0m in \u001b[0;36mastype\u001b[1;34m(self, dtype, copy, errors)\u001b[0m\n\u001b[0;32m    671\u001b[0m             \u001b[0mvals1d\u001b[0m \u001b[1;33m=\u001b[0m \u001b[0mvalues\u001b[0m\u001b[1;33m.\u001b[0m\u001b[0mravel\u001b[0m\u001b[1;33m(\u001b[0m\u001b[1;33m)\u001b[0m\u001b[1;33m\u001b[0m\u001b[1;33m\u001b[0m\u001b[0m\n\u001b[0;32m    672\u001b[0m             \u001b[1;32mtry\u001b[0m\u001b[1;33m:\u001b[0m\u001b[1;33m\u001b[0m\u001b[1;33m\u001b[0m\u001b[0m\n\u001b[1;32m--> 673\u001b[1;33m                 \u001b[0mvalues\u001b[0m \u001b[1;33m=\u001b[0m \u001b[0mastype_nansafe\u001b[0m\u001b[1;33m(\u001b[0m\u001b[0mvals1d\u001b[0m\u001b[1;33m,\u001b[0m \u001b[0mdtype\u001b[0m\u001b[1;33m,\u001b[0m \u001b[0mcopy\u001b[0m\u001b[1;33m=\u001b[0m\u001b[1;32mTrue\u001b[0m\u001b[1;33m)\u001b[0m\u001b[1;33m\u001b[0m\u001b[1;33m\u001b[0m\u001b[0m\n\u001b[0m\u001b[0;32m    674\u001b[0m             \u001b[1;32mexcept\u001b[0m \u001b[1;33m(\u001b[0m\u001b[0mValueError\u001b[0m\u001b[1;33m,\u001b[0m \u001b[0mTypeError\u001b[0m\u001b[1;33m)\u001b[0m\u001b[1;33m:\u001b[0m\u001b[1;33m\u001b[0m\u001b[1;33m\u001b[0m\u001b[0m\n\u001b[0;32m    675\u001b[0m                 \u001b[1;31m# e.g. astype_nansafe can fail on object-dtype of strings\u001b[0m\u001b[1;33m\u001b[0m\u001b[1;33m\u001b[0m\u001b[1;33m\u001b[0m\u001b[0m\n",
      "\u001b[1;32mc:\\users\\casti\\appdata\\local\\programs\\python\\python38\\lib\\site-packages\\pandas\\core\\dtypes\\cast.py\u001b[0m in \u001b[0;36mastype_nansafe\u001b[1;34m(arr, dtype, copy, skipna)\u001b[0m\n\u001b[0;32m   1095\u001b[0m     \u001b[1;32mif\u001b[0m \u001b[0mcopy\u001b[0m \u001b[1;32mor\u001b[0m \u001b[0mis_object_dtype\u001b[0m\u001b[1;33m(\u001b[0m\u001b[0marr\u001b[0m\u001b[1;33m)\u001b[0m \u001b[1;32mor\u001b[0m \u001b[0mis_object_dtype\u001b[0m\u001b[1;33m(\u001b[0m\u001b[0mdtype\u001b[0m\u001b[1;33m)\u001b[0m\u001b[1;33m:\u001b[0m\u001b[1;33m\u001b[0m\u001b[1;33m\u001b[0m\u001b[0m\n\u001b[0;32m   1096\u001b[0m         \u001b[1;31m# Explicit copy, or required since NumPy can't view from / to object.\u001b[0m\u001b[1;33m\u001b[0m\u001b[1;33m\u001b[0m\u001b[1;33m\u001b[0m\u001b[0m\n\u001b[1;32m-> 1097\u001b[1;33m         \u001b[1;32mreturn\u001b[0m \u001b[0marr\u001b[0m\u001b[1;33m.\u001b[0m\u001b[0mastype\u001b[0m\u001b[1;33m(\u001b[0m\u001b[0mdtype\u001b[0m\u001b[1;33m,\u001b[0m \u001b[0mcopy\u001b[0m\u001b[1;33m=\u001b[0m\u001b[1;32mTrue\u001b[0m\u001b[1;33m)\u001b[0m\u001b[1;33m\u001b[0m\u001b[1;33m\u001b[0m\u001b[0m\n\u001b[0m\u001b[0;32m   1098\u001b[0m \u001b[1;33m\u001b[0m\u001b[0m\n\u001b[0;32m   1099\u001b[0m     \u001b[1;32mreturn\u001b[0m \u001b[0marr\u001b[0m\u001b[1;33m.\u001b[0m\u001b[0mview\u001b[0m\u001b[1;33m(\u001b[0m\u001b[0mdtype\u001b[0m\u001b[1;33m)\u001b[0m\u001b[1;33m\u001b[0m\u001b[1;33m\u001b[0m\u001b[0m\n",
      "\u001b[1;31mValueError\u001b[0m: could not convert string to float: 'VIII'"
     ]
    }
   ],
   "source": [
    "df['DOCNO'] = df['DOCNO'].astype('float')"
   ]
  },
  {
   "cell_type": "markdown",
   "id": "39070ffc-6860-44a3-80bc-a48353e619f0",
   "metadata": {},
   "source": [
    "One of the things about hindsight in data analysis and software engineering is that when you can modularize and abstract your ideas, they appear both timeless and obvious. In reality, I manually changed a lot of values because I wasn't sure what the data looked like. Then I wrote a few prototype methods to automate the manual corrections. Now, I have a much more elegant solution that doesn't require nearly so much manual work or so much code. That being said, it should be noted that several hours of work, and several methods under development, have been essentially erased from this notebook. Which is cool, I suppose.\n",
    "\n",
    "I went to a lot of work to get DOCNO cleaned. Being a lazy person, I decided to write a method that would attempt to do this for me and handle a few of the more common exceptions. Whether I wasted my time reinventing the wheel is undecided."
   ]
  },
  {
   "cell_type": "code",
   "execution_count": 83,
   "id": "5c6cc886-361d-4259-b2d2-733ec8eec579",
   "metadata": {},
   "outputs": [],
   "source": [
    "def replace_and_cast(type_data, col):\n",
    "    '''\n",
    "    Takes a type and attempts to cast a column as that type. If this errors, it \n",
    "    attempts to replace the offending data as a sequence of decreasing negative\n",
    "    numbers.\n",
    "    '''\n",
    "    print(col)\n",
    "    try:\n",
    "        if type_data == 'float':\n",
    "            df[col] = df[col].astype('float')\n",
    "        elif type_data == 'int':\n",
    "            df[col] = df[col].astype('int')\n",
    "        elif type_data == 'string':\n",
    "            df[col] = df[col].astype('string')\n",
    "        elif type_data == 'date':\n",
    "            df[col] = pd.to_datetime(df[col])\n",
    "        else:\n",
    "            df[col] = df[col].astype('string')\n",
    "        return True\n",
    "    except Exception as e:\n",
    "        message = str(e)\n",
    "        if 'p.' in message:\n",
    "            print(\"It seems like there are page numbers in a column you want to cast as a float or int.\")\n",
    "            new_col = input(\"What column should page numbers be transferred to?\")\n",
    "            new_reference = input(\"What should be the new value in your current column?\")\n",
    "            transfer_and_replace(new_col, col, new_reference, [index for index, value in search_for_string_in_column_entry('.','DOCNO')])\n",
    "        return message"
   ]
  },
  {
   "cell_type": "markdown",
   "id": "b376bc1c-96a3-4a51-a7a4-babad519e298",
   "metadata": {},
   "source": [
    "The above method will probably be most useful for further development of the project with new datasets. Nonetheless, I am going to continue on with the current dataset. As a reminder, we still have a few columns that should NOT be strings."
   ]
  },
  {
   "cell_type": "code",
   "execution_count": 84,
   "id": "67534def-c634-477d-9fbd-0435b2d8a95e",
   "metadata": {},
   "outputs": [
    {
     "data": {
      "text/plain": [
       "['DOCNO',\n",
       " 'ARRIVEDATE',\n",
       " 'AGE',\n",
       " 'DATESALE',\n",
       " 'DATEINV',\n",
       " 'CODER',\n",
       " 'DEPOT',\n",
       " 'LOCATION',\n",
       " 'DOCTYPE',\n",
       " 'MAROON',\n",
       " 'REVOLTS',\n",
       " 'LANGUAGE',\n",
       " 'AFLANG',\n",
       " 'LINGUISTIC',\n",
       " 'FREE',\n",
       " 'ESTFREE',\n",
       " 'ESTATEPOP',\n",
       " 'WENT',\n",
       " 'NAMETYPE',\n",
       " 'SEX',\n",
       " 'RACE',\n",
       " 'AGE',\n",
       " 'AGECATN',\n",
       " 'SKILLCAT',\n",
       " 'EXPERT',\n",
       " 'APPRENTICE',\n",
       " 'ALITTLE',\n",
       " 'SKILL2',\n",
       " 'SKILL3',\n",
       " 'SKILL4',\n",
       " 'SKILL5',\n",
       " 'CHARCAT',\n",
       " 'CHARCAT2',\n",
       " 'CHARCAT3',\n",
       " 'SICKCAT',\n",
       " 'SICK2',\n",
       " 'SICK3',\n",
       " 'SICK4',\n",
       " 'BIRTHPL',\n",
       " 'BRUT',\n",
       " 'GROUP',\n",
       " 'INVVALUE',\n",
       " 'INVVALP',\n",
       " 'SALEVALUE',\n",
       " 'SALEVALP',\n",
       " 'FAMILY_Y_N',\n",
       " 'CHILDREN',\n",
       " 'MALE',\n",
       " 'FEMALE',\n",
       " 'UNDER5',\n",
       " 'PREGNANT',\n",
       " 'MOTHER',\n",
       " 'AGEMOM',\n",
       " 'RACEMOM',\n",
       " 'INVWMOM',\n",
       " 'SOLDWMOM',\n",
       " 'ORMOM',\n",
       " 'MATE',\n",
       " 'AGEMATE',\n",
       " 'AGECATMATE',\n",
       " 'RACEMATE',\n",
       " 'ORIGINMATE',\n",
       " 'FATHER',\n",
       " 'AGEDAD',\n",
       " 'RACEDAD',\n",
       " 'ORDAD',\n",
       " 'GRANDCHILD',\n",
       " 'GRANDSONS',\n",
       " 'GDAUGHTERS',\n",
       " 'GRANDMA',\n",
       " 'AGEGRANDMA',\n",
       " 'ORGRANDMA',\n",
       " 'GRANPA',\n",
       " 'AGEGRANDPA',\n",
       " 'ORGRANDPA',\n",
       " 'EMANCIP',\n",
       " 'DEAD',\n",
       " 'RUNAWAY',\n",
       " 'ENTERPRISE',\n",
       " 'STPORT',\n",
       " 'VIA']"
      ]
     },
     "execution_count": 84,
     "metadata": {},
     "output_type": "execute_result"
    }
   ],
   "source": [
    "not_strings"
   ]
  },
  {
   "cell_type": "markdown",
   "id": "315e3a0f-58bf-421c-8cd7-ab0d622c3982",
   "metadata": {},
   "source": [
    "Now, however, all of the manual cleaning can be accomplished by the replace_and_cast method. One of the things I ended up doing as a stopgap during the import process has come back to haunt me, however. Observe the following:"
   ]
  },
  {
   "cell_type": "code",
   "execution_count": 85,
   "id": "9e758e17-9f12-4657-b8cc-638adc1aec61",
   "metadata": {},
   "outputs": [
    {
     "name": "stdout",
     "output_type": "stream",
     "text": [
      "ARRIVEDATE\n",
      "True\n"
     ]
    }
   ],
   "source": [
    "print(replace_and_cast('date','ARRIVEDATE'))"
   ]
  },
  {
   "cell_type": "code",
   "execution_count": 86,
   "id": "e53ee4c7-1e55-4695-93ea-75556e9d69ab",
   "metadata": {},
   "outputs": [
    {
     "name": "stdout",
     "output_type": "stream",
     "text": [
      "The minimum year for this historical period is:  1719\n",
      "The maximum year for this historical period is:  1820\n"
     ]
    },
    {
     "data": {
      "text/plain": [
       "'Dates converted successfully'"
      ]
     },
     "execution_count": 86,
     "metadata": {},
     "output_type": "execute_result"
    }
   ],
   "source": [
    "def find_historical_range(valid_column):\n",
    "    '''\n",
    "    Takes a column of years (as integers) and find the historical range.\n",
    "    '''\n",
    "    minimum = df[valid_column].min()\n",
    "    maximum = df[valid_column].max()\n",
    "    \n",
    "    return [minimum, maximum]\n",
    "\n",
    "def find_out_of_range_dates(valid_column, questionable_column):\n",
    "    '''\n",
    "    Discovers the maximum and minimum range of the historical period from a passed valid\n",
    "    column, and then returns true if the quenstionable column contains years outside that range.\n",
    "    \n",
    "    Requires the valid column to have years in integers and to be valid.\n",
    "    '''\n",
    "    \n",
    "    # Identify our historical range from the valid column\n",
    "    minimum = find_historical_range(valid_column)[0]\n",
    "    print(\"The minimum year for this historical period is: \",minimum)\n",
    "    maximum = find_historical_range(valid_column)[1]\n",
    "    print(\"The maximum year for this historical period is: \",maximum)\n",
    "\n",
    "    # Now find any dates in the questionable column and replace with the year in the valid column\n",
    "    if df[questionable_column].dtype == 'datetime64[ns]':\n",
    "        for index, value in df[questionable_column].items():\n",
    "            if value.year < int(minimum) or value.year > int(maximum):\n",
    "                new_year = df[valid_column][index]\n",
    "                month = value.month\n",
    "                day = value.day\n",
    "                df[questionable_column].iloc[index] = datetime.date(int(new_year), int(month), int(day))\n",
    "                \n",
    "        return \"Dates converted successfully\"         \n",
    "    else:\n",
    "        try:\n",
    "            replace_and_cast('date', questionable_column)\n",
    "            dates_outside_valid_range(questionable_column, valid_column)\n",
    "        except:\n",
    "            return \"Please convert questionable column to datetime objects\"\n",
    "    \n",
    "find_out_of_range_dates('YEAR', 'ARRIVEDATE')  \n"
   ]
  },
  {
   "cell_type": "code",
   "execution_count": 87,
   "id": "798c4cfc-d32f-4cfd-b485-c72d75bccde8",
   "metadata": {},
   "outputs": [
    {
     "name": "stdout",
     "output_type": "stream",
     "text": [
      "ARRIVEDATE\n",
      "Please convert questionable column to datetime objects\n"
     ]
    }
   ],
   "source": [
    "def dates_outside_valid_range(questionable_column, valid_column):\n",
    "    '''\n",
    "    Tests whether a given column has invalid dates\n",
    "    '''\n",
    "    not_great_dates = []\n",
    "    \n",
    "    historical_range = find_historical_range(valid_column)\n",
    "    minimum = int(historical_range[0])\n",
    "    maximum = int(historical_range[1])\n",
    "    if df[questionable_column].dtype == 'datetime64[ns]':\n",
    "        for index, dates in df[questionable_column].items():\n",
    "            if dates.year < minimum or dates.year > maximum:\n",
    "                return True\n",
    "        return \"All dates in range\"\n",
    "    else:\n",
    "        try:\n",
    "            replace_and_cast('date', questionable_column)\n",
    "            dates_outside_valid_range(df[questionable_column], valid_column)\n",
    "        except:\n",
    "            return \"Please convert questionable column to datetime objects\"\n",
    "        \n",
    "print(dates_outside_valid_range('ARRIVEDATE','YEAR'))\n"
   ]
  },
  {
   "cell_type": "code",
   "execution_count": 88,
   "id": "d85cd3ce-94f0-4f73-b91d-7edfd02ceb6f",
   "metadata": {},
   "outputs": [
    {
     "data": {
      "text/plain": [
       "['DOCDATE', 'ARRIVEDATE', 'DATESALE', 'DATEINV']"
      ]
     },
     "execution_count": 88,
     "metadata": {},
     "output_type": "execute_result"
    }
   ],
   "source": [
    "dates"
   ]
  },
  {
   "cell_type": "code",
   "execution_count": 109,
   "id": "e4d411a6-f878-4ee9-8ae6-09606007b30c",
   "metadata": {},
   "outputs": [
    {
     "name": "stdout",
     "output_type": "stream",
     "text": [
      "DOCDATE\n",
      "True\n",
      "Is this column valid? DOCDATE All dates in range\n",
      "ARRIVEDATE\n",
      "True\n",
      "Is this column valid? ARRIVEDATE All dates in range\n",
      "DATESALE\n",
      "True\n",
      "Is this column valid? DATESALE True\n",
      "DATEINV\n",
      "True\n",
      "Is this column valid? DATEINV All dates in range\n"
     ]
    }
   ],
   "source": [
    "invalid_dates = []\n",
    "invalid_entries = []\n",
    "\n",
    "for date in dates:\n",
    "\n",
    "    print(replace_and_cast('date',date))\n",
    "    print(\"Is this column valid?\",date,dates_outside_valid_range(date,'YEAR'))\n"
   ]
  },
  {
   "cell_type": "code",
   "execution_count": 107,
   "id": "0d373856-71d5-4c3c-9b46-79362302967b",
   "metadata": {},
   "outputs": [
    {
     "name": "stdout",
     "output_type": "stream",
     "text": [
      "object\n",
      "datetime64[ns]\n",
      "['DATESALE']\n"
     ]
    }
   ],
   "source": [
    "def boost_datetime(datetime_col, valid_col):\n",
    "    '''\n",
    "    Takes the datetime_col, and replaces it with the valid_col values.\n",
    "    '''\n",
    "    df[datetime_col] = df[datetime_col].fillna(df[valid_col])\n",
    "    for index, value in df[datetime_col].items():\n",
    "        if type(value) != datetime.date:\n",
    "            df[datetime_col].iloc[index] = df[valid_col].iloc[index]\n",
    "        new_value = df[datetime_col].iloc[index].year\n",
    "        difference = 1700-new_value\n",
    "        try:\n",
    "            if df[datetime_col].iloc[index].year < 1700:\n",
    "                df[datetime_col].iloc[index] = df[datetime_col].iloc[index].DateOffset(days=(365*difference))\n",
    "        except ValueError:\n",
    "            print(\"year:\",type(df[datetime_col].iloc[index]))\n",
    "\n",
    "\n",
    "\n",
    "\n",
    "boost_datetime('DATEINV','DOCDATE')\n",
    "boost_datetime('DATESALE','DOCDATE')\n",
    "print(df['DATESALE'].dtype)\n",
    "print(df['DATEINV'].dtype)\n",
    "object_col = [col for col in df.columns if df[col].dtype == 'object']\n",
    "print(object_col)"
   ]
  },
  {
   "cell_type": "code",
   "execution_count": 112,
   "id": "66eec720-acd9-4f7d-acfa-2c51f64a0c47",
   "metadata": {},
   "outputs": [],
   "source": [
    "compression_opts = dict(method='zip',\n",
    "archive_name='cleanedslaveexperience.csv')\n",
    "df.to_csv('cleanedslaveexperience.csv', index=False,\n",
    "compression=compression_opts)"
   ]
  },
  {
   "cell_type": "code",
   "execution_count": 103,
   "id": "7422f777-202f-4650-b150-866bc33e9ad2",
   "metadata": {},
   "outputs": [],
   "source": [
    "boost_datetime('DATESALE','DOCDATE')"
   ]
  },
  {
   "cell_type": "code",
   "execution_count": 104,
   "id": "0399f6ba-cae4-4e35-82a5-0fd1b9c2cbf2",
   "metadata": {},
   "outputs": [
    {
     "data": {
      "text/plain": [
       "dtype('O')"
      ]
     },
     "execution_count": 104,
     "metadata": {},
     "output_type": "execute_result"
    }
   ],
   "source": [
    "df['DATESALE'].dtype\n",
    "df['DATEINV'].dtype"
   ]
  },
  {
   "cell_type": "code",
   "execution_count": 110,
   "id": "a2d71c44-63d6-44db-8104-7dade3f7a138",
   "metadata": {},
   "outputs": [],
   "source": [
    "object_col = [col for col in df.columns if df[col].dtype == 'object']"
   ]
  },
  {
   "cell_type": "code",
   "execution_count": 111,
   "id": "b14757bd-b299-4179-8bbe-87eb8644bd05",
   "metadata": {},
   "outputs": [
    {
     "data": {
      "text/plain": [
       "[]"
      ]
     },
     "execution_count": 111,
     "metadata": {},
     "output_type": "execute_result"
    }
   ],
   "source": [
    "object_col"
   ]
  },
  {
   "cell_type": "code",
   "execution_count": 94,
   "id": "5cfcd6c6-a519-418f-b7fd-fdd7c79a725c",
   "metadata": {},
   "outputs": [],
   "source": [
    "def exchange_datetime_for_timestamp(col):\n",
    "    '''\n",
    "    Searches a column for datetime.date objects and converts them to pandas'\n",
    "    Timestamp object.\n",
    "    '''\n",
    "    for index, value in df[col].items():\n",
    "        if type(value) != pd.Timestamp:\n",
    "            df[col].iloc[index] = pd.to_datetime(value)\n",
    "\n",
    "\n"
   ]
  },
  {
   "cell_type": "code",
   "execution_count": 95,
   "id": "67885304-e9d4-4717-ac42-251cdd7a62ee",
   "metadata": {},
   "outputs": [
    {
     "name": "stdout",
     "output_type": "stream",
     "text": [
      "[<class 'NoneType'>, <class 'datetime.date'>]\n"
     ]
    }
   ],
   "source": [
    "types = []\n",
    "for index, value in df['DATESALE'].items():\n",
    "    if type(value) != pd.Timestamp:\n",
    "        if type(value) not in types:\n",
    "            types.append(type(value))\n",
    "    if type(value) == pd.DatetimeIndex:\n",
    "        df['DATESALE'].iloc[index] = pd.to_datetime(value)\n",
    "print(types)"
   ]
  },
  {
   "cell_type": "code",
   "execution_count": 96,
   "id": "62db9762-cc9a-4fa6-a69c-daf8af1be54a",
   "metadata": {},
   "outputs": [
    {
     "ename": "KeyboardInterrupt",
     "evalue": "",
     "output_type": "error",
     "traceback": [
      "\u001b[1;31m---------------------------------------------------------------------------\u001b[0m",
      "\u001b[1;31mKeyboardInterrupt\u001b[0m                         Traceback (most recent call last)",
      "\u001b[1;32m~\\AppData\\Local\\Temp/ipykernel_4636/1276919546.py\u001b[0m in \u001b[0;36m<module>\u001b[1;34m\u001b[0m\n\u001b[1;32m----> 1\u001b[1;33m \u001b[0mexchange_datetime_for_timestamp\u001b[0m\u001b[1;33m(\u001b[0m\u001b[1;34m'DATEINV'\u001b[0m\u001b[1;33m)\u001b[0m\u001b[1;33m\u001b[0m\u001b[1;33m\u001b[0m\u001b[0m\n\u001b[0m\u001b[0;32m      2\u001b[0m \u001b[0mdf\u001b[0m\u001b[1;33m[\u001b[0m\u001b[1;34m'DATEINV'\u001b[0m\u001b[1;33m]\u001b[0m\u001b[1;33m.\u001b[0m\u001b[0mdtype\u001b[0m\u001b[1;33m\u001b[0m\u001b[1;33m\u001b[0m\u001b[0m\n",
      "\u001b[1;32m~\\AppData\\Local\\Temp/ipykernel_4636/1732868065.py\u001b[0m in \u001b[0;36mexchange_datetime_for_timestamp\u001b[1;34m(col)\u001b[0m\n\u001b[0;32m      6\u001b[0m     \u001b[1;32mfor\u001b[0m \u001b[0mindex\u001b[0m\u001b[1;33m,\u001b[0m \u001b[0mvalue\u001b[0m \u001b[1;32min\u001b[0m \u001b[0mdf\u001b[0m\u001b[1;33m[\u001b[0m\u001b[0mcol\u001b[0m\u001b[1;33m]\u001b[0m\u001b[1;33m.\u001b[0m\u001b[0mitems\u001b[0m\u001b[1;33m(\u001b[0m\u001b[1;33m)\u001b[0m\u001b[1;33m:\u001b[0m\u001b[1;33m\u001b[0m\u001b[1;33m\u001b[0m\u001b[0m\n\u001b[0;32m      7\u001b[0m         \u001b[1;32mif\u001b[0m \u001b[0mtype\u001b[0m\u001b[1;33m(\u001b[0m\u001b[0mvalue\u001b[0m\u001b[1;33m)\u001b[0m \u001b[1;33m!=\u001b[0m \u001b[0mpd\u001b[0m\u001b[1;33m.\u001b[0m\u001b[0mTimestamp\u001b[0m\u001b[1;33m:\u001b[0m\u001b[1;33m\u001b[0m\u001b[1;33m\u001b[0m\u001b[0m\n\u001b[1;32m----> 8\u001b[1;33m             \u001b[0mdf\u001b[0m\u001b[1;33m[\u001b[0m\u001b[0mcol\u001b[0m\u001b[1;33m]\u001b[0m\u001b[1;33m.\u001b[0m\u001b[0miloc\u001b[0m\u001b[1;33m[\u001b[0m\u001b[0mindex\u001b[0m\u001b[1;33m]\u001b[0m \u001b[1;33m=\u001b[0m \u001b[0mpd\u001b[0m\u001b[1;33m.\u001b[0m\u001b[0mto_datetime\u001b[0m\u001b[1;33m(\u001b[0m\u001b[0mvalue\u001b[0m\u001b[1;33m)\u001b[0m\u001b[1;33m\u001b[0m\u001b[1;33m\u001b[0m\u001b[0m\n\u001b[0m\u001b[0;32m      9\u001b[0m \u001b[1;33m\u001b[0m\u001b[0m\n\u001b[0;32m     10\u001b[0m \u001b[1;33m\u001b[0m\u001b[0m\n",
      "\u001b[1;32mc:\\users\\casti\\appdata\\local\\programs\\python\\python38\\lib\\site-packages\\pandas\\core\\tools\\datetimes.py\u001b[0m in \u001b[0;36mto_datetime\u001b[1;34m(arg, errors, dayfirst, yearfirst, utc, format, exact, unit, infer_datetime_format, origin, cache)\u001b[0m\n\u001b[0;32m    830\u001b[0m             \u001b[0mresult\u001b[0m \u001b[1;33m=\u001b[0m \u001b[0mconvert_listlike\u001b[0m\u001b[1;33m(\u001b[0m\u001b[0marg\u001b[0m\u001b[1;33m,\u001b[0m \u001b[0mformat\u001b[0m\u001b[1;33m)\u001b[0m\u001b[1;33m\u001b[0m\u001b[1;33m\u001b[0m\u001b[0m\n\u001b[0;32m    831\u001b[0m     \u001b[1;32melse\u001b[0m\u001b[1;33m:\u001b[0m\u001b[1;33m\u001b[0m\u001b[1;33m\u001b[0m\u001b[0m\n\u001b[1;32m--> 832\u001b[1;33m         \u001b[0mresult\u001b[0m \u001b[1;33m=\u001b[0m \u001b[0mconvert_listlike\u001b[0m\u001b[1;33m(\u001b[0m\u001b[0mnp\u001b[0m\u001b[1;33m.\u001b[0m\u001b[0marray\u001b[0m\u001b[1;33m(\u001b[0m\u001b[1;33m[\u001b[0m\u001b[0marg\u001b[0m\u001b[1;33m]\u001b[0m\u001b[1;33m)\u001b[0m\u001b[1;33m,\u001b[0m \u001b[0mformat\u001b[0m\u001b[1;33m)\u001b[0m\u001b[1;33m[\u001b[0m\u001b[1;36m0\u001b[0m\u001b[1;33m]\u001b[0m\u001b[1;33m\u001b[0m\u001b[1;33m\u001b[0m\u001b[0m\n\u001b[0m\u001b[0;32m    833\u001b[0m \u001b[1;33m\u001b[0m\u001b[0m\n\u001b[0;32m    834\u001b[0m     \u001b[1;32mreturn\u001b[0m \u001b[0mresult\u001b[0m\u001b[1;33m\u001b[0m\u001b[1;33m\u001b[0m\u001b[0m\n",
      "\u001b[1;32mc:\\users\\casti\\appdata\\local\\programs\\python\\python38\\lib\\site-packages\\pandas\\core\\tools\\datetimes.py\u001b[0m in \u001b[0;36m_convert_listlike_datetimes\u001b[1;34m(arg, format, name, tz, unit, errors, infer_datetime_format, dayfirst, yearfirst, exact)\u001b[0m\n\u001b[0;32m    480\u001b[0m \u001b[1;33m\u001b[0m\u001b[0m\n\u001b[0;32m    481\u001b[0m     \u001b[0mutc\u001b[0m \u001b[1;33m=\u001b[0m \u001b[0mtz\u001b[0m \u001b[1;33m==\u001b[0m \u001b[1;34m\"utc\"\u001b[0m\u001b[1;33m\u001b[0m\u001b[1;33m\u001b[0m\u001b[0m\n\u001b[1;32m--> 482\u001b[1;33m     \u001b[1;32mreturn\u001b[0m \u001b[0m_box_as_indexlike\u001b[0m\u001b[1;33m(\u001b[0m\u001b[0mresult\u001b[0m\u001b[1;33m,\u001b[0m \u001b[0mutc\u001b[0m\u001b[1;33m=\u001b[0m\u001b[0mutc\u001b[0m\u001b[1;33m,\u001b[0m \u001b[0mname\u001b[0m\u001b[1;33m=\u001b[0m\u001b[0mname\u001b[0m\u001b[1;33m)\u001b[0m\u001b[1;33m\u001b[0m\u001b[1;33m\u001b[0m\u001b[0m\n\u001b[0m\u001b[0;32m    483\u001b[0m \u001b[1;33m\u001b[0m\u001b[0m\n\u001b[0;32m    484\u001b[0m \u001b[1;33m\u001b[0m\u001b[0m\n",
      "\u001b[1;32mc:\\users\\casti\\appdata\\local\\programs\\python\\python38\\lib\\site-packages\\pandas\\core\\tools\\datetimes.py\u001b[0m in \u001b[0;36m_box_as_indexlike\u001b[1;34m(dt_array, utc, name)\u001b[0m\n\u001b[0;32m    206\u001b[0m     \u001b[1;32mif\u001b[0m \u001b[0mis_datetime64_dtype\u001b[0m\u001b[1;33m(\u001b[0m\u001b[0mdt_array\u001b[0m\u001b[1;33m)\u001b[0m\u001b[1;33m:\u001b[0m\u001b[1;33m\u001b[0m\u001b[1;33m\u001b[0m\u001b[0m\n\u001b[0;32m    207\u001b[0m         \u001b[0mtz\u001b[0m \u001b[1;33m=\u001b[0m \u001b[1;34m\"utc\"\u001b[0m \u001b[1;32mif\u001b[0m \u001b[0mutc\u001b[0m \u001b[1;32melse\u001b[0m \u001b[1;32mNone\u001b[0m\u001b[1;33m\u001b[0m\u001b[1;33m\u001b[0m\u001b[0m\n\u001b[1;32m--> 208\u001b[1;33m         \u001b[1;32mreturn\u001b[0m \u001b[0mDatetimeIndex\u001b[0m\u001b[1;33m(\u001b[0m\u001b[0mdt_array\u001b[0m\u001b[1;33m,\u001b[0m \u001b[0mtz\u001b[0m\u001b[1;33m=\u001b[0m\u001b[0mtz\u001b[0m\u001b[1;33m,\u001b[0m \u001b[0mname\u001b[0m\u001b[1;33m=\u001b[0m\u001b[0mname\u001b[0m\u001b[1;33m)\u001b[0m\u001b[1;33m\u001b[0m\u001b[1;33m\u001b[0m\u001b[0m\n\u001b[0m\u001b[0;32m    209\u001b[0m     \u001b[1;32mreturn\u001b[0m \u001b[0mIndex\u001b[0m\u001b[1;33m(\u001b[0m\u001b[0mdt_array\u001b[0m\u001b[1;33m,\u001b[0m \u001b[0mname\u001b[0m\u001b[1;33m=\u001b[0m\u001b[0mname\u001b[0m\u001b[1;33m)\u001b[0m\u001b[1;33m\u001b[0m\u001b[1;33m\u001b[0m\u001b[0m\n\u001b[0;32m    210\u001b[0m \u001b[1;33m\u001b[0m\u001b[0m\n",
      "\u001b[1;32mc:\\users\\casti\\appdata\\local\\programs\\python\\python38\\lib\\site-packages\\pandas\\core\\indexes\\datetimes.py\u001b[0m in \u001b[0;36m__new__\u001b[1;34m(cls, data, freq, tz, normalize, closed, ambiguous, dayfirst, yearfirst, dtype, copy, name)\u001b[0m\n\u001b[0;32m    303\u001b[0m         \u001b[1;31m# - Cases checked above all return/raise before reaching here - #\u001b[0m\u001b[1;33m\u001b[0m\u001b[1;33m\u001b[0m\u001b[1;33m\u001b[0m\u001b[0m\n\u001b[0;32m    304\u001b[0m \u001b[1;33m\u001b[0m\u001b[0m\n\u001b[1;32m--> 305\u001b[1;33m         \u001b[0mname\u001b[0m \u001b[1;33m=\u001b[0m \u001b[0mmaybe_extract_name\u001b[0m\u001b[1;33m(\u001b[0m\u001b[0mname\u001b[0m\u001b[1;33m,\u001b[0m \u001b[0mdata\u001b[0m\u001b[1;33m,\u001b[0m \u001b[0mcls\u001b[0m\u001b[1;33m)\u001b[0m\u001b[1;33m\u001b[0m\u001b[1;33m\u001b[0m\u001b[0m\n\u001b[0m\u001b[0;32m    306\u001b[0m \u001b[1;33m\u001b[0m\u001b[0m\n\u001b[0;32m    307\u001b[0m         dtarr = DatetimeArray._from_sequence_not_strict(\n",
      "\u001b[1;32mc:\\users\\casti\\appdata\\local\\programs\\python\\python38\\lib\\site-packages\\pandas\\core\\indexes\\base.py\u001b[0m in \u001b[0;36mmaybe_extract_name\u001b[1;34m(name, obj, cls)\u001b[0m\n\u001b[0;32m   5955\u001b[0m     \u001b[0mIf\u001b[0m \u001b[0mno\u001b[0m \u001b[0mname\u001b[0m \u001b[1;32mis\u001b[0m \u001b[0mpassed\u001b[0m\u001b[1;33m,\u001b[0m \u001b[0mthen\u001b[0m \u001b[0mextract\u001b[0m \u001b[0mit\u001b[0m \u001b[1;32mfrom\u001b[0m \u001b[0mdata\u001b[0m\u001b[1;33m,\u001b[0m \u001b[0mvalidating\u001b[0m \u001b[0mhashability\u001b[0m\u001b[1;33m.\u001b[0m\u001b[1;33m\u001b[0m\u001b[1;33m\u001b[0m\u001b[0m\n\u001b[0;32m   5956\u001b[0m     \"\"\"\n\u001b[1;32m-> 5957\u001b[1;33m     \u001b[1;32mif\u001b[0m \u001b[0mname\u001b[0m \u001b[1;32mis\u001b[0m \u001b[1;32mNone\u001b[0m \u001b[1;32mand\u001b[0m \u001b[0misinstance\u001b[0m\u001b[1;33m(\u001b[0m\u001b[0mobj\u001b[0m\u001b[1;33m,\u001b[0m \u001b[1;33m(\u001b[0m\u001b[0mIndex\u001b[0m\u001b[1;33m,\u001b[0m \u001b[0mABCSeries\u001b[0m\u001b[1;33m)\u001b[0m\u001b[1;33m)\u001b[0m\u001b[1;33m:\u001b[0m\u001b[1;33m\u001b[0m\u001b[1;33m\u001b[0m\u001b[0m\n\u001b[0m\u001b[0;32m   5958\u001b[0m         \u001b[1;31m# Note we don't just check for \"name\" attribute since that would\u001b[0m\u001b[1;33m\u001b[0m\u001b[1;33m\u001b[0m\u001b[1;33m\u001b[0m\u001b[0m\n\u001b[0;32m   5959\u001b[0m         \u001b[1;31m#  pick up e.g. dtype.name\u001b[0m\u001b[1;33m\u001b[0m\u001b[1;33m\u001b[0m\u001b[1;33m\u001b[0m\u001b[0m\n",
      "\u001b[1;31mKeyboardInterrupt\u001b[0m: "
     ]
    }
   ],
   "source": [
    "exchange_datetime_for_timestamp('DATEINV')\n",
    "df['DATEINV'].dtype"
   ]
  },
  {
   "cell_type": "code",
   "execution_count": null,
   "id": "01f046f9-f03e-4ef0-9d83-6f0446ea1d02",
   "metadata": {},
   "outputs": [],
   "source": [
    "def transfer_col(new_col, old_col, indices):\n",
    "    '''\n",
    "    Transfers the values in old_col into new_col, replacing old_col with the new_value.\n",
    "    '''\n",
    "    for index in range(0,indices):\n",
    "        if df[new_col].iloc[index] != df[old_col].iloc[index]:\n",
    "            df[new_col].iloc[index] = df[old_col].iloc[index]\n",
    "        \n",
    "\n",
    "transfer_col('ARRIVEDATE', 'YEAR', len(df['ARRIVEDATE']))"
   ]
  },
  {
   "cell_type": "code",
   "execution_count": null,
   "id": "318e9ae3-9def-41a3-ace5-aa6bdcf41bc8",
   "metadata": {},
   "outputs": [],
   "source": []
  },
  {
   "cell_type": "code",
   "execution_count": null,
   "id": "f18e8b19-c3b9-413e-ba6b-1f4a59b1f0ab",
   "metadata": {},
   "outputs": [],
   "source": [
    "print(replace_and_cast('date','ARRIVEDATE'))"
   ]
  },
  {
   "cell_type": "code",
   "execution_count": null,
   "id": "d13840b2-e06c-4853-9528-52894a0fd44b",
   "metadata": {},
   "outputs": [],
   "source": [
    "df['ARRIVEDATE'].dtype"
   ]
  },
  {
   "cell_type": "markdown",
   "id": "7c1c7701-02c4-4d29-8efb-a26d98634068",
   "metadata": {},
   "source": [
    "Things got a bit trickier with the AGE column."
   ]
  },
  {
   "cell_type": "code",
   "execution_count": null,
   "id": "70822345-5480-4565-871c-f09e90af6fbc",
   "metadata": {},
   "outputs": [],
   "source": [
    "print(replace_and_cast('int','AGE'))"
   ]
  },
  {
   "cell_type": "markdown",
   "id": "d7d8652a-8629-47d2-90d7-f15f6221ff96",
   "metadata": {},
   "source": [
    "However, the solution here is to remember that the NaN character is a float."
   ]
  },
  {
   "cell_type": "code",
   "execution_count": null,
   "id": "bd7f2c88-22bb-4daa-8ee0-ea49f771d5ef",
   "metadata": {},
   "outputs": [],
   "source": [
    "df['AGE'] = df['AGE'].fillna(\"NaN\")"
   ]
  },
  {
   "cell_type": "code",
   "execution_count": null,
   "id": "85f05089-e78e-4537-9fa7-f3b94fa6173d",
   "metadata": {},
   "outputs": [],
   "source": [
    "df['AGE'] = df['AGE'].astype('float')"
   ]
  },
  {
   "cell_type": "code",
   "execution_count": null,
   "id": "4c1cd0ae-4ba6-4ceb-bc15-43fce36311d9",
   "metadata": {},
   "outputs": [],
   "source": [
    "df['AGE'].dtype"
   ]
  },
  {
   "cell_type": "markdown",
   "id": "e64a2a8d-8d8c-4616-bd73-3be1a2096db8",
   "metadata": {},
   "source": [
    "There was one final issue with the DATEINV and DATESALE columns. This was one of those fascinating errors that honestly tells me a lot about the prejudices (probably unintentional) of the developers of Pandas. See, as I've said before, the library was developed for scientific and mathematical computation. Data scientists use it for non-numeric data, but generally for contemporary data for tech companies selling ad revenue to oligarchies. It probably never occurred to the developers that Pandas could be used to study, say, the 14th century.\n",
    "\n",
    "Time is currently recorded in Pandas as a record of nanoseconds preceding from a specific point. I believe this is the same as the generic system time used in Unix computers, which point to 1 January, 1970 as \"Day 0\". Once you begin counting forwards form 1970, Pandas keeps track of where you are, and converts between different dates, based on the number of nanoseconds since 1 January, 1970. The same is true but in reverse when going backwards.\n",
    "\n",
    "The developers of Pandas generously gave the nanosecond parameter a 64 bit integer length. This means that there are 9,223,372,036,854,775,808 possible nanoseconds that you can proceed into the past. That's actually one more nanosecond that you can proceed into the future, because 0 is considered a future nanosecond. This is a total of 292 years of backwards compatibility. Due to some clever maths, you can extend this to 584 years. And then the computer remembers that 584 years is a really, really big number when counted in nanoseconds, and runs out of memory.\n",
    "\n",
    "For those who remember the fears about Y2K, it's like that. But, this time, it doesn't really matter so long as we tell the computer it is ok to count the years in a different way. For this project, I'm able to assume that any date before 1719 is invalid. Slaves didn't appear in Louisiana before 1719. Even if I were to extend the project to \"Anyone of Eurasian or African descent\" I would only be getting dates in the very late 1400s. 584 years ago was before Europeans realized North America existed. So, for now, I can safely assume that any data older than 1700 is in error.\n",
    "\n",
    "In the below method, I simply add 1000 years to any date from before 1700. I'll have to change that year for states like Virginia, of course, which had the first slaves land in 1619. \n",
    "\n",
    "An example of the DATESALE error is below. DATESALE seems to have a far simpler solution than DATEINV. Simply put, someone keyed in a 1404 when they meant 1804."
   ]
  },
  {
   "cell_type": "code",
   "execution_count": null,
   "id": "bbcdfd07-6a00-4a82-a845-a9b540443f91",
   "metadata": {},
   "outputs": [],
   "source": [
    "df['DATESALE'] = pd.to_datetime(df['DATESALE'])"
   ]
  },
  {
   "cell_type": "markdown",
   "id": "dbf477a1-f9c0-46b4-9354-5bf72e976c4f",
   "metadata": {},
   "source": [
    "The DATESALE table can be seen below. I've selected only the columns with dates older than 1700. Notice that althouth the DATESALE date is 1404, the DOCDATE is 1804. This looks like input error."
   ]
  },
  {
   "cell_type": "code",
   "execution_count": null,
   "id": "c5e54aab-174c-48d2-ad77-6fac86ba636f",
   "metadata": {},
   "outputs": [],
   "source": [
    "datesale_problems = [index for index, value in df['DATESALE'].items() if value is not None and value < pd.to_datetime('1701-01-01')]\n"
   ]
  },
  {
   "cell_type": "code",
   "execution_count": null,
   "id": "77e9afe6-a6a7-4570-ae8f-adea20f5215c",
   "metadata": {},
   "outputs": [],
   "source": [
    "df.iloc[datesale_problems]"
   ]
  },
  {
   "cell_type": "markdown",
   "id": "3c92584d-eb4a-4c17-a93f-a577b9901049",
   "metadata": {},
   "source": [
    "The simplest solution here would be to replace the dates in the DATESALE column with those in the DOCDATE column."
   ]
  },
  {
   "cell_type": "code",
   "execution_count": null,
   "id": "5488cdab-36f0-463c-9359-232573632c57",
   "metadata": {},
   "outputs": [],
   "source": [
    "def change_col_to_col_dates(from_col, to_col, limit_date):\n",
    "    '''\n",
    "    Changes the to_col values to match those of the from_col\n",
    "    \n",
    "    Only used for datetime objects\n",
    "    '''\n",
    "    for index, value in df[to_col].items():\n",
    "        if value is None or value < pd.to_datetime(limit_date):\n",
    "        \n",
    "            df[to_col].iloc[index] = df[from_col].iloc[index]"
   ]
  },
  {
   "cell_type": "code",
   "execution_count": null,
   "id": "b30c3810-0fcc-40b2-8495-2816d29d146c",
   "metadata": {},
   "outputs": [],
   "source": [
    "change_col_to_col_dates('DOCDATE', 'DATEINV', '1701-01-01')"
   ]
  },
  {
   "cell_type": "code",
   "execution_count": null,
   "id": "d77fe573-ad75-497a-b712-aaed31a7b0d8",
   "metadata": {},
   "outputs": [],
   "source": [
    "change_col_to_col_dates('DOCDATE', 'DATESALE', '1701-01-01')"
   ]
  },
  {
   "cell_type": "code",
   "execution_count": null,
   "id": "4b1b8917-9611-4dff-9f1f-d4953ac5fbe4",
   "metadata": {},
   "outputs": [],
   "source": [
    "df['DATESALE'] = df['DATESALE'].reset_index()"
   ]
  },
  {
   "cell_type": "code",
   "execution_count": null,
   "id": "573d87cd-c984-4923-8516-53d96956a7e3",
   "metadata": {},
   "outputs": [],
   "source": [
    "df['DATESALE'] = pd.to_datetime(df['DATESALE'])"
   ]
  },
  {
   "cell_type": "code",
   "execution_count": null,
   "id": "8ac32244-e78e-4c19-9002-7f6d7a32d176",
   "metadata": {},
   "outputs": [],
   "source": [
    "df['DATEINV'] = df['DATEINV'].reset_index()\n",
    "df['DATEINV'] = pd.to_datetime(df['DATEINV'])"
   ]
  },
  {
   "cell_type": "code",
   "execution_count": null,
   "id": "94b577e8-bd18-4d10-bda0-be06bfc5ede3",
   "metadata": {},
   "outputs": [],
   "source": [
    "df['DATEINV'].dtype"
   ]
  },
  {
   "cell_type": "code",
   "execution_count": null,
   "id": "6aa30515-2acf-45e8-b6db-9e4e14cbb518",
   "metadata": {},
   "outputs": [],
   "source": [
    "df['DATESALE'].dtype"
   ]
  },
  {
   "cell_type": "code",
   "execution_count": null,
   "id": "54c2cf41-a4f0-4233-86ff-0014f9d47db5",
   "metadata": {},
   "outputs": [],
   "source": [
    "df.dtypes"
   ]
  },
  {
   "cell_type": "markdown",
   "id": "6088a403-ac92-49ec-90df-1f9952cf9e9f",
   "metadata": {},
   "source": [
    "Pandas has a generic 'object' type. This is usually bad, since it can mean mixed types of data. Let's make sure there's no data with the 'object' type."
   ]
  },
  {
   "cell_type": "code",
   "execution_count": null,
   "id": "0d12039b-df7c-418c-9627-1653fd2b5516",
   "metadata": {},
   "outputs": [],
   "source": [
    "for col in df:\n",
    "    if df[col].dtype == 'object':\n",
    "        print(col)"
   ]
  },
  {
   "cell_type": "code",
   "execution_count": null,
   "id": "5434e721-89e5-45c2-9347-98c3372a97b8",
   "metadata": {},
   "outputs": [],
   "source": [
    "def print_entries():\n",
    "    '''\n",
    "    Print out the names of all columns in the dataframe\n",
    "    '''\n",
    "    return [entries for entries in df]\n",
    "\n",
    "list_of_entries = print_entries()"
   ]
  },
  {
   "cell_type": "markdown",
   "id": "6380363e-3853-4352-8b45-a585055da11c",
   "metadata": {},
   "source": [
    "Let's get a handle on each of these columns."
   ]
  },
  {
   "cell_type": "code",
   "execution_count": null,
   "id": "ed7c98e8-929d-424c-ba58-a6a9862cfaa0",
   "metadata": {},
   "outputs": [],
   "source": [
    "list_of_entries[0]"
   ]
  },
  {
   "cell_type": "markdown",
   "id": "f1d46bac-1c5c-4774-aba7-5285e75b9ea4",
   "metadata": {},
   "source": [
    "What can we learn about DOCDATE? Well, for one thing, we should probably know if there are undated documents."
   ]
  },
  {
   "cell_type": "code",
   "execution_count": 81,
   "id": "ed7982e0-d4a3-472f-851f-b644fd03fe61",
   "metadata": {},
   "outputs": [],
   "source": [
    "blank_docdates = [value for index, value in df['DOCDATE'].items() if value == \"NaN\"]"
   ]
  },
  {
   "cell_type": "code",
   "execution_count": 82,
   "id": "893fbefe-a515-4f65-a172-6b70dcf18691",
   "metadata": {},
   "outputs": [
    {
     "data": {
      "text/plain": [
       "[]"
      ]
     },
     "execution_count": 82,
     "metadata": {},
     "output_type": "execute_result"
    }
   ],
   "source": [
    "blank_docdates"
   ]
  },
  {
   "cell_type": "markdown",
   "id": "adf8cbd7-81f4-4274-8ab6-29f97d46df6b",
   "metadata": {},
   "source": [
    "Looks like we don't really have any blank dates in DOCDATE. That's a good sign. It's the column we are relying on for all of the other dates. Let's see if we can get an idea of how evenly documents are distributed over the time period. Actually, first, let's see our maximum and minimum dates so we know what time period we are dealing with."
   ]
  },
  {
   "cell_type": "code",
   "execution_count": 83,
   "id": "a4a8feec-5aff-49e3-b178-35d03b028c59",
   "metadata": {},
   "outputs": [],
   "source": [
    "docdate = df['DOCDATE']"
   ]
  },
  {
   "cell_type": "code",
   "execution_count": 84,
   "id": "c9d2d312-5823-4cf5-b9a9-69494d021eb2",
   "metadata": {},
   "outputs": [
    {
     "data": {
      "text/plain": [
       "Timestamp('1820-12-31 00:00:00')"
      ]
     },
     "execution_count": 84,
     "metadata": {},
     "output_type": "execute_result"
    }
   ],
   "source": [
    "docdate.max()"
   ]
  },
  {
   "cell_type": "markdown",
   "id": "68b723e8-ac51-4803-96c3-631490f630f8",
   "metadata": {},
   "source": [
    "So, the data ends in 1820. It ends strangely enough on the 31st of December, leading me to wonder why records stop."
   ]
  },
  {
   "cell_type": "code",
   "execution_count": 85,
   "id": "17b20d08-71b2-4097-8055-b1e6ffed1cc4",
   "metadata": {},
   "outputs": [
    {
     "data": {
      "text/plain": [
       "Timestamp('1719-06-15 00:00:00')"
      ]
     },
     "execution_count": 85,
     "metadata": {},
     "output_type": "execute_result"
    }
   ],
   "source": [
    "docdate.min()"
   ]
  },
  {
   "cell_type": "markdown",
   "id": "fe2c58fc-9975-4e28-81f9-db628b70de90",
   "metadata": {},
   "source": [
    "The beginning of the period, then, is 1719. We are exploring 101 years of slavedealing history. But as with most things in history, there's a slight problem. What happens if we take the median of DOCDATE?"
   ]
  },
  {
   "cell_type": "code",
   "execution_count": 86,
   "id": "688893a5-b70d-47be-b7d2-d5f2f5b317c8",
   "metadata": {},
   "outputs": [
    {
     "data": {
      "text/plain": [
       "Timestamp('1808-05-04 00:00:00')"
      ]
     },
     "execution_count": 86,
     "metadata": {},
     "output_type": "execute_result"
    }
   ],
   "source": [
    "docdate.median()"
   ]
  },
  {
   "cell_type": "markdown",
   "id": "192ead78-4c80-412e-965d-e6f111ccaf9d",
   "metadata": {},
   "source": [
    "The median is the point where 50% of the documents are dated before and 50% dated after the median date. What, then, is the median date? 1808. 50% of the slaveholding documents were produced in 12 years, and 50% in 89 years."
   ]
  },
  {
   "cell_type": "markdown",
   "id": "1ecdd99b-154f-4af8-ab26-9b7b77ba23df",
   "metadata": {},
   "source": [
    "This makes sense in the context of the history of slavery in the US. In 1808, importation of slaves from Africa was banned. Slaves could only be trafficked if they were born in the US. Slavers now had to prove that every slave being sold was from the US. This meant the documentation required for a slave auction skyrocketed. Although slaves were smuggled until at least 1865, most slave trading was domestic from 1808."
   ]
  },
  {
   "cell_type": "markdown",
   "id": "5b350532-a43c-4f1a-bb86-6164e1d6a62c",
   "metadata": {},
   "source": [
    "However, what is more surprising to me is what happens when I take the mode of the docdate column. The Mode shows the the most common entry, instead of an average or median."
   ]
  },
  {
   "cell_type": "code",
   "execution_count": 87,
   "id": "f4fcc3bf-790d-488e-8e74-19644204eee9",
   "metadata": {},
   "outputs": [
    {
     "data": {
      "text/plain": [
       "0   1786-12-31\n",
       "dtype: datetime64[ns]"
      ]
     },
     "execution_count": 87,
     "metadata": {},
     "output_type": "execute_result"
    }
   ],
   "source": [
    "docdate.mode()"
   ]
  },
  {
   "cell_type": "markdown",
   "id": "debe83bf-f371-4d59-8a1e-c5d7245ff73b",
   "metadata": {},
   "source": [
    "Strangely enough, the most common DOCDATE entry is 1786-12-31. How many such docdate entries exist? To figure this out, I wrote a quite method that looks for a desired value in the items in a Pandas series and returns a counter. This will count how many times anything shows up in a given column of our dataframe. In this case, I want to know how often a date occurs."
   ]
  },
  {
   "cell_type": "code",
   "execution_count": 88,
   "id": "f748f717-1f43-44c8-9ed7-64e1f4325059",
   "metadata": {},
   "outputs": [],
   "source": [
    "def search_for_value(series, desired):\n",
    "    counter = 0\n",
    "    for index, value in series.items():\n",
    "        if value == desired:\n",
    "            counter += 1\n",
    "    return counter"
   ]
  },
  {
   "cell_type": "code",
   "execution_count": 89,
   "id": "79e6c938-7b13-4813-93d2-e069532dbf06",
   "metadata": {},
   "outputs": [
    {
     "data": {
      "text/plain": [
       "957"
      ]
     },
     "execution_count": 89,
     "metadata": {},
     "output_type": "execute_result"
    }
   ],
   "source": [
    "search_for_value(docdate, pd.to_datetime('1786-12-31'))"
   ]
  },
  {
   "cell_type": "markdown",
   "id": "565894ef-5bfb-42b8-9ca4-45a18e490e2a",
   "metadata": {},
   "source": [
    "WOAH! 957 different records come from 1786, on the last day of the year. I have no clue why, at the moment. This points to some very strange issues with the data. How many records are clustered on a given day?"
   ]
  },
  {
   "cell_type": "code",
   "execution_count": 90,
   "id": "9fd67e49-09cf-4a84-97f3-68b027fbcda4",
   "metadata": {},
   "outputs": [],
   "source": [
    "docdate_occurrences = docdate.value_counts().astype('int')"
   ]
  },
  {
   "cell_type": "code",
   "execution_count": 91,
   "id": "72c2478b-e80b-4533-bb0d-f3a93297e339",
   "metadata": {},
   "outputs": [
    {
     "data": {
      "text/plain": [
       "1786-12-31    957\n",
       "1721-04-20    597\n",
       "1777-05-04    500\n",
       "1728-10-11    464\n",
       "1719-06-15    451\n",
       "             ... \n",
       "1785-08-22      1\n",
       "1799-05-04      1\n",
       "1801-08-17      1\n",
       "1820-08-16      1\n",
       "1773-12-31      1\n",
       "Name: DOCDATE, Length: 11292, dtype: int32"
      ]
     },
     "execution_count": 91,
     "metadata": {},
     "output_type": "execute_result"
    }
   ],
   "source": [
    "docdate_occurrences"
   ]
  },
  {
   "cell_type": "markdown",
   "id": "e3484c43-4951-4a8f-9d6a-e63e69136422",
   "metadata": {},
   "source": [
    "This is a lot of data still to sift through. What I can see immediately is that some records come in clusters and some have only one entry. This points to very clumpy data. I need some way to sort out the two types of slave records, the low-intensity ones and the high-intensity ones. I am guesing that the dates with hundreds of entries are major auctions or otherwise memorable days. These should be grouped together and studied again. Similarly, the ones with just a few entires probably record much smaller scale, intimate interactions. I want to explore these two categories and compare them.\n",
    "\n",
    "This leads to an absurd problem. At what point do we consider the sale of human beings \"major\" or \"minor\"? To those being trafficked, all sales are major. So, whatever value we choose is bound to be arbitrary. And, clearly, however we group these transactions, they are more than the dates the documents were written. There are human factors to consider. There is also, as it were, a sort of numerical simplicity to everything. We can use machine learning to clump transactions together and find commonalities. So with nearly barbaric simplicity, I am going to split the dataset I've collected into a numerical subset, and a non-numerical subset. The numerical subset will be easier to feed into the algorithms I have in mind for this experiment. The non-numerical subset is important to reintroduce the human element into all of this. But first, one last conclusion from the data exploration phase of this project."
   ]
  },
  {
   "cell_type": "code",
   "execution_count": 92,
   "id": "b18bd3a9-a72c-46a7-9f7f-ace93598bc04",
   "metadata": {},
   "outputs": [
    {
     "data": {
      "text/plain": [
       "4.0"
      ]
     },
     "execution_count": 92,
     "metadata": {},
     "output_type": "execute_result"
    }
   ],
   "source": [
    "docdate_occurrences.median()"
   ]
  },
  {
   "cell_type": "markdown",
   "id": "241f7e37-69b0-45bc-b987-d36b6ad33892",
   "metadata": {},
   "source": [
    "Based on the median value in the occurrences column, I can conclude that most of these documents record small transactions. This is, I suppose, not very surprising. I would suspect most slaveholding transactions were oddly personal for something so dehumanizing. Probably if you plotted the sale of dogs or cows even in the present day you'd see the same disparity between small transactions and gigantic transactions."
   ]
  },
  {
   "cell_type": "code",
   "execution_count": 265,
   "id": "3a459959-652e-438d-a21a-d510bf84bdec",
   "metadata": {},
   "outputs": [],
   "source": [
    "names = [col for col in df.columns]"
   ]
  },
  {
   "cell_type": "code",
   "execution_count": 266,
   "id": "6129f61d-2593-46d0-994f-f41858e36d78",
   "metadata": {},
   "outputs": [
    {
     "data": {
      "text/plain": [
       "['DOCDATE',\n",
       " 'YEAR',\n",
       " 'NOTARY',\n",
       " 'DATEINV',\n",
       " 'DATESALE',\n",
       " 'PARISH',\n",
       " 'LOCATION',\n",
       " 'DOCTYPE',\n",
       " 'REVOLTS',\n",
       " 'MAROON',\n",
       " 'LANGUAGE',\n",
       " 'LINGUISTIC',\n",
       " 'ESTFREE',\n",
       " 'FREE',\n",
       " 'ESTATE_OF',\n",
       " 'FIRSTNAME',\n",
       " 'ESTATE',\n",
       " 'ESTATEPOP',\n",
       " 'SELLER',\n",
       " 'FIRST1',\n",
       " 'BUYER',\n",
       " 'FIRST2',\n",
       " 'WENT',\n",
       " 'NAMEXPLAIN',\n",
       " 'NAME',\n",
       " 'NAMETYPE',\n",
       " 'ISLAMIC',\n",
       " 'SEX',\n",
       " 'RACE',\n",
       " 'AGE',\n",
       " 'AGECATN',\n",
       " 'SKILLS',\n",
       " 'SKILLCAT',\n",
       " 'EXPERT',\n",
       " 'APPRENTICE',\n",
       " 'ALITTLE',\n",
       " 'SKILL2',\n",
       " 'SKILL3',\n",
       " 'SKILL4',\n",
       " 'SKILL5',\n",
       " 'CHARACTER',\n",
       " 'CHARCAT',\n",
       " 'CHARCAT2',\n",
       " 'CHARCAT3',\n",
       " 'SICK',\n",
       " 'SICKCAT',\n",
       " 'SICK2',\n",
       " 'SICK3',\n",
       " 'SICK4',\n",
       " 'SPELL',\n",
       " 'BIRTHPL',\n",
       " 'AFLANG',\n",
       " 'BRUT',\n",
       " 'GROUP',\n",
       " 'GROUPMEMB',\n",
       " 'INVCUR',\n",
       " 'INVVALUE',\n",
       " 'INVVALP',\n",
       " 'SALECUR',\n",
       " 'SALEVALUE',\n",
       " 'SALEVALP',\n",
       " 'FAMILY_Y_N',\n",
       " 'FAMILY',\n",
       " 'CHILDREN',\n",
       " 'MALE',\n",
       " 'FEMALE',\n",
       " 'UNDER5',\n",
       " 'PREGNANT',\n",
       " 'MOTHER',\n",
       " 'AGEMOM',\n",
       " 'RACEMOM',\n",
       " 'INVWMOM',\n",
       " 'SOLDWMOM',\n",
       " 'SPNATMOM',\n",
       " 'ORMOM',\n",
       " 'MATE',\n",
       " 'MATENAME',\n",
       " 'AGEMATE',\n",
       " 'AGECATMATE',\n",
       " 'RACEMATE',\n",
       " 'SPELNAMATE',\n",
       " 'ORIGINMATE',\n",
       " 'FATHER',\n",
       " 'AGEDAD',\n",
       " 'RACEDAD',\n",
       " 'SPNADAD',\n",
       " 'ORDAD',\n",
       " 'GRANDCHILD',\n",
       " 'GRANDSONS',\n",
       " 'GDAUGHTERS',\n",
       " 'GRANDMA',\n",
       " 'AGEGRANDMA',\n",
       " 'SPNAGM',\n",
       " 'ORGRANDMA',\n",
       " 'GRANPA',\n",
       " 'AGEGRANDPA',\n",
       " 'SPNAGRPA',\n",
       " 'ORGRANDPA',\n",
       " 'EMANCIP',\n",
       " 'DEAD',\n",
       " 'RUNAWAY',\n",
       " 'ENTERPRISE',\n",
       " 'CAPTAIN',\n",
       " 'SLAVETRADE',\n",
       " 'STPORT',\n",
       " 'SHIP',\n",
       " 'ARRIVEDATE',\n",
       " 'FROM',\n",
       " 'UNBAPT',\n",
       " 'VIA',\n",
       " 'COMMENTS']"
      ]
     },
     "execution_count": 266,
     "metadata": {},
     "output_type": "execute_result"
    }
   ],
   "source": [
    "names"
   ]
  },
  {
   "cell_type": "markdown",
   "id": "3d82ccb8-99e0-4de6-a4c0-6f966f8a833e",
   "metadata": {},
   "source": [
    "Time for some more data cleaning. The original project left a series of numeric codes for a bunch of columns. The only problem is that they simply left some entries blank if they didn't know the answer. I can't have blank entries for my later analysis. So, I need to get rid of the blanks. \n",
    "\n",
    "Let's start with the DOCNO column. The team used document number from the documents. Do I really need this in later analysis? No."
   ]
  },
  {
   "cell_type": "code",
   "execution_count": 352,
   "id": "2e629166-e701-413a-85f9-c0942759a903",
   "metadata": {},
   "outputs": [],
   "source": [
    "df = df.drop(columns=['LOCATION', 'LINGUISTIC','NAMEXPLAIN'])  #DOCNO, CODER, DEPOT, LINGUISTIC"
   ]
  },
  {
   "cell_type": "code",
   "execution_count": 404,
   "id": "688113f1-1e40-45a2-ae76-b20919b292c8",
   "metadata": {},
   "outputs": [],
   "source": [
    "df['PREGNANT'] = df['PREGNANT'].fillna(0) # AGECATN, AGE, RACE, SEX, NAMETYPE, WENT, ESTATEPOP, ESTATE, ESTATEFREE, FREE, AFLANG, Language, Notary, Maroon, REVOLTS"
   ]
  },
  {
   "cell_type": "code",
   "execution_count": 353,
   "id": "e2fee389-5e04-4d0a-a948-5862abeb940a",
   "metadata": {},
   "outputs": [],
   "source": [
    "df['INVVALUE'] = df['INVVALUE'].replace(to_replace='Z', value = 'UNKNOWN') # SKILLS, NAME, FIRST2, BUYER, FIRST1, SELLER, ESTATE_OF"
   ]
  },
  {
   "cell_type": "code",
   "execution_count": 406,
   "id": "6095d559-9002-486e-accc-d422d4b2d43b",
   "metadata": {},
   "outputs": [],
   "source": [
    "compression_opts = dict(method='zip',\n",
    "\n",
    "                        archive_name='out.csv')  \n",
    "\n",
    "df.to_csv('out.zip', index=False,\n",
    "\n",
    "          compression=compression_opts)  "
   ]
  },
  {
   "cell_type": "code",
   "execution_count": 389,
   "id": "6f6263a0-f4b4-498c-981c-7982f3d6d594",
   "metadata": {},
   "outputs": [
    {
     "data": {
      "text/plain": [
       "1.0"
      ]
     },
     "execution_count": 389,
     "metadata": {},
     "output_type": "execute_result"
    }
   ],
   "source": [
    "df['ISLAMIC'].iloc[df['ISLAMIC'].first_valid_index()]"
   ]
  },
  {
   "cell_type": "code",
   "execution_count": 405,
   "id": "61c7ad82-65d9-4a1e-bcea-5686b1f1155f",
   "metadata": {},
   "outputs": [
    {
     "data": {
      "text/html": [
       "<div>\n",
       "<style scoped>\n",
       "    .dataframe tbody tr th:only-of-type {\n",
       "        vertical-align: middle;\n",
       "    }\n",
       "\n",
       "    .dataframe tbody tr th {\n",
       "        vertical-align: top;\n",
       "    }\n",
       "\n",
       "    .dataframe thead th {\n",
       "        text-align: right;\n",
       "    }\n",
       "</style>\n",
       "<table border=\"1\" class=\"dataframe\">\n",
       "  <thead>\n",
       "    <tr style=\"text-align: right;\">\n",
       "      <th></th>\n",
       "    </tr>\n",
       "  </thead>\n",
       "  <tbody>\n",
       "    <tr>\n",
       "      <th>0</th>\n",
       "    </tr>\n",
       "    <tr>\n",
       "      <th>1</th>\n",
       "    </tr>\n",
       "    <tr>\n",
       "      <th>2</th>\n",
       "    </tr>\n",
       "    <tr>\n",
       "      <th>3</th>\n",
       "    </tr>\n",
       "    <tr>\n",
       "      <th>4</th>\n",
       "    </tr>\n",
       "    <tr>\n",
       "      <th>...</th>\n",
       "    </tr>\n",
       "    <tr>\n",
       "      <th>100661</th>\n",
       "    </tr>\n",
       "    <tr>\n",
       "      <th>100662</th>\n",
       "    </tr>\n",
       "    <tr>\n",
       "      <th>100663</th>\n",
       "    </tr>\n",
       "    <tr>\n",
       "      <th>100664</th>\n",
       "    </tr>\n",
       "    <tr>\n",
       "      <th>100665</th>\n",
       "    </tr>\n",
       "  </tbody>\n",
       "</table>\n",
       "<p>100666 rows × 0 columns</p>\n",
       "</div>"
      ],
      "text/plain": [
       "Empty DataFrame\n",
       "Columns: []\n",
       "Index: [0, 1, 2, 3, 4, 5, 6, 7, 8, 9, 10, 11, 12, 13, 14, 15, 16, 17, 18, 19, 20, 21, 22, 23, 24, 25, 26, 27, 28, 29, 30, 31, 32, 33, 34, 35, 36, 37, 38, 39, 40, 41, 42, 43, 44, 45, 46, 47, 48, 49, 50, 51, 52, 53, 54, 55, 56, 57, 58, 59, 60, 61, 62, 63, 64, 65, 66, 67, 68, 69, 70, 71, 72, 73, 74, 75, 76, 77, 78, 79, 80, 81, 82, 83, 84, 85, 86, 87, 88, 89, 90, 91, 92, 93, 94, 95, 96, 97, 98, 99, ...]\n",
       "\n",
       "[100666 rows x 0 columns]"
      ]
     },
     "execution_count": 405,
     "metadata": {},
     "output_type": "execute_result"
    }
   ],
   "source": [
    "df.loc[:,df.isna().any()]"
   ]
  },
  {
   "cell_type": "code",
   "execution_count": 407,
   "id": "5d39e192-fb5a-4b4f-9a08-53ea2c7da9db",
   "metadata": {},
   "outputs": [],
   "source": [
    "number_col = df.select_dtypes(include='number')"
   ]
  },
  {
   "cell_type": "code",
   "execution_count": 408,
   "id": "88fcdd86-00c3-429e-98a7-a58eaad02e01",
   "metadata": {},
   "outputs": [
    {
     "data": {
      "text/html": [
       "<div>\n",
       "<style scoped>\n",
       "    .dataframe tbody tr th:only-of-type {\n",
       "        vertical-align: middle;\n",
       "    }\n",
       "\n",
       "    .dataframe tbody tr th {\n",
       "        vertical-align: top;\n",
       "    }\n",
       "\n",
       "    .dataframe thead th {\n",
       "        text-align: right;\n",
       "    }\n",
       "</style>\n",
       "<table border=\"1\" class=\"dataframe\">\n",
       "  <thead>\n",
       "    <tr style=\"text-align: right;\">\n",
       "      <th></th>\n",
       "      <th>YEAR</th>\n",
       "      <th>DOCTYPE</th>\n",
       "      <th>REVOLTS</th>\n",
       "      <th>MAROON</th>\n",
       "      <th>LANGUAGE</th>\n",
       "      <th>ESTFREE</th>\n",
       "      <th>FREE</th>\n",
       "      <th>ESTATEPOP</th>\n",
       "      <th>WENT</th>\n",
       "      <th>NAMETYPE</th>\n",
       "      <th>...</th>\n",
       "      <th>AGEGRANDPA</th>\n",
       "      <th>ORGRANDPA</th>\n",
       "      <th>EMANCIP</th>\n",
       "      <th>DEAD</th>\n",
       "      <th>RUNAWAY</th>\n",
       "      <th>ENTERPRISE</th>\n",
       "      <th>SLAVETRADE</th>\n",
       "      <th>STPORT</th>\n",
       "      <th>UNBAPT</th>\n",
       "      <th>VIA</th>\n",
       "    </tr>\n",
       "  </thead>\n",
       "  <tbody>\n",
       "    <tr>\n",
       "      <th>0</th>\n",
       "      <td>1719</td>\n",
       "      <td>25</td>\n",
       "      <td>0.0</td>\n",
       "      <td>0.0</td>\n",
       "      <td>1</td>\n",
       "      <td>0.0</td>\n",
       "      <td>0.0</td>\n",
       "      <td>0.0</td>\n",
       "      <td>0.0</td>\n",
       "      <td>9</td>\n",
       "      <td>...</td>\n",
       "      <td>0.0</td>\n",
       "      <td>0.0</td>\n",
       "      <td>0.0</td>\n",
       "      <td>0.0</td>\n",
       "      <td>0.0</td>\n",
       "      <td>0.0</td>\n",
       "      <td>1.0</td>\n",
       "      <td>85.0</td>\n",
       "      <td>0.0</td>\n",
       "      <td>0.0</td>\n",
       "    </tr>\n",
       "    <tr>\n",
       "      <th>1</th>\n",
       "      <td>1719</td>\n",
       "      <td>25</td>\n",
       "      <td>0.0</td>\n",
       "      <td>0.0</td>\n",
       "      <td>1</td>\n",
       "      <td>0.0</td>\n",
       "      <td>0.0</td>\n",
       "      <td>0.0</td>\n",
       "      <td>0.0</td>\n",
       "      <td>9</td>\n",
       "      <td>...</td>\n",
       "      <td>0.0</td>\n",
       "      <td>0.0</td>\n",
       "      <td>0.0</td>\n",
       "      <td>0.0</td>\n",
       "      <td>0.0</td>\n",
       "      <td>0.0</td>\n",
       "      <td>1.0</td>\n",
       "      <td>85.0</td>\n",
       "      <td>0.0</td>\n",
       "      <td>0.0</td>\n",
       "    </tr>\n",
       "    <tr>\n",
       "      <th>2</th>\n",
       "      <td>1719</td>\n",
       "      <td>25</td>\n",
       "      <td>0.0</td>\n",
       "      <td>0.0</td>\n",
       "      <td>1</td>\n",
       "      <td>0.0</td>\n",
       "      <td>0.0</td>\n",
       "      <td>0.0</td>\n",
       "      <td>0.0</td>\n",
       "      <td>9</td>\n",
       "      <td>...</td>\n",
       "      <td>0.0</td>\n",
       "      <td>0.0</td>\n",
       "      <td>0.0</td>\n",
       "      <td>0.0</td>\n",
       "      <td>0.0</td>\n",
       "      <td>0.0</td>\n",
       "      <td>1.0</td>\n",
       "      <td>85.0</td>\n",
       "      <td>0.0</td>\n",
       "      <td>0.0</td>\n",
       "    </tr>\n",
       "    <tr>\n",
       "      <th>3</th>\n",
       "      <td>1719</td>\n",
       "      <td>25</td>\n",
       "      <td>0.0</td>\n",
       "      <td>0.0</td>\n",
       "      <td>1</td>\n",
       "      <td>0.0</td>\n",
       "      <td>0.0</td>\n",
       "      <td>0.0</td>\n",
       "      <td>0.0</td>\n",
       "      <td>9</td>\n",
       "      <td>...</td>\n",
       "      <td>0.0</td>\n",
       "      <td>0.0</td>\n",
       "      <td>0.0</td>\n",
       "      <td>0.0</td>\n",
       "      <td>0.0</td>\n",
       "      <td>0.0</td>\n",
       "      <td>1.0</td>\n",
       "      <td>85.0</td>\n",
       "      <td>0.0</td>\n",
       "      <td>0.0</td>\n",
       "    </tr>\n",
       "    <tr>\n",
       "      <th>4</th>\n",
       "      <td>1719</td>\n",
       "      <td>25</td>\n",
       "      <td>0.0</td>\n",
       "      <td>0.0</td>\n",
       "      <td>1</td>\n",
       "      <td>0.0</td>\n",
       "      <td>0.0</td>\n",
       "      <td>0.0</td>\n",
       "      <td>0.0</td>\n",
       "      <td>9</td>\n",
       "      <td>...</td>\n",
       "      <td>0.0</td>\n",
       "      <td>0.0</td>\n",
       "      <td>0.0</td>\n",
       "      <td>0.0</td>\n",
       "      <td>0.0</td>\n",
       "      <td>0.0</td>\n",
       "      <td>1.0</td>\n",
       "      <td>85.0</td>\n",
       "      <td>0.0</td>\n",
       "      <td>0.0</td>\n",
       "    </tr>\n",
       "    <tr>\n",
       "      <th>...</th>\n",
       "      <td>...</td>\n",
       "      <td>...</td>\n",
       "      <td>...</td>\n",
       "      <td>...</td>\n",
       "      <td>...</td>\n",
       "      <td>...</td>\n",
       "      <td>...</td>\n",
       "      <td>...</td>\n",
       "      <td>...</td>\n",
       "      <td>...</td>\n",
       "      <td>...</td>\n",
       "      <td>...</td>\n",
       "      <td>...</td>\n",
       "      <td>...</td>\n",
       "      <td>...</td>\n",
       "      <td>...</td>\n",
       "      <td>...</td>\n",
       "      <td>...</td>\n",
       "      <td>...</td>\n",
       "      <td>...</td>\n",
       "      <td>...</td>\n",
       "    </tr>\n",
       "    <tr>\n",
       "      <th>100661</th>\n",
       "      <td>1820</td>\n",
       "      <td>7</td>\n",
       "      <td>0.0</td>\n",
       "      <td>0.0</td>\n",
       "      <td>3</td>\n",
       "      <td>0.0</td>\n",
       "      <td>0.0</td>\n",
       "      <td>0.0</td>\n",
       "      <td>0.0</td>\n",
       "      <td>7</td>\n",
       "      <td>...</td>\n",
       "      <td>0.0</td>\n",
       "      <td>0.0</td>\n",
       "      <td>0.0</td>\n",
       "      <td>0.0</td>\n",
       "      <td>0.0</td>\n",
       "      <td>0.0</td>\n",
       "      <td>0.0</td>\n",
       "      <td>0.0</td>\n",
       "      <td>0.0</td>\n",
       "      <td>0.0</td>\n",
       "    </tr>\n",
       "    <tr>\n",
       "      <th>100662</th>\n",
       "      <td>1820</td>\n",
       "      <td>7</td>\n",
       "      <td>0.0</td>\n",
       "      <td>0.0</td>\n",
       "      <td>1</td>\n",
       "      <td>0.0</td>\n",
       "      <td>0.0</td>\n",
       "      <td>0.0</td>\n",
       "      <td>0.0</td>\n",
       "      <td>7</td>\n",
       "      <td>...</td>\n",
       "      <td>0.0</td>\n",
       "      <td>0.0</td>\n",
       "      <td>0.0</td>\n",
       "      <td>0.0</td>\n",
       "      <td>0.0</td>\n",
       "      <td>0.0</td>\n",
       "      <td>0.0</td>\n",
       "      <td>0.0</td>\n",
       "      <td>0.0</td>\n",
       "      <td>0.0</td>\n",
       "    </tr>\n",
       "    <tr>\n",
       "      <th>100663</th>\n",
       "      <td>1820</td>\n",
       "      <td>7</td>\n",
       "      <td>0.0</td>\n",
       "      <td>0.0</td>\n",
       "      <td>1</td>\n",
       "      <td>0.0</td>\n",
       "      <td>0.0</td>\n",
       "      <td>0.0</td>\n",
       "      <td>0.0</td>\n",
       "      <td>7</td>\n",
       "      <td>...</td>\n",
       "      <td>0.0</td>\n",
       "      <td>0.0</td>\n",
       "      <td>0.0</td>\n",
       "      <td>0.0</td>\n",
       "      <td>0.0</td>\n",
       "      <td>0.0</td>\n",
       "      <td>0.0</td>\n",
       "      <td>0.0</td>\n",
       "      <td>0.0</td>\n",
       "      <td>0.0</td>\n",
       "    </tr>\n",
       "    <tr>\n",
       "      <th>100664</th>\n",
       "      <td>1820</td>\n",
       "      <td>7</td>\n",
       "      <td>0.0</td>\n",
       "      <td>0.0</td>\n",
       "      <td>1</td>\n",
       "      <td>0.0</td>\n",
       "      <td>1.0</td>\n",
       "      <td>0.0</td>\n",
       "      <td>0.0</td>\n",
       "      <td>4</td>\n",
       "      <td>...</td>\n",
       "      <td>0.0</td>\n",
       "      <td>0.0</td>\n",
       "      <td>0.0</td>\n",
       "      <td>0.0</td>\n",
       "      <td>0.0</td>\n",
       "      <td>0.0</td>\n",
       "      <td>0.0</td>\n",
       "      <td>0.0</td>\n",
       "      <td>0.0</td>\n",
       "      <td>0.0</td>\n",
       "    </tr>\n",
       "    <tr>\n",
       "      <th>100665</th>\n",
       "      <td>1820</td>\n",
       "      <td>7</td>\n",
       "      <td>0.0</td>\n",
       "      <td>0.0</td>\n",
       "      <td>1</td>\n",
       "      <td>0.0</td>\n",
       "      <td>1.0</td>\n",
       "      <td>0.0</td>\n",
       "      <td>0.0</td>\n",
       "      <td>9</td>\n",
       "      <td>...</td>\n",
       "      <td>0.0</td>\n",
       "      <td>0.0</td>\n",
       "      <td>0.0</td>\n",
       "      <td>0.0</td>\n",
       "      <td>0.0</td>\n",
       "      <td>0.0</td>\n",
       "      <td>0.0</td>\n",
       "      <td>0.0</td>\n",
       "      <td>0.0</td>\n",
       "      <td>0.0</td>\n",
       "    </tr>\n",
       "  </tbody>\n",
       "</table>\n",
       "<p>100666 rows × 75 columns</p>\n",
       "</div>"
      ],
      "text/plain": [
       "        YEAR  DOCTYPE  REVOLTS  MAROON  LANGUAGE  ESTFREE  FREE  ESTATEPOP  \\\n",
       "0       1719       25      0.0     0.0         1      0.0   0.0        0.0   \n",
       "1       1719       25      0.0     0.0         1      0.0   0.0        0.0   \n",
       "2       1719       25      0.0     0.0         1      0.0   0.0        0.0   \n",
       "3       1719       25      0.0     0.0         1      0.0   0.0        0.0   \n",
       "4       1719       25      0.0     0.0         1      0.0   0.0        0.0   \n",
       "...      ...      ...      ...     ...       ...      ...   ...        ...   \n",
       "100661  1820        7      0.0     0.0         3      0.0   0.0        0.0   \n",
       "100662  1820        7      0.0     0.0         1      0.0   0.0        0.0   \n",
       "100663  1820        7      0.0     0.0         1      0.0   0.0        0.0   \n",
       "100664  1820        7      0.0     0.0         1      0.0   1.0        0.0   \n",
       "100665  1820        7      0.0     0.0         1      0.0   1.0        0.0   \n",
       "\n",
       "        WENT  NAMETYPE  ...  AGEGRANDPA  ORGRANDPA  EMANCIP  DEAD  RUNAWAY  \\\n",
       "0        0.0         9  ...         0.0        0.0      0.0   0.0      0.0   \n",
       "1        0.0         9  ...         0.0        0.0      0.0   0.0      0.0   \n",
       "2        0.0         9  ...         0.0        0.0      0.0   0.0      0.0   \n",
       "3        0.0         9  ...         0.0        0.0      0.0   0.0      0.0   \n",
       "4        0.0         9  ...         0.0        0.0      0.0   0.0      0.0   \n",
       "...      ...       ...  ...         ...        ...      ...   ...      ...   \n",
       "100661   0.0         7  ...         0.0        0.0      0.0   0.0      0.0   \n",
       "100662   0.0         7  ...         0.0        0.0      0.0   0.0      0.0   \n",
       "100663   0.0         7  ...         0.0        0.0      0.0   0.0      0.0   \n",
       "100664   0.0         4  ...         0.0        0.0      0.0   0.0      0.0   \n",
       "100665   0.0         9  ...         0.0        0.0      0.0   0.0      0.0   \n",
       "\n",
       "        ENTERPRISE  SLAVETRADE  STPORT  UNBAPT  VIA  \n",
       "0              0.0         1.0    85.0     0.0  0.0  \n",
       "1              0.0         1.0    85.0     0.0  0.0  \n",
       "2              0.0         1.0    85.0     0.0  0.0  \n",
       "3              0.0         1.0    85.0     0.0  0.0  \n",
       "4              0.0         1.0    85.0     0.0  0.0  \n",
       "...            ...         ...     ...     ...  ...  \n",
       "100661         0.0         0.0     0.0     0.0  0.0  \n",
       "100662         0.0         0.0     0.0     0.0  0.0  \n",
       "100663         0.0         0.0     0.0     0.0  0.0  \n",
       "100664         0.0         0.0     0.0     0.0  0.0  \n",
       "100665         0.0         0.0     0.0     0.0  0.0  \n",
       "\n",
       "[100666 rows x 75 columns]"
      ]
     },
     "execution_count": 408,
     "metadata": {},
     "output_type": "execute_result"
    }
   ],
   "source": [
    "number_col"
   ]
  },
  {
   "cell_type": "code",
   "execution_count": 460,
   "id": "68dfd00a-808d-4525-b6c6-b703f8202734",
   "metadata": {},
   "outputs": [
    {
     "data": {
      "text/plain": [
       "['YEAR',\n",
       " 'DOCTYPE',\n",
       " 'REVOLTS',\n",
       " 'MAROON',\n",
       " 'LANGUAGE',\n",
       " 'ESTFREE',\n",
       " 'FREE',\n",
       " 'ESTATEPOP',\n",
       " 'WENT',\n",
       " 'NAMETYPE',\n",
       " 'ISLAMIC',\n",
       " 'SEX',\n",
       " 'RACE',\n",
       " 'AGE',\n",
       " 'AGECATN',\n",
       " 'SKILLCAT',\n",
       " 'EXPERT',\n",
       " 'APPRENTICE',\n",
       " 'ALITTLE',\n",
       " 'SKILL2',\n",
       " 'SKILL3',\n",
       " 'SKILL4',\n",
       " 'SKILL5',\n",
       " 'CHARCAT',\n",
       " 'CHARCAT2',\n",
       " 'CHARCAT3',\n",
       " 'SICKCAT',\n",
       " 'SICK2',\n",
       " 'SICK3',\n",
       " 'SICK4',\n",
       " 'BIRTHPL',\n",
       " 'AFLANG',\n",
       " 'BRUT',\n",
       " 'GROUP',\n",
       " 'INVVALP',\n",
       " 'SALEVALUE',\n",
       " 'SALEVALP',\n",
       " 'FAMILY_Y_N',\n",
       " 'CHILDREN',\n",
       " 'MALE',\n",
       " 'FEMALE',\n",
       " 'UNDER5',\n",
       " 'PREGNANT',\n",
       " 'MOTHER',\n",
       " 'AGEMOM',\n",
       " 'RACEMOM',\n",
       " 'INVWMOM',\n",
       " 'SOLDWMOM',\n",
       " 'ORMOM',\n",
       " 'MATE',\n",
       " 'AGEMATE',\n",
       " 'AGECATMATE',\n",
       " 'RACEMATE',\n",
       " 'ORIGINMATE',\n",
       " 'FATHER',\n",
       " 'AGEDAD',\n",
       " 'RACEDAD',\n",
       " 'ORDAD',\n",
       " 'GRANDCHILD',\n",
       " 'GRANDSONS',\n",
       " 'GDAUGHTERS',\n",
       " 'GRANDMA',\n",
       " 'AGEGRANDMA',\n",
       " 'ORGRANDMA',\n",
       " 'GRANPA',\n",
       " 'AGEGRANDPA',\n",
       " 'ORGRANDPA',\n",
       " 'EMANCIP',\n",
       " 'DEAD',\n",
       " 'RUNAWAY',\n",
       " 'ENTERPRISE',\n",
       " 'SLAVETRADE',\n",
       " 'STPORT',\n",
       " 'UNBAPT',\n",
       " 'VIA']"
      ]
     },
     "execution_count": 460,
     "metadata": {},
     "output_type": "execute_result"
    }
   ],
   "source": [
    "number_col_names = [col for col in number_col.columns]\n",
    "number_col_names"
   ]
  },
  {
   "cell_type": "code",
   "execution_count": 409,
   "id": "28f5e8bd-de89-4069-9a99-b00ea2281681",
   "metadata": {},
   "outputs": [],
   "source": [
    "number_col_names = [col for col in number_col.columns]"
   ]
  },
  {
   "cell_type": "code",
   "execution_count": 247,
   "id": "6733dcef-555e-4062-b21b-6255018a5a8a",
   "metadata": {},
   "outputs": [],
   "source": [
    "number_col = number_col.drop(columns=['DEPOT','PREGNANT','DOCNO','CODER','REVOLTS','LINGUISTIC'])"
   ]
  },
  {
   "cell_type": "code",
   "execution_count": 434,
   "id": "c1eadc53-13c4-4d65-a53e-afeaed5157a8",
   "metadata": {},
   "outputs": [],
   "source": [
    "import matplotlib.pyplot as plt\n",
    "from kneed import KneeLocator\n",
    "from sklearn.datasets import make_blobs\n",
    "from sklearn.cluster import KMeans\n",
    "from sklearn.metrics import silhouette_score\n",
    "from sklearn.preprocessing import StandardScaler"
   ]
  },
  {
   "cell_type": "code",
   "execution_count": 442,
   "id": "bd8e6f4e-dd6d-49af-a4f9-db1f472eb51a",
   "metadata": {},
   "outputs": [],
   "source": [
    "kmeans = KMeans(\n",
    "        init=\"random\",\n",
    "        n_clusters=2,\n",
    "        n_init=10,\n",
    "        max_iter=300,\n",
    "        random_state=42\n",
    "    )"
   ]
  },
  {
   "cell_type": "code",
   "execution_count": 466,
   "id": "1bc5c385-45cb-4284-a0d6-ab8bfb2f1cb3",
   "metadata": {},
   "outputs": [],
   "source": [
    "# Create a new dataframe with enterprise, age, salevalp, invalp, sex and race\n",
    "auction_value = pd.concat([number_col['ENTERPRISE'],number_col['AGE'],number_col['SALEVALP'],number_col['INVVALP'],number_col['SEX'],number_col['RACE']],axis=1)"
   ]
  },
  {
   "cell_type": "code",
   "execution_count": 467,
   "id": "a8dc4f50-888a-4c6c-aa40-1bc7893e1b92",
   "metadata": {},
   "outputs": [
    {
     "data": {
      "text/html": [
       "<div>\n",
       "<style scoped>\n",
       "    .dataframe tbody tr th:only-of-type {\n",
       "        vertical-align: middle;\n",
       "    }\n",
       "\n",
       "    .dataframe tbody tr th {\n",
       "        vertical-align: top;\n",
       "    }\n",
       "\n",
       "    .dataframe thead th {\n",
       "        text-align: right;\n",
       "    }\n",
       "</style>\n",
       "<table border=\"1\" class=\"dataframe\">\n",
       "  <thead>\n",
       "    <tr style=\"text-align: right;\">\n",
       "      <th></th>\n",
       "      <th>ENTERPRISE</th>\n",
       "      <th>AGE</th>\n",
       "      <th>SALEVALP</th>\n",
       "      <th>INVVALP</th>\n",
       "      <th>SEX</th>\n",
       "      <th>RACE</th>\n",
       "    </tr>\n",
       "  </thead>\n",
       "  <tbody>\n",
       "    <tr>\n",
       "      <th>0</th>\n",
       "      <td>0.0</td>\n",
       "      <td>0.0</td>\n",
       "      <td>0.0</td>\n",
       "      <td>-1.0</td>\n",
       "      <td>9</td>\n",
       "      <td>3.0</td>\n",
       "    </tr>\n",
       "    <tr>\n",
       "      <th>1</th>\n",
       "      <td>0.0</td>\n",
       "      <td>0.0</td>\n",
       "      <td>0.0</td>\n",
       "      <td>-1.0</td>\n",
       "      <td>9</td>\n",
       "      <td>3.0</td>\n",
       "    </tr>\n",
       "    <tr>\n",
       "      <th>2</th>\n",
       "      <td>0.0</td>\n",
       "      <td>0.0</td>\n",
       "      <td>0.0</td>\n",
       "      <td>-1.0</td>\n",
       "      <td>9</td>\n",
       "      <td>3.0</td>\n",
       "    </tr>\n",
       "    <tr>\n",
       "      <th>3</th>\n",
       "      <td>0.0</td>\n",
       "      <td>0.0</td>\n",
       "      <td>0.0</td>\n",
       "      <td>-1.0</td>\n",
       "      <td>9</td>\n",
       "      <td>3.0</td>\n",
       "    </tr>\n",
       "    <tr>\n",
       "      <th>4</th>\n",
       "      <td>0.0</td>\n",
       "      <td>0.0</td>\n",
       "      <td>0.0</td>\n",
       "      <td>-1.0</td>\n",
       "      <td>9</td>\n",
       "      <td>3.0</td>\n",
       "    </tr>\n",
       "    <tr>\n",
       "      <th>...</th>\n",
       "      <td>...</td>\n",
       "      <td>...</td>\n",
       "      <td>...</td>\n",
       "      <td>...</td>\n",
       "      <td>...</td>\n",
       "      <td>...</td>\n",
       "    </tr>\n",
       "    <tr>\n",
       "      <th>100661</th>\n",
       "      <td>0.0</td>\n",
       "      <td>45.0</td>\n",
       "      <td>1000.0</td>\n",
       "      <td>0.0</td>\n",
       "      <td>2</td>\n",
       "      <td>3.0</td>\n",
       "    </tr>\n",
       "    <tr>\n",
       "      <th>100662</th>\n",
       "      <td>0.0</td>\n",
       "      <td>12.0</td>\n",
       "      <td>850.0</td>\n",
       "      <td>0.0</td>\n",
       "      <td>2</td>\n",
       "      <td>3.0</td>\n",
       "    </tr>\n",
       "    <tr>\n",
       "      <th>100663</th>\n",
       "      <td>0.0</td>\n",
       "      <td>12.0</td>\n",
       "      <td>650.0</td>\n",
       "      <td>0.0</td>\n",
       "      <td>1</td>\n",
       "      <td>3.0</td>\n",
       "    </tr>\n",
       "    <tr>\n",
       "      <th>100664</th>\n",
       "      <td>0.0</td>\n",
       "      <td>24.0</td>\n",
       "      <td>1430.0</td>\n",
       "      <td>0.0</td>\n",
       "      <td>1</td>\n",
       "      <td>3.0</td>\n",
       "    </tr>\n",
       "    <tr>\n",
       "      <th>100665</th>\n",
       "      <td>0.0</td>\n",
       "      <td>0.0</td>\n",
       "      <td>1430.0</td>\n",
       "      <td>0.0</td>\n",
       "      <td>2</td>\n",
       "      <td>9.0</td>\n",
       "    </tr>\n",
       "  </tbody>\n",
       "</table>\n",
       "<p>100666 rows × 6 columns</p>\n",
       "</div>"
      ],
      "text/plain": [
       "        ENTERPRISE   AGE  SALEVALP  INVVALP  SEX  RACE\n",
       "0              0.0   0.0       0.0     -1.0    9   3.0\n",
       "1              0.0   0.0       0.0     -1.0    9   3.0\n",
       "2              0.0   0.0       0.0     -1.0    9   3.0\n",
       "3              0.0   0.0       0.0     -1.0    9   3.0\n",
       "4              0.0   0.0       0.0     -1.0    9   3.0\n",
       "...            ...   ...       ...      ...  ...   ...\n",
       "100661         0.0  45.0    1000.0      0.0    2   3.0\n",
       "100662         0.0  12.0     850.0      0.0    2   3.0\n",
       "100663         0.0  12.0     650.0      0.0    1   3.0\n",
       "100664         0.0  24.0    1430.0      0.0    1   3.0\n",
       "100665         0.0   0.0    1430.0      0.0    2   9.0\n",
       "\n",
       "[100666 rows x 6 columns]"
      ]
     },
     "execution_count": 467,
     "metadata": {},
     "output_type": "execute_result"
    }
   ],
   "source": [
    "auction_value"
   ]
  },
  {
   "cell_type": "code",
   "execution_count": 468,
   "id": "b52f2123-5b3a-482c-a65b-a998199d5fff",
   "metadata": {},
   "outputs": [],
   "source": [
    "\n",
    "scaled_value = scaler.fit_transform(auction_value)"
   ]
  },
  {
   "cell_type": "code",
   "execution_count": 470,
   "id": "aa152e0d-b725-4ee4-8fc1-c168f48ced26",
   "metadata": {},
   "outputs": [
    {
     "data": {
      "text/plain": [
       "KMeans(init='random', n_clusters=2, random_state=42)"
      ]
     },
     "execution_count": 470,
     "metadata": {},
     "output_type": "execute_result"
    }
   ],
   "source": [
    "kmeans.fit(scaled_value)"
   ]
  },
  {
   "cell_type": "code",
   "execution_count": null,
   "id": "61ee4e35-31ce-4c34-a5e6-8f980715f764",
   "metadata": {},
   "outputs": [],
   "source": [
    "kmeans_silhouette = silhouette_score(scaled_value, kmeans.labels_).round(2)\n"
   ]
  },
  {
   "cell_type": "code",
   "execution_count": 452,
   "id": "b6b8bb6e-e924-4e2f-9356-41036e65411f",
   "metadata": {},
   "outputs": [
    {
     "data": {
      "text/plain": [
       "0.29"
      ]
     },
     "execution_count": 452,
     "metadata": {},
     "output_type": "execute_result"
    }
   ],
   "source": [
    "kmeans_silhouette"
   ]
  },
  {
   "cell_type": "code",
   "execution_count": 455,
   "id": "86afaa67-66b2-4997-be87-4425750c405f",
   "metadata": {},
   "outputs": [
    {
     "data": {
      "image/png": "[encoded data removed]",
      "text/plain": [
       "<Figure size 576x432 with 1 Axes>"
      ]
     },
     "metadata": {
      "needs_background": "light"
     },
     "output_type": "display_data"
    }
   ],
   "source": [
    "# Plot the data and cluster silhouette comparison\n",
    "fig, (ax1) = plt.subplots(\n",
    "    1, figsize=(8, 6), sharex=True, sharey=True)\n",
    "\n",
    "fig.suptitle(f\"Pregnancy Cluster To Demographic Factors in Slavetrading 1721-1820\", fontsize=16)\n",
    "fte_colors = {\n",
    "    0: \"#008fd5\",\n",
    "    1: \"#fc4f30\",}\n",
    "# The k-means plot\n",
    "km_colors = [fte_colors[label] for label in kmeans.labels_]\n",
    "ax1.scatter(scaled_number_col[:, 0], scaled_number_col[:, 1], c=km_colors)\n",
    "ax1.set_title(\n",
    "    f\"k-means\\nSilhouette: {kmeans_silhouette}\", fontdict={\"fontsize\": 12})\n",
    "\n",
    "plt.show()"
   ]
  },
  {
   "cell_type": "markdown",
   "id": "a0a2084d-557a-4688-bc47-ae62394a629a",
   "metadata": {},
   "source": [
    "Let's take the mean and standard deviation of the years column."
   ]
  },
  {
   "cell_type": "code",
   "execution_count": 3,
   "id": "4bee2605-aaad-4976-9ba2-9b69d10b24ff",
   "metadata": {},
   "outputs": [
    {
     "name": "stderr",
     "output_type": "stream",
     "text": [
      "c:\\users\\casti\\appdata\\local\\programs\\python\\python38\\lib\\site-packages\\IPython\\core\\interactiveshell.py:3172: DtypeWarning: Columns (77,82,89,93) have mixed types.Specify dtype option on import or set low_memory=False.\n",
      "  has_raised = await self.run_ast_nodes(code_ast.body, cell_name,\n"
     ]
    }
   ],
   "source": [
    "df = pd.read_csv(\"out.csv\")"
   ]
  },
  {
   "cell_type": "markdown",
   "id": "0ad6fbd8-479d-4237-9b22-c67f5885b0c8",
   "metadata": {},
   "source": [
    "Here's something weird. If you run a simple Pearson's ranking between the year column and the df['DEAD'] column, there's a negative correlation. It's rather slight, but this indicates that as the years went on, slaves were less likely to be sold as part of an estate sale."
   ]
  },
  {
   "cell_type": "code",
   "execution_count": null,
   "id": "5e871e18-75bf-4764-96df-fb68e46b209b",
   "metadata": {},
   "outputs": [],
   "source": []
  },
  {
   "cell_type": "markdown",
   "id": "73e2d6cb-a2e3-4b6d-a011-00b5aeef43a3",
   "metadata": {},
   "source": [
    "Similarly, there's an ever-so-slight correlation between listing a slave auction as part of an estate sale, and the sale of expert workers."
   ]
  },
  {
   "cell_type": "code",
   "execution_count": 8,
   "id": "f4724748-971f-4329-b67f-5b091c98d0c6",
   "metadata": {},
   "outputs": [
    {
     "data": {
      "text/plain": [
       "0.029109816867256937"
      ]
     },
     "execution_count": 8,
     "metadata": {},
     "output_type": "execute_result"
    }
   ],
   "source": [
    "dead_expert_correlation = dead.corr(expert)\n",
    "dead_expert_correlation"
   ]
  },
  {
   "cell_type": "markdown",
   "id": "d69c420d-daeb-4772-86fe-f14c5f596bd9",
   "metadata": {},
   "source": [
    "There is practically no correlation between listing someone as an apprentice (i.e. not skilled) and estate sales."
   ]
  },
  {
   "cell_type": "code",
   "execution_count": 27,
   "id": "1ecabbef-43e1-47bd-bc5a-0fc6c2abf22e",
   "metadata": {},
   "outputs": [
    {
     "data": {
      "text/plain": [
       "-0.0008488751120648041"
      ]
     },
     "execution_count": 27,
     "metadata": {},
     "output_type": "execute_result"
    }
   ],
   "source": [
    "dead_apprentice_correlation = dead.corr(apprentice)\n",
    "dead_apprentice_correlation"
   ]
  },
  {
   "cell_type": "code",
   "execution_count": 216,
   "id": "a4dac373-8656-447d-b0eb-a423a94f804d",
   "metadata": {},
   "outputs": [],
   "source": [
    "def count_items_statistical_significance(column, exclude_list):\n",
    "    '''\n",
    "    Method to count items specifically for statistical significance. The reason I'm not\n",
    "    using in-built methods is because I want to exclude certain values.\n",
    "    \n",
    "    Column is just a string name for the DataFrame column, but exclude list has to be a list.\n",
    "    '''\n",
    "    if type(exclude_list) is not list:\n",
    "        error_message = \"The exclude list must be a list, and only one level\"\n",
    "        return error_message\n",
    "    counter = 0\n",
    "    for index, value in df[column.upper()].items():\n",
    "        if value not in exclude_list:\n",
    "            counter += 1\n",
    "    return counter"
   ]
  },
  {
   "cell_type": "code",
   "execution_count": 220,
   "id": "05bffb94-9e0a-4095-886a-cc9e80e9ad2f",
   "metadata": {},
   "outputs": [
    {
     "name": "stdout",
     "output_type": "stream",
     "text": [
      "1191\n",
      "26\n"
     ]
    },
    {
     "data": {
      "text/plain": [
       "0.0"
      ]
     },
     "execution_count": 220,
     "metadata": {},
     "output_type": "execute_result"
    }
   ],
   "source": [
    "# How many experts are there in the dataset?\n",
    "print(count_items_statistical_significance('EXPERT',[-1,0]))\n",
    "\n",
    "# How many apprentices are there in the dataset?\n",
    "print(count_items_statistical_significance('apprentice',[-1,0]))\n",
    "\n",
    "df['APPRENTICE'].median()"
   ]
  },
  {
   "cell_type": "markdown",
   "id": "96d42193-3920-4e09-9196-7b06772e8ec9",
   "metadata": {},
   "source": [
    "How are there 1191 experts but only 26 apprentices? Isn't an apprentice a step in the journey to being an expert? Is this price-gouging? Is this industry specific? "
   ]
  },
  {
   "cell_type": "code",
   "execution_count": 187,
   "id": "89b3a978-7a1a-4234-a9b6-fbc783704a2c",
   "metadata": {},
   "outputs": [],
   "source": [
    "def count_column1_with_respect_to_column2(col1, col2_value, col2):\n",
    "    '''\n",
    "        Counts how many entries in column 1 have a specific entry in column 2 and returns a \n",
    "    list with the count and the indices. However, this one just pulls all values that are \n",
    "    NOT in a certain range.\n",
    "    \n",
    "    Requires a list as col2_value.\n",
    "    '''\n",
    "    positives = []\n",
    "\n",
    "    if col1 == col2:\n",
    "        for index, value in df[col1.upper()].items():\n",
    "            if df[col1.upper()].iloc[index] in col2_value:\n",
    "                positives.append(index)\n",
    "    for index, value in df[col1.upper()].items():\n",
    "        if df[col2.upper()].iloc[index] in col2_value:\n",
    "            positives.append(index)\n",
    "\n",
    "    return [len(positives), positives]"
   ]
  },
  {
   "cell_type": "code",
   "execution_count": 201,
   "id": "dce5e340-b2dd-4d56-8ff9-80cf9c1aedc8",
   "metadata": {},
   "outputs": [],
   "source": [
    "def clump_yparam(dist_list, y_param, x_param = 'YEAR'):\n",
    "    '''\n",
    "    It is helpful to figure out what year a specific column tends to clump by.\n",
    "    '''\n",
    "    dict_returned = {}\n",
    "    for entries in dist_list[1]:\n",
    "        year = str(df[x_param.upper()].iloc[entries])\n",
    "        if year in dict_returned and df[y_param].iloc[entries] > 0:\n",
    "            dict_returned[year] += 1\n",
    "\n",
    "        elif df[y_param].iloc[entries] > 0 and year not in dict_returned:\n",
    "            dict_returned[year] = 1\n",
    "    return dict_returned\n",
    "\n",
    "def clump_filtered_yparam(dist_list, y_param, x_param = 'YEAR'):\n",
    "    \n",
    "    '''\n",
    "    Instead of giving a total persons for the year, this one returns the average value\n",
    "    '''\n",
    "    dict_returned = {}\n",
    "    for entries in dist_list[1]:\n",
    "        year = str(df[x_param.upper()].iloc[entries])\n",
    "        if year in dict_returned and df[y_param].iloc[entries] > 0:\n",
    "            dict_returned[year].append(float(df[y_param.upper()].iloc[entries]))\n",
    "\n",
    "        elif df[y_param].iloc[entries] > 0 and year not in dict_returned:\n",
    "            dict_returned[year] = [float(df[y_param.upper()].iloc[entries])]\n",
    "    for years in dict_returned:\n",
    "        dict_returned[years] = statistics.mean(dict_returned[years])\n",
    "    return dict_returned"
   ]
  },
  {
   "cell_type": "markdown",
   "id": "dcc00c9f-2402-4ccd-8ff4-6092477ccb79",
   "metadata": {},
   "source": [
    "Why does the sale of experts increase so much in the 1810s? Is it significant that this is after the law banning importation of slaves? The standard deviation is nearly thirty."
   ]
  },
  {
   "cell_type": "markdown",
   "id": "68fb5966-14a1-455b-97d6-cbbd4c169c40",
   "metadata": {},
   "source": [
    "So something changed in the early 19th century. Can we find that exact pivot? I want to plot the years on the y axis and the number of expert slaves sold on the x axis."
   ]
  },
  {
   "cell_type": "markdown",
   "id": "31f6019b-a967-4d0e-98ae-f5d26c3f0208",
   "metadata": {},
   "source": [
    "So apprentices seem to have sold at a spiky but consistent rate, with a tiny uptick in the 1810s. But experts sold exponentially more often after 1790, and especially after 1800. Why were so many experts being sold but not apprentices?"
   ]
  },
  {
   "cell_type": "code",
   "execution_count": 202,
   "id": "3c54d87f-6070-4dc6-a600-741abd6267cd",
   "metadata": {},
   "outputs": [],
   "source": [
    "def plot_col1_against_col2_by_year(y_param, xlabel, ylabel, filter_values, x_param = 'YEAR', filter_param = 'YEAR'):\n",
    "    '''\n",
    "    Plots the frequency of col2's sale against years (default) or any other column (optional)\n",
    "    Col2: string\n",
    "    Col2_values: list\n",
    "    xlabel, ylabel, col1: strings\n",
    "    '''\n",
    "\n",
    "    # Figure out how often col2 occurs and how it is distributed across col3's values\n",
    "    if filter_param == 'YEAR':\n",
    "        distribution_list = count_column1_with_respect_to_column2(y_param.upper(), filter_values, y_param)\n",
    "        frequency_dict = clump_yparam(distribution_list, y_param.upper(), x_param.upper())\n",
    "    else:\n",
    "        distribution_list = count_column1_with_respect_to_column2(y_param.upper(), filter_values, filter_param.upper())\n",
    "        frequency_dict = clump_filtered_yparam(distribution_list, y_param.upper(), x_param.upper())\n",
    "    # Change into a frequency calculation\n",
    "\n",
    "    x_axis = []\n",
    "    y_axis = []\n",
    "    for year, total_count in frequency_dict.items():\n",
    "        x_axis.append(year)\n",
    "        y_axis.append(total_count)\n",
    "\n",
    "    # Plot a line graph \n",
    "    plt.xlabel(xlabel)\n",
    "    plt.ylabel(ylabel)\n",
    "    plt.title(xlabel + ' vs ' + ylabel)\n",
    "\n",
    "    plt.plot(x_axis, y_axis)\n",
    "\n",
    "    plt.show()\n",
    "    \n",
    "    print(\"Correlation between \",filter_param,\" and \",y_param,\": \",df[filter_param.upper()].corr(df[y_param.upper()]))\n",
    "    print(\"Standard deviation between\", y_param,\" filtered on\", filter_param,\": \",statistics.pstdev(y_axis))\n",
    "    print(\"Median value of\",y_param,\"filtered on\", filter_param,filter_values,\": \", statistics.median(y_axis))\n",
    "\n",
    "    "
   ]
  },
  {
   "cell_type": "code",
   "execution_count": 203,
   "id": "86edd6a5-ad27-488a-b0ef-682c76223e77",
   "metadata": {},
   "outputs": [
    {
     "name": "stdout",
     "output_type": "stream",
     "text": [
      "{'1724': 3200.0, '1730': 6901.333333333333, '1731': 188.46153846153845, '1735': 335.0, '1736': 415.2, '1737': 258.0689655172414, '1738': 1272.6545454545455, '1739': 604.4444444444445, '1740': 546.2765957446809, '1744': 806.25, '1745': 422.85714285714283, '1746': 671.0344827586207, '1747': 575.0, '1748': 496.0, '1753': 200.0, '1755': 302.85714285714283, '1757': 300.0, '1758': 532.8571428571429, '1759': 685.0, '1761': 565.0, '1762': 700.0, '1763': 323.3333333333333, '1764': 759.2222222222222, '1765': 762.25, '1766': 364.54545454545456, '1767': 373.3333333333333, '1768': 579.72, '1769': 401.7938144329897, '1770': 325.3488372093023, '1771': 465.53846153846155, '1772': 287.7916666666667, '1773': 285.3176470588235, '1774': 505.27027027027026, '1775': 529.3404255319149, '1776': 507.76, '1777': 464.06976744186045, '1778': 407.9024390243902, '1779': 475.05288461538464, '1780': 374.2857142857143, '1781': 485.8333333333333, '1782': 443.4488188976378, '1783': 295.0, '1784': 485.6756756756757, '1785': 714.468085106383, '1786': 496.5348837209302, '1787': 594.4252873563219, '1788': 536.0091324200913, '1789': 434.4854368932039, '1790': 411.5693641618497, '1791': 422.64150943396226, '1792': 487.74074074074076, '1793': 396.8867924528302, '1794': 435.6125, '1795': 393.3452380952381, '1796': 374.05434782608694, '1797': 406.3534482758621, '1798': 431.0326086956522, '1799': 537.0454545454545, '1800': 593.2757352941177, '1801': 664.4302325581396, '1802': 800.0641025641025, '1803': 587.8210526315789, '1804': 531.0357142857143, '1805': 556.8518518518518, '1806': 920.2198581560284, '1807': 700.4545454545455, '1808': 1415.8232323232323, '1809': 653.0835734870317, '1810': 784.4448051948052, '1811': 663.3505154639175, '1812': 646.2407407407408, '1813': 619.3123028391167, '1814': 921.3636363636364, '1815': 631.1903881700555, '1816': 632.4090019569471, '1817': 780.8403041825095, '1818': 1105.2367149758454, '1819': 918.8582600195504, '1820': 828.2332112332113}\n"
     ]
    },
    {
     "data": {
      "image/png": "[encoded data removed]",
      "text/plain": [
       "<Figure size 432x288 with 1 Axes>"
      ]
     },
     "metadata": {
      "needs_background": "light"
     },
     "output_type": "display_data"
    },
    {
     "name": "stdout",
     "output_type": "stream",
     "text": [
      "Correlation between  SEX  and  INVVALP :  -0.07218370252935037\n",
      "Standard deviation between INVVALP  filtered on SEX :  795.7158289124528\n",
      "Median value of INVVALP filtered on SEX [1] :  531.0357142857143\n",
      "{'1725': 245.5, '1726': 1430.0, '1727': 310.0, '1728': 1400.857142857143, '1729': 260.0, '1731': 542.8571428571429, '1734': 744.2857142857143, '1735': 244.58823529411765, '1736': 298.72727272727275, '1737': 280.5, '1738': 377.5, '1739': 685.8, '1740': 654.5348837209302, '1741': 3963.3333333333335, '1743': 410.0, '1744': 1037.857142857143, '1745': 595.0555555555555, '1746': 1884.4814814814815, '1747': 507.23809523809524, '1748': 398.57142857142856, '1753': 690.0, '1756': 120.0, '1758': 594.2229299363057, '1759': 455.85714285714283, '1760': 620.0, '1762': 1903.4285714285713, '1763': 3944.705882352941, '1764': 3168.3793103448274, '1765': 772.9876543209876, '1766': 805.3947368421053, '1767': 1180.0, '1768': 377.6, '1769': 332.64406779661016, '1770': 945.8484848484849, '1771': 450.92857142857144, '1772': 484.125, '1773': 354.6, '1774': 392.97777777777776, '1775': 1126.75, '1776': 411.75, '1777': 803.77, '1778': 1190.3301886792453, '1779': 1539.0515463917525, '1780': 543.1584158415842, '1781': 606.0592592592593, '1782': 643.5176470588235, '1783': 948.7676056338029, '1784': 1753.1333333333334, '1785': 857.1428571428571, '1786': 2447.814814814815, '1787': 2559.0246913580245, '1788': 743.0747663551402, '1789': 735.6624203821656, '1790': 740.3869565217391, '1791': 629.0985915492957, '1792': 1198.8557692307693, '1793': 833.94301994302, '1794': 1037.2900552486187, '1795': 1103.06993006993, '1796': 662.9964912280702, '1797': 935.6962025316456, '1798': 744.5965665236051, '1799': 1338.1686274509805, '1800': 2121.4175084175085, '1801': 1760.8225806451612, '1802': 1268.1800643086817, '1803': 1931.4910071942445, '1804': 1349.6766917293232, '1805': 939.2286245353159, '1806': 2572.9241516966067, '1807': 2125.1677852348994, '1808': 4647.656069364162, '1809': 5189.273180458624, '1810': 1249.7958257713249, '1811': 4200.880180859081, '1812': 3614.347006651885, '1813': 4952.795454545455, '1814': 1949.5525291828794, '1815': 1701.062985332183, '1816': 5941.295569620253, '1817': 3225.495910780669, '1818': 13962.855670103092, '1819': 4390.4448, '1820': 5766.276437847867}\n"
     ]
    },
    {
     "data": {
      "image/png": "[encoded data removed]",
      "text/plain": [
       "<Figure size 432x288 with 1 Axes>"
      ]
     },
     "metadata": {
      "needs_background": "light"
     },
     "output_type": "display_data"
    },
    {
     "name": "stdout",
     "output_type": "stream",
     "text": [
      "Correlation between  SEX  and  SALEVALP :  -0.03923141264196137\n",
      "Standard deviation between SALEVALP  filtered on SEX :  1929.0695824423997\n",
      "Median value of SALEVALP filtered on SEX [1] :  937.4624135334807\n",
      "{'1738': 220.0, '1764': 700.0, '1779': 300.0, '1782': 550.0, '1785': 1000.0, '1789': 500.0, '1792': 350.0, '1797': 375.0, '1799': 800.0, '1803': 600.0, '1808': 800.0, '1809': 200.0, '1814': 825.0, '1816': 800.0, '1819': 1200.0, '1820': 1200.0}\n"
     ]
    },
    {
     "data": {
      "image/png": "[encoded data removed]",
      "text/plain": [
       "<Figure size 432x288 with 1 Axes>"
      ]
     },
     "metadata": {
      "needs_background": "light"
     },
     "output_type": "display_data"
    },
    {
     "name": "stdout",
     "output_type": "stream",
     "text": [
      "Correlation between  PREGNANT  and  INVVALP :  0.0020025503622775245\n",
      "Standard deviation between INVVALP  filtered on PREGNANT :  310.1033093986583\n",
      "Median value of INVVALP filtered on PREGNANT [1] :  650.0\n"
     ]
    }
   ],
   "source": [
    "# Women = 1 on SEX category\n",
    "plot_col1_against_col2_by_year('INVVALP', 'Year', 'Total inventory value of women sold',[1],'YEAR','SEX')\n",
    "plot_col1_against_col2_by_year('SALEVALP', 'Year', 'Total sale value of women sold',[1],'YEAR', 'SEX')\n",
    "\n",
    "plot_col1_against_col2_by_year('INVVALP', 'Year', 'Total inventory value of Pregnant persons',[1],'YEAR','PREGNANT')"
   ]
  },
  {
   "cell_type": "code",
   "execution_count": 204,
   "id": "3be0ac5a-842e-4eda-8ddd-17045eba86d4",
   "metadata": {},
   "outputs": [
    {
     "name": "stdout",
     "output_type": "stream",
     "text": [
      "{'1721': 826, '1723': 118, '1724': 24, '1725': 20, '1726': 168, '1727': 30, '1728': 124, '1729': 8, '1730': 66, '1731': 162, '1733': 2, '1734': 14, '1735': 158, '1736': 102, '1737': 134, '1738': 334, '1739': 260, '1740': 166, '1741': 28, '1742': 4, '1743': 22, '1744': 98, '1745': 130, '1746': 198, '1747': 216, '1748': 114, '1749': 24, '1750': 4, '1751': 8, '1752': 12, '1753': 84, '1754': 4, '1755': 36, '1756': 8, '1757': 2, '1758': 372, '1759': 40, '1760': 106, '1761': 10, '1762': 156, '1763': 134, '1764': 292, '1765': 382, '1766': 134, '1767': 118, '1768': 112, '1769': 350, '1770': 328, '1771': 342, '1772': 212, '1773': 336, '1774': 312, '1775': 304, '1776': 408, '1777': 696, '1778': 404, '1779': 622, '1780': 610, '1781': 408, '1782': 392, '1783': 542, '1784': 486, '1785': 476, '1786': 356, '1787': 518, '1788': 672, '1789': 718, '1790': 1134, '1791': 784, '1792': 878, '1793': 1034, '1794': 1086, '1795': 762, '1796': 756, '1797': 732, '1798': 796, '1799': 632, '1800': 1184, '1801': 674, '1802': 910, '1803': 1394, '1804': 806, '1805': 1230, '1806': 1964, '1807': 1600, '1808': 1808, '1809': 2722, '1810': 2804, '1811': 3086, '1812': 2396, '1813': 2258, '1814': 2882, '1815': 3284, '1816': 4152, '1817': 3688, '1818': 6158, '1819': 5558, '1820': 4756}\n"
     ]
    },
    {
     "data": {
      "image/png": "[encoded data removed]",
      "text/plain": [
       "<Figure size 432x288 with 1 Axes>"
      ]
     },
     "metadata": {
      "needs_background": "light"
     },
     "output_type": "display_data"
    },
    {
     "name": "stdout",
     "output_type": "stream",
     "text": [
      "Correlation between  YEAR  and  SEX :  -0.39543197793481294\n",
      "Standard deviation between SEX  filtered on YEAR :  1211.480870343673\n",
      "Median value of SEX filtered on YEAR [1] :  346.0\n",
      "{'1721': 1430, '1723': 248, '1724': 46, '1725': 40, '1726': 288, '1727': 56, '1728': 676, '1729': 28, '1730': 120, '1731': 526, '1733': 10, '1734': 44, '1735': 320, '1736': 178, '1737': 182, '1738': 480, '1739': 476, '1740': 282, '1741': 48, '1742': 20, '1743': 40, '1744': 160, '1745': 220, '1746': 262, '1747': 278, '1748': 188, '1749': 58, '1750': 8, '1751': 22, '1752': 32, '1753': 146, '1754': 2, '1755': 52, '1756': 10, '1757': 8, '1758': 586, '1759': 34, '1760': 148, '1761': 16, '1762': 218, '1763': 162, '1764': 510, '1765': 480, '1766': 244, '1767': 136, '1768': 160, '1769': 408, '1770': 396, '1771': 496, '1772': 292, '1773': 362, '1774': 390, '1775': 370, '1776': 520, '1777': 968, '1778': 554, '1779': 698, '1780': 742, '1781': 588, '1782': 590, '1783': 774, '1784': 758, '1785': 710, '1786': 702, '1787': 916, '1788': 1248, '1789': 1296, '1790': 1806, '1791': 1168, '1792': 1284, '1793': 1492, '1794': 1506, '1795': 1174, '1796': 732, '1797': 900, '1798': 930, '1799': 758, '1800': 1558, '1801': 832, '1802': 1108, '1803': 2048, '1804': 1014, '1805': 1512, '1806': 2602, '1807': 2132, '1808': 2534, '1809': 3606, '1810': 3268, '1811': 4046, '1812': 2788, '1813': 3220, '1814': 3702, '1815': 3804, '1816': 4988, '1817': 4150, '1818': 6630, '1819': 5902, '1820': 5602}\n"
     ]
    },
    {
     "data": {
      "image/png": "[encoded data removed]",
      "text/plain": [
       "<Figure size 432x288 with 1 Axes>"
      ]
     },
     "metadata": {
      "needs_background": "light"
     },
     "output_type": "display_data"
    },
    {
     "name": "stdout",
     "output_type": "stream",
     "text": [
      "Correlation between  YEAR  and  SEX :  -0.39543197793481294\n",
      "Standard deviation between SEX  filtered on YEAR :  1399.7931161472854\n",
      "Median value of SEX filtered on YEAR [2] :  515.0\n",
      "{'1727': 4, '1764': 2, '1765': 4, '1766': 2, '1769': 2, '1784': 2, '1787': 4, '1790': 2, '1793': 4, '1805': 2, '1806': 2, '1809': 4, '1810': 4, '1811': 2, '1812': 6, '1815': 4, '1818': 2}\n"
     ]
    },
    {
     "data": {
      "image/png": "[encoded data removed]",
      "text/plain": [
       "<Figure size 432x288 with 1 Axes>"
      ]
     },
     "metadata": {
      "needs_background": "light"
     },
     "output_type": "display_data"
    },
    {
     "name": "stdout",
     "output_type": "stream",
     "text": [
      "Correlation between  YEAR  and  APPRENTICE :  -0.004098548894959832\n",
      "Standard deviation between APPRENTICE  filtered on YEAR :  1.211250604822\n",
      "Median value of APPRENTICE filtered on YEAR [1] :  2\n"
     ]
    }
   ],
   "source": [
    "plot_col1_against_col2_by_year('SEX','Year','Women sold into slavery',[1] )\n",
    "plot_col1_against_col2_by_year('SEX','Year','Men sold into slavery',[2])\n",
    "plot_col1_against_col2_by_year('APPRENTICE','Year','Number of apprentices sold',[1])"
   ]
  },
  {
   "cell_type": "code",
   "execution_count": null,
   "id": "9a14c961-21ab-4cbc-8264-bf18b471afd9",
   "metadata": {},
   "outputs": [],
   "source": [
    "plot_col1_against_col2_by_year('INVVALP', 'Year', 'Inventory value of expert slaves',[-1,0],'YEAR','EXPERT')\n",
    "\n",
    "plot_col1_against_col2_by_year('INVVALP', 'Year','Inventory value of non-expert slaves',[1],'YEAR', 'EXPERT')\n",
    "plot_col1_against_col2_by_year('SALEVALP', 'Year', 'Sale value of expert slaves', [-1,0], 'YEAR', 'EXPERT')\n",
    "plot_col1_against_col2_by_year('SALEVALP', 'Year', 'Sale value of non-expert slaves', [1], 'YEAR', 'EXPERT')\n"
   ]
  },
  {
   "cell_type": "code",
   "execution_count": 409,
   "id": "f687e66a-622b-47ed-862c-36012dcbe95e",
   "metadata": {},
   "outputs": [
    {
     "data": {
      "image/png": "[encoded data removed]",
      "text/plain": [
       "<Figure size 432x288 with 1 Axes>"
      ]
     },
     "metadata": {
      "needs_background": "light"
     },
     "output_type": "display_data"
    },
    {
     "data": {
      "image/png": "[encoded data removed]",
      "text/plain": [
       "<Figure size 432x288 with 1 Axes>"
      ]
     },
     "metadata": {
      "needs_background": "light"
     },
     "output_type": "display_data"
    },
    {
     "data": {
      "image/png": "[encoded data removed]",
      "text/plain": [
       "<Figure size 432x288 with 1 Axes>"
      ]
     },
     "metadata": {
      "needs_background": "light"
     },
     "output_type": "display_data"
    },
    {
     "data": {
      "image/png": "[encoded data removed]",
      "text/plain": [
       "<Figure size 432x288 with 1 Axes>"
      ]
     },
     "metadata": {
      "needs_background": "light"
     },
     "output_type": "display_data"
    }
   ],
   "source": [
    "plot_col1_against_col2_by_year('INVVALP', 'Year', 'Inventory value of apprenticed slaves',[-1,0],'YEAR','APPRENTICE')\n",
    "plot_col1_against_col2_by_year('INVVALP', 'Year', 'Inventory value of non-apprenticed slaves',[1],'YEAR', 'APPRENTICE')\n",
    "plot_col1_against_col2_by_year('SALEVALP','Year', 'Sale value of apprenticed slaves',[-1,0],'YEAR','APPRENTICE')\n",
    "plot_col1_against_col2_by_year('SALEVALP','Year', 'Sale value of non-apprenticed slaves',[1],'YEAR', 'APPRENTICE')"
   ]
  },
  {
   "cell_type": "code",
   "execution_count": 410,
   "id": "a4c3d600-fb86-4ce3-922b-cbf5cfdeb9c5",
   "metadata": {},
   "outputs": [
    {
     "data": {
      "image/png": "[encoded data removed]",
      "text/plain": [
       "<Figure size 432x288 with 1 Axes>"
      ]
     },
     "metadata": {
      "needs_background": "light"
     },
     "output_type": "display_data"
    },
    {
     "data": {
      "image/png": "[encoded data removed]",
      "text/plain": [
       "<Figure size 432x288 with 1 Axes>"
      ]
     },
     "metadata": {
      "needs_background": "light"
     },
     "output_type": "display_data"
    },
    {
     "data": {
      "image/png": "[encoded data removed]",
      "text/plain": [
       "<Figure size 432x288 with 1 Axes>"
      ]
     },
     "metadata": {
      "needs_background": "light"
     },
     "output_type": "display_data"
    },
    {
     "data": {
      "image/png": "[encoded data removed]",
      "text/plain": [
       "<Figure size 432x288 with 1 Axes>"
      ]
     },
     "metadata": {
      "needs_background": "light"
     },
     "output_type": "display_data"
    }
   ],
   "source": [
    "# Women = 1 on SEX category\n",
    "plot_col1_against_col2_by_year('INVVALP', 'Year', 'Inventory value of women',[-1,0,2,9],'YEAR','SEX')\n",
    "plot_col1_against_col2_by_year('INVVALP', 'Year', 'Inventory value of non-women',[1],'YEAR', 'SEX')\n",
    "plot_col1_against_col2_by_year('SALEVALP','Year', 'Sale value of women',[-1,0,2,9],'YEAR','SEX')\n",
    "plot_col1_against_col2_by_year('SALEVALP','Year', 'Sale value of non-women',[1],'YEAR', 'SEX')"
   ]
  },
  {
   "cell_type": "code",
   "execution_count": 342,
   "id": "5a5c6b3e-ec53-4fde-9127-44eb5be2ed67",
   "metadata": {},
   "outputs": [
    {
     "data": {
      "image/png": "[encoded data removed]",
      "text/plain": [
       "<Figure size 432x288 with 1 Axes>"
      ]
     },
     "metadata": {
      "needs_background": "light"
     },
     "output_type": "display_data"
    },
    {
     "data": {
      "image/png": "[encoded data removed]",
      "text/plain": [
       "<Figure size 432x288 with 1 Axes>"
      ]
     },
     "metadata": {
      "needs_background": "light"
     },
     "output_type": "display_data"
    },
    {
     "data": {
      "image/png": "[encoded data removed]",
      "text/plain": [
       "<Figure size 432x288 with 1 Axes>"
      ]
     },
     "metadata": {
      "needs_background": "light"
     },
     "output_type": "display_data"
    }
   ],
   "source": [
    "# Women = 1 on SEX category\n",
    "plot_col1_against_col2_by_year('INVVALP', 'Year', 'Inventory value of unidentified gender',[-1,0,2,9],'YEAR','SEX')\n",
    "plot_col1_against_col2_by_year('SALEVALP', 'Year', 'SALE value of identified gender',[-1,0,2,9],'YEAR', 'SEX')\n",
    "\n",
    "plot_col1_against_col2_by_year('INVVALP', 'Year', 'Inventory value of Pregnant persons',[-1,0,2,9],'YEAR','PREGNANT')\n"
   ]
  },
  {
   "cell_type": "code",
   "execution_count": 411,
   "id": "9e29d4fe-6d07-4c1c-a1f4-e29b427144d4",
   "metadata": {},
   "outputs": [
    {
     "data": {
      "image/png": "[encoded data removed]",
      "text/plain": [
       "<Figure size 432x288 with 1 Axes>"
      ]
     },
     "metadata": {
      "needs_background": "light"
     },
     "output_type": "display_data"
    },
    {
     "data": {
      "image/png": "[encoded data removed]",
      "text/plain": [
       "<Figure size 432x288 with 1 Axes>"
      ]
     },
     "metadata": {
      "needs_background": "light"
     },
     "output_type": "display_data"
    }
   ],
   "source": [
    "# Men = 2 on SEX category\n",
    "plot_col1_against_col2_by_year('INVVALP', 'Year', 'Total inventory value of men sold',[-1,0,1,9],'YEAR','SEX')\n",
    "plot_col1_against_col2_by_year('SALEVALP', 'Year', 'Total sale value of men sold',[-1,0,1,9],'YEAR', 'SEX')"
   ]
  },
  {
   "cell_type": "code",
   "execution_count": null,
   "id": "d4052bb5-06c1-4f7e-8328-72b5dcb62864",
   "metadata": {},
   "outputs": [],
   "source": []
  }
 ],
 "metadata": {
  "kernelspec": {
   "display_name": "Python 3 (ipykernel)",
   "language": "python",
   "name": "python3"
  },
  "language_info": {
   "codemirror_mode": {
    "name": "ipython",
    "version": 3
   },
   "file_extension": ".py",
   "mimetype": "text/x-python",
   "name": "python",
   "nbconvert_exporter": "python",
   "pygments_lexer": "ipython3",
   "version": "3.8.5"
  }
 },
 "nbformat": 4,
 "nbformat_minor": 5
}
