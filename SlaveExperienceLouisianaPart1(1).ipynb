{
 "cells": [
  {
   "cell_type": "markdown",
   "id": "776e7b47-dd2b-418c-a17f-c7c509cd067f",
   "metadata": {},
   "source": [
    "Last article, I gave my basic reasons for pursuing a research project into the changing demographics of the slave trade in the Americas. This was very broad, and very vague. However, now I am about to plunge into locating the necessary data to reconstruct the history I wish to reconstruct. And already I am running into technical issues. \n",
    "\n",
    "The archive I want to use was created 22 years ago, back when Microsoft was the preeminent provider of consumer computer products. Everything is saved as a .dbf database file, with .sav, .sps and other files used to port it to an SPSS application. I had never heard of SPSS before this project. It's a proprietary system currently owned by IBM and used heavily in the GIS community. Opening this type of layered database file in a modern environment is complicated. Microsoft has a deprecated product, Visual FoxPro, and of course there are paid products. However, I want to use a modern Jupyter notebook with Python, pandas and other standard data science tools.\n",
    "\n",
    "I turned to the great oracle, Google, to find out how to open a .dbf file in Jupyter. There is a fairly well known package, PySal, that seemed ideal. Unfortunately, I am using Python 3.8. Pysal is dependent on a package called Rasterio, which in turn is dependent on a set of C libraries called GDAL. And here is where I ran into issues. GDAL does not, for some reason, edit its path environment variables on a Windows machine with Python 3.8. There are open issues with several development teams, but all are quite recent (the past year or so) and the issue is not yet fixed. While I'd love to use a Linux machine, at the moment I'm stuck with Windows.\n",
    "\n",
    "So I am going to have to sacrifice the convenience of Pysal and turn to a more hacked together solution. Python comes with a dbfread library. It is going to take some work to get dbfread into Pandas, but hopefully not too much."
   ]
  },
  {
   "cell_type": "code",
   "execution_count": 1,
   "id": "7172926a-631f-40e3-9329-320309174275",
   "metadata": {},
   "outputs": [],
   "source": [
    "import pandas as pd\n",
    "\n",
    "from dbfread import DBF\n",
    "\n",
    "# Need this later on for data cleaning\n",
    "import numpy as np\n",
    "import datetime\n",
    "import scipy as sc\n",
    "from statsmodels.graphics.gofplots import qqplot\n",
    "\n",
    "# Chart visualization\n",
    "import matplotlib.pyplot as plt\n",
    "from matplotlib.colors import ListedColormap\n",
    "\n",
    "\n",
    "# Nearest Neighbor Algorithm\n",
    "from sklearn.model_selection import train_test_split\n",
    "from sklearn.preprocessing import StandardScaler\n",
    "from sklearn.neighbors import KNeighborsClassifier\n",
    "from sklearn.metrics import classification_report, confusion_matrix\n",
    "import plotly.graph_objects as go\n",
    "import numpy as np\n",
    "from sklearn.datasets import make_moons\n",
    "from sklearn.model_selection import train_test_split\n",
    "from sklearn.neighbors import KNeighborsClassifier\n",
    "import statistics"
   ]
  },
  {
   "cell_type": "code",
   "execution_count": 2,
   "id": "2c0fd65c-b775-44ac-98f8-7a8bf4e7046c",
   "metadata": {},
   "outputs": [
    {
     "data": {
      "text/plain": [
       "[]"
      ]
     },
     "execution_count": 2,
     "metadata": {},
     "output_type": "execute_result"
    },
    {
     "data": {
      "image/png": "[encoded data removed]",
      "text/plain": [
       "<Figure size 432x288 with 1 Axes>"
      ]
     },
     "metadata": {
      "needs_background": "light"
     },
     "output_type": "display_data"
    }
   ],
   "source": [
    "plt.plot()"
   ]
  },
  {
   "cell_type": "markdown",
   "id": "cb477f82-3e6f-4682-adb8-d6e26891e34e",
   "metadata": {},
   "source": [
    "Above, I imported Pandas. Pandas is perhaps the most popular data science package for Python and is extremely useful. I've used some of its competitors, especially Turi, and Pandas is both better documented and more supported. It does have some strange quirks, such as its odd use of zero indexing, but overall is a fun package to use.\n",
    "\n",
    "Notice I'm also using dbfread. I'm using a script form the documentation at https://dbfread.readthedocs.io/en/latest/exporting_data.html. Please be nice to me processor gods, I just want a dataframe."
   ]
  },
  {
   "cell_type": "code",
   "execution_count": 3,
   "id": "ebae8a97-f821-4124-b87b-7577cfce8905",
   "metadata": {},
   "outputs": [],
   "source": [
    "dbf = DBF('SLAVE.DBF')"
   ]
  },
  {
   "cell_type": "markdown",
   "id": "bf1123a0-d04a-4fc0-bfbc-a60b1d9a2af7",
   "metadata": {},
   "source": [
    "Let's try to convert the .dbf database into a Pandas dataframe. I'm going to use Pandass' inbuilt DataFrame function because it will continue to be updated with Pandas' development. It is important to note that dbfread is only a somewhat maintained library. After parsing the source code, I noticed a lot of development is still needed. This would come back to bite me as I worked with this project. Per dbfread's documentation, we also need to pass an iterable form of the dbf file we created above. Below is the single line of code that nearly destroyed my sanity."
   ]
  },
  {
   "cell_type": "code",
   "execution_count": 4,
   "id": "74d0a99f-f44f-4c0e-8c6f-da388d77e8ab",
   "metadata": {},
   "outputs": [],
   "source": [
    "df = pd.DataFrame(iter(dbf))"
   ]
  },
  {
   "cell_type": "markdown",
   "id": "5d396c15-f576-49af-98b3-5e46a73a02b1",
   "metadata": {},
   "source": [
    "Originally, this errored. And it errored in the most bizarre way. It was throwing errors about float numbers and integers with full stops. I was very confused and google didn't help much. In fact, most people just ended up editing their data file. I do not have the ability to open a dbf file, nor did I really want to open a file, edit it however many times, and close it again. So, I opened the source code of dbfread to the line that triggered the exception. Below I have a copy of the exception, lovingly recreated for you after I fixed it. Notice all the nonsense about integers and floats and b'.'."
   ]
  },
  {
   "cell_type": "markdown",
   "id": "c9d02239-67e6-4b60-9452-30ecce73e21d",
   "metadata": {},
   "source": [
    "---------------------------------------------------------------------------\n",
    "ValueError                                Traceback (most recent call last)\n",
    "c:\\users\\casti\\appdata\\local\\programs\\python\\python38\\lib\\site-packages\\dbfread\\field_parser.py in parseN(self, field, data)\n",
    "    179         try:\n",
    "--> 180             return int(data)\n",
    "    181         except ValueError:\n",
    "\n",
    "ValueError: invalid literal for int() with base 10: b'.'\n",
    "\n",
    "***Edited for clarity***\n",
    "\n",
    "c:\\users\\casti\\appdata\\local\\programs\\python\\python38\\lib\\site-packages\\dbfread\\field_parser.py in parseN(self, field, data)\n",
    "    184             else:\n",
    "    185                 # Account for , in numeric fields\n",
    "--> 186                 return float(data.replace(b',',b'.'))\n",
    "    187                 '''\n",
    "    188                 if isinstance(data, float) or len(data) >= 2:\n",
    "\n",
    "ValueError: could not convert string to float: b'.'"
   ]
  },
  {
   "cell_type": "markdown",
   "id": "db7e8827-5c1e-4bc0-8d7b-4e39fca73c6f",
   "metadata": {},
   "source": [
    "As I said, googling this error only turned up more people with the same issue. Since I couldn't use the package that everyone else seemed to prefer (PySal!) I decided to wade into the source code. Perhaps somewhere in the field_parser.py file I'd find a clue to fixing my code.\n",
    "\n",
    "I didn't. Instead, I found the reason the code errored in the first place. Here's some code taken directly from the fieldParser.py file in the dbfread package.\n",
    "\n",
    "    def parseN(self, field, data):\n",
    "        \"\"\"\n",
    "        Parse numeric field (N)\n",
    "\n",
    "        Returns int, float or None if the field is empty.\n",
    "        \"\"\"\n",
    "        \n",
    "        # In some files * is used for padding.\n",
    "        data = data.strip().strip(b'*')\n",
    "        try:\n",
    "            return int(data)\n",
    "        except ValueError:\n",
    "            if not data.strip():\n",
    "                return None\n",
    "            else:\n",
    "                # Account for , in numeric fields\n",
    "                return float(data.replace(b',',b'.'))\n",
    "                \n",
    "Folks, that was the entirety of the exception handling. The default case was, simply, to replace all commas with full stops and then try to convert whatever monstrosity resulted into a float. It is understandable Python didn't really want to do this. By this logic, if the number 1,234.56 was passed to the parseN method, the result would be 1.234.56. This is, obviously, neither a float nor an integer. It is an unholy creation of man. I decided to fix this.\n",
    "\n",
    "First, I decided the final case should be the float NaN. NaN stands for, in the surreally linear logic of computer scientists, *N*ot *A* *N*umber. Get it? NaN...Not A Number. This meant that, if the code was absolutely sure we were dealing with numbers, but it kept mangling whatever it was passed, it should just insert the Pythonic equivalent of a shrug. This is probably not the best design, but short of refactoring the whole dbfreads library I thought it would work as a stopgap. The code now read:\n",
    "\n",
    "    def parseN(self, field, data):\n",
    "        \"\"\"\n",
    "        Parse numeric field (N)\n",
    "\n",
    "        Returns int, float or None if the field is empty.\n",
    "        \"\"\"\n",
    "        \n",
    "        # In some files * is used for padding.\n",
    "        \n",
    "        data = data.strip().strip(b'*')\n",
    "        try:\n",
    "            return int(data)\n",
    "        except ValueError:\n",
    "            if not data.strip():\n",
    "                return None\n",
    "            else:\n",
    "                # Account for , in numeric fields\n",
    "                if isinstance(data, float):\n",
    "                    return float(data.replace(b',', b'.')\n",
    "                return float(b\"NaN\")\n",
    "                \n",
    "I don't actually know why the function needs to return a binary code. Perhaps there's a calling function somewhere in dbfreads that only accepts binary. Maybe it's a powermove on the part of the developers, who wanted to remind the computer it only speaks binary. Nonetheless, I am now returning the binary version of the float number \"NaN\".\n",
    "\n",
    "This didn't quite fix my problem. Instead, I still kept getting that error about the binary full stop from earlier. It had moved on a few lines (I was inserting counters at one point to trace where in the file there were errors) but I was still having problems with this function. So I started thinking about when a number might *look* like a float but was, in fact, never meant to be such a thing. Suppose there was a field that said *0,*. This would obviously be corruption or entry error, but hey data is messy. If you called this parseN function on *0,*, it wouldn't convert to an integer, it *would* raise an exception, but would not trigger the replace method. Instead, it would turn into a float \"NaN\". I didn't want that data loss, even if I don't understand the data. So, I should really build a trap for such pieces of data.\n",
    "\n",
    "\n",
    "    def parseN(self, field, data):\n",
    "        \"\"\"\n",
    "        Parse numeric field (N)\n",
    "\n",
    "        Returns int, float or None if the field is empty.\n",
    "        \"\"\"\n",
    "        \n",
    "        # In some files * is used for padding.\n",
    "        data = data.strip().strip(b'*')\n",
    "\n",
    "        try:\n",
    "            return int(data)\n",
    "        except ValueError:\n",
    "            if not data.strip():\n",
    "                return None\n",
    "            else:\n",
    "                # Account for , in numeric fields\n",
    "\n",
    "                if len(data) >= 2:\n",
    "                    return float(data.replace(b',',b'.'))\n",
    "                return float(b'NaN')\n",
    "                \n",
    "See my clever little trap? I'm checking to see if the length of the data is over 2. Why? Well, I've already checked if the number is a float. If the data was *0,0* it would already be caught. But the number *1,500.0* still won't be caught. I don't want numbers that are only 1 digit long. They will easily convert to integers, unless the program is trying to pass *','* or some other crazy character as a number. I don't know enought about the program to dig through why it is trying to pass those characters, so I weed them out with the length check. Now, *1,500.0* will get the floating point conversion treatment it deserves."
   ]
  },
  {
   "cell_type": "markdown",
   "id": "d1e341b7-d6fa-4b58-ae04-3732316e4435",
   "metadata": {},
   "source": [
    "I also had to make one other little edit. There was a similar problem with a datetime method. However, in this case it looks like the originaly developer forgot to add a .strip() method they clearly meant to. This is because, in the comments, they clearly indicate they intend on testing for both empty spaces *and* spaces full of zeros for a datetime column. Nonetheless, they only strip off the zeros, not the spaces. I added a clause looking for the empty spaces and now it works."
   ]
  },
  {
   "cell_type": "markdown",
   "id": "b02e469c-01e8-4dc2-b282-42cdea3ce4ca",
   "metadata": {},
   "source": [
    "This is the end of the post. There's still a lot of work to do to make this data accessible and accurate enough for any sort of valid historical conclusions to be drawn. However, it is now loaded, the dbfread source code has been strengthened, and it's time to take a break. Somewhere, distantly, I hear a martini glass clinking."
   ]
  },
  {
   "cell_type": "markdown",
   "id": "e18329b8-362a-46de-b674-7342f602c52a",
   "metadata": {},
   "source": [
    "OK, picking up where I left off. It's time to clean this data! To see what I mean, observe the following code:"
   ]
  },
  {
   "cell_type": "code",
   "execution_count": 5,
   "id": "4a9a1de0-18c9-4b24-9abe-116c9873679d",
   "metadata": {},
   "outputs": [
    {
     "data": {
      "text/plain": [
       "DOCDATE        object\n",
       "YEAR            int64\n",
       "DOCNO          object\n",
       "NOTARY         object\n",
       "CODER         float64\n",
       "               ...   \n",
       "ARRIVEDATE     object\n",
       "FROM           object\n",
       "UNBAPT        float64\n",
       "VIA           float64\n",
       "COMMENTS       object\n",
       "Length: 114, dtype: object"
      ]
     },
     "execution_count": 5,
     "metadata": {},
     "output_type": "execute_result"
    }
   ],
   "source": [
    "df.dtypes\n",
    "\n",
    "    "
   ]
  },
  {
   "cell_type": "markdown",
   "id": "ce187f1d-c926-44a0-a107-9d1d2fcf2d29",
   "metadata": {},
   "source": [
    "While there are 114 columns to be concerned about, we need to start at the very beginning. The column DOCDATE should be a datetime object, but notice that Pandas currently only knows that this column is an object. The object dtype indicates some form of string, or a mixed type column. This tricky little clause means we are uncertain if all but one DOCDATE entries is a proper datetime object, and one is broken, or if there is a scattering of non-datetime objects."
   ]
  },
  {
   "cell_type": "code",
   "execution_count": 6,
   "id": "5e48973e-89f8-478c-a1e4-60230c84a4da",
   "metadata": {},
   "outputs": [
    {
     "data": {
      "text/plain": [
       "dtype('<M8[ns]')"
      ]
     },
     "execution_count": 6,
     "metadata": {},
     "output_type": "execute_result"
    }
   ],
   "source": [
    "df['DOCDATE'] = pd.to_datetime(df['DOCDATE'])\n",
    "df['DOCDATE'].dtype"
   ]
  },
  {
   "cell_type": "code",
   "execution_count": 7,
   "id": "db8a7c40-4c46-471d-80ee-48e82309ab41",
   "metadata": {},
   "outputs": [
    {
     "data": {
      "text/plain": [
       "DOCDATE       datetime64[ns]\n",
       "YEAR                   int64\n",
       "DOCNO                 object\n",
       "NOTARY                object\n",
       "CODER                float64\n",
       "                   ...      \n",
       "ARRIVEDATE            object\n",
       "FROM                  object\n",
       "UNBAPT               float64\n",
       "VIA                  float64\n",
       "COMMENTS              object\n",
       "Length: 114, dtype: object"
      ]
     },
     "execution_count": 7,
     "metadata": {},
     "output_type": "execute_result"
    }
   ],
   "source": [
    "df.dtypes"
   ]
  },
  {
   "cell_type": "markdown",
   "id": "0ab1fd2c-90c3-456f-a231-5118972342ae",
   "metadata": {},
   "source": [
    "Surprisingly, I was able to simply convert the DOCDATE column directly to the datetime object in Python. This indicates the DOCDATE column was, in fact, full of dates and not something else. We can continue on like this for all 114 columns. "
   ]
  },
  {
   "cell_type": "markdown",
   "id": "7bf31db7-e379-49d4-b623-f055f1c49cfc",
   "metadata": {},
   "source": [
    "I'm about to do something a bit controversial. Essentially, I'm converting my YEAR column, but to an integer and not a date. My reason for this is pretty simple. I don't actually want to use the year column AS a date. Dates are for things like machine output and other artifacts from the Information Age. I'm interested in a simple number, namely the number of years in the Common Era. I may have to manipulate this data in ways that is more useful as an integer, such as finding how many years elapsed between a slaves sale and resale, etc. While there are probably functions for all of this work, for the sake of clarity I'm converting YEAR into an integer and not a date."
   ]
  },
  {
   "cell_type": "code",
   "execution_count": 8,
   "id": "eecf5a9c-c348-47de-9b9f-7ebabdf0845b",
   "metadata": {},
   "outputs": [
    {
     "data": {
      "text/plain": [
       "0         1719\n",
       "1         1719\n",
       "2         1719\n",
       "3         1719\n",
       "4         1719\n",
       "          ... \n",
       "100661    1820\n",
       "100662    1820\n",
       "100663    1820\n",
       "100664    1820\n",
       "100665    1820\n",
       "Name: YEAR, Length: 100666, dtype: int32"
      ]
     },
     "execution_count": 8,
     "metadata": {},
     "output_type": "execute_result"
    }
   ],
   "source": [
    "df['YEAR'].astype('int')"
   ]
  },
  {
   "cell_type": "markdown",
   "id": "c4039cc0-fdff-420e-8ef3-60a127cf5a86",
   "metadata": {},
   "source": [
    "As fun as it might be to continually change each of these fields by hand, I'm the lazy sort of data analyst who believes computers were invented so I could lounge in the pool. It's time to put some good old Python into use. I know there are 114 columns. I know that I want *most* of those columns to be strings. This is because there is a lot of data that is best understood as text. Columns like NOTARY and FROM are clearly meant to be a personal name and a placename. However, there are a few that should *NOT* be strings. The column ARRIVEDATE, for instance, should always be a datetime. \n",
    "Other columns should be mostly an integer or float, except for some sort of value indicating an unknown status. The column AGE, for instance, should never be a string unless the answer is 'UNKNOWN'. While the practice of owning humans as chattel was dehumanizing in the extreme, the resale of humans did create a need for strict record keeping. Most slave ages would be known to a relatively sure degree, if they were born on a plantation. A slave newly trafficked, or perhaps resold from a more chaotic or fraudulent area, would have an unknown age. So what I need to do now is find all of the columns that *look* like they should be non-strings. If their current pandas dtype is 'object', this indicates mixed types such as a number and a string, a float and an int, or some other form of mixed up data.\n",
    "So, first, I need to identify which columns have mixed types. Below I wrote some code to iterate over the dataframe, select all of the object dtypes, and return a list. I know in introductory programming courses I hated the section on list comprehensions, because they seemed to be confusing, but in a Jupyter notebook like this it really is quite handy to have all of the code on a single line."
   ]
  },
  {
   "cell_type": "code",
   "execution_count": 9,
   "id": "f4d8108c-d87b-4786-af52-c2955a3134b5",
   "metadata": {},
   "outputs": [],
   "source": [
    "object_col = [col for col in df.columns if df[col].dtype == 'object']"
   ]
  },
  {
   "cell_type": "markdown",
   "id": "84cd420a-b5cb-4fe5-ac40-c96855bd82d2",
   "metadata": {},
   "source": [
    "Now that I know precisely what columns have an object dtype, I need to inspect the list manually. I don't know of an automatic way to figure out what columns shouldn't have strings. Perhaps when the singularity comes, this will be a side effect. Of course, it doesn't seem like Skynet or whatever Facebook means by Meta will care much for human history.\n",
    "\n",
    "So, should the Singularity come, I'm putting in my bid as Advisor to the Singularity on History. In the meantime, I'm going to try to continue rehumanizing people who were dehumanized. And fighting the good fight against corrupt data. And drink as many ciders as possible.\n",
    "\n",
    "To return to the point, let's see what columns might potentially need our attention."
   ]
  },
  {
   "cell_type": "code",
   "execution_count": 10,
   "id": "718f6626-3b04-4f89-8083-8fb140503777",
   "metadata": {},
   "outputs": [
    {
     "data": {
      "text/plain": [
       "['DOCNO',\n",
       " 'NOTARY',\n",
       " 'DATEINV',\n",
       " 'DATESALE',\n",
       " 'PARISH',\n",
       " 'ESTATE_OF',\n",
       " 'FIRSTNAME',\n",
       " 'ESTATE',\n",
       " 'SELLER',\n",
       " 'FIRST1',\n",
       " 'BUYER',\n",
       " 'FIRST2',\n",
       " 'NAMEXPLAIN',\n",
       " 'NAME',\n",
       " 'SKILLS',\n",
       " 'CHARACTER',\n",
       " 'SICK',\n",
       " 'SPELL',\n",
       " 'GROUPMEMB',\n",
       " 'INVCUR',\n",
       " 'SALECUR',\n",
       " 'FAMILY',\n",
       " 'SPNATMOM',\n",
       " 'MATENAME',\n",
       " 'SPELNAMATE',\n",
       " 'SPNADAD',\n",
       " 'SPNAGM',\n",
       " 'SPNAGRPA',\n",
       " 'CAPTAIN',\n",
       " 'SHIP',\n",
       " 'ARRIVEDATE',\n",
       " 'FROM',\n",
       " 'COMMENTS']"
      ]
     },
     "execution_count": 10,
     "metadata": {},
     "output_type": "execute_result"
    }
   ],
   "source": [
    "object_col"
   ]
  },
  {
   "cell_type": "markdown",
   "id": "8804b728-307a-40e7-9f9c-f7590a697ff4",
   "metadata": {},
   "source": [
    "From this list, I have identified only a few columns that clearly require an integer, float or date. 'DOCNO' is, I'm fairly certain, going to be a numeric code for the documents. It is also possible it is an alphanumeric code, but given the small(ish) number of documents and age of the project I suspect it is numeric. However, ARRIVEDATE, AGE, DATESALE and DATEINV all seem like they should not be strings. There are a few columns that I'm just not sure about. What is SALECUR? Or INVCUR? Since I don't know, I'll have to inspect the columns manually after I'm done this work. But for now, it is import to get as many columns as possible finished.\n",
    "Below I will make a list of columns I don't think are strings. I will call this, creatively, not_strings. I can add to it later using list methods, and delete if I'm mistaken. I am also using a list comprehension to pull out the not_strings entries from the object_col list. I will call this new list, again creatively, strings."
   ]
  },
  {
   "cell_type": "code",
   "execution_count": 11,
   "id": "7b3c7496-7d6b-4be8-894f-a6754ca8408e",
   "metadata": {},
   "outputs": [],
   "source": [
    "not_strings = ['DOCNO',\n",
    "               'ARRIVEDATE',\n",
    "               'AGE',\n",
    "               'DATESALE',\n",
    "               'DATEINV',\n",
    "               'CODER',\n",
    "               'DEPOT',\n",
    "               'LOCATION',\n",
    "               'DOCTYPE',\n",
    "               'MAROON',\n",
    "               'REVOLTS',\n",
    "               'LANGUAGE',\n",
    "               'AFLANG',\n",
    "               'LINGUISTIC',\n",
    "               'FREE',\n",
    "               'ESTFREE',\n",
    "               'ESTATEPOP',\n",
    "               'WENT',\n",
    "               'NAMETYPE',\n",
    "               'SEX',\n",
    "               'RACE',\n",
    "               'AGE',\n",
    "               'AGECATN',\n",
    "               'SKILLCAT',\n",
    "               'EXPERT',\n",
    "               'APPRENTICE',\n",
    "               'ALITTLE',\n",
    "               'SKILL2',\n",
    "               'SKILL3',\n",
    "               'SKILL4',\n",
    "               'SKILL5',\n",
    "               'CHARCAT',\n",
    "               'CHARCAT2',\n",
    "               'CHARCAT3',\n",
    "               'SICKCAT',\n",
    "               'SICK2',\n",
    "               'SICK3',\n",
    "               'SICK4',\n",
    "               'BIRTHPL',\n",
    "               'BRUT',\n",
    "               'GROUP',\n",
    "               'INVVALUE',\n",
    "               'INVVALP',\n",
    "               'SALEVALUE',\n",
    "               'SALEVALP',\n",
    "               'FAMILY_Y_N',\n",
    "               'CHILDREN',\n",
    "               'MALE',\n",
    "               'FEMALE',\n",
    "               'UNDER5',\n",
    "               'PREGNANT',\n",
    "               'MOTHER',\n",
    "               'AGEMOM',\n",
    "               'RACEMOM',\n",
    "               'INVWMOM',\n",
    "               'SOLDWMOM',\n",
    "               'ORMOM',\n",
    "               'MATE',\n",
    "               'AGEMATE',\n",
    "               'AGECATMATE',\n",
    "               'RACEMATE',\n",
    "               'ORIGINMATE',\n",
    "               'FATHER',\n",
    "               'AGEDAD',\n",
    "               'RACEDAD',\n",
    "               'ORDAD',\n",
    "               'GRANDCHILD',\n",
    "               'GRANDSONS',\n",
    "               'GDAUGHTERS',\n",
    "               'GRANDMA',\n",
    "               'AGEGRANDMA',\n",
    "               'ORGRANDMA',\n",
    "               'GRANPA',\n",
    "               'AGEGRANDPA',\n",
    "               'ORGRANDPA',\n",
    "               'EMANCIP',\n",
    "               'DEAD',\n",
    "               'RUNAWAY',\n",
    "               'ENTERPRISE',\n",
    "               'STPORT',\n",
    "               'VIA'\n",
    "              ]\n",
    "\n",
    "strings = [entry for entry in df if entry not in not_strings ]\n",
    "dates = ['DOCDATE','ARRIVEDATE','DATESALE','DATEINV']\n",
    "integers = [entries for entries in not_strings if entries not in dates]\n",
    "integers.append('YEAR')\n",
    "integers_and_dates = [entries for entries in integers or entries in dates]"
   ]
  },
  {
   "cell_type": "markdown",
   "id": "04d505a4-1f85-4b69-bc55-329d7a81de9d",
   "metadata": {},
   "source": [
    "Now that I have all of these lists floating around, it is time to actually convert things to strings. It took me awhile to figure out the current method to do this. Pandas was created as a numerical and scientific computing library. It is only recently that a better string dtype has been added. Using methods that seem obvious (to_string()) does not change the dtype. Instead, you need to use a very specific set of formats. Scouring the internet, again, is not very helpful, to the tune of, \"The documentation is your best source, look at it here\" https://pandas.pydata.org/pandas-docs/stable/user_guide/text.html. Although the string datatype was first implemented in Pandas 1.0.0, there are StackOverflow posts listing incorrect methods for this conversion. ONLY use the ones in the documentation."
   ]
  },
  {
   "cell_type": "code",
   "execution_count": 12,
   "id": "8ca731d3-1591-4481-9274-64dace0fdf20",
   "metadata": {},
   "outputs": [],
   "source": [
    "def cols_to_correct_type(list_col, type_col):\n",
    "    '''\n",
    "    Takes a list of columns that should be converted to a given type and converts them all.\n",
    "    '''\n",
    "    for entries in list_col: #iterate over my list of strings, not the entire Dataframe\n",
    "        df[entries] = df[entries].astype(type_col)  \n",
    "\n",
    "\n",
    "cols_to_correct_type(strings, 'string')\n",
    "\n"
   ]
  },
  {
   "cell_type": "code",
   "execution_count": 13,
   "id": "68a46813-8012-4879-8d5b-7a7c52c6f1eb",
   "metadata": {},
   "outputs": [
    {
     "data": {
      "text/plain": [
       "'DOCNO'"
      ]
     },
     "execution_count": 13,
     "metadata": {},
     "output_type": "execute_result"
    }
   ],
   "source": [
    "integers[0]\n"
   ]
  },
  {
   "cell_type": "code",
   "execution_count": 14,
   "id": "a8f6fc46-0aea-47b1-930c-f1cb8e86cc6e",
   "metadata": {},
   "outputs": [],
   "source": [
    "integers = integers[1:]"
   ]
  },
  {
   "cell_type": "code",
   "execution_count": 15,
   "id": "043bdd18-b13b-4147-8b49-6982dd07867c",
   "metadata": {},
   "outputs": [],
   "source": [
    "df[integers] = df[integers].fillna(-1)"
   ]
  },
  {
   "cell_type": "code",
   "execution_count": 16,
   "id": "511122c1-50a5-4400-8e82-32d926bc50ce",
   "metadata": {},
   "outputs": [],
   "source": [
    "df[strings] = df[strings].fillna('UNKNOWN')"
   ]
  },
  {
   "cell_type": "code",
   "execution_count": 17,
   "id": "7c98ccbe-4d1d-462b-9f93-3fc8d1879c6b",
   "metadata": {},
   "outputs": [],
   "source": [
    "df[strings] = df[strings].replace(r'\\s+','UNKNOWN')"
   ]
  },
  {
   "cell_type": "code",
   "execution_count": 18,
   "id": "25c82d76-4eb9-4779-920a-22c2b0b83817",
   "metadata": {},
   "outputs": [
    {
     "data": {
      "text/plain": [
       "False"
      ]
     },
     "execution_count": 18,
     "metadata": {},
     "output_type": "execute_result"
    }
   ],
   "source": [
    "df['DOCDATE'].isna().any()"
   ]
  },
  {
   "cell_type": "code",
   "execution_count": 19,
   "id": "0b9c5690-e5dc-45a2-8b91-f763ffa69af1",
   "metadata": {},
   "outputs": [],
   "source": [
    "df[dates] = df[dates].fillna(df['DOCDATE'])"
   ]
  },
  {
   "cell_type": "code",
   "execution_count": 20,
   "id": "be6d7530-0379-472b-89e8-39e78306cda3",
   "metadata": {},
   "outputs": [
    {
     "name": "stdout",
     "output_type": "stream",
     "text": [
      "DATEINV\n",
      "DATESALE\n",
      "ARRIVEDATE\n"
     ]
    }
   ],
   "source": [
    "for index, value in df.isna().any().items():\n",
    "    if value:\n",
    "        print(index)"
   ]
  },
  {
   "cell_type": "code",
   "execution_count": 21,
   "id": "d23caf6d-3edd-4578-9b36-19cff716e004",
   "metadata": {},
   "outputs": [
    {
     "data": {
      "text/plain": [
       "True"
      ]
     },
     "execution_count": 21,
     "metadata": {},
     "output_type": "execute_result"
    }
   ],
   "source": [
    "'ARRIVEDATE' in dates"
   ]
  },
  {
   "cell_type": "code",
   "execution_count": 22,
   "id": "c3e7a67a-f99c-41f9-8a8a-ecbea2b05fd5",
   "metadata": {},
   "outputs": [
    {
     "data": {
      "text/plain": [
       "False"
      ]
     },
     "execution_count": 22,
     "metadata": {},
     "output_type": "execute_result"
    }
   ],
   "source": [
    "df['ARRIVEDATE'] = df['ARRIVEDATE'].fillna(df['DOCDATE'])\n",
    "df['ARRIVEDATE'].isna().any()"
   ]
  },
  {
   "cell_type": "code",
   "execution_count": 23,
   "id": "84acb63b-5cd2-4526-947a-c7e451468b8e",
   "metadata": {},
   "outputs": [
    {
     "name": "stdout",
     "output_type": "stream",
     "text": [
      "['COMMENTS']\n"
     ]
    }
   ],
   "source": [
    "for col in strings:\n",
    "    offenders = []\n",
    "    if df[col].isin(['']).any():\n",
    "        offenders.append(col)\n",
    "print(offenders)\n"
   ]
  },
  {
   "cell_type": "code",
   "execution_count": 24,
   "id": "713d7513-6efd-4d20-a294-88d69ef7fd35",
   "metadata": {},
   "outputs": [],
   "source": [
    "df = df.drop(columns=['COMMENTS'])"
   ]
  },
  {
   "cell_type": "code",
   "execution_count": 25,
   "id": "e72f2bd0-c95c-433c-aa6c-9c4a11d02ebc",
   "metadata": {},
   "outputs": [
    {
     "data": {
      "text/plain": [
       "DOCDATE        string\n",
       "YEAR           string\n",
       "DOCNO          object\n",
       "NOTARY         string\n",
       "CODER         float64\n",
       "               ...   \n",
       "SHIP           string\n",
       "ARRIVEDATE     object\n",
       "FROM           string\n",
       "UNBAPT         string\n",
       "VIA           float64\n",
       "Length: 113, dtype: object"
      ]
     },
     "execution_count": 25,
     "metadata": {},
     "output_type": "execute_result"
    }
   ],
   "source": [
    "# Test to make sure I've successfully added strings\n",
    "df.dtypes"
   ]
  },
  {
   "cell_type": "markdown",
   "id": "af4883f2-051f-4e51-bafc-b0b43dc1797a",
   "metadata": {},
   "source": [
    "As you can see, I have successfully changed the vast majority of the columns to strings. However, I'm not done yet. What about those five columns with mixed types?"
   ]
  },
  {
   "cell_type": "code",
   "execution_count": 26,
   "id": "351e1789-dbc5-47de-9669-54a5d9787e6e",
   "metadata": {},
   "outputs": [
    {
     "data": {
      "text/plain": [
       "['DOCDATE', 'ARRIVEDATE', 'DATESALE', 'DATEINV']"
      ]
     },
     "execution_count": 26,
     "metadata": {},
     "output_type": "execute_result"
    }
   ],
   "source": [
    "dates"
   ]
  },
  {
   "cell_type": "markdown",
   "id": "7495f302-d04d-4924-90bc-ae9e03aee44f",
   "metadata": {},
   "source": [
    "Yeah, those. Let's fix those up. I suspect DOCNO should be a set of integers, but I'm not sure."
   ]
  },
  {
   "cell_type": "code",
   "execution_count": 27,
   "id": "7916612b-d54f-49ab-91b8-6f95821c9de3",
   "metadata": {},
   "outputs": [
    {
     "data": {
      "text/plain": [
       "0               \n",
       "1               \n",
       "2               \n",
       "3               \n",
       "4               \n",
       "           ...  \n",
       "100661      3754\n",
       "100662       223\n",
       "100663       224\n",
       "100664       363\n",
       "100665       363\n",
       "Name: DOCNO, Length: 100666, dtype: object"
      ]
     },
     "execution_count": 27,
     "metadata": {},
     "output_type": "execute_result"
    }
   ],
   "source": [
    "df['DOCNO']"
   ]
  },
  {
   "cell_type": "code",
   "execution_count": 28,
   "id": "531f45ad-d642-4b81-a843-26dce6108f61",
   "metadata": {},
   "outputs": [],
   "source": [
    "df['DOCNO'] = df['DOCNO'].fillna('-1')"
   ]
  },
  {
   "cell_type": "code",
   "execution_count": 29,
   "id": "4f01c709-9a81-4f42-ab77-fd15ef3f7d6f",
   "metadata": {},
   "outputs": [
    {
     "data": {
      "text/plain": [
       "False"
      ]
     },
     "execution_count": 29,
     "metadata": {},
     "output_type": "execute_result"
    }
   ],
   "source": [
    "df['DOCNO'].isna().any()"
   ]
  },
  {
   "cell_type": "code",
   "execution_count": 30,
   "id": "14085b23-f11e-4287-a218-494372156246",
   "metadata": {},
   "outputs": [
    {
     "data": {
      "text/plain": [
       "0               \n",
       "1               \n",
       "2               \n",
       "3               \n",
       "4               \n",
       "           ...  \n",
       "100661      3754\n",
       "100662       223\n",
       "100663       224\n",
       "100664       363\n",
       "100665       363\n",
       "Name: DOCNO, Length: 100666, dtype: object"
      ]
     },
     "execution_count": 30,
     "metadata": {},
     "output_type": "execute_result"
    }
   ],
   "source": [
    "df['DOCNO']"
   ]
  },
  {
   "cell_type": "code",
   "execution_count": 31,
   "id": "0b81397e-cf44-47ec-ad45-f57d5dc7e546",
   "metadata": {},
   "outputs": [],
   "source": [
    "df['DOCNO'] = df['DOCNO'].replace(''.strip(),-1,regex=True)"
   ]
  },
  {
   "cell_type": "code",
   "execution_count": 32,
   "id": "48249e3a-831a-40fd-9051-be0fda2eedff",
   "metadata": {},
   "outputs": [
    {
     "data": {
      "text/plain": [
       "0             -1\n",
       "1             -1\n",
       "2             -1\n",
       "3             -1\n",
       "4             -1\n",
       "           ...  \n",
       "100661      3754\n",
       "100662       223\n",
       "100663       224\n",
       "100664       363\n",
       "100665       363\n",
       "Name: DOCNO, Length: 100666, dtype: object"
      ]
     },
     "execution_count": 32,
     "metadata": {},
     "output_type": "execute_result"
    }
   ],
   "source": [
    "df['DOCNO']"
   ]
  },
  {
   "cell_type": "markdown",
   "id": "1849ad4b-3091-49d1-ad0e-6dd49efd4c0a",
   "metadata": {},
   "source": [
    "Looks pretty integery to me. Let's try to convert."
   ]
  },
  {
   "cell_type": "markdown",
   "id": "3ee16f78-3248-4731-b60c-3346784c2107",
   "metadata": {},
   "source": [
    "df['DOCNO'] = df['DOCNO'].astype('int')"
   ]
  },
  {
   "cell_type": "markdown",
   "id": "79f3a9aa-6624-4080-8729-7c2b1f57ace3",
   "metadata": {},
   "source": [
    "Ooooh hooo hooo. An error. What might this beastie be?\n",
    "\n",
    "ValueError: invalid literal for int() with base 10: ''\n",
    "\n",
    "Looks like there are some emtpy spaces and/or someone left a blank in the column. Luckily, this is Pandas. It was made for precisely this moment. I could, theoretically, write a for loop that would replace *''* with, well, anything I want. However, all I really need is to call Pandas' function *replace* and someone much better at optimization will take care of the matter for me.\n",
    "\n",
    "First, I want Pandas to recognize empty spaces as a missing value. Basically, Pandas would really prefer that everything was just numbers. The library was created by some mad scientists, after all, and was never intended for historical research. It doesn't like to recognize things like *None* or a blank space as a missing value. But history is full of messy people doing messy things, so we have to allow as many types of missing values as possible."
   ]
  },
  {
   "cell_type": "code",
   "execution_count": 33,
   "id": "84a0b5d0-696b-431c-9ae1-367f67b5cc1b",
   "metadata": {},
   "outputs": [],
   "source": [
    "pd.get_option(\"mode.use_inf_as_na\")\n",
    "pd.set_option(\"mode.use_inf_as_na\", True)"
   ]
  },
  {
   "cell_type": "markdown",
   "id": "819093cc-cfc5-4bc5-bd8a-fa5e78285a4f",
   "metadata": {},
   "source": [
    "OK, after some random sampling, it seems like df['DOCNO'] is full of strings that look like numbers to the human eye. Consider the very last such entry: df['DOCNO'][100665]."
   ]
  },
  {
   "cell_type": "code",
   "execution_count": 34,
   "id": "dc5c4410-4615-4523-b85e-bb043745fee7",
   "metadata": {},
   "outputs": [
    {
     "data": {
      "text/plain": [
       "'   363'"
      ]
     },
     "execution_count": 34,
     "metadata": {},
     "output_type": "execute_result"
    }
   ],
   "source": [
    "df['DOCNO'][100665]"
   ]
  },
  {
   "cell_type": "markdown",
   "id": "4fef8d70-7e14-498b-91f4-e3293692ff4e",
   "metadata": {},
   "source": [
    "I want to remove ALL leading spaces. "
   ]
  },
  {
   "cell_type": "code",
   "execution_count": 35,
   "id": "f1d61130-13b2-41ae-a276-2a5551f1822b",
   "metadata": {},
   "outputs": [
    {
     "data": {
      "text/plain": [
       "'363'"
      ]
     },
     "execution_count": 35,
     "metadata": {},
     "output_type": "execute_result"
    }
   ],
   "source": [
    "df['DOCNO'][100665].strip()"
   ]
  },
  {
   "cell_type": "markdown",
   "id": "9ed3e8d8-f4e9-4c9b-a340-95901891c14f",
   "metadata": {},
   "source": [
    "But not just for that one entry. I want to do it for the entire column. There is, however, a slight problem. Observe this:"
   ]
  },
  {
   "cell_type": "code",
   "execution_count": 36,
   "id": "7b8fd9c3-0fa0-4673-af50-cde00d2e5844",
   "metadata": {},
   "outputs": [
    {
     "data": {
      "text/plain": [
       "-1"
      ]
     },
     "execution_count": 36,
     "metadata": {},
     "output_type": "execute_result"
    }
   ],
   "source": [
    "df['DOCNO'][1]"
   ]
  },
  {
   "cell_type": "markdown",
   "id": "73fee3f3-ea12-4349-84a8-0b2bf1220508",
   "metadata": {},
   "source": [
    "I want to use the Pandas' replace function to insert NaN into every empty space. The reason for this is quite simple. An empty space may or may not be interpreted as a missing value, but NaN will ALWAYS be interpreted as a missing value."
   ]
  },
  {
   "cell_type": "code",
   "execution_count": 37,
   "id": "b07d2f6a-8f10-42a4-b1bd-eef80197b2f0",
   "metadata": {},
   "outputs": [],
   "source": [
    "df['DOCNO'] = df['DOCNO'].replace('',np.NaN)"
   ]
  },
  {
   "cell_type": "markdown",
   "id": "6cac2b20-471a-4771-8643-bbba9bf1e379",
   "metadata": {},
   "source": [
    "Pandas provides a method to check if I have empty values, as specified by NaN. It is the .isna() method."
   ]
  },
  {
   "cell_type": "code",
   "execution_count": 38,
   "id": "5c85ea79-a835-4eb3-b672-5481420f9361",
   "metadata": {},
   "outputs": [
    {
     "data": {
      "text/plain": [
       "0         False\n",
       "1         False\n",
       "2         False\n",
       "3         False\n",
       "4         False\n",
       "          ...  \n",
       "100661    False\n",
       "100662    False\n",
       "100663    False\n",
       "100664    False\n",
       "100665    False\n",
       "Name: DOCNO, Length: 100666, dtype: bool"
      ]
     },
     "execution_count": 38,
     "metadata": {},
     "output_type": "execute_result"
    }
   ],
   "source": [
    "df['DOCNO'].isna()"
   ]
  },
  {
   "cell_type": "markdown",
   "id": "82fa029f-ff82-4a98-a09e-78a9f0fd904c",
   "metadata": {},
   "source": [
    "OK, now I know that Pandas recognizes my missing values as missing values. What next? Well, let's try converting the DOCNO column to a float. NaN is technically a float value, and while Pandas provides an int64 type that will allow me to use NaN, I'd rather just convert to a float for now. The Pandas methods should also strip all of those leading blank spaces away. Hopefully. If the processor gods are merciful."
   ]
  },
  {
   "cell_type": "markdown",
   "id": "3c739790-8b74-4783-b274-7b2c56255d25",
   "metadata": {},
   "source": [
    "df['DOCNO'] = df['DOCNO'].astype('float')"
   ]
  },
  {
   "cell_type": "markdown",
   "id": "c687ca8b-c090-4c28-82ea-c3c043dad1d9",
   "metadata": {},
   "source": [
    "And...it errored. Why? Well, here is the error.\n",
    "\n",
    "ValueError: could not convert string to float: 'fol.89'\n",
    "\n",
    "This seems to say that I have a string in the column that I didn't know about. Unfortunately, I've already half converted the column to floats, so using string methods doesn't work too well. I'm going to have to sort through the column, look at the type of the individual row, and then find what columns contain anything with 'fol' in it."
   ]
  },
  {
   "cell_type": "code",
   "execution_count": 39,
   "id": "5e2b482d-a42a-4d10-94e8-3076ad6aa781",
   "metadata": {},
   "outputs": [
    {
     "name": "stdout",
     "output_type": "stream",
     "text": [
      "['fol.89']\n"
     ]
    }
   ],
   "source": [
    "def mixed_type_search(offending_phrase, col):\n",
    "    '''\n",
    "    Takes a string, the offending phrase, and searches for it in an entire column.\n",
    "    \n",
    "    Returns a list of all variations containing that phrase.\n",
    "    '''\n",
    "    # list of offending phrases\n",
    "    list_of_offense = []\n",
    "    \n",
    "    for elements in df[col]:       \n",
    "        try:\n",
    "            # We can only look at elements that are strings.\n",
    "            if type(elements) == str and offending_phrase in elements and elements not in list_of_offense:\n",
    "                list_of_offense.append(elements)\n",
    "                \n",
    "        except Exception as e:\n",
    "            try:\n",
    "                # This might go wrong. It shouldn't lead to an infinite loop, because the \n",
    "                # string conversion should make the offending value fail the test next go \n",
    "                # around.\n",
    "                \n",
    "                if type(elements) != str:\n",
    "                    mixed_type_search(str(elements),col)\n",
    "                    \n",
    "            except:\n",
    "                print(\"The offending phrase cannot be found due to type incompatibility\")\n",
    "                return False\n",
    "    return list_of_offense\n",
    "\n",
    "print(mixed_type_search('fol','DOCNO'))\n",
    "                "
   ]
  },
  {
   "cell_type": "markdown",
   "id": "8ab736f6-6648-4f5a-9b6d-c596106b66c7",
   "metadata": {},
   "source": [
    "Based on these results, it seems like there is only one fol (folder? folio? who cares?). It should be replaced with just simply the number 89, provided the number 89 doesn't already exist in the column. We should check that to make sure we aren't going to merge data that should be distinct."
   ]
  },
  {
   "cell_type": "code",
   "execution_count": 40,
   "id": "84e2aa78-b922-4901-8eea-60c7113c1999",
   "metadata": {},
   "outputs": [
    {
     "name": "stdout",
     "output_type": "stream",
     "text": [
      "Value is not in column already\n"
     ]
    }
   ],
   "source": [
    "def does_value_already_exist(value, col, sub_value=None):\n",
    "    '''\n",
    "    Takes a value and returns whether the column specified in col already contains\n",
    "    that value. Used to maintain unique data, such as in DOCNO.\n",
    "    \n",
    "    Value is used for longer strings such as 'fol.89'. But I want to check\n",
    "    whether 89 is in the file, but excluding fol.89.\n",
    "    '''\n",
    "    str(value)\n",
    "    str(col)\n",
    "    \n",
    "    # sub_value is optional so the method can be used with just one string\n",
    "    if value in df[col] and sub_value == None:\n",
    "        return True\n",
    "    \n",
    "    # exclusion logic\n",
    "    elif value not in df[col] and sub_value != None:\n",
    "        if sub_value in df[col] :\n",
    "            return True\n",
    "    return \"Value is not in column already\"\n",
    "\n",
    "print(does_value_already_exist('fol.89', 'DOCNO','89'))\n"
   ]
  },
  {
   "cell_type": "markdown",
   "id": "9f368403-b79f-4a51-844a-228ba30ad42c",
   "metadata": {},
   "source": [
    "Based on the results of the method above, I'd say we're ok replacing fol.89 with 89."
   ]
  },
  {
   "cell_type": "code",
   "execution_count": 41,
   "id": "b2da1a0d-cd31-427c-a16e-ce0bd1f8325a",
   "metadata": {},
   "outputs": [],
   "source": [
    "df['DOCNO'] = df['DOCNO'].replace('fol.89',89)"
   ]
  },
  {
   "cell_type": "code",
   "execution_count": 42,
   "id": "f8486f42-394d-410a-ac5b-ffe100c57738",
   "metadata": {},
   "outputs": [
    {
     "name": "stdout",
     "output_type": "stream",
     "text": [
      "[]\n"
     ]
    }
   ],
   "source": [
    "print(mixed_type_search('fol','DOCNO'))"
   ]
  },
  {
   "cell_type": "markdown",
   "id": "da47e428-a07b-4bb0-84e8-71c8b9a549df",
   "metadata": {},
   "source": [
    "Let's go back to our original goal of converting all of DOCNO to a float."
   ]
  },
  {
   "cell_type": "markdown",
   "id": "5e9ff2e4-537a-48c8-8d08-fd10c94bd346",
   "metadata": {},
   "source": [
    "df['DOCNO'] = df['DOCNO'].astype('int')"
   ]
  },
  {
   "cell_type": "markdown",
   "id": "e587ade2-9cbd-44fc-98c9-d6f8d245f116",
   "metadata": {},
   "source": [
    "Good heavens, another error.\n",
    "\n",
    "ValueError: could not convert string to float: 'VIII'\n",
    "\n",
    "This one, again, should be easy to fix. That's just the roman numeral 8. However, we need to check if doc 8 is already used."
   ]
  },
  {
   "cell_type": "code",
   "execution_count": 43,
   "id": "2d87d1ec-3904-4fa7-a7c4-c4a0c467e27e",
   "metadata": {},
   "outputs": [
    {
     "data": {
      "text/plain": [
       "'Value is not in column already'"
      ]
     },
     "execution_count": 43,
     "metadata": {},
     "output_type": "execute_result"
    }
   ],
   "source": [
    "does_value_already_exist('8', 'DOCNO')  # No need for optional parameter, as I \n",
    "                                        # only care if 8 exists as a document \n",
    "                                        # number"
   ]
  },
  {
   "cell_type": "markdown",
   "id": "5ae4ec77-8ca4-46b4-8a25-a33a3423eae1",
   "metadata": {},
   "source": [
    "OK, I consider that clearance to just replace VIII with 8."
   ]
  },
  {
   "cell_type": "code",
   "execution_count": 44,
   "id": "fdbe7137-dc4e-4e7e-9902-e2cf91fdf4c0",
   "metadata": {},
   "outputs": [],
   "source": [
    "df['DOCNO']= df['DOCNO'].replace('VIII',8)"
   ]
  },
  {
   "cell_type": "markdown",
   "id": "3e648a2a-678c-44bb-84f5-0a7082b4dc5b",
   "metadata": {},
   "source": [
    "Time to try a float conversion again."
   ]
  },
  {
   "cell_type": "markdown",
   "id": "80f1ad9d-d630-4191-bd45-6608695303af",
   "metadata": {},
   "source": [
    "df['DOCNO'] = df['DOCNO'].astype('int')"
   ]
  },
  {
   "cell_type": "markdown",
   "id": "e2e717e7-e55a-4679-aee0-63d523887d7c",
   "metadata": {},
   "source": [
    "And more errors. Honestly, it seems like this column could have been left a string. However, I also think imposing an obvious numbering system on the DOCNO column is important later on. Here's the error.\n",
    "\n",
    "ValueError: could not convert string to float: 'p.252'\n",
    "\n",
    "Let's see if it's around."
   ]
  },
  {
   "cell_type": "code",
   "execution_count": 45,
   "id": "5bdda62a-425e-46f0-b0d9-b16caeff7a6a",
   "metadata": {},
   "outputs": [
    {
     "data": {
      "text/plain": [
       "True"
      ]
     },
     "execution_count": 45,
     "metadata": {},
     "output_type": "execute_result"
    }
   ],
   "source": [
    "does_value_already_exist(252, 'DOCNO') "
   ]
  },
  {
   "cell_type": "markdown",
   "id": "fbf3e6f7-f050-46f1-94c3-96efc23eaa54",
   "metadata": {},
   "source": [
    "Well, that isn't good. There's already a document 252. Plus, that error message looks like a page number."
   ]
  },
  {
   "cell_type": "code",
   "execution_count": 46,
   "id": "a20a8b00-129b-4722-8e48-d6cf15c994fb",
   "metadata": {},
   "outputs": [
    {
     "name": "stdout",
     "output_type": "stream",
     "text": [
      "[[47281, 'p.252'], [47282, 'p.252'], [47283, 'p.252'], [47284, 'p.252'], [47619, 'p. 1'], [47620, 'p. 1'], [47621, 'p. 1'], [47622, 'p. 1'], [47623, 'p. 1'], [49165, 'p. 142'], [49357, 'p. 222'], [49358, 'p. 222'], [49359, 'p. 222'], [49360, 'p. 222'], [49361, 'p. 222'], [49362, 'p. 222'], [49363, 'p. 222'], [49364, 'p. 222'], [51120, 'p. 131'], [51121, 'p. 131'], [51122, 'p. 131'], [51123, 'p. 131'], [51124, 'p. 131'], [51125, 'p. 131'], [51126, 'p. 131'], [56819, 'p. 242']]\n"
     ]
    }
   ],
   "source": [
    "def search_for_string_in_column_entry(string, col):\n",
    "    '''\n",
    "    Takes a string and searches the given dataframe column for the string in a \n",
    "    cell of data. Then, returns a list of every location where string occurs.\n",
    "    '''\n",
    "    \n",
    "    return [[index, value] for index, value in df[col].items() if str(string) in str(value)]\n",
    "\n",
    "\n",
    "print(search_for_string_in_column_entry('p.','DOCNO'))\n"
   ]
  },
  {
   "cell_type": "markdown",
   "id": "e9c9c7a3-d3d7-4abb-a8d7-8506478f17ec",
   "metadata": {},
   "source": [
    "Based on these results, we can conclude that someone entered p.252 four times. But why? This seems increasingly like a page number. Is there more to the story? Maybe we should take a close look at each result."
   ]
  },
  {
   "cell_type": "code",
   "execution_count": 47,
   "id": "73ad7b91-76f5-4e66-92a9-7689e19d4e61",
   "metadata": {},
   "outputs": [
    {
     "name": "stdout",
     "output_type": "stream",
     "text": [
      "NOTARY Sp. W. Fla Vol. XI p.252\n",
      "NOTARY Sp. W. Fla Vol. XI p.252\n",
      "NOTARY Sp. W. Fla Vol. XI p.252\n",
      "NOTARY Sp. W. Fla Vol. XI p.252\n",
      "NOTARY SPWFLA Vol. 14 p. 1\n",
      "NOTARY SPWFLA Vol. 14 p. 1\n",
      "NOTARY SPWFLA Vol. 14 p. 1\n",
      "NOTARY SPWFLA Vol. 14 p. 1\n",
      "NOTARY SPWFLA Vol. 14 p. 1\n",
      "NOTARY West Fla Papers XII p. 142\n",
      "NOTARY Sp. W. Fla Vol. XII p. 222\n",
      "NOTARY Sp. W. Fla Vol. XII p. 222\n",
      "NOTARY Sp. W. Fla Vol. XII p. 222\n",
      "NOTARY Sp. W. Fla Vol. XII p. 222\n",
      "NOTARY Sp. W. Fla Vol. XII p. 222\n",
      "NOTARY Sp. W. Fla Vol. XII p. 222\n",
      "NOTARY Sp. W. Fla Vol. XII p. 222\n",
      "NOTARY Sp. W. Fla Vol. XII p. 222\n",
      "NOTARY Sp. W. Fla Vol. XIII p. 131\n",
      "NOTARY Sp. W. Fla Vol. XIII p. 131\n",
      "NOTARY Sp. W. Fla Vol. XIII p. 131\n",
      "NOTARY Sp. W. Fla Vol. XIII p. 131\n",
      "NOTARY Sp. W. Fla Vol. XIII p. 131\n",
      "NOTARY Sp. W. Fla Vol. XIII p. 131\n",
      "NOTARY Sp. W. Fla Vol. XIII p. 131\n",
      "NOTARY Sp. W. Fla Vol. XII p. 242\n"
     ]
    }
   ],
   "source": [
    "page_numbers = search_for_string_in_column_entry('.','DOCNO')\n",
    "for entries in page_numbers:\n",
    "    print(\"NOTARY\",df['NOTARY'].iloc[entries[0]],df['DOCNO'].iloc[entries[0]])\n"
   ]
  },
  {
   "cell_type": "markdown",
   "id": "7adce4fb-9632-4414-a46d-8e7396cf823d",
   "metadata": {},
   "source": [
    "I suspect the DOCNO column, in these few cases, is meant to be a supplement to the Notary column. While I'm not sure what Sp. W. Fla Vol. XI precisely refers to (I'll have to dig into the older project's notes and source documents), it seems like the sort of thing that points to a book, which would incidentally have pages. So I'm going to transfer the DOCNO information to the Notary column.\n",
    "\n",
    "First, create a variable to store the indices AND values we want transferred."
   ]
  },
  {
   "cell_type": "code",
   "execution_count": 48,
   "id": "bd7f45c5-5771-4e66-82b8-f1b4a837daa3",
   "metadata": {},
   "outputs": [],
   "source": [
    "need_transfer_index_values = search_for_string_in_column_entry('.','DOCNO')\n",
    "need_transfer_index_only = [index for index, values in need_transfer_index_values]"
   ]
  },
  {
   "cell_type": "markdown",
   "id": "b1a3563a-f7b1-4587-9993-eceb3912207c",
   "metadata": {},
   "source": [
    "Now transfer the values in need_transfer over to the column 'NOTARY' and insert a -1 in column 'DOCNO'."
   ]
  },
  {
   "cell_type": "code",
   "execution_count": 49,
   "id": "73467952-16c6-4ab5-b509-fd25fb408587",
   "metadata": {},
   "outputs": [
    {
     "data": {
      "text/plain": [
       "'Sp. W. Fla Vol. XI'"
      ]
     },
     "execution_count": 49,
     "metadata": {},
     "output_type": "execute_result"
    }
   ],
   "source": [
    "df['NOTARY'].iloc[47281]"
   ]
  },
  {
   "cell_type": "code",
   "execution_count": 50,
   "id": "f36343b5-6b17-4047-9d4a-b6322e22dee0",
   "metadata": {},
   "outputs": [
    {
     "name": "stderr",
     "output_type": "stream",
     "text": [
      "c:\\users\\casti\\appdata\\local\\programs\\python\\python38\\lib\\site-packages\\pandas\\core\\indexing.py:1637: SettingWithCopyWarning: \n",
      "A value is trying to be set on a copy of a slice from a DataFrame\n",
      "\n",
      "See the caveats in the documentation: https://pandas.pydata.org/pandas-docs/stable/user_guide/indexing.html#returning-a-view-versus-a-copy\n",
      "  self._setitem_single_block(indexer, value, name)\n"
     ]
    }
   ],
   "source": [
    "def transfer_and_replace_col(new_col, old_col, new_value, indices):\n",
    "    '''\n",
    "    Transfers the values in old_col into new_col, replacing old_col with the new_value.\n",
    "    '''\n",
    "    for index in indices:\n",
    "        df[new_col].iloc[index] = df[new_col].loc[index] + ' ' + df[old_col].loc[index]\n",
    "        df[old_col].loc[index] = new_value\n",
    "        \n",
    "\n",
    "transfer_and_replace_col('NOTARY', 'DOCNO', -1, need_transfer_index_only)"
   ]
  },
  {
   "cell_type": "code",
   "execution_count": 51,
   "id": "679b4fb4-26f2-46c7-a217-4ad6caf9e341",
   "metadata": {},
   "outputs": [
    {
     "data": {
      "text/plain": [
       "47281       Sp. W. Fla Vol. XI p.252\n",
       "47282       Sp. W. Fla Vol. XI p.252\n",
       "47283       Sp. W. Fla Vol. XI p.252\n",
       "47284       Sp. W. Fla Vol. XI p.252\n",
       "47619            SPWFLA Vol. 14 p. 1\n",
       "47620            SPWFLA Vol. 14 p. 1\n",
       "47621            SPWFLA Vol. 14 p. 1\n",
       "47622            SPWFLA Vol. 14 p. 1\n",
       "47623            SPWFLA Vol. 14 p. 1\n",
       "49165     West Fla Papers XII p. 142\n",
       "49357     Sp. W. Fla Vol. XII p. 222\n",
       "49358     Sp. W. Fla Vol. XII p. 222\n",
       "49359     Sp. W. Fla Vol. XII p. 222\n",
       "49360     Sp. W. Fla Vol. XII p. 222\n",
       "49361     Sp. W. Fla Vol. XII p. 222\n",
       "49362     Sp. W. Fla Vol. XII p. 222\n",
       "49363     Sp. W. Fla Vol. XII p. 222\n",
       "49364     Sp. W. Fla Vol. XII p. 222\n",
       "51120    Sp. W. Fla Vol. XIII p. 131\n",
       "51121    Sp. W. Fla Vol. XIII p. 131\n",
       "51122    Sp. W. Fla Vol. XIII p. 131\n",
       "51123    Sp. W. Fla Vol. XIII p. 131\n",
       "51124    Sp. W. Fla Vol. XIII p. 131\n",
       "51125    Sp. W. Fla Vol. XIII p. 131\n",
       "51126    Sp. W. Fla Vol. XIII p. 131\n",
       "56819     Sp. W. Fla Vol. XII p. 242\n",
       "Name: NOTARY, dtype: string"
      ]
     },
     "execution_count": 51,
     "metadata": {},
     "output_type": "execute_result"
    }
   ],
   "source": [
    "df['NOTARY'].loc[need_transfer_index_only]"
   ]
  },
  {
   "cell_type": "code",
   "execution_count": 52,
   "id": "526778cc-ea9d-4ec3-b680-a6e7dc213913",
   "metadata": {},
   "outputs": [
    {
     "data": {
      "text/plain": [
       "47281    -1\n",
       "47282    -1\n",
       "47283    -1\n",
       "47284    -1\n",
       "47619    -1\n",
       "47620    -1\n",
       "47621    -1\n",
       "47622    -1\n",
       "47623    -1\n",
       "49165    -1\n",
       "49357    -1\n",
       "49358    -1\n",
       "49359    -1\n",
       "49360    -1\n",
       "49361    -1\n",
       "49362    -1\n",
       "49363    -1\n",
       "49364    -1\n",
       "51120    -1\n",
       "51121    -1\n",
       "51122    -1\n",
       "51123    -1\n",
       "51124    -1\n",
       "51125    -1\n",
       "51126    -1\n",
       "56819    -1\n",
       "Name: DOCNO, dtype: object"
      ]
     },
     "execution_count": 52,
     "metadata": {},
     "output_type": "execute_result"
    }
   ],
   "source": [
    "df['DOCNO'].loc[need_transfer_index_only]"
   ]
  },
  {
   "cell_type": "markdown",
   "id": "8106cb76-b0a1-463e-bb1a-b5b3f48dff6d",
   "metadata": {},
   "source": [
    "I will have to record somewhere that document number -1 is a transfer to the notary column. Now that we have removed the page numbers, it's time to actually convert everything to a float in the DOCNO column."
   ]
  },
  {
   "cell_type": "code",
   "execution_count": 53,
   "id": "18afd3ca-cba4-4b62-9090-5d764e11937d",
   "metadata": {},
   "outputs": [],
   "source": [
    "df['DOCNO'] = df['DOCNO'].astype('float')"
   ]
  },
  {
   "cell_type": "markdown",
   "id": "39070ffc-6860-44a3-80bc-a48353e619f0",
   "metadata": {},
   "source": [
    "One of the things about hindsight in data analysis and software engineering is that when you can modularize and abstract your ideas, they appear both timeless and obvious. In reality, I manually changed a lot of values because I wasn't sure what the data looked like. Then I wrote a few prototype methods to automate the manual corrections. Now, I have a much more elegant solution that doesn't require nearly so much manual work or so much code. That being said, it should be noted that several hours of work, and several methods under development, have been essentially erased from this notebook. Which is cool, I suppose.\n",
    "\n",
    "I went to a lot of work to get DOCNO cleaned. Being a lazy person, I decided to write a method that would attempt to do this for me and handle a few of the more common exceptions. Whether I wasted my time reinventing the wheel is undecided."
   ]
  },
  {
   "cell_type": "code",
   "execution_count": 54,
   "id": "5c6cc886-361d-4259-b2d2-733ec8eec579",
   "metadata": {},
   "outputs": [],
   "source": [
    "def replace_and_cast(type_data, col):\n",
    "    '''\n",
    "    Takes a type and attempts to cast a column as that type. If this errors, it \n",
    "    attempts to replace the offending data as a sequence of decreasing negative\n",
    "    numbers.\n",
    "    '''\n",
    "    print(col)\n",
    "    try:\n",
    "        if type_data == 'float':\n",
    "            df[col] = df[col].astype('float')\n",
    "        elif type_data == 'int':\n",
    "            df[col] = df[col].astype('int')\n",
    "        elif type_data == 'string':\n",
    "            df[col] = df[col].astype('string')\n",
    "        elif type_data == 'date':\n",
    "            df[col] = pd.to_datetime(df[col])\n",
    "        else:\n",
    "            df[col] = df[col].astype('string')\n",
    "        return True\n",
    "    except Exception as e:\n",
    "        message = str(e)\n",
    "        if 'p.' in message:\n",
    "            print(\"It seems like there are page numbers in a column you want to cast as a float or int.\")\n",
    "            new_col = input(\"What column should page numbers be transferred to?\")\n",
    "            new_reference = input(\"What should be the new value in your current column?\")\n",
    "            transfer_and_replace(new_col, col, new_reference, [index for index, value in search_for_string_in_column_entry('.','DOCNO')])\n",
    "        return message"
   ]
  },
  {
   "cell_type": "markdown",
   "id": "b376bc1c-96a3-4a51-a7a4-babad519e298",
   "metadata": {},
   "source": [
    "The above method will probably be most useful for further development of the project with new datasets. Nonetheless, I am going to continue on with the current dataset. As a reminder, we still have a few columns that should NOT be strings."
   ]
  },
  {
   "cell_type": "code",
   "execution_count": 55,
   "id": "67534def-c634-477d-9fbd-0435b2d8a95e",
   "metadata": {},
   "outputs": [
    {
     "data": {
      "text/plain": [
       "['DOCNO',\n",
       " 'ARRIVEDATE',\n",
       " 'AGE',\n",
       " 'DATESALE',\n",
       " 'DATEINV',\n",
       " 'CODER',\n",
       " 'DEPOT',\n",
       " 'LOCATION',\n",
       " 'DOCTYPE',\n",
       " 'MAROON',\n",
       " 'REVOLTS',\n",
       " 'LANGUAGE',\n",
       " 'AFLANG',\n",
       " 'LINGUISTIC',\n",
       " 'FREE',\n",
       " 'ESTFREE',\n",
       " 'ESTATEPOP',\n",
       " 'WENT',\n",
       " 'NAMETYPE',\n",
       " 'SEX',\n",
       " 'RACE',\n",
       " 'AGE',\n",
       " 'AGECATN',\n",
       " 'SKILLCAT',\n",
       " 'EXPERT',\n",
       " 'APPRENTICE',\n",
       " 'ALITTLE',\n",
       " 'SKILL2',\n",
       " 'SKILL3',\n",
       " 'SKILL4',\n",
       " 'SKILL5',\n",
       " 'CHARCAT',\n",
       " 'CHARCAT2',\n",
       " 'CHARCAT3',\n",
       " 'SICKCAT',\n",
       " 'SICK2',\n",
       " 'SICK3',\n",
       " 'SICK4',\n",
       " 'BIRTHPL',\n",
       " 'BRUT',\n",
       " 'GROUP',\n",
       " 'INVVALUE',\n",
       " 'INVVALP',\n",
       " 'SALEVALUE',\n",
       " 'SALEVALP',\n",
       " 'FAMILY_Y_N',\n",
       " 'CHILDREN',\n",
       " 'MALE',\n",
       " 'FEMALE',\n",
       " 'UNDER5',\n",
       " 'PREGNANT',\n",
       " 'MOTHER',\n",
       " 'AGEMOM',\n",
       " 'RACEMOM',\n",
       " 'INVWMOM',\n",
       " 'SOLDWMOM',\n",
       " 'ORMOM',\n",
       " 'MATE',\n",
       " 'AGEMATE',\n",
       " 'AGECATMATE',\n",
       " 'RACEMATE',\n",
       " 'ORIGINMATE',\n",
       " 'FATHER',\n",
       " 'AGEDAD',\n",
       " 'RACEDAD',\n",
       " 'ORDAD',\n",
       " 'GRANDCHILD',\n",
       " 'GRANDSONS',\n",
       " 'GDAUGHTERS',\n",
       " 'GRANDMA',\n",
       " 'AGEGRANDMA',\n",
       " 'ORGRANDMA',\n",
       " 'GRANPA',\n",
       " 'AGEGRANDPA',\n",
       " 'ORGRANDPA',\n",
       " 'EMANCIP',\n",
       " 'DEAD',\n",
       " 'RUNAWAY',\n",
       " 'ENTERPRISE',\n",
       " 'STPORT',\n",
       " 'VIA']"
      ]
     },
     "execution_count": 55,
     "metadata": {},
     "output_type": "execute_result"
    }
   ],
   "source": [
    "not_strings"
   ]
  },
  {
   "cell_type": "markdown",
   "id": "315e3a0f-58bf-421c-8cd7-ab0d622c3982",
   "metadata": {},
   "source": [
    "Now, however, all of the manual cleaning can be accomplished by the replace_and_cast method. One of the things I ended up doing as a stopgap during the import process has come back to haunt me, however. Observe the following:"
   ]
  },
  {
   "cell_type": "code",
   "execution_count": 56,
   "id": "9e758e17-9f12-4657-b8cc-638adc1aec61",
   "metadata": {},
   "outputs": [
    {
     "name": "stdout",
     "output_type": "stream",
     "text": [
      "ARRIVEDATE\n",
      "True\n"
     ]
    }
   ],
   "source": [
    "print(replace_and_cast('date','ARRIVEDATE'))"
   ]
  },
  {
   "cell_type": "code",
   "execution_count": 57,
   "id": "e53ee4c7-1e55-4695-93ea-75556e9d69ab",
   "metadata": {},
   "outputs": [
    {
     "name": "stdout",
     "output_type": "stream",
     "text": [
      "The minimum year for this historical period is:  1719\n",
      "The maximum year for this historical period is:  1820\n"
     ]
    },
    {
     "data": {
      "text/plain": [
       "'Dates converted successfully'"
      ]
     },
     "execution_count": 57,
     "metadata": {},
     "output_type": "execute_result"
    }
   ],
   "source": [
    "def find_historical_range(valid_column):\n",
    "    '''\n",
    "    Takes a column of years (as integers) and find the historical range.\n",
    "    '''\n",
    "    minimum = df[valid_column].min()\n",
    "    maximum = df[valid_column].max()\n",
    "    \n",
    "    return [minimum, maximum]\n",
    "\n",
    "def find_out_of_range_dates(valid_column, questionable_column):\n",
    "    '''\n",
    "    Discovers the maximum and minimum range of the historical period from a passed valid\n",
    "    column, and then returns true if the quenstionable column contains years outside that range.\n",
    "    \n",
    "    Requires the valid column to have years in integers and to be valid.\n",
    "    '''\n",
    "    \n",
    "    # Identify our historical range from the valid column\n",
    "    minimum = find_historical_range(valid_column)[0]\n",
    "    print(\"The minimum year for this historical period is: \",minimum)\n",
    "    maximum = find_historical_range(valid_column)[1]\n",
    "    print(\"The maximum year for this historical period is: \",maximum)\n",
    "\n",
    "    # Now find any dates in the questionable column and replace with the year in the valid column\n",
    "    if df[questionable_column].dtype == 'datetime64[ns]':\n",
    "        for index, value in df[questionable_column].items():\n",
    "            if value.year < int(minimum) or value.year > int(maximum):\n",
    "                new_year = df[valid_column][index]\n",
    "                month = value.month\n",
    "                day = value.day\n",
    "                df[questionable_column].iloc[index] = datetime.date(int(new_year), int(month), int(day))\n",
    "                \n",
    "        return \"Dates converted successfully\"         \n",
    "    else:\n",
    "        try:\n",
    "            replace_and_cast('date', questionable_column)\n",
    "            dates_outside_valid_range(questionable_column, valid_column)\n",
    "        except:\n",
    "            return \"Please convert questionable column to datetime objects\"\n",
    "    \n",
    "find_out_of_range_dates('YEAR', 'ARRIVEDATE')  \n"
   ]
  },
  {
   "cell_type": "code",
   "execution_count": 58,
   "id": "798c4cfc-d32f-4cfd-b485-c72d75bccde8",
   "metadata": {},
   "outputs": [
    {
     "name": "stdout",
     "output_type": "stream",
     "text": [
      "ARRIVEDATE\n",
      "Please convert questionable column to datetime objects\n"
     ]
    }
   ],
   "source": [
    "def dates_outside_valid_range(questionable_column, valid_column):\n",
    "    '''\n",
    "    Tests whether a given column has invalid dates\n",
    "    '''\n",
    "    not_great_dates = []\n",
    "    \n",
    "    historical_range = find_historical_range(valid_column)\n",
    "    minimum = int(historical_range[0])\n",
    "    maximum = int(historical_range[1])\n",
    "    if df[questionable_column].dtype == 'datetime64[ns]':\n",
    "        for index, dates in df[questionable_column].items():\n",
    "            if dates.year < minimum or dates.year > maximum:\n",
    "                return True\n",
    "        return \"All dates in range\"\n",
    "    else:\n",
    "        try:\n",
    "            replace_and_cast('date', questionable_column)\n",
    "            dates_outside_valid_range(df[questionable_column], valid_column)\n",
    "        except:\n",
    "            return \"Please convert questionable column to datetime objects\"\n",
    "        \n",
    "print(dates_outside_valid_range('ARRIVEDATE','YEAR'))\n"
   ]
  },
  {
   "cell_type": "code",
   "execution_count": 59,
   "id": "d85cd3ce-94f0-4f73-b91d-7edfd02ceb6f",
   "metadata": {},
   "outputs": [
    {
     "name": "stdout",
     "output_type": "stream",
     "text": [
      "string\n",
      "datetime64[ns]\n",
      "object\n",
      "object\n"
     ]
    }
   ],
   "source": [
    "for date in dates:\n",
    "    print(df[date].dtype)"
   ]
  },
  {
   "cell_type": "code",
   "execution_count": 60,
   "id": "e4d411a6-f878-4ee9-8ae6-09606007b30c",
   "metadata": {},
   "outputs": [
    {
     "name": "stdout",
     "output_type": "stream",
     "text": [
      "DOCDATE\n",
      "True\n",
      "Is this column valid? DOCDATE All dates in range\n",
      "ARRIVEDATE\n",
      "True\n",
      "Is this column valid? ARRIVEDATE All dates in range\n",
      "DATESALE\n",
      "Out of bounds nanosecond timestamp: 1404-03-31 00:00:00\n",
      "DATESALE\n",
      "Is this column valid? DATESALE Please convert questionable column to datetime objects\n",
      "DATEINV\n",
      "Out of bounds nanosecond timestamp: 791-05-23 00:00:00\n",
      "DATEINV\n",
      "Is this column valid? DATEINV Please convert questionable column to datetime objects\n"
     ]
    }
   ],
   "source": [
    "invalid_dates = []\n",
    "invalid_entries = []\n",
    "\n",
    "for date in dates:\n",
    "\n",
    "    print(replace_and_cast('date',date))\n",
    "    print(\"Is this column valid?\",date,dates_outside_valid_range(date,'YEAR'))\n"
   ]
  },
  {
   "cell_type": "code",
   "execution_count": 61,
   "id": "0d373856-71d5-4c3c-9b46-79362302967b",
   "metadata": {},
   "outputs": [
    {
     "name": "stdout",
     "output_type": "stream",
     "text": [
      "object\n",
      "object\n",
      "['DATEINV', 'DATESALE']\n"
     ]
    }
   ],
   "source": [
    "def boost_datetime(datetime_col, valid_col):\n",
    "    '''\n",
    "    Takes the datetime_col, and replaces it with the valid_col values.\n",
    "    '''\n",
    "    types = []\n",
    "    df[datetime_col] = df[datetime_col].fillna(df[valid_col])\n",
    "    for index, value in df[datetime_col].items():\n",
    "        if type(value) != pd.Timestamp and type(value) == datetime.date:\n",
    "                df[datetime_col].iloc[index] = df[valid_col].iloc[index]\n",
    "        #pd.to_datetime(value)\n",
    "\n",
    "\n",
    "\n",
    "boost_datetime('DATEINV','DOCDATE')\n",
    "boost_datetime('DATESALE','DOCDATE')\n",
    "print(df['DATESALE'].dtype)\n",
    "print(df['DATEINV'].dtype)\n",
    "object_col = [col for col in df.columns if df[col].dtype == 'object']\n",
    "print(object_col)\n"
   ]
  },
  {
   "cell_type": "code",
   "execution_count": 62,
   "id": "a09b6989-4ef3-4c4c-93c9-defdfe2ce324",
   "metadata": {},
   "outputs": [],
   "source": [
    "df['DATESALE'] = pd.to_datetime(df['DATESALE'])"
   ]
  },
  {
   "cell_type": "code",
   "execution_count": 63,
   "id": "c7b98fd8-425c-40e1-a3bf-56360d93fea5",
   "metadata": {},
   "outputs": [],
   "source": [
    "df['DATEINV'] = pd.to_datetime(df['DATEINV'])"
   ]
  },
  {
   "cell_type": "markdown",
   "id": "04328ce6-8d11-491e-9b7e-e7b1d3ca594c",
   "metadata": {},
   "source": [
    "compression_opts = dict(method='zip',\n",
    "archive_name='cleanedslaveexperience.csv')\n",
    "df.to_csv('cleanedslaveexperience.csv', index=False,\n",
    "compression=compression_opts)"
   ]
  },
  {
   "cell_type": "code",
   "execution_count": 64,
   "id": "a2d71c44-63d6-44db-8104-7dade3f7a138",
   "metadata": {},
   "outputs": [],
   "source": [
    "object_col2 = [col for col in df.columns if df[col].dtype == 'object']"
   ]
  },
  {
   "cell_type": "code",
   "execution_count": 65,
   "id": "b14757bd-b299-4179-8bbe-87eb8644bd05",
   "metadata": {},
   "outputs": [
    {
     "data": {
      "text/plain": [
       "[]"
      ]
     },
     "execution_count": 65,
     "metadata": {},
     "output_type": "execute_result"
    }
   ],
   "source": [
    "object_col2"
   ]
  },
  {
   "cell_type": "code",
   "execution_count": 66,
   "id": "9ce556a7-3ac0-43d4-bd8b-9c673abd0302",
   "metadata": {},
   "outputs": [
    {
     "name": "stdout",
     "output_type": "stream",
     "text": [
      "datetime64[ns]\n",
      "datetime64[ns]\n",
      "datetime64[ns]\n",
      "datetime64[ns]\n"
     ]
    }
   ],
   "source": [
    "for date in dates:\n",
    "    print(df[date].dtype)"
   ]
  },
  {
   "cell_type": "code",
   "execution_count": 67,
   "id": "f18e8b19-c3b9-413e-ba6b-1f4a59b1f0ab",
   "metadata": {},
   "outputs": [
    {
     "name": "stdout",
     "output_type": "stream",
     "text": [
      "ARRIVEDATE\n",
      "True\n"
     ]
    }
   ],
   "source": [
    "print(replace_and_cast('date','ARRIVEDATE'))"
   ]
  },
  {
   "cell_type": "code",
   "execution_count": 68,
   "id": "d13840b2-e06c-4853-9528-52894a0fd44b",
   "metadata": {},
   "outputs": [
    {
     "data": {
      "text/plain": [
       "dtype('<M8[ns]')"
      ]
     },
     "execution_count": 68,
     "metadata": {},
     "output_type": "execute_result"
    }
   ],
   "source": [
    "df['ARRIVEDATE'].dtype"
   ]
  },
  {
   "cell_type": "markdown",
   "id": "e64a2a8d-8d8c-4616-bd73-3be1a2096db8",
   "metadata": {},
   "source": [
    "There was one final issue with the DATEINV and DATESALE columns. This was one of those fascinating errors that honestly tells me a lot about the prejudices (probably unintentional) of the developers of Pandas. See, as I've said before, the library was developed for scientific and mathematical computation. Data scientists use it for non-numeric data, but generally for contemporary data for tech companies selling ad revenue to oligarchies. It probably never occurred to the developers that Pandas could be used to study, say, the 14th century.\n",
    "\n",
    "Time is currently recorded in Pandas as a record of nanoseconds preceding from a specific point. I believe this is the same as the generic system time used in Unix computers, which point to 1 January, 1970 as \"Day 0\". Once you begin counting forwards form 1970, Pandas keeps track of where you are, and converts between different dates, based on the number of nanoseconds since 1 January, 1970. The same is true but in reverse when going backwards.\n",
    "\n",
    "The developers of Pandas generously gave the nanosecond parameter a 64 bit integer length. This means that there are 9,223,372,036,854,775,808 possible nanoseconds that you can proceed into the past. That's actually one more nanosecond that you can proceed into the future, because 0 is considered a future nanosecond. This is a total of 292 years of backwards compatibility. Due to some clever maths, you can extend this to 584 years. And then the computer remembers that 584 years is a really, really big number when counted in nanoseconds, and runs out of memory.\n",
    "\n",
    "For those who remember the fears about Y2K, it's like that. But, this time, it doesn't really matter so long as we tell the computer it is ok to count the years in a different way. For this project, I'm able to assume that any date before 1719 is invalid. Slaves didn't appear in Louisiana before 1719. Even if I were to extend the project to \"Anyone of Eurasian or African descent\" I would only be getting dates in the very late 1400s. 584 years ago was before Europeans realized North America existed. So, for now, I can safely assume that any data older than 1700 is in error.\n",
    "\n",
    "In the below method, I simply add 1000 years to any date from before 1700. I'll have to change that year for states like Virginia, of course, which had the first slaves land in 1619. \n",
    "\n",
    "An example of the DATESALE error is below. DATESALE seems to have a far simpler solution than DATEINV. Simply put, someone keyed in a 1404 when they meant 1804."
   ]
  },
  {
   "cell_type": "markdown",
   "id": "3c92584d-eb4a-4c17-a93f-a577b9901049",
   "metadata": {},
   "source": [
    "The simplest solution here would be to replace the dates in the DATESALE column with those in the DOCDATE column."
   ]
  },
  {
   "cell_type": "code",
   "execution_count": 69,
   "id": "5488cdab-36f0-463c-9359-232573632c57",
   "metadata": {},
   "outputs": [],
   "source": [
    "def change_col_to_col_dates(from_col, to_col, limit_date):\n",
    "    '''\n",
    "    Changes the to_col values to match those of the from_col\n",
    "    \n",
    "    Only used for datetime objects\n",
    "    '''\n",
    "    for index, value in df[to_col].items():\n",
    "        if value is None or value < pd.to_datetime(limit_date):\n",
    "        \n",
    "            df[to_col].iloc[index] = df[from_col].iloc[index]"
   ]
  },
  {
   "cell_type": "code",
   "execution_count": 70,
   "id": "b30c3810-0fcc-40b2-8495-2816d29d146c",
   "metadata": {},
   "outputs": [],
   "source": [
    "change_col_to_col_dates('DOCDATE', 'DATEINV', '1701-01-01')"
   ]
  },
  {
   "cell_type": "code",
   "execution_count": 71,
   "id": "d77fe573-ad75-497a-b712-aaed31a7b0d8",
   "metadata": {},
   "outputs": [],
   "source": [
    "change_col_to_col_dates('DOCDATE', 'DATESALE', '1701-01-01')"
   ]
  },
  {
   "cell_type": "code",
   "execution_count": 72,
   "id": "94b577e8-bd18-4d10-bda0-be06bfc5ede3",
   "metadata": {},
   "outputs": [
    {
     "data": {
      "text/plain": [
       "dtype('<M8[ns]')"
      ]
     },
     "execution_count": 72,
     "metadata": {},
     "output_type": "execute_result"
    }
   ],
   "source": [
    "df['DATEINV'].dtype"
   ]
  },
  {
   "cell_type": "code",
   "execution_count": 73,
   "id": "6aa30515-2acf-45e8-b6db-9e4e14cbb518",
   "metadata": {},
   "outputs": [
    {
     "data": {
      "text/plain": [
       "dtype('<M8[ns]')"
      ]
     },
     "execution_count": 73,
     "metadata": {},
     "output_type": "execute_result"
    }
   ],
   "source": [
    "df['DATESALE'].dtype"
   ]
  },
  {
   "cell_type": "code",
   "execution_count": 74,
   "id": "54c2cf41-a4f0-4233-86ff-0014f9d47db5",
   "metadata": {},
   "outputs": [
    {
     "data": {
      "text/plain": [
       "DOCDATE       datetime64[ns]\n",
       "YEAR                  string\n",
       "DOCNO                float64\n",
       "NOTARY                string\n",
       "CODER                float64\n",
       "                   ...      \n",
       "SHIP                  string\n",
       "ARRIVEDATE    datetime64[ns]\n",
       "FROM                  string\n",
       "UNBAPT                string\n",
       "VIA                  float64\n",
       "Length: 113, dtype: object"
      ]
     },
     "execution_count": 74,
     "metadata": {},
     "output_type": "execute_result"
    }
   ],
   "source": [
    "df.dtypes"
   ]
  },
  {
   "cell_type": "markdown",
   "id": "f1d46bac-1c5c-4774-aba7-5285e75b9ea4",
   "metadata": {},
   "source": [
    "What can we learn about DOCDATE? Well, for one thing, we should probably know if there are undated documents."
   ]
  },
  {
   "cell_type": "code",
   "execution_count": 75,
   "id": "ed7982e0-d4a3-472f-851f-b644fd03fe61",
   "metadata": {},
   "outputs": [],
   "source": [
    "blank_docdates = [value for index, value in df['DOCDATE'].items() if value == \"NaN\"]"
   ]
  },
  {
   "cell_type": "code",
   "execution_count": 76,
   "id": "893fbefe-a515-4f65-a172-6b70dcf18691",
   "metadata": {},
   "outputs": [
    {
     "data": {
      "text/plain": [
       "[]"
      ]
     },
     "execution_count": 76,
     "metadata": {},
     "output_type": "execute_result"
    }
   ],
   "source": [
    "blank_docdates"
   ]
  },
  {
   "cell_type": "markdown",
   "id": "adf8cbd7-81f4-4274-8ab6-29f97d46df6b",
   "metadata": {},
   "source": [
    "Looks like we don't really have any blank dates in DOCDATE. That's a good sign. It's the column we are relying on for all of the other dates. Let's see if we can get an idea of how evenly documents are distributed over the time period. Actually, first, let's see our maximum and minimum dates so we know what time period we are dealing with."
   ]
  },
  {
   "cell_type": "code",
   "execution_count": 77,
   "id": "a4a8feec-5aff-49e3-b178-35d03b028c59",
   "metadata": {},
   "outputs": [],
   "source": [
    "docdate = df['DOCDATE']"
   ]
  },
  {
   "cell_type": "code",
   "execution_count": 78,
   "id": "c9d2d312-5823-4cf5-b9a9-69494d021eb2",
   "metadata": {},
   "outputs": [
    {
     "data": {
      "text/plain": [
       "Timestamp('1820-12-31 00:00:00')"
      ]
     },
     "execution_count": 78,
     "metadata": {},
     "output_type": "execute_result"
    }
   ],
   "source": [
    "docdate.max()"
   ]
  },
  {
   "cell_type": "markdown",
   "id": "68b723e8-ac51-4803-96c3-631490f630f8",
   "metadata": {},
   "source": [
    "So, the data ends in 1820. It ends strangely enough on the 31st of December, leading me to wonder why records stop."
   ]
  },
  {
   "cell_type": "code",
   "execution_count": 79,
   "id": "17b20d08-71b2-4097-8055-b1e6ffed1cc4",
   "metadata": {},
   "outputs": [
    {
     "data": {
      "text/plain": [
       "Timestamp('1719-06-15 00:00:00')"
      ]
     },
     "execution_count": 79,
     "metadata": {},
     "output_type": "execute_result"
    }
   ],
   "source": [
    "docdate.min()"
   ]
  },
  {
   "cell_type": "markdown",
   "id": "fe2c58fc-9975-4e28-81f9-db628b70de90",
   "metadata": {},
   "source": [
    "The beginning of the period, then, is 1719. We are exploring 101 years of slavedealing history. But as with most things in history, there's a slight problem. What happens if we take the median of DOCDATE?"
   ]
  },
  {
   "cell_type": "code",
   "execution_count": 80,
   "id": "688893a5-b70d-47be-b7d2-d5f2f5b317c8",
   "metadata": {},
   "outputs": [
    {
     "data": {
      "text/plain": [
       "Timestamp('1808-05-04 00:00:00')"
      ]
     },
     "execution_count": 80,
     "metadata": {},
     "output_type": "execute_result"
    }
   ],
   "source": [
    "docdate.median()"
   ]
  },
  {
   "cell_type": "markdown",
   "id": "192ead78-4c80-412e-965d-e6f111ccaf9d",
   "metadata": {},
   "source": [
    "The median is the point where 50% of the documents are dated before and 50% dated after the median date. What, then, is the median date? 1808. 50% of the slaveholding documents were produced in 12 years, and 50% in 89 years."
   ]
  },
  {
   "cell_type": "markdown",
   "id": "1ecdd99b-154f-4af8-ab26-9b7b77ba23df",
   "metadata": {},
   "source": [
    "This makes sense in the context of the history of slavery in the US. In 1808, importation of slaves from Africa was banned. Slaves could only be trafficked if they were born in the US. Slavers now had to prove that every slave being sold was from the US. This meant the documentation required for a slave auction skyrocketed. Although slaves were smuggled until at least 1865, most slave trading was domestic from 1808."
   ]
  },
  {
   "cell_type": "markdown",
   "id": "5b350532-a43c-4f1a-bb86-6164e1d6a62c",
   "metadata": {},
   "source": [
    "However, what is more surprising to me is what happens when I take the mode of the docdate column. The Mode shows the the most common entry, instead of an average or median."
   ]
  },
  {
   "cell_type": "code",
   "execution_count": 81,
   "id": "f4fcc3bf-790d-488e-8e74-19644204eee9",
   "metadata": {},
   "outputs": [
    {
     "data": {
      "text/plain": [
       "0   1786-12-31\n",
       "dtype: datetime64[ns]"
      ]
     },
     "execution_count": 81,
     "metadata": {},
     "output_type": "execute_result"
    }
   ],
   "source": [
    "docdate.mode()"
   ]
  },
  {
   "cell_type": "markdown",
   "id": "debe83bf-f371-4d59-8a1e-c5d7245ff73b",
   "metadata": {},
   "source": [
    "Strangely enough, the most common DOCDATE entry is 1786-12-31. How many such docdate entries exist? To figure this out, I wrote a quite method that looks for a desired value in the items in a Pandas series and returns a counter. This will count how many times anything shows up in a given column of our dataframe. In this case, I want to know how often a date occurs."
   ]
  },
  {
   "cell_type": "code",
   "execution_count": 82,
   "id": "f748f717-1f43-44c8-9ed7-64e1f4325059",
   "metadata": {},
   "outputs": [
    {
     "data": {
      "text/plain": [
       "1786-12-31    0.009507\n",
       "1721-04-20    0.005931\n",
       "1777-05-04    0.004967\n",
       "1728-10-11    0.004609\n",
       "1719-06-15    0.004480\n",
       "                ...   \n",
       "1785-08-22    0.000010\n",
       "1799-05-04    0.000010\n",
       "1801-08-17    0.000010\n",
       "1820-08-16    0.000010\n",
       "1773-12-31    0.000010\n",
       "Name: DOCDATE, Length: 11292, dtype: float64"
      ]
     },
     "execution_count": 82,
     "metadata": {},
     "output_type": "execute_result"
    }
   ],
   "source": [
    "docdate.value_counts(normalize=True)"
   ]
  },
  {
   "cell_type": "code",
   "execution_count": 83,
   "id": "3cb2e017-3810-4dea-b02f-b95d2e29711d",
   "metadata": {},
   "outputs": [
    {
     "data": {
      "text/plain": [
       "1786-12-31    957\n",
       "1721-04-20    597\n",
       "1777-05-04    500\n",
       "1728-10-11    464\n",
       "1719-06-15    451\n",
       "             ... \n",
       "1785-08-22      1\n",
       "1799-05-04      1\n",
       "1801-08-17      1\n",
       "1820-08-16      1\n",
       "1773-12-31      1\n",
       "Name: DOCDATE, Length: 11292, dtype: int64"
      ]
     },
     "execution_count": 83,
     "metadata": {},
     "output_type": "execute_result"
    }
   ],
   "source": [
    "docdate.value_counts()"
   ]
  },
  {
   "cell_type": "code",
   "execution_count": 84,
   "id": "ad2163d7-80d4-4329-b1a7-90f3e51e62c9",
   "metadata": {},
   "outputs": [
    {
     "data": {
      "text/plain": [
       "1786-12-31    957\n",
       "1721-04-20    597\n",
       "1777-05-04    500\n",
       "1728-10-11    464\n",
       "1719-06-15    451\n",
       "             ... \n",
       "1785-08-22      1\n",
       "1799-05-04      1\n",
       "1801-08-17      1\n",
       "1820-08-16      1\n",
       "1773-12-31      1\n",
       "Name: DOCDATE, Length: 11292, dtype: int64"
      ]
     },
     "execution_count": 84,
     "metadata": {},
     "output_type": "execute_result"
    }
   ],
   "source": [
    "docdate.value_counts()"
   ]
  },
  {
   "cell_type": "code",
   "execution_count": 85,
   "id": "bf563344-f93e-4a17-89a6-88fa5746bbf7",
   "metadata": {},
   "outputs": [
    {
     "name": "stderr",
     "output_type": "stream",
     "text": [
      "C:\\Users\\casti\\AppData\\Local\\Temp/ipykernel_15416/1546417388.py:1: FutureWarning: Treating datetime data as categorical rather than numeric in `.describe` is deprecated and will be removed in a future version of pandas. Specify `datetime_is_numeric=True` to silence this warning and adopt the future behavior now.\n",
      "  docdate.describe()\n"
     ]
    },
    {
     "data": {
      "text/plain": [
       "count                  100666\n",
       "unique                  11292\n",
       "top       1786-12-31 00:00:00\n",
       "freq                      957\n",
       "first     1719-06-15 00:00:00\n",
       "last      1820-12-31 00:00:00\n",
       "Name: DOCDATE, dtype: object"
      ]
     },
     "execution_count": 85,
     "metadata": {},
     "output_type": "execute_result"
    }
   ],
   "source": [
    "docdate.describe()"
   ]
  },
  {
   "cell_type": "code",
   "execution_count": 86,
   "id": "2e473b19-7d0c-4ee5-9a9d-7221b4b38f76",
   "metadata": {},
   "outputs": [
    {
     "data": {
      "text/plain": [
       "(1818-12-20 05:16:48, 1820-12-31]                       11362\n",
       "(1816-12-08 10:33:36, 1818-12-20 05:16:48]              10602\n",
       "(1814-11-27 15:50:24, 1816-12-08 10:33:36]               8334\n",
       "(1810-11-05 02:24:00, 1812-11-15 21:07:12]               6491\n",
       "(1808-10-24 07:40:48, 1810-11-05 02:24:00]               6379\n",
       "(1812-11-15 21:07:12, 1814-11-27 15:50:24]               6310\n",
       "(1804-10-01 18:14:24, 1806-10-13 12:57:36]               4098\n",
       "(1806-10-13 12:57:36, 1808-10-24 07:40:48]               4028\n",
       "(1802-09-20 23:31:12, 1804-10-01 18:14:24]               3308\n",
       "(1786-06-21 17:45:36, 1788-07-02 12:28:48]               2749\n",
       "(1792-07-25 01:55:12, 1794-08-05 20:38:24]               2676\n",
       "(1788-07-02 12:28:48, 1790-07-14 07:12:00]               2566\n",
       "(1790-07-14 07:12:00, 1792-07-25 01:55:12]               2469\n",
       "(1727-07-30 02:52:48, 1729-08-09 21:36:00]               2388\n",
       "(1776-04-25 20:09:36, 1778-05-07 14:52:48]               2370\n",
       "(1798-08-28 10:04:48, 1800-09-09 04:48:00]               2142\n",
       "(1794-08-05 20:38:24, 1796-08-16 15:21:36]               1898\n",
       "(1719-05-08 21:51:50.399999999, 1721-06-25 18:43:12]     1706\n",
       "(1800-09-09 04:48:00, 1802-09-20 23:31:12]               1695\n",
       "(1796-08-16 15:21:36, 1798-08-28 10:04:48]               1643\n",
       "(1780-05-18 09:36:00, 1782-05-30 04:19:12]               1326\n",
       "(1784-06-09 23:02:24, 1786-06-21 17:45:36]               1269\n",
       "(1782-05-30 04:19:12, 1784-06-09 23:02:24]               1174\n",
       "(1778-05-07 14:52:48, 1780-05-18 09:36:00]               1113\n",
       "(1774-04-15 01:26:24, 1776-04-25 20:09:36]                909\n",
       "(1770-03-23 12:00:00, 1772-04-03 06:43:12]                818\n",
       "(1725-07-18 08:09:36, 1727-07-30 02:52:48]                804\n",
       "(1764-02-18 03:50:24, 1766-02-28 22:33:36]                797\n",
       "(1729-08-09 21:36:00, 1731-08-21 16:19:12]                789\n",
       "(1737-09-24 00:28:48, 1739-10-05 19:12:00]                765\n",
       "(1772-04-03 06:43:12, 1774-04-15 01:26:24]                636\n",
       "(1768-03-11 17:16:48, 1770-03-23 12:00:00]                596\n",
       "(1758-01-14 19:40:48, 1760-01-26 14:24:00]                539\n",
       "(1745-11-08 03:21:36, 1747-11-19 22:04:48]                436\n",
       "(1739-10-05 19:12:00, 1741-10-16 13:55:12]                385\n",
       "(1743-10-28 08:38:24, 1745-11-08 03:21:36]                375\n",
       "(1762-02-06 09:07:12, 1764-02-18 03:50:24]                358\n",
       "(1735-09-13 05:45:36, 1737-09-24 00:28:48]                357\n",
       "(1766-02-28 22:33:36, 1768-03-11 17:16:48]                314\n",
       "(1733-09-01 11:02:24, 1735-09-13 05:45:36]                288\n",
       "(1747-11-19 22:04:48, 1749-11-30 16:48:00]                272\n",
       "(1723-07-07 13:26:24, 1725-07-18 08:09:36]                241\n",
       "(1741-10-16 13:55:12, 1743-10-28 08:38:24]                227\n",
       "(1721-06-25 18:43:12, 1723-07-07 13:26:24]                203\n",
       "(1760-01-26 14:24:00, 1762-02-06 09:07:12]                193\n",
       "(1751-12-12 11:31:12, 1753-12-23 06:14:24]                136\n",
       "(1753-12-23 06:14:24, 1756-01-04 00:57:36]                 49\n",
       "(1731-08-21 16:19:12, 1733-09-01 11:02:24]                 43\n",
       "(1749-11-30 16:48:00, 1751-12-12 11:31:12]                 21\n",
       "(1756-01-04 00:57:36, 1758-01-14 19:40:48]                 19\n",
       "Name: DOCDATE, dtype: int64"
      ]
     },
     "execution_count": 86,
     "metadata": {},
     "output_type": "execute_result"
    }
   ],
   "source": [
    "docdate.value_counts(bins=50)"
   ]
  },
  {
   "cell_type": "code",
   "execution_count": 87,
   "id": "df966be2-0739-414f-adc2-be6f85117524",
   "metadata": {},
   "outputs": [
    {
     "data": {
      "text/html": [
       "<div>\n",
       "<style scoped>\n",
       "    .dataframe tbody tr th:only-of-type {\n",
       "        vertical-align: middle;\n",
       "    }\n",
       "\n",
       "    .dataframe tbody tr th {\n",
       "        vertical-align: top;\n",
       "    }\n",
       "\n",
       "    .dataframe thead th {\n",
       "        text-align: right;\n",
       "    }\n",
       "</style>\n",
       "<table border=\"1\" class=\"dataframe\">\n",
       "  <thead>\n",
       "    <tr style=\"text-align: right;\">\n",
       "      <th></th>\n",
       "      <th>YEAR</th>\n",
       "      <th>DOCNO</th>\n",
       "      <th>NOTARY</th>\n",
       "      <th>CODER</th>\n",
       "      <th>DATEINV</th>\n",
       "      <th>DATESALE</th>\n",
       "      <th>DEPOT</th>\n",
       "      <th>PARISH</th>\n",
       "      <th>LOCATION</th>\n",
       "      <th>DOCTYPE</th>\n",
       "      <th>...</th>\n",
       "      <th>RUNAWAY</th>\n",
       "      <th>ENTERPRISE</th>\n",
       "      <th>CAPTAIN</th>\n",
       "      <th>SLAVETRADE</th>\n",
       "      <th>STPORT</th>\n",
       "      <th>SHIP</th>\n",
       "      <th>ARRIVEDATE</th>\n",
       "      <th>FROM</th>\n",
       "      <th>UNBAPT</th>\n",
       "      <th>VIA</th>\n",
       "    </tr>\n",
       "    <tr>\n",
       "      <th>DOCDATE</th>\n",
       "      <th></th>\n",
       "      <th></th>\n",
       "      <th></th>\n",
       "      <th></th>\n",
       "      <th></th>\n",
       "      <th></th>\n",
       "      <th></th>\n",
       "      <th></th>\n",
       "      <th></th>\n",
       "      <th></th>\n",
       "      <th></th>\n",
       "      <th></th>\n",
       "      <th></th>\n",
       "      <th></th>\n",
       "      <th></th>\n",
       "      <th></th>\n",
       "      <th></th>\n",
       "      <th></th>\n",
       "      <th></th>\n",
       "      <th></th>\n",
       "      <th></th>\n",
       "    </tr>\n",
       "  </thead>\n",
       "  <tbody>\n",
       "    <tr>\n",
       "      <th>1719-06-15</th>\n",
       "      <td>451</td>\n",
       "      <td>451</td>\n",
       "      <td>451</td>\n",
       "      <td>451</td>\n",
       "      <td>451</td>\n",
       "      <td>451</td>\n",
       "      <td>451</td>\n",
       "      <td>451</td>\n",
       "      <td>451</td>\n",
       "      <td>451</td>\n",
       "      <td>...</td>\n",
       "      <td>451</td>\n",
       "      <td>451</td>\n",
       "      <td>451</td>\n",
       "      <td>451</td>\n",
       "      <td>451</td>\n",
       "      <td>451</td>\n",
       "      <td>451</td>\n",
       "      <td>451</td>\n",
       "      <td>451</td>\n",
       "      <td>451</td>\n",
       "    </tr>\n",
       "    <tr>\n",
       "      <th>1720-07-16</th>\n",
       "      <td>127</td>\n",
       "      <td>127</td>\n",
       "      <td>127</td>\n",
       "      <td>127</td>\n",
       "      <td>127</td>\n",
       "      <td>127</td>\n",
       "      <td>127</td>\n",
       "      <td>127</td>\n",
       "      <td>127</td>\n",
       "      <td>127</td>\n",
       "      <td>...</td>\n",
       "      <td>127</td>\n",
       "      <td>127</td>\n",
       "      <td>127</td>\n",
       "      <td>127</td>\n",
       "      <td>127</td>\n",
       "      <td>127</td>\n",
       "      <td>127</td>\n",
       "      <td>127</td>\n",
       "      <td>127</td>\n",
       "      <td>127</td>\n",
       "    </tr>\n",
       "    <tr>\n",
       "      <th>1721-03-17</th>\n",
       "      <td>182</td>\n",
       "      <td>182</td>\n",
       "      <td>182</td>\n",
       "      <td>182</td>\n",
       "      <td>182</td>\n",
       "      <td>182</td>\n",
       "      <td>182</td>\n",
       "      <td>182</td>\n",
       "      <td>182</td>\n",
       "      <td>182</td>\n",
       "      <td>...</td>\n",
       "      <td>182</td>\n",
       "      <td>182</td>\n",
       "      <td>182</td>\n",
       "      <td>182</td>\n",
       "      <td>182</td>\n",
       "      <td>182</td>\n",
       "      <td>182</td>\n",
       "      <td>182</td>\n",
       "      <td>182</td>\n",
       "      <td>182</td>\n",
       "    </tr>\n",
       "    <tr>\n",
       "      <th>1721-03-23</th>\n",
       "      <td>349</td>\n",
       "      <td>349</td>\n",
       "      <td>349</td>\n",
       "      <td>349</td>\n",
       "      <td>349</td>\n",
       "      <td>349</td>\n",
       "      <td>349</td>\n",
       "      <td>349</td>\n",
       "      <td>349</td>\n",
       "      <td>349</td>\n",
       "      <td>...</td>\n",
       "      <td>349</td>\n",
       "      <td>349</td>\n",
       "      <td>349</td>\n",
       "      <td>349</td>\n",
       "      <td>349</td>\n",
       "      <td>349</td>\n",
       "      <td>349</td>\n",
       "      <td>349</td>\n",
       "      <td>349</td>\n",
       "      <td>349</td>\n",
       "    </tr>\n",
       "    <tr>\n",
       "      <th>1721-04-20</th>\n",
       "      <td>597</td>\n",
       "      <td>597</td>\n",
       "      <td>597</td>\n",
       "      <td>597</td>\n",
       "      <td>597</td>\n",
       "      <td>597</td>\n",
       "      <td>597</td>\n",
       "      <td>597</td>\n",
       "      <td>597</td>\n",
       "      <td>597</td>\n",
       "      <td>...</td>\n",
       "      <td>597</td>\n",
       "      <td>597</td>\n",
       "      <td>597</td>\n",
       "      <td>597</td>\n",
       "      <td>597</td>\n",
       "      <td>597</td>\n",
       "      <td>597</td>\n",
       "      <td>597</td>\n",
       "      <td>597</td>\n",
       "      <td>597</td>\n",
       "    </tr>\n",
       "    <tr>\n",
       "      <th>...</th>\n",
       "      <td>...</td>\n",
       "      <td>...</td>\n",
       "      <td>...</td>\n",
       "      <td>...</td>\n",
       "      <td>...</td>\n",
       "      <td>...</td>\n",
       "      <td>...</td>\n",
       "      <td>...</td>\n",
       "      <td>...</td>\n",
       "      <td>...</td>\n",
       "      <td>...</td>\n",
       "      <td>...</td>\n",
       "      <td>...</td>\n",
       "      <td>...</td>\n",
       "      <td>...</td>\n",
       "      <td>...</td>\n",
       "      <td>...</td>\n",
       "      <td>...</td>\n",
       "      <td>...</td>\n",
       "      <td>...</td>\n",
       "      <td>...</td>\n",
       "    </tr>\n",
       "    <tr>\n",
       "      <th>1820-12-27</th>\n",
       "      <td>6</td>\n",
       "      <td>6</td>\n",
       "      <td>6</td>\n",
       "      <td>6</td>\n",
       "      <td>6</td>\n",
       "      <td>6</td>\n",
       "      <td>6</td>\n",
       "      <td>6</td>\n",
       "      <td>6</td>\n",
       "      <td>6</td>\n",
       "      <td>...</td>\n",
       "      <td>6</td>\n",
       "      <td>6</td>\n",
       "      <td>6</td>\n",
       "      <td>6</td>\n",
       "      <td>6</td>\n",
       "      <td>6</td>\n",
       "      <td>6</td>\n",
       "      <td>6</td>\n",
       "      <td>6</td>\n",
       "      <td>6</td>\n",
       "    </tr>\n",
       "    <tr>\n",
       "      <th>1820-12-28</th>\n",
       "      <td>18</td>\n",
       "      <td>18</td>\n",
       "      <td>18</td>\n",
       "      <td>18</td>\n",
       "      <td>18</td>\n",
       "      <td>18</td>\n",
       "      <td>18</td>\n",
       "      <td>18</td>\n",
       "      <td>18</td>\n",
       "      <td>18</td>\n",
       "      <td>...</td>\n",
       "      <td>18</td>\n",
       "      <td>18</td>\n",
       "      <td>18</td>\n",
       "      <td>18</td>\n",
       "      <td>18</td>\n",
       "      <td>18</td>\n",
       "      <td>18</td>\n",
       "      <td>18</td>\n",
       "      <td>18</td>\n",
       "      <td>18</td>\n",
       "    </tr>\n",
       "    <tr>\n",
       "      <th>1820-12-29</th>\n",
       "      <td>10</td>\n",
       "      <td>10</td>\n",
       "      <td>10</td>\n",
       "      <td>10</td>\n",
       "      <td>10</td>\n",
       "      <td>10</td>\n",
       "      <td>10</td>\n",
       "      <td>10</td>\n",
       "      <td>10</td>\n",
       "      <td>10</td>\n",
       "      <td>...</td>\n",
       "      <td>10</td>\n",
       "      <td>10</td>\n",
       "      <td>10</td>\n",
       "      <td>10</td>\n",
       "      <td>10</td>\n",
       "      <td>10</td>\n",
       "      <td>10</td>\n",
       "      <td>10</td>\n",
       "      <td>10</td>\n",
       "      <td>10</td>\n",
       "    </tr>\n",
       "    <tr>\n",
       "      <th>1820-12-30</th>\n",
       "      <td>7</td>\n",
       "      <td>7</td>\n",
       "      <td>7</td>\n",
       "      <td>7</td>\n",
       "      <td>7</td>\n",
       "      <td>7</td>\n",
       "      <td>7</td>\n",
       "      <td>7</td>\n",
       "      <td>7</td>\n",
       "      <td>7</td>\n",
       "      <td>...</td>\n",
       "      <td>7</td>\n",
       "      <td>7</td>\n",
       "      <td>7</td>\n",
       "      <td>7</td>\n",
       "      <td>7</td>\n",
       "      <td>7</td>\n",
       "      <td>7</td>\n",
       "      <td>7</td>\n",
       "      <td>7</td>\n",
       "      <td>7</td>\n",
       "    </tr>\n",
       "    <tr>\n",
       "      <th>1820-12-31</th>\n",
       "      <td>12</td>\n",
       "      <td>12</td>\n",
       "      <td>12</td>\n",
       "      <td>12</td>\n",
       "      <td>12</td>\n",
       "      <td>12</td>\n",
       "      <td>12</td>\n",
       "      <td>12</td>\n",
       "      <td>12</td>\n",
       "      <td>12</td>\n",
       "      <td>...</td>\n",
       "      <td>12</td>\n",
       "      <td>12</td>\n",
       "      <td>12</td>\n",
       "      <td>12</td>\n",
       "      <td>12</td>\n",
       "      <td>12</td>\n",
       "      <td>12</td>\n",
       "      <td>12</td>\n",
       "      <td>12</td>\n",
       "      <td>12</td>\n",
       "    </tr>\n",
       "  </tbody>\n",
       "</table>\n",
       "<p>11292 rows × 112 columns</p>\n",
       "</div>"
      ],
      "text/plain": [
       "            YEAR  DOCNO  NOTARY  CODER  DATEINV  DATESALE  DEPOT  PARISH  \\\n",
       "DOCDATE                                                                    \n",
       "1719-06-15   451    451     451    451      451       451    451     451   \n",
       "1720-07-16   127    127     127    127      127       127    127     127   \n",
       "1721-03-17   182    182     182    182      182       182    182     182   \n",
       "1721-03-23   349    349     349    349      349       349    349     349   \n",
       "1721-04-20   597    597     597    597      597       597    597     597   \n",
       "...          ...    ...     ...    ...      ...       ...    ...     ...   \n",
       "1820-12-27     6      6       6      6        6         6      6       6   \n",
       "1820-12-28    18     18      18     18       18        18     18      18   \n",
       "1820-12-29    10     10      10     10       10        10     10      10   \n",
       "1820-12-30     7      7       7      7        7         7      7       7   \n",
       "1820-12-31    12     12      12     12       12        12     12      12   \n",
       "\n",
       "            LOCATION  DOCTYPE  ...  RUNAWAY  ENTERPRISE  CAPTAIN  SLAVETRADE  \\\n",
       "DOCDATE                        ...                                             \n",
       "1719-06-15       451      451  ...      451         451      451         451   \n",
       "1720-07-16       127      127  ...      127         127      127         127   \n",
       "1721-03-17       182      182  ...      182         182      182         182   \n",
       "1721-03-23       349      349  ...      349         349      349         349   \n",
       "1721-04-20       597      597  ...      597         597      597         597   \n",
       "...              ...      ...  ...      ...         ...      ...         ...   \n",
       "1820-12-27         6        6  ...        6           6        6           6   \n",
       "1820-12-28        18       18  ...       18          18       18          18   \n",
       "1820-12-29        10       10  ...       10          10       10          10   \n",
       "1820-12-30         7        7  ...        7           7        7           7   \n",
       "1820-12-31        12       12  ...       12          12       12          12   \n",
       "\n",
       "            STPORT  SHIP  ARRIVEDATE  FROM  UNBAPT  VIA  \n",
       "DOCDATE                                                  \n",
       "1719-06-15     451   451         451   451     451  451  \n",
       "1720-07-16     127   127         127   127     127  127  \n",
       "1721-03-17     182   182         182   182     182  182  \n",
       "1721-03-23     349   349         349   349     349  349  \n",
       "1721-04-20     597   597         597   597     597  597  \n",
       "...            ...   ...         ...   ...     ...  ...  \n",
       "1820-12-27       6     6           6     6       6    6  \n",
       "1820-12-28      18    18          18    18      18   18  \n",
       "1820-12-29      10    10          10    10      10   10  \n",
       "1820-12-30       7     7           7     7       7    7  \n",
       "1820-12-31      12    12          12    12      12   12  \n",
       "\n",
       "[11292 rows x 112 columns]"
      ]
     },
     "execution_count": 87,
     "metadata": {},
     "output_type": "execute_result"
    }
   ],
   "source": [
    "df.groupby('DOCDATE').count()"
   ]
  },
  {
   "cell_type": "code",
   "execution_count": 88,
   "id": "6f70e0b2-55b6-43fa-b53b-c437cceb2736",
   "metadata": {},
   "outputs": [
    {
     "data": {
      "text/html": [
       "<div>\n",
       "<style scoped>\n",
       "    .dataframe tbody tr th:only-of-type {\n",
       "        vertical-align: middle;\n",
       "    }\n",
       "\n",
       "    .dataframe tbody tr th {\n",
       "        vertical-align: top;\n",
       "    }\n",
       "\n",
       "    .dataframe thead th {\n",
       "        text-align: right;\n",
       "    }\n",
       "</style>\n",
       "<table border=\"1\" class=\"dataframe\">\n",
       "  <thead>\n",
       "    <tr style=\"text-align: right;\">\n",
       "      <th></th>\n",
       "      <th>DOCDATE</th>\n",
       "      <th>YEAR</th>\n",
       "      <th>DOCNO</th>\n",
       "      <th>NOTARY</th>\n",
       "      <th>CODER</th>\n",
       "      <th>DATEINV</th>\n",
       "      <th>DATESALE</th>\n",
       "      <th>DEPOT</th>\n",
       "      <th>PARISH</th>\n",
       "      <th>LOCATION</th>\n",
       "      <th>...</th>\n",
       "      <th>RUNAWAY</th>\n",
       "      <th>ENTERPRISE</th>\n",
       "      <th>CAPTAIN</th>\n",
       "      <th>SLAVETRADE</th>\n",
       "      <th>STPORT</th>\n",
       "      <th>SHIP</th>\n",
       "      <th>ARRIVEDATE</th>\n",
       "      <th>FROM</th>\n",
       "      <th>UNBAPT</th>\n",
       "      <th>VIA</th>\n",
       "    </tr>\n",
       "    <tr>\n",
       "      <th>PREGNANT</th>\n",
       "      <th></th>\n",
       "      <th></th>\n",
       "      <th></th>\n",
       "      <th></th>\n",
       "      <th></th>\n",
       "      <th></th>\n",
       "      <th></th>\n",
       "      <th></th>\n",
       "      <th></th>\n",
       "      <th></th>\n",
       "      <th></th>\n",
       "      <th></th>\n",
       "      <th></th>\n",
       "      <th></th>\n",
       "      <th></th>\n",
       "      <th></th>\n",
       "      <th></th>\n",
       "      <th></th>\n",
       "      <th></th>\n",
       "      <th></th>\n",
       "      <th></th>\n",
       "    </tr>\n",
       "  </thead>\n",
       "  <tbody>\n",
       "    <tr>\n",
       "      <th>-1.0</th>\n",
       "      <td>100614</td>\n",
       "      <td>100614</td>\n",
       "      <td>100614</td>\n",
       "      <td>100614</td>\n",
       "      <td>100614</td>\n",
       "      <td>100614</td>\n",
       "      <td>100614</td>\n",
       "      <td>100614</td>\n",
       "      <td>100614</td>\n",
       "      <td>100614</td>\n",
       "      <td>...</td>\n",
       "      <td>100614</td>\n",
       "      <td>100614</td>\n",
       "      <td>100614</td>\n",
       "      <td>100614</td>\n",
       "      <td>100614</td>\n",
       "      <td>100614</td>\n",
       "      <td>100614</td>\n",
       "      <td>100614</td>\n",
       "      <td>100614</td>\n",
       "      <td>100614</td>\n",
       "    </tr>\n",
       "    <tr>\n",
       "      <th>0.0</th>\n",
       "      <td>1</td>\n",
       "      <td>1</td>\n",
       "      <td>1</td>\n",
       "      <td>1</td>\n",
       "      <td>1</td>\n",
       "      <td>1</td>\n",
       "      <td>1</td>\n",
       "      <td>1</td>\n",
       "      <td>1</td>\n",
       "      <td>1</td>\n",
       "      <td>...</td>\n",
       "      <td>1</td>\n",
       "      <td>1</td>\n",
       "      <td>1</td>\n",
       "      <td>1</td>\n",
       "      <td>1</td>\n",
       "      <td>1</td>\n",
       "      <td>1</td>\n",
       "      <td>1</td>\n",
       "      <td>1</td>\n",
       "      <td>1</td>\n",
       "    </tr>\n",
       "    <tr>\n",
       "      <th>1.0</th>\n",
       "      <td>51</td>\n",
       "      <td>51</td>\n",
       "      <td>51</td>\n",
       "      <td>51</td>\n",
       "      <td>51</td>\n",
       "      <td>51</td>\n",
       "      <td>51</td>\n",
       "      <td>51</td>\n",
       "      <td>51</td>\n",
       "      <td>51</td>\n",
       "      <td>...</td>\n",
       "      <td>51</td>\n",
       "      <td>51</td>\n",
       "      <td>51</td>\n",
       "      <td>51</td>\n",
       "      <td>51</td>\n",
       "      <td>51</td>\n",
       "      <td>51</td>\n",
       "      <td>51</td>\n",
       "      <td>51</td>\n",
       "      <td>51</td>\n",
       "    </tr>\n",
       "  </tbody>\n",
       "</table>\n",
       "<p>3 rows × 112 columns</p>\n",
       "</div>"
      ],
      "text/plain": [
       "          DOCDATE    YEAR   DOCNO  NOTARY   CODER  DATEINV  DATESALE   DEPOT  \\\n",
       "PREGNANT                                                                       \n",
       "-1.0       100614  100614  100614  100614  100614   100614    100614  100614   \n",
       " 0.0            1       1       1       1       1        1         1       1   \n",
       " 1.0           51      51      51      51      51       51        51      51   \n",
       "\n",
       "          PARISH  LOCATION  ...  RUNAWAY  ENTERPRISE  CAPTAIN  SLAVETRADE  \\\n",
       "PREGNANT                    ...                                             \n",
       "-1.0      100614    100614  ...   100614      100614   100614      100614   \n",
       " 0.0           1         1  ...        1           1        1           1   \n",
       " 1.0          51        51  ...       51          51       51          51   \n",
       "\n",
       "          STPORT    SHIP  ARRIVEDATE    FROM  UNBAPT     VIA  \n",
       "PREGNANT                                                      \n",
       "-1.0      100614  100614      100614  100614  100614  100614  \n",
       " 0.0           1       1           1       1       1       1  \n",
       " 1.0          51      51          51      51      51      51  \n",
       "\n",
       "[3 rows x 112 columns]"
      ]
     },
     "execution_count": 88,
     "metadata": {},
     "output_type": "execute_result"
    }
   ],
   "source": [
    "df.groupby('PREGNANT').count()"
   ]
  },
  {
   "cell_type": "code",
   "execution_count": 89,
   "id": "c769c0ec-695e-42ed-bef8-e0c8cd65d8ff",
   "metadata": {},
   "outputs": [
    {
     "data": {
      "text/html": [
       "<div>\n",
       "<style scoped>\n",
       "    .dataframe tbody tr th:only-of-type {\n",
       "        vertical-align: middle;\n",
       "    }\n",
       "\n",
       "    .dataframe tbody tr th {\n",
       "        vertical-align: top;\n",
       "    }\n",
       "\n",
       "    .dataframe thead th {\n",
       "        text-align: right;\n",
       "    }\n",
       "</style>\n",
       "<table border=\"1\" class=\"dataframe\">\n",
       "  <thead>\n",
       "    <tr style=\"text-align: right;\">\n",
       "      <th></th>\n",
       "      <th>DOCDATE</th>\n",
       "      <th>YEAR</th>\n",
       "      <th>DOCNO</th>\n",
       "      <th>NOTARY</th>\n",
       "      <th>CODER</th>\n",
       "      <th>DATEINV</th>\n",
       "      <th>DATESALE</th>\n",
       "      <th>DEPOT</th>\n",
       "      <th>PARISH</th>\n",
       "      <th>LOCATION</th>\n",
       "      <th>...</th>\n",
       "      <th>RUNAWAY</th>\n",
       "      <th>ENTERPRISE</th>\n",
       "      <th>CAPTAIN</th>\n",
       "      <th>SLAVETRADE</th>\n",
       "      <th>STPORT</th>\n",
       "      <th>SHIP</th>\n",
       "      <th>ARRIVEDATE</th>\n",
       "      <th>FROM</th>\n",
       "      <th>UNBAPT</th>\n",
       "      <th>VIA</th>\n",
       "    </tr>\n",
       "    <tr>\n",
       "      <th>AGE</th>\n",
       "      <th></th>\n",
       "      <th></th>\n",
       "      <th></th>\n",
       "      <th></th>\n",
       "      <th></th>\n",
       "      <th></th>\n",
       "      <th></th>\n",
       "      <th></th>\n",
       "      <th></th>\n",
       "      <th></th>\n",
       "      <th></th>\n",
       "      <th></th>\n",
       "      <th></th>\n",
       "      <th></th>\n",
       "      <th></th>\n",
       "      <th></th>\n",
       "      <th></th>\n",
       "      <th></th>\n",
       "      <th></th>\n",
       "      <th></th>\n",
       "      <th></th>\n",
       "    </tr>\n",
       "  </thead>\n",
       "  <tbody>\n",
       "    <tr>\n",
       "      <th>-1.0</th>\n",
       "      <td>26687</td>\n",
       "      <td>26687</td>\n",
       "      <td>26687</td>\n",
       "      <td>26687</td>\n",
       "      <td>26687</td>\n",
       "      <td>26687</td>\n",
       "      <td>26687</td>\n",
       "      <td>26687</td>\n",
       "      <td>26687</td>\n",
       "      <td>26687</td>\n",
       "      <td>...</td>\n",
       "      <td>26687</td>\n",
       "      <td>26687</td>\n",
       "      <td>26687</td>\n",
       "      <td>26687</td>\n",
       "      <td>26687</td>\n",
       "      <td>26687</td>\n",
       "      <td>26687</td>\n",
       "      <td>26687</td>\n",
       "      <td>26687</td>\n",
       "      <td>26687</td>\n",
       "    </tr>\n",
       "    <tr>\n",
       "      <th>0.1</th>\n",
       "      <td>137</td>\n",
       "      <td>137</td>\n",
       "      <td>137</td>\n",
       "      <td>137</td>\n",
       "      <td>137</td>\n",
       "      <td>137</td>\n",
       "      <td>137</td>\n",
       "      <td>137</td>\n",
       "      <td>137</td>\n",
       "      <td>137</td>\n",
       "      <td>...</td>\n",
       "      <td>137</td>\n",
       "      <td>137</td>\n",
       "      <td>137</td>\n",
       "      <td>137</td>\n",
       "      <td>137</td>\n",
       "      <td>137</td>\n",
       "      <td>137</td>\n",
       "      <td>137</td>\n",
       "      <td>137</td>\n",
       "      <td>137</td>\n",
       "    </tr>\n",
       "    <tr>\n",
       "      <th>0.2</th>\n",
       "      <td>74</td>\n",
       "      <td>74</td>\n",
       "      <td>74</td>\n",
       "      <td>74</td>\n",
       "      <td>74</td>\n",
       "      <td>74</td>\n",
       "      <td>74</td>\n",
       "      <td>74</td>\n",
       "      <td>74</td>\n",
       "      <td>74</td>\n",
       "      <td>...</td>\n",
       "      <td>74</td>\n",
       "      <td>74</td>\n",
       "      <td>74</td>\n",
       "      <td>74</td>\n",
       "      <td>74</td>\n",
       "      <td>74</td>\n",
       "      <td>74</td>\n",
       "      <td>74</td>\n",
       "      <td>74</td>\n",
       "      <td>74</td>\n",
       "    </tr>\n",
       "    <tr>\n",
       "      <th>0.3</th>\n",
       "      <td>192</td>\n",
       "      <td>192</td>\n",
       "      <td>192</td>\n",
       "      <td>192</td>\n",
       "      <td>192</td>\n",
       "      <td>192</td>\n",
       "      <td>192</td>\n",
       "      <td>192</td>\n",
       "      <td>192</td>\n",
       "      <td>192</td>\n",
       "      <td>...</td>\n",
       "      <td>192</td>\n",
       "      <td>192</td>\n",
       "      <td>192</td>\n",
       "      <td>192</td>\n",
       "      <td>192</td>\n",
       "      <td>192</td>\n",
       "      <td>192</td>\n",
       "      <td>192</td>\n",
       "      <td>192</td>\n",
       "      <td>192</td>\n",
       "    </tr>\n",
       "    <tr>\n",
       "      <th>0.4</th>\n",
       "      <td>69</td>\n",
       "      <td>69</td>\n",
       "      <td>69</td>\n",
       "      <td>69</td>\n",
       "      <td>69</td>\n",
       "      <td>69</td>\n",
       "      <td>69</td>\n",
       "      <td>69</td>\n",
       "      <td>69</td>\n",
       "      <td>69</td>\n",
       "      <td>...</td>\n",
       "      <td>69</td>\n",
       "      <td>69</td>\n",
       "      <td>69</td>\n",
       "      <td>69</td>\n",
       "      <td>69</td>\n",
       "      <td>69</td>\n",
       "      <td>69</td>\n",
       "      <td>69</td>\n",
       "      <td>69</td>\n",
       "      <td>69</td>\n",
       "    </tr>\n",
       "    <tr>\n",
       "      <th>...</th>\n",
       "      <td>...</td>\n",
       "      <td>...</td>\n",
       "      <td>...</td>\n",
       "      <td>...</td>\n",
       "      <td>...</td>\n",
       "      <td>...</td>\n",
       "      <td>...</td>\n",
       "      <td>...</td>\n",
       "      <td>...</td>\n",
       "      <td>...</td>\n",
       "      <td>...</td>\n",
       "      <td>...</td>\n",
       "      <td>...</td>\n",
       "      <td>...</td>\n",
       "      <td>...</td>\n",
       "      <td>...</td>\n",
       "      <td>...</td>\n",
       "      <td>...</td>\n",
       "      <td>...</td>\n",
       "      <td>...</td>\n",
       "      <td>...</td>\n",
       "    </tr>\n",
       "    <tr>\n",
       "      <th>92.5</th>\n",
       "      <td>1</td>\n",
       "      <td>1</td>\n",
       "      <td>1</td>\n",
       "      <td>1</td>\n",
       "      <td>1</td>\n",
       "      <td>1</td>\n",
       "      <td>1</td>\n",
       "      <td>1</td>\n",
       "      <td>1</td>\n",
       "      <td>1</td>\n",
       "      <td>...</td>\n",
       "      <td>1</td>\n",
       "      <td>1</td>\n",
       "      <td>1</td>\n",
       "      <td>1</td>\n",
       "      <td>1</td>\n",
       "      <td>1</td>\n",
       "      <td>1</td>\n",
       "      <td>1</td>\n",
       "      <td>1</td>\n",
       "      <td>1</td>\n",
       "    </tr>\n",
       "    <tr>\n",
       "      <th>95.0</th>\n",
       "      <td>1</td>\n",
       "      <td>1</td>\n",
       "      <td>1</td>\n",
       "      <td>1</td>\n",
       "      <td>1</td>\n",
       "      <td>1</td>\n",
       "      <td>1</td>\n",
       "      <td>1</td>\n",
       "      <td>1</td>\n",
       "      <td>1</td>\n",
       "      <td>...</td>\n",
       "      <td>1</td>\n",
       "      <td>1</td>\n",
       "      <td>1</td>\n",
       "      <td>1</td>\n",
       "      <td>1</td>\n",
       "      <td>1</td>\n",
       "      <td>1</td>\n",
       "      <td>1</td>\n",
       "      <td>1</td>\n",
       "      <td>1</td>\n",
       "    </tr>\n",
       "    <tr>\n",
       "      <th>99.0</th>\n",
       "      <td>5</td>\n",
       "      <td>5</td>\n",
       "      <td>5</td>\n",
       "      <td>5</td>\n",
       "      <td>5</td>\n",
       "      <td>5</td>\n",
       "      <td>5</td>\n",
       "      <td>5</td>\n",
       "      <td>5</td>\n",
       "      <td>5</td>\n",
       "      <td>...</td>\n",
       "      <td>5</td>\n",
       "      <td>5</td>\n",
       "      <td>5</td>\n",
       "      <td>5</td>\n",
       "      <td>5</td>\n",
       "      <td>5</td>\n",
       "      <td>5</td>\n",
       "      <td>5</td>\n",
       "      <td>5</td>\n",
       "      <td>5</td>\n",
       "    </tr>\n",
       "    <tr>\n",
       "      <th>99.9</th>\n",
       "      <td>3</td>\n",
       "      <td>3</td>\n",
       "      <td>3</td>\n",
       "      <td>3</td>\n",
       "      <td>3</td>\n",
       "      <td>3</td>\n",
       "      <td>3</td>\n",
       "      <td>3</td>\n",
       "      <td>3</td>\n",
       "      <td>3</td>\n",
       "      <td>...</td>\n",
       "      <td>3</td>\n",
       "      <td>3</td>\n",
       "      <td>3</td>\n",
       "      <td>3</td>\n",
       "      <td>3</td>\n",
       "      <td>3</td>\n",
       "      <td>3</td>\n",
       "      <td>3</td>\n",
       "      <td>3</td>\n",
       "      <td>3</td>\n",
       "    </tr>\n",
       "    <tr>\n",
       "      <th>100.0</th>\n",
       "      <td>1</td>\n",
       "      <td>1</td>\n",
       "      <td>1</td>\n",
       "      <td>1</td>\n",
       "      <td>1</td>\n",
       "      <td>1</td>\n",
       "      <td>1</td>\n",
       "      <td>1</td>\n",
       "      <td>1</td>\n",
       "      <td>1</td>\n",
       "      <td>...</td>\n",
       "      <td>1</td>\n",
       "      <td>1</td>\n",
       "      <td>1</td>\n",
       "      <td>1</td>\n",
       "      <td>1</td>\n",
       "      <td>1</td>\n",
       "      <td>1</td>\n",
       "      <td>1</td>\n",
       "      <td>1</td>\n",
       "      <td>1</td>\n",
       "    </tr>\n",
       "  </tbody>\n",
       "</table>\n",
       "<p>183 rows × 112 columns</p>\n",
       "</div>"
      ],
      "text/plain": [
       "        DOCDATE   YEAR  DOCNO  NOTARY  CODER  DATEINV  DATESALE  DEPOT  \\\n",
       "AGE                                                                      \n",
       "-1.0      26687  26687  26687   26687  26687    26687     26687  26687   \n",
       " 0.1        137    137    137     137    137      137       137    137   \n",
       " 0.2         74     74     74      74     74       74        74     74   \n",
       " 0.3        192    192    192     192    192      192       192    192   \n",
       " 0.4         69     69     69      69     69       69        69     69   \n",
       "...         ...    ...    ...     ...    ...      ...       ...    ...   \n",
       " 92.5         1      1      1       1      1        1         1      1   \n",
       " 95.0         1      1      1       1      1        1         1      1   \n",
       " 99.0         5      5      5       5      5        5         5      5   \n",
       " 99.9         3      3      3       3      3        3         3      3   \n",
       " 100.0        1      1      1       1      1        1         1      1   \n",
       "\n",
       "        PARISH  LOCATION  ...  RUNAWAY  ENTERPRISE  CAPTAIN  SLAVETRADE  \\\n",
       "AGE                       ...                                             \n",
       "-1.0     26687     26687  ...    26687       26687    26687       26687   \n",
       " 0.1       137       137  ...      137         137      137         137   \n",
       " 0.2        74        74  ...       74          74       74          74   \n",
       " 0.3       192       192  ...      192         192      192         192   \n",
       " 0.4        69        69  ...       69          69       69          69   \n",
       "...        ...       ...  ...      ...         ...      ...         ...   \n",
       " 92.5        1         1  ...        1           1        1           1   \n",
       " 95.0        1         1  ...        1           1        1           1   \n",
       " 99.0        5         5  ...        5           5        5           5   \n",
       " 99.9        3         3  ...        3           3        3           3   \n",
       " 100.0       1         1  ...        1           1        1           1   \n",
       "\n",
       "        STPORT   SHIP  ARRIVEDATE   FROM  UNBAPT    VIA  \n",
       "AGE                                                      \n",
       "-1.0     26687  26687       26687  26687   26687  26687  \n",
       " 0.1       137    137         137    137     137    137  \n",
       " 0.2        74     74          74     74      74     74  \n",
       " 0.3       192    192         192    192     192    192  \n",
       " 0.4        69     69          69     69      69     69  \n",
       "...        ...    ...         ...    ...     ...    ...  \n",
       " 92.5        1      1           1      1       1      1  \n",
       " 95.0        1      1           1      1       1      1  \n",
       " 99.0        5      5           5      5       5      5  \n",
       " 99.9        3      3           3      3       3      3  \n",
       " 100.0       1      1           1      1       1      1  \n",
       "\n",
       "[183 rows x 112 columns]"
      ]
     },
     "execution_count": 89,
     "metadata": {},
     "output_type": "execute_result"
    }
   ],
   "source": [
    "df.groupby('AGE').count()"
   ]
  },
  {
   "cell_type": "code",
   "execution_count": 90,
   "id": "f5002d0c-14fc-4315-8387-0669c40b736d",
   "metadata": {},
   "outputs": [
    {
     "data": {
      "text/plain": [
       "AGE\n",
       "-1.0      26687\n",
       " 0.1        137\n",
       " 0.2         74\n",
       " 0.3        192\n",
       " 0.4         69\n",
       "          ...  \n",
       " 92.5         1\n",
       " 95.0         1\n",
       " 99.0         5\n",
       " 99.9         3\n",
       " 100.0        1\n",
       "Length: 183, dtype: int64"
      ]
     },
     "execution_count": 90,
     "metadata": {},
     "output_type": "execute_result"
    }
   ],
   "source": [
    "df.groupby('AGE').size()"
   ]
  },
  {
   "cell_type": "markdown",
   "id": "a99b7a16-482a-45ac-bfb9-c979a390dcaa",
   "metadata": {},
   "source": [
    "Make a numerical dataframe."
   ]
  },
  {
   "cell_type": "code",
   "execution_count": 91,
   "id": "0a34a6d8-2216-4b3f-827f-eaf4e6df74fc",
   "metadata": {},
   "outputs": [
    {
     "data": {
      "text/plain": [
       "['DOCDATE', 'ARRIVEDATE', 'DATESALE', 'DATEINV']"
      ]
     },
     "execution_count": 91,
     "metadata": {},
     "output_type": "execute_result"
    }
   ],
   "source": [
    "dates"
   ]
  },
  {
   "cell_type": "code",
   "execution_count": null,
   "id": "5ff18238-ba75-4837-b500-637853011198",
   "metadata": {},
   "outputs": [],
   "source": [
    "integers.append('YEAR')"
   ]
  },
  {
   "cell_type": "code",
   "execution_count": null,
   "id": "222759e6-3ac1-4e23-82e3-123b94b6cb48",
   "metadata": {},
   "outputs": [],
   "source": [
    "print(integers_and_dates)"
   ]
  },
  {
   "cell_type": "code",
   "execution_count": null,
   "id": "2606dc45-a600-4a86-8ee7-d8fa5726629a",
   "metadata": {},
   "outputs": [],
   "source": [
    "num_df = df[set(integers)].copy()"
   ]
  },
  {
   "cell_type": "code",
   "execution_count": null,
   "id": "ac62f380-c13f-47f2-9f77-6203c9168475",
   "metadata": {},
   "outputs": [],
   "source": [
    "num_df"
   ]
  },
  {
   "cell_type": "code",
   "execution_count": null,
   "id": "b97fc7e8-fa9d-4f5b-ad4b-29c6ad43f2e8",
   "metadata": {},
   "outputs": [],
   "source": [
    "num_df['PREGNANT'] = num_df['PREGNANT'].replace(-1,0)"
   ]
  },
  {
   "cell_type": "code",
   "execution_count": null,
   "id": "364e91e0-6f3c-4616-bda4-2a6b06832987",
   "metadata": {},
   "outputs": [],
   "source": [
    "num_df['MOTHER'] = num_df['MOTHER'].replace(-1,0)"
   ]
  },
  {
   "cell_type": "code",
   "execution_count": null,
   "id": "860dbb14-a53d-4375-a226-1238da1185c0",
   "metadata": {},
   "outputs": [],
   "source": [
    "num_df['CHILDREN'] = num_df['CHILDREN'].replace(-1,0)"
   ]
  },
  {
   "cell_type": "code",
   "execution_count": null,
   "id": "138d2637-d4d9-4ada-ac50-39f7bf5a0761",
   "metadata": {},
   "outputs": [],
   "source": [
    "num_df['DEAD'] = num_df['DEAD'].replace(-1,0)"
   ]
  },
  {
   "cell_type": "code",
   "execution_count": null,
   "id": "e943bac7-3899-44aa-b919-73704ba4262a",
   "metadata": {},
   "outputs": [],
   "source": [
    "num_df['MAROON'] = num_df['MAROON'].replace(-1,0)"
   ]
  },
  {
   "cell_type": "code",
   "execution_count": null,
   "id": "85fff295-b11e-44f7-ad77-d9c7bfdf3333",
   "metadata": {},
   "outputs": [],
   "source": [
    "num_df['REVOLTS'] = num_df['REVOLTS'].replace(-1,0)"
   ]
  },
  {
   "cell_type": "code",
   "execution_count": null,
   "id": "566b146c-046e-49ac-8155-ba9e34ba1556",
   "metadata": {},
   "outputs": [],
   "source": [
    "num_df['AFLANG'] = num_df['AFLANG'].replace(-1,0)"
   ]
  },
  {
   "cell_type": "code",
   "execution_count": null,
   "id": "7bdb53db-5d75-494a-b2b9-7ed950a39e67",
   "metadata": {},
   "outputs": [],
   "source": [
    "num_df['FREE'] = num_df['FREE'].replace(-1,0)"
   ]
  },
  {
   "cell_type": "code",
   "execution_count": null,
   "id": "1e8aa549-9b0f-474f-b25f-ad0823710608",
   "metadata": {},
   "outputs": [],
   "source": [
    "num_df['AGECATN'] = num_df['AGECATN'].replace(-1,0)"
   ]
  },
  {
   "cell_type": "code",
   "execution_count": null,
   "id": "d09d5fb7-f8b5-4d0d-ab88-eadd0fd28ce2",
   "metadata": {},
   "outputs": [],
   "source": [
    "num_df['EXPERT'] = num_df['EXPERT'].replace(-1,0)"
   ]
  },
  {
   "cell_type": "code",
   "execution_count": null,
   "id": "0ca5c236-8ffb-47f3-a1e2-b7c5671a48ab",
   "metadata": {},
   "outputs": [],
   "source": [
    "num_df['APPRENTICE'] = num_df['APPRENTICE'].replace(-1,0)"
   ]
  },
  {
   "cell_type": "code",
   "execution_count": null,
   "id": "07a6ddb0-90cd-4aac-a709-62c8baa65d0d",
   "metadata": {},
   "outputs": [],
   "source": [
    "num_df['ALITTLE'] = num_df['ALITTLE'].replace(-1,0)"
   ]
  },
  {
   "cell_type": "code",
   "execution_count": null,
   "id": "603037c7-d2f5-4256-a335-563a28cef009",
   "metadata": {},
   "outputs": [],
   "source": [
    "num_df['MATE'] = num_df['MATE'].replace(-1,0)"
   ]
  },
  {
   "cell_type": "code",
   "execution_count": null,
   "id": "a1b7f361-3158-4057-8e74-2decae9b6e3e",
   "metadata": {},
   "outputs": [],
   "source": [
    "age = num_df['AGE']"
   ]
  },
  {
   "cell_type": "code",
   "execution_count": null,
   "id": "72bb2b1a-238f-4122-b7ee-09d731fae83d",
   "metadata": {},
   "outputs": [],
   "source": [
    "age"
   ]
  },
  {
   "cell_type": "code",
   "execution_count": null,
   "id": "d57d6a83-c823-4e5b-8a14-932e05c06683",
   "metadata": {},
   "outputs": [],
   "source": [
    "skew_num_df = num_df.copy().skew()"
   ]
  },
  {
   "cell_type": "code",
   "execution_count": null,
   "id": "81eddabb-adae-44a0-92dd-948b85e056fe",
   "metadata": {},
   "outputs": [],
   "source": [
    "skew_num_df.describe()"
   ]
  },
  {
   "cell_type": "code",
   "execution_count": null,
   "id": "b3b9c441-a024-44bb-940f-6bde18ef62e1",
   "metadata": {},
   "outputs": [],
   "source": [
    "skew_num_df"
   ]
  },
  {
   "cell_type": "code",
   "execution_count": null,
   "id": "76b4a443-7522-435a-8bb2-85ee6b4be6d6",
   "metadata": {},
   "outputs": [],
   "source": [
    "num_df.apply(pd.value_counts)"
   ]
  },
  {
   "cell_type": "code",
   "execution_count": null,
   "id": "1b8a5f2c-9786-433d-8566-453ce1f26ea6",
   "metadata": {},
   "outputs": [],
   "source": [
    "num_df_counts = num_df.apply(pd.value_counts)"
   ]
  },
  {
   "cell_type": "code",
   "execution_count": null,
   "id": "fe1b6e44-16f0-4753-8b68-a800ae90269e",
   "metadata": {},
   "outputs": [],
   "source": []
  },
  {
   "cell_type": "code",
   "execution_count": null,
   "id": "c5d84eea-0930-4452-8ec0-6f7c5635da20",
   "metadata": {},
   "outputs": [],
   "source": [
    "salevalp = num_df[num_df['SALEVALP'] != -1]"
   ]
  },
  {
   "cell_type": "code",
   "execution_count": null,
   "id": "8e6ef039-0c04-4dca-8275-c33172fa6ac9",
   "metadata": {},
   "outputs": [],
   "source": [
    "salevalp_cut = pd.cut(salevalp['SALEVALP'],2,labels=[\"low\",\"high\"])"
   ]
  },
  {
   "cell_type": "code",
   "execution_count": null,
   "id": "c6b19b1a-cf1e-4758-9188-20a32ca54977",
   "metadata": {},
   "outputs": [],
   "source": [
    "salevalp_cut.where(salevalp_cut == \"high\")"
   ]
  },
  {
   "cell_type": "code",
   "execution_count": null,
   "id": "f8c20446-fce7-4d54-a721-83992259d29b",
   "metadata": {},
   "outputs": [],
   "source": [
    "ranked_num_df = num_df.rank()"
   ]
  },
  {
   "cell_type": "code",
   "execution_count": null,
   "id": "cf4f2d40-8ce0-4920-9d32-eece49d62d8f",
   "metadata": {},
   "outputs": [],
   "source": [
    "num_df.columns"
   ]
  },
  {
   "cell_type": "code",
   "execution_count": null,
   "id": "5bc1d5d7-fd47-4285-b8df-5064b1f65ce6",
   "metadata": {},
   "outputs": [],
   "source": [
    "num_df['YEAR'] = df['YEAR'].astype('int')"
   ]
  },
  {
   "cell_type": "code",
   "execution_count": null,
   "id": "cd8162a5-81b7-43d5-8441-b9e57446567f",
   "metadata": {},
   "outputs": [],
   "source": [
    "women = num_df['SEX'].loc[num_df['SEX']==1]"
   ]
  },
  {
   "cell_type": "code",
   "execution_count": null,
   "id": "75682a1e-5006-4c5f-96ae-65d41dfe172b",
   "metadata": {},
   "outputs": [],
   "source": [
    "women_years = num_df['YEAR'].loc[num_df['SEX']==1]"
   ]
  },
  {
   "cell_type": "code",
   "execution_count": null,
   "id": "4a2a5072-51a3-4f5d-9fc6-c2ddbf80dce8",
   "metadata": {},
   "outputs": [],
   "source": [
    "women_years = women_years.value_counts().sort_index()"
   ]
  },
  {
   "cell_type": "code",
   "execution_count": null,
   "id": "35117864-e9ef-4bec-8094-ab27b97dfec6",
   "metadata": {},
   "outputs": [],
   "source": [
    "women_years"
   ]
  },
  {
   "cell_type": "code",
   "execution_count": null,
   "id": "d9b1efa3-8397-4611-9109-abde0b61d075",
   "metadata": {},
   "outputs": [],
   "source": [
    "women"
   ]
  },
  {
   "cell_type": "code",
   "execution_count": null,
   "id": "f84dd190-5de3-4258-b675-e857e95e8acd",
   "metadata": {},
   "outputs": [],
   "source": [
    "men = num_df['SEX'].loc[num_df['SEX']==2]"
   ]
  },
  {
   "cell_type": "code",
   "execution_count": null,
   "id": "f406f269-79bc-4f3d-8923-0e7d775035f9",
   "metadata": {},
   "outputs": [],
   "source": [
    "men_years = num_df['YEAR'].loc[num_df['SEX']==2].value_counts().sort_index()"
   ]
  },
  {
   "cell_type": "code",
   "execution_count": null,
   "id": "9bbe7a33-93d5-4665-ba26-542bdc874385",
   "metadata": {},
   "outputs": [],
   "source": [
    "unknown_gender = num_df['SEX'].loc[(num_df['SEX'] != 1) & (num_df['SEX'] !=2)]"
   ]
  },
  {
   "cell_type": "code",
   "execution_count": null,
   "id": "450f7542-c3c5-40b3-b290-80a36e6ab5c9",
   "metadata": {},
   "outputs": [],
   "source": [
    "# Plot women sold per year\n",
    "plt.plot(women_years)\n",
    "plt.figure()\n",
    "plt.show()"
   ]
  },
  {
   "cell_type": "code",
   "execution_count": null,
   "id": "bfacdfbb-109b-472c-b377-eba180aaf467",
   "metadata": {},
   "outputs": [],
   "source": [
    "# Plot men sold per year\n",
    "plt.plot(men_years)\n",
    "plt.figure()\n",
    "plt.show()"
   ]
  },
  {
   "cell_type": "code",
   "execution_count": null,
   "id": "582c4881-8c85-4c87-a7e1-c15d2942350d",
   "metadata": {},
   "outputs": [],
   "source": [
    "# Plot men and women sold per year\n",
    "plt.plot(women_years,label='women sold per year')\n",
    "plt.plot(men_years, label='men sold per year')\n",
    "plt.title(\"Sale of men and women by year\")\n",
    "plt.ylabel(\"Number of transactions\")\n",
    "plt.xlabel(\"Year transactions occurred\")\n",
    "plt.legend()\n",
    "plt.show()"
   ]
  },
  {
   "cell_type": "code",
   "execution_count": null,
   "id": "3fc6f2d9-da73-4354-b457-fc2a8355ffd9",
   "metadata": {},
   "outputs": [],
   "source": [
    "emancipation_years = num_df['YEAR'].loc[num_df['EMANCIP']==1].value_counts().sort_index()"
   ]
  },
  {
   "cell_type": "code",
   "execution_count": null,
   "id": "a686da1b-b28d-4bdd-a662-5f54ea360cba",
   "metadata": {},
   "outputs": [],
   "source": [
    "# Plot emancipations per year\n",
    "plt.plot(emancipation_years,label='people emancipated per year')\n",
    "\n",
    "plt.title(\"Number of emancipations per year\")\n",
    "plt.ylabel(\"Number of emancipations\")\n",
    "plt.xlabel(\"Year emancipations occurred\")\n",
    "plt.legend()\n",
    "plt.show()"
   ]
  },
  {
   "cell_type": "code",
   "execution_count": null,
   "id": "5d2abd62-3c80-4bd1-b88f-1f56fd5b90e7",
   "metadata": {},
   "outputs": [],
   "source": [
    "emancipations_by_age = num_df['AGE'].loc[num_df['EMANCIP']==1] #.value_counts().sort_index()"
   ]
  },
  {
   "cell_type": "code",
   "execution_count": null,
   "id": "386438b4-5c04-4f72-bf62-162539e4d022",
   "metadata": {},
   "outputs": [],
   "source": [
    "emancipations_by_age.value_counts().sort_values()"
   ]
  },
  {
   "cell_type": "code",
   "execution_count": 137,
   "id": "5478cc81-7770-4fdf-b394-3c138a6ea413",
   "metadata": {},
   "outputs": [
    {
     "data": {
      "text/plain": [
       "-1.0     48\n",
       " 0.6      1\n",
       " 1.0      4\n",
       " 1.5      1\n",
       " 2.0     10\n",
       " 2.5      1\n",
       " 3.0      5\n",
       " 3.5      1\n",
       " 4.0      3\n",
       " 5.0      4\n",
       " 5.5      1\n",
       " 6.0      1\n",
       " 7.0      2\n",
       " 8.0      2\n",
       " 9.0      4\n",
       " 10.0     1\n",
       " 11.0     2\n",
       " 12.0     3\n",
       " 13.0     2\n",
       " 14.0     1\n",
       " 14.5     1\n",
       " 15.0     4\n",
       " 16.0     3\n",
       " 17.0     1\n",
       " 20.0     5\n",
       " 21.0     1\n",
       " 22.0     6\n",
       " 24.0     2\n",
       " 25.0     6\n",
       " 26.0     2\n",
       " 27.0     2\n",
       " 28.0     8\n",
       " 28.5     1\n",
       " 30.0     8\n",
       " 34.0     5\n",
       " 35.0     4\n",
       " 36.0     6\n",
       " 37.0     1\n",
       " 38.0     3\n",
       " 40.0     8\n",
       " 43.0     1\n",
       " 45.0     6\n",
       " 48.0     1\n",
       " 50.0     3\n",
       " 52.0     2\n",
       " 55.0     5\n",
       " 60.0    12\n",
       " 62.0     1\n",
       " 65.0     1\n",
       " 68.0     1\n",
       " 69.0     1\n",
       " 70.0     5\n",
       " 75.0     2\n",
       " 76.0     1\n",
       " 80.0     4\n",
       " 85.0     1\n",
       "Name: AGE, dtype: int64"
      ]
     },
     "execution_count": 137,
     "metadata": {},
     "output_type": "execute_result"
    }
   ],
   "source": [
    "emancipations_by_age.value_counts().sort_index()"
   ]
  },
  {
   "cell_type": "code",
   "execution_count": 138,
   "id": "a3f5191f-a1b1-43ff-a165-8f93f2f97df6",
   "metadata": {},
   "outputs": [
    {
     "data": {
      "image/png": "[encoded data removed]",
      "text/plain": [
       "<Figure size 432x288 with 1 Axes>"
      ]
     },
     "metadata": {
      "needs_background": "light"
     },
     "output_type": "display_data"
    }
   ],
   "source": [
    "# Plot men and women sold per year\n",
    "emancipations_by_age = emancipations_by_age.loc[emancipations_by_age > 0]\n",
    "\n",
    "\n",
    "# Divide into 20 bins of roughly 4-5 years age difference\n",
    "emancipations_by_age_cut = pd.qcut(emancipations_by_age, 10)\n",
    "\n",
    "emancipations_by_age_cut.value_counts()\n",
    "\n",
    "emancipations_by_age_cut.value_counts().sort_index().plot(label='ages of people emancipated',kind='bar')\n",
    "plt.title(\"Number of emancipations based on age\")\n",
    "plt.xlabel(\"Number of emancipations\")\n",
    "plt.ylabel(\"Age group of person being emancipated\")\n",
    "plt.legend()\n",
    "\n",
    "plt.show()"
   ]
  },
  {
   "cell_type": "code",
   "execution_count": 139,
   "id": "19be8276-76c2-4b75-9b97-32ca8fe4e31a",
   "metadata": {},
   "outputs": [
    {
     "data": {
      "image/png": "[encoded data removed]",
      "text/plain": [
       "<Figure size 432x288 with 1 Axes>"
      ]
     },
     "metadata": {
      "needs_background": "light"
     },
     "output_type": "display_data"
    }
   ],
   "source": [
    "maroon_years = num_df['YEAR'].loc[num_df['MAROON']==1].value_counts().sort_index()\n",
    "plt.plot(maroon_years,label='People living as maroons per year')\n",
    "\n",
    "plt.title(\"Number of maroons per year\")\n",
    "plt.ylabel(\"Number of maroons\")\n",
    "plt.xlabel(\"Approximate year marooning began or occurred\")\n",
    "plt.legend()\n",
    "plt.show()"
   ]
  },
  {
   "cell_type": "code",
   "execution_count": 140,
   "id": "5f1a4e7b-3300-4ed0-a931-f7d5028321b4",
   "metadata": {},
   "outputs": [
    {
     "data": {
      "image/png": "[encoded data removed]",
      "text/plain": [
       "<Figure size 432x288 with 1 Axes>"
      ]
     },
     "metadata": {
      "needs_background": "light"
     },
     "output_type": "display_data"
    }
   ],
   "source": [
    "revolt_years = num_df['YEAR'].loc[num_df['REVOLTS']==1]\n",
    "\n",
    "plt.hist(revolt_years,label=\"Number of people involved in a revolt\")\n",
    "\n",
    "plt.title(\"Number of people revolting per year\")\n",
    "plt.ylabel(\"Number of people in revolt\")\n",
    "plt.xlabel(\"Approximate year revolts began\")\n",
    "plt.legend()\n",
    "plt.show()"
   ]
  },
  {
   "cell_type": "code",
   "execution_count": 141,
   "id": "7189b2bd-4da2-49c5-b876-f75d68b0af39",
   "metadata": {},
   "outputs": [
    {
     "data": {
      "text/plain": [
       "1811    217\n",
       "1795     73\n",
       "1791     22\n",
       "Name: YEAR, dtype: int64"
      ]
     },
     "execution_count": 141,
     "metadata": {},
     "output_type": "execute_result"
    }
   ],
   "source": [
    "revolt_years.value_counts()"
   ]
  },
  {
   "cell_type": "code",
   "execution_count": 142,
   "id": "599e2bf4-809b-4434-ab63-bbf2d5caa7d2",
   "metadata": {},
   "outputs": [
    {
     "data": {
      "image/png": "[encoded data removed]",
      "text/plain": [
       "<Figure size 432x288 with 1 Axes>"
      ]
     },
     "metadata": {
      "needs_background": "light"
     },
     "output_type": "display_data"
    }
   ],
   "source": [
    "# Runaways per year is best modeled as a histogram\n",
    "run_years = num_df['YEAR'].loc[num_df['RUNAWAY']==1]\n",
    "plt.hist(run_years,label='People running away per year')\n",
    "\n",
    "plt.title(\"Number of people running away per year\")\n",
    "plt.ylabel(\"Number of people listed as runaways\")\n",
    "plt.xlabel(\"Approximate year runaways ran away\")\n",
    "plt.legend()\n",
    "plt.show()"
   ]
  },
  {
   "cell_type": "code",
   "execution_count": 143,
   "id": "3561acdf-86af-4918-9a01-73fed3cc97a1",
   "metadata": {},
   "outputs": [
    {
     "data": {
      "text/plain": [
       "2131      1725\n",
       "2147      1725\n",
       "2148      1725\n",
       "2151      1725\n",
       "2152      1725\n",
       "          ... \n",
       "99660     1820\n",
       "100029    1820\n",
       "100322    1820\n",
       "100422    1820\n",
       "100554    1820\n",
       "Name: YEAR, Length: 1009, dtype: int32"
      ]
     },
     "execution_count": 143,
     "metadata": {},
     "output_type": "execute_result"
    }
   ],
   "source": [
    "run_years"
   ]
  },
  {
   "cell_type": "markdown",
   "id": "53657b40-38d2-4a68-a9e9-193bfeebbecb",
   "metadata": {},
   "source": [
    "Took me so long to figure out that I could just use groupby. I decided to do the average transaction because total transactions was huge, 60000 records, and couldn't easily be plotted."
   ]
  },
  {
   "cell_type": "code",
   "execution_count": 144,
   "id": "77006b46-6299-475f-8ccc-7b54b910e047",
   "metadata": {},
   "outputs": [
    {
     "data": {
      "image/png": "[encoded data removed]",
      "text/plain": [
       "<Figure size 432x288 with 1 Axes>"
      ]
     },
     "metadata": {
      "needs_background": "light"
     },
     "output_type": "display_data"
    }
   ],
   "source": [
    "# Salevalp per year per transaction\n",
    "salevalp = num_df['SALEVALP'].loc[num_df['SALEVALP']>0].groupby(num_df['YEAR']).mean()\n",
    "plt.plot(salevalp,label=\"Average transaction value by year\")\n",
    "plt.title(\"Average salevalue per year normalized by currency\")\n",
    "plt.ylabel(\"Average salevalue normalized by currency\")\n",
    "plt.xlabel(\"Year of transaction\")\n",
    "plt.legend()\n",
    "plt.show()\n",
    "\n"
   ]
  },
  {
   "cell_type": "code",
   "execution_count": 145,
   "id": "11cef3dd-6f39-4c72-8196-358ba8a10f99",
   "metadata": {},
   "outputs": [
    {
     "data": {
      "image/png": "[encoded data removed]",
      "text/plain": [
       "<Figure size 432x288 with 1 Axes>"
      ]
     },
     "metadata": {
      "needs_background": "light"
     },
     "output_type": "display_data"
    }
   ],
   "source": [
    "# Salevalp per year per transaction plotted against total number of transactions\n",
    "salevalp = num_df['SALEVALP'].loc[num_df['SALEVALP']>0].groupby(num_df['YEAR']).mean()\n",
    "num_transactions = num_df['YEAR'].loc[num_df['SALEVALP']>0].value_counts().sort_index()\n",
    "plt.plot(salevalp,label=\"Average transaction value by year\")\n",
    "plt.plot(num_transactions,label=\"number of transactions by year\")\n",
    "plt.title(\"Average salevalue per year normalized by currency vs total number of transactions\")\n",
    "plt.ylabel(\"Average salevalue normalized by currency\")\n",
    "plt.xlabel(\"Year of transaction\")\n",
    "plt.legend()\n",
    "plt.show()"
   ]
  },
  {
   "cell_type": "code",
   "execution_count": 146,
   "id": "c67f8fed-879b-4523-a5df-f3ed7d9dc7ea",
   "metadata": {},
   "outputs": [
    {
     "data": {
      "image/png": "[encoded data removed]",
      "text/plain": [
       "<Figure size 432x288 with 1 Axes>"
      ]
     },
     "metadata": {
      "needs_background": "light"
     },
     "output_type": "display_data"
    }
   ],
   "source": [
    "# Inventory value plotted against number of transactions a year\n",
    "# Notice that inventory value was high when few inventories were being made\n",
    "invvalp = num_df['INVVALP'].loc[num_df['INVVALP']>0].groupby(num_df['YEAR']).mean()\n",
    "num_transactions = num_df['YEAR'].loc[num_df['INVVALP']>0].value_counts().sort_index()\n",
    "plt.plot(invvalp,label=\"Average inventory value by year\")\n",
    "plt.plot(num_transactions,label=\"number of transactions by year\")\n",
    "plt.plot(salevalp,label=\"average sale value by year\")\n",
    "plt.title(\"Average salevalue per year normalized by currency vs total number of transactions\")\n",
    "plt.ylabel(\"Average salevalue normalized by currency\")\n",
    "plt.xlabel(\"Year of transaction\")\n",
    "plt.legend()\n",
    "plt.show()"
   ]
  },
  {
   "cell_type": "code",
   "execution_count": 147,
   "id": "dc3a2083-6fa5-4b26-876f-5bcd1fe90a1f",
   "metadata": {},
   "outputs": [
    {
     "data": {
      "image/png": "[encoded data removed]",
      "text/plain": [
       "<Figure size 432x288 with 1 Axes>"
      ]
     },
     "metadata": {
      "needs_background": "light"
     },
     "output_type": "display_data"
    }
   ],
   "source": [
    "# Sale value in general, men and women plotted against each other\n",
    "\n",
    "salevalp = num_df['SALEVALP'].loc[num_df['SALEVALP']>0].groupby(num_df['YEAR']).mean()\n",
    "salevalp_women = num_df['SALEVALP'].loc[(num_df['SEX']==1)].groupby(num_df['YEAR']).mean()\n",
    "salevalp_men = num_df['SALEVALP'].loc[(num_df['SEX']==2)].groupby(num_df['YEAR']).mean()\n",
    "plt.plot(salevalp,label=\"Average sale price value by year\")\n",
    "\n",
    "plt.plot(salevalp_women,label=\"average sale price by year women only\")\n",
    "plt.plot(salevalp_men,label=\"average sale price by year men only\")\n",
    "plt.title(\"Average salevalue per year normalized by currency vs total number of transactions\")\n",
    "plt.ylabel(\"Average salevalue normalized by currency\")\n",
    "plt.xlabel(\"Year of transaction\")\n",
    "plt.legend()\n",
    "plt.show()"
   ]
  },
  {
   "cell_type": "code",
   "execution_count": null,
   "id": "c5e474b1-772c-47e9-9172-0a1302bc476c",
   "metadata": {},
   "outputs": [],
   "source": []
  },
  {
   "cell_type": "code",
   "execution_count": 148,
   "id": "d1133f52-a8aa-4519-b3ac-8d8b781e78b5",
   "metadata": {},
   "outputs": [
    {
     "data": {
      "image/png": "[encoded data removed]",
      "text/plain": [
       "<Figure size 432x288 with 1 Axes>"
      ]
     },
     "metadata": {
      "needs_background": "light"
     },
     "output_type": "display_data"
    }
   ],
   "source": [
    "# Sale value in general, plotted against those cases where gender is unknown\n",
    "num_df['SEX'] = num_df['SEX'].replace([-1,9],0)\n",
    "\n",
    "salevalp = num_df['SALEVALP'].loc[num_df['SALEVALP']>0].groupby(num_df['YEAR']).mean()\n",
    "salevalp_unknown_gender = num_df['SALEVALP'].loc[(num_df['SEX'] == 0)].groupby(num_df['YEAR']).mean()\n",
    "plt.plot(salevalp,label=\"Average sale price value by year\")\n",
    "\n",
    "plt.plot(salevalp_unknown_gender,label=\"average sale price by year gender unknown only\")\n",
    "\n",
    "plt.title(\"Average salevalue per year normalized by currency vs total number of transactions\")\n",
    "plt.ylabel(\"Average salevalue normalized by currency\")\n",
    "plt.xlabel(\"Year of transaction\")\n",
    "plt.legend()\n",
    "plt.show()"
   ]
  },
  {
   "cell_type": "markdown",
   "id": "8f798ac3-d6f0-44c8-bf2c-a1393a7c0076",
   "metadata": {},
   "source": [
    "I'm getting more and more curious about these mysterious unknown gender actors. Why do they have independent valuations outside the general trend lines, when men and women followed roughly the same trends? Unfortunately, this happens."
   ]
  },
  {
   "cell_type": "code",
   "execution_count": 149,
   "id": "c1bb0eb0-19b3-46c8-bbcd-0b2c181e5f0c",
   "metadata": {},
   "outputs": [
    {
     "data": {
      "text/html": [
       "<div>\n",
       "<style scoped>\n",
       "    .dataframe tbody tr th:only-of-type {\n",
       "        vertical-align: middle;\n",
       "    }\n",
       "\n",
       "    .dataframe tbody tr th {\n",
       "        vertical-align: top;\n",
       "    }\n",
       "\n",
       "    .dataframe thead th {\n",
       "        text-align: right;\n",
       "    }\n",
       "</style>\n",
       "<table border=\"1\" class=\"dataframe\">\n",
       "  <thead>\n",
       "    <tr style=\"text-align: right;\">\n",
       "      <th></th>\n",
       "      <th>ALITTLE</th>\n",
       "      <th>CHARCAT</th>\n",
       "      <th>BIRTHPL</th>\n",
       "      <th>AGEGRANDPA</th>\n",
       "      <th>REVOLTS</th>\n",
       "      <th>GRANDSONS</th>\n",
       "      <th>SKILL4</th>\n",
       "      <th>ESTATEPOP</th>\n",
       "      <th>CODER</th>\n",
       "      <th>FEMALE</th>\n",
       "      <th>...</th>\n",
       "      <th>ORDAD</th>\n",
       "      <th>MATE</th>\n",
       "      <th>CHILDREN</th>\n",
       "      <th>STPORT</th>\n",
       "      <th>SICKCAT</th>\n",
       "      <th>AGE</th>\n",
       "      <th>CHARCAT2</th>\n",
       "      <th>DOCTYPE</th>\n",
       "      <th>PREGNANT</th>\n",
       "      <th>AGECATMATE</th>\n",
       "    </tr>\n",
       "  </thead>\n",
       "  <tbody>\n",
       "    <tr>\n",
       "      <th>0</th>\n",
       "      <td>NaN</td>\n",
       "      <td>NaN</td>\n",
       "      <td>498.0</td>\n",
       "      <td>NaN</td>\n",
       "      <td>NaN</td>\n",
       "      <td>NaN</td>\n",
       "      <td>NaN</td>\n",
       "      <td>NaN</td>\n",
       "      <td>1.0</td>\n",
       "      <td>NaN</td>\n",
       "      <td>...</td>\n",
       "      <td>NaN</td>\n",
       "      <td>NaN</td>\n",
       "      <td>NaN</td>\n",
       "      <td>85.0</td>\n",
       "      <td>NaN</td>\n",
       "      <td>NaN</td>\n",
       "      <td>NaN</td>\n",
       "      <td>25.0</td>\n",
       "      <td>NaN</td>\n",
       "      <td>NaN</td>\n",
       "    </tr>\n",
       "    <tr>\n",
       "      <th>1</th>\n",
       "      <td>NaN</td>\n",
       "      <td>NaN</td>\n",
       "      <td>498.0</td>\n",
       "      <td>NaN</td>\n",
       "      <td>NaN</td>\n",
       "      <td>NaN</td>\n",
       "      <td>NaN</td>\n",
       "      <td>NaN</td>\n",
       "      <td>1.0</td>\n",
       "      <td>NaN</td>\n",
       "      <td>...</td>\n",
       "      <td>NaN</td>\n",
       "      <td>NaN</td>\n",
       "      <td>NaN</td>\n",
       "      <td>85.0</td>\n",
       "      <td>NaN</td>\n",
       "      <td>NaN</td>\n",
       "      <td>NaN</td>\n",
       "      <td>25.0</td>\n",
       "      <td>NaN</td>\n",
       "      <td>NaN</td>\n",
       "    </tr>\n",
       "    <tr>\n",
       "      <th>2</th>\n",
       "      <td>NaN</td>\n",
       "      <td>NaN</td>\n",
       "      <td>498.0</td>\n",
       "      <td>NaN</td>\n",
       "      <td>NaN</td>\n",
       "      <td>NaN</td>\n",
       "      <td>NaN</td>\n",
       "      <td>NaN</td>\n",
       "      <td>1.0</td>\n",
       "      <td>NaN</td>\n",
       "      <td>...</td>\n",
       "      <td>NaN</td>\n",
       "      <td>NaN</td>\n",
       "      <td>NaN</td>\n",
       "      <td>85.0</td>\n",
       "      <td>NaN</td>\n",
       "      <td>NaN</td>\n",
       "      <td>NaN</td>\n",
       "      <td>25.0</td>\n",
       "      <td>NaN</td>\n",
       "      <td>NaN</td>\n",
       "    </tr>\n",
       "    <tr>\n",
       "      <th>3</th>\n",
       "      <td>NaN</td>\n",
       "      <td>NaN</td>\n",
       "      <td>498.0</td>\n",
       "      <td>NaN</td>\n",
       "      <td>NaN</td>\n",
       "      <td>NaN</td>\n",
       "      <td>NaN</td>\n",
       "      <td>NaN</td>\n",
       "      <td>1.0</td>\n",
       "      <td>NaN</td>\n",
       "      <td>...</td>\n",
       "      <td>NaN</td>\n",
       "      <td>NaN</td>\n",
       "      <td>NaN</td>\n",
       "      <td>85.0</td>\n",
       "      <td>NaN</td>\n",
       "      <td>NaN</td>\n",
       "      <td>NaN</td>\n",
       "      <td>25.0</td>\n",
       "      <td>NaN</td>\n",
       "      <td>NaN</td>\n",
       "    </tr>\n",
       "    <tr>\n",
       "      <th>4</th>\n",
       "      <td>NaN</td>\n",
       "      <td>NaN</td>\n",
       "      <td>498.0</td>\n",
       "      <td>NaN</td>\n",
       "      <td>NaN</td>\n",
       "      <td>NaN</td>\n",
       "      <td>NaN</td>\n",
       "      <td>NaN</td>\n",
       "      <td>1.0</td>\n",
       "      <td>NaN</td>\n",
       "      <td>...</td>\n",
       "      <td>NaN</td>\n",
       "      <td>NaN</td>\n",
       "      <td>NaN</td>\n",
       "      <td>85.0</td>\n",
       "      <td>NaN</td>\n",
       "      <td>NaN</td>\n",
       "      <td>NaN</td>\n",
       "      <td>25.0</td>\n",
       "      <td>NaN</td>\n",
       "      <td>NaN</td>\n",
       "    </tr>\n",
       "    <tr>\n",
       "      <th>...</th>\n",
       "      <td>...</td>\n",
       "      <td>...</td>\n",
       "      <td>...</td>\n",
       "      <td>...</td>\n",
       "      <td>...</td>\n",
       "      <td>...</td>\n",
       "      <td>...</td>\n",
       "      <td>...</td>\n",
       "      <td>...</td>\n",
       "      <td>...</td>\n",
       "      <td>...</td>\n",
       "      <td>...</td>\n",
       "      <td>...</td>\n",
       "      <td>...</td>\n",
       "      <td>...</td>\n",
       "      <td>...</td>\n",
       "      <td>...</td>\n",
       "      <td>...</td>\n",
       "      <td>...</td>\n",
       "      <td>...</td>\n",
       "      <td>...</td>\n",
       "    </tr>\n",
       "    <tr>\n",
       "      <th>100661</th>\n",
       "      <td>NaN</td>\n",
       "      <td>NaN</td>\n",
       "      <td>NaN</td>\n",
       "      <td>NaN</td>\n",
       "      <td>NaN</td>\n",
       "      <td>NaN</td>\n",
       "      <td>NaN</td>\n",
       "      <td>NaN</td>\n",
       "      <td>NaN</td>\n",
       "      <td>NaN</td>\n",
       "      <td>...</td>\n",
       "      <td>NaN</td>\n",
       "      <td>NaN</td>\n",
       "      <td>NaN</td>\n",
       "      <td>NaN</td>\n",
       "      <td>NaN</td>\n",
       "      <td>NaN</td>\n",
       "      <td>NaN</td>\n",
       "      <td>NaN</td>\n",
       "      <td>NaN</td>\n",
       "      <td>NaN</td>\n",
       "    </tr>\n",
       "    <tr>\n",
       "      <th>100662</th>\n",
       "      <td>NaN</td>\n",
       "      <td>NaN</td>\n",
       "      <td>NaN</td>\n",
       "      <td>NaN</td>\n",
       "      <td>NaN</td>\n",
       "      <td>NaN</td>\n",
       "      <td>NaN</td>\n",
       "      <td>NaN</td>\n",
       "      <td>NaN</td>\n",
       "      <td>NaN</td>\n",
       "      <td>...</td>\n",
       "      <td>NaN</td>\n",
       "      <td>NaN</td>\n",
       "      <td>NaN</td>\n",
       "      <td>NaN</td>\n",
       "      <td>NaN</td>\n",
       "      <td>NaN</td>\n",
       "      <td>NaN</td>\n",
       "      <td>NaN</td>\n",
       "      <td>NaN</td>\n",
       "      <td>NaN</td>\n",
       "    </tr>\n",
       "    <tr>\n",
       "      <th>100663</th>\n",
       "      <td>NaN</td>\n",
       "      <td>NaN</td>\n",
       "      <td>NaN</td>\n",
       "      <td>NaN</td>\n",
       "      <td>NaN</td>\n",
       "      <td>NaN</td>\n",
       "      <td>NaN</td>\n",
       "      <td>NaN</td>\n",
       "      <td>NaN</td>\n",
       "      <td>NaN</td>\n",
       "      <td>...</td>\n",
       "      <td>NaN</td>\n",
       "      <td>NaN</td>\n",
       "      <td>NaN</td>\n",
       "      <td>NaN</td>\n",
       "      <td>NaN</td>\n",
       "      <td>NaN</td>\n",
       "      <td>NaN</td>\n",
       "      <td>NaN</td>\n",
       "      <td>NaN</td>\n",
       "      <td>NaN</td>\n",
       "    </tr>\n",
       "    <tr>\n",
       "      <th>100664</th>\n",
       "      <td>NaN</td>\n",
       "      <td>NaN</td>\n",
       "      <td>NaN</td>\n",
       "      <td>NaN</td>\n",
       "      <td>NaN</td>\n",
       "      <td>NaN</td>\n",
       "      <td>NaN</td>\n",
       "      <td>NaN</td>\n",
       "      <td>NaN</td>\n",
       "      <td>NaN</td>\n",
       "      <td>...</td>\n",
       "      <td>NaN</td>\n",
       "      <td>NaN</td>\n",
       "      <td>NaN</td>\n",
       "      <td>NaN</td>\n",
       "      <td>NaN</td>\n",
       "      <td>NaN</td>\n",
       "      <td>NaN</td>\n",
       "      <td>NaN</td>\n",
       "      <td>NaN</td>\n",
       "      <td>NaN</td>\n",
       "    </tr>\n",
       "    <tr>\n",
       "      <th>100665</th>\n",
       "      <td>NaN</td>\n",
       "      <td>NaN</td>\n",
       "      <td>NaN</td>\n",
       "      <td>NaN</td>\n",
       "      <td>NaN</td>\n",
       "      <td>NaN</td>\n",
       "      <td>NaN</td>\n",
       "      <td>NaN</td>\n",
       "      <td>NaN</td>\n",
       "      <td>NaN</td>\n",
       "      <td>...</td>\n",
       "      <td>NaN</td>\n",
       "      <td>NaN</td>\n",
       "      <td>NaN</td>\n",
       "      <td>NaN</td>\n",
       "      <td>NaN</td>\n",
       "      <td>NaN</td>\n",
       "      <td>NaN</td>\n",
       "      <td>NaN</td>\n",
       "      <td>NaN</td>\n",
       "      <td>NaN</td>\n",
       "    </tr>\n",
       "  </tbody>\n",
       "</table>\n",
       "<p>100666 rows × 77 columns</p>\n",
       "</div>"
      ],
      "text/plain": [
       "        ALITTLE  CHARCAT  BIRTHPL  AGEGRANDPA  REVOLTS  GRANDSONS  SKILL4  \\\n",
       "0           NaN      NaN    498.0         NaN      NaN        NaN     NaN   \n",
       "1           NaN      NaN    498.0         NaN      NaN        NaN     NaN   \n",
       "2           NaN      NaN    498.0         NaN      NaN        NaN     NaN   \n",
       "3           NaN      NaN    498.0         NaN      NaN        NaN     NaN   \n",
       "4           NaN      NaN    498.0         NaN      NaN        NaN     NaN   \n",
       "...         ...      ...      ...         ...      ...        ...     ...   \n",
       "100661      NaN      NaN      NaN         NaN      NaN        NaN     NaN   \n",
       "100662      NaN      NaN      NaN         NaN      NaN        NaN     NaN   \n",
       "100663      NaN      NaN      NaN         NaN      NaN        NaN     NaN   \n",
       "100664      NaN      NaN      NaN         NaN      NaN        NaN     NaN   \n",
       "100665      NaN      NaN      NaN         NaN      NaN        NaN     NaN   \n",
       "\n",
       "        ESTATEPOP  CODER  FEMALE  ...  ORDAD  MATE  CHILDREN  STPORT  SICKCAT  \\\n",
       "0             NaN    1.0     NaN  ...    NaN   NaN       NaN    85.0      NaN   \n",
       "1             NaN    1.0     NaN  ...    NaN   NaN       NaN    85.0      NaN   \n",
       "2             NaN    1.0     NaN  ...    NaN   NaN       NaN    85.0      NaN   \n",
       "3             NaN    1.0     NaN  ...    NaN   NaN       NaN    85.0      NaN   \n",
       "4             NaN    1.0     NaN  ...    NaN   NaN       NaN    85.0      NaN   \n",
       "...           ...    ...     ...  ...    ...   ...       ...     ...      ...   \n",
       "100661        NaN    NaN     NaN  ...    NaN   NaN       NaN     NaN      NaN   \n",
       "100662        NaN    NaN     NaN  ...    NaN   NaN       NaN     NaN      NaN   \n",
       "100663        NaN    NaN     NaN  ...    NaN   NaN       NaN     NaN      NaN   \n",
       "100664        NaN    NaN     NaN  ...    NaN   NaN       NaN     NaN      NaN   \n",
       "100665        NaN    NaN     NaN  ...    NaN   NaN       NaN     NaN      NaN   \n",
       "\n",
       "        AGE  CHARCAT2  DOCTYPE  PREGNANT  AGECATMATE  \n",
       "0       NaN       NaN     25.0       NaN         NaN  \n",
       "1       NaN       NaN     25.0       NaN         NaN  \n",
       "2       NaN       NaN     25.0       NaN         NaN  \n",
       "3       NaN       NaN     25.0       NaN         NaN  \n",
       "4       NaN       NaN     25.0       NaN         NaN  \n",
       "...     ...       ...      ...       ...         ...  \n",
       "100661  NaN       NaN      NaN       NaN         NaN  \n",
       "100662  NaN       NaN      NaN       NaN         NaN  \n",
       "100663  NaN       NaN      NaN       NaN         NaN  \n",
       "100664  NaN       NaN      NaN       NaN         NaN  \n",
       "100665  NaN       NaN      NaN       NaN         NaN  \n",
       "\n",
       "[100666 rows x 77 columns]"
      ]
     },
     "execution_count": 149,
     "metadata": {},
     "output_type": "execute_result"
    }
   ],
   "source": [
    "num_df[num_df[num_df['SEX'] == 0] > 0]"
   ]
  },
  {
   "cell_type": "markdown",
   "id": "fa6b982f-0852-48ca-b7f2-d23346e43a6c",
   "metadata": {},
   "source": [
    "It's a super sparse graph, that unfortunately has some values. Basically, it just shows the issue with historical documents. The information is incomplete."
   ]
  },
  {
   "cell_type": "code",
   "execution_count": 150,
   "id": "9407cf0f-b881-4926-abd5-f47e9bfabed2",
   "metadata": {},
   "outputs": [
    {
     "data": {
      "image/png": "[encoded data removed]",
      "text/plain": [
       "<Figure size 432x288 with 1 Axes>"
      ]
     },
     "metadata": {
      "needs_background": "light"
     },
     "output_type": "display_data"
    }
   ],
   "source": [
    "# Persons known to speak african languages by year\n",
    "aflang = num_df['YEAR'].loc[num_df['AFLANG']>1]\n",
    "plt.hist(aflang,label='People speaking african languages')\n",
    "\n",
    "plt.title(\"People speaking african languages\")\n",
    "plt.ylabel(\"Number of People speaking african languages\")\n",
    "plt.xlabel(\"Approximate year african language speakers sold\")\n",
    "plt.legend()\n",
    "plt.show()\n"
   ]
  },
  {
   "cell_type": "code",
   "execution_count": 151,
   "id": "eb97d4b2-e52a-42d0-8f68-a9b3e9b50b53",
   "metadata": {},
   "outputs": [],
   "source": [
    "# Stacked histogram showing, for each year, the number of each african language spoken\n",
    "\n"
   ]
  },
  {
   "cell_type": "code",
   "execution_count": 152,
   "id": "f5dece0d-081e-4f50-aa70-25b63b88a52e",
   "metadata": {},
   "outputs": [
    {
     "ename": "NameError",
     "evalue": "name 'aflang_df' is not defined",
     "output_type": "error",
     "traceback": [
      "\u001b[1;31m---------------------------------------------------------------------------\u001b[0m",
      "\u001b[1;31mNameError\u001b[0m                                 Traceback (most recent call last)",
      "\u001b[1;32m~\\AppData\\Local\\Temp/ipykernel_15416/3005558901.py\u001b[0m in \u001b[0;36m<module>\u001b[1;34m\u001b[0m\n\u001b[1;32m----> 1\u001b[1;33m \u001b[0maflang_df\u001b[0m\u001b[1;33m.\u001b[0m\u001b[0mcolumns\u001b[0m\u001b[1;33m\u001b[0m\u001b[1;33m\u001b[0m\u001b[0m\n\u001b[0m",
      "\u001b[1;31mNameError\u001b[0m: name 'aflang_df' is not defined"
     ]
    }
   ],
   "source": [
    "aflang_df.columns"
   ]
  },
  {
   "cell_type": "code",
   "execution_count": null,
   "id": "9cf83a5f-9452-4da7-8851-fff2ecf0a660",
   "metadata": {},
   "outputs": [],
   "source": [
    "aflang_df"
   ]
  },
  {
   "cell_type": "code",
   "execution_count": null,
   "id": "1a7b36b6-e2c7-4ab9-aebd-ae9a920fa0fb",
   "metadata": {},
   "outputs": [],
   "source": [
    "qqplot(df['SALEVALP'].loc[df['SALEVALP']>0], line='s')"
   ]
  },
  {
   "cell_type": "code",
   "execution_count": null,
   "id": "6f50fce7-1369-48cd-a029-7f17f342ca5a",
   "metadata": {},
   "outputs": [],
   "source": [
    "# Age distribution is also not Gaussian, as age rapidly declines above 30\n",
    "plt.hist(num_df['AGE'])\n",
    "plt.yscale(\"log\")\n",
    "plt.show()"
   ]
  },
  {
   "cell_type": "code",
   "execution_count": null,
   "id": "0aafb136-c7d8-49e5-a837-738dd77ffe92",
   "metadata": {},
   "outputs": [],
   "source": [
    "qqplot(df['AGE'].loc[df['AGE']>0], line='s')"
   ]
  },
  {
   "cell_type": "code",
   "execution_count": null,
   "id": "4d341f8b-bf45-4468-beed-0619c93ddc6b",
   "metadata": {},
   "outputs": [],
   "source": [
    "# Sex distribution has the problem that a bunch of genders are unknown\n",
    "plt.hist(num_df['SEX'])\n",
    "plt.show()"
   ]
  },
  {
   "cell_type": "code",
   "execution_count": null,
   "id": "b7c315e3-ec58-479a-9460-26f1023c0681",
   "metadata": {},
   "outputs": [],
   "source": [
    "qqplot(df['SEX'], line='s')"
   ]
  },
  {
   "cell_type": "code",
   "execution_count": null,
   "id": "dd280707-4ec6-43a6-84ed-94c1d97bd024",
   "metadata": {},
   "outputs": [],
   "source": [
    "# Distribution of location show strong preference for low number values\n",
    "plt.hist(num_df['LOCATION'])\n",
    "plt.yscale(\"log\")\n",
    "plt.show()"
   ]
  },
  {
   "cell_type": "code",
   "execution_count": null,
   "id": "eca8d77f-bbd3-49a5-b016-b768b3d5221e",
   "metadata": {},
   "outputs": [],
   "source": [
    "qqplot(df['LOCATION'].loc[df['LOCATION']>0], line='s')"
   ]
  },
  {
   "cell_type": "code",
   "execution_count": null,
   "id": "5cb0ca33-932b-4f15-a5fb-3d5f8ea20d23",
   "metadata": {},
   "outputs": [],
   "source": [
    "# 3 is the code for New Orleans, which would be the outlier in the location field\n",
    "num_df['LOCATION'].value_counts()"
   ]
  },
  {
   "cell_type": "code",
   "execution_count": null,
   "id": "14d16482-f392-43eb-85c4-a77e9922015e",
   "metadata": {},
   "outputs": [],
   "source": [
    "# Docdate distribution shows maybe a power law distribution, but that dip in the 1740s-1770s has to be French/British relations\n",
    "plt.hist(df['DOCDATE'])\n",
    "plt.yscale(\"log\")\n",
    "plt.show()"
   ]
  },
  {
   "cell_type": "code",
   "execution_count": null,
   "id": "49c77834-9533-469a-bac8-01f7ef2cb0bf",
   "metadata": {},
   "outputs": [],
   "source": [
    "# Distribution of doctypes. 7 is normal sales, 1 is estates, 25 is Atlantic slave trade.\n",
    "plt.hist(df['DOCTYPE'])\n",
    "\n",
    "plt.show()"
   ]
  },
  {
   "cell_type": "code",
   "execution_count": null,
   "id": "b95b0dff-de68-41b6-a089-5bddfe713488",
   "metadata": {},
   "outputs": [],
   "source": [
    "qqplot(df['DOCTYPE'], line='s')"
   ]
  },
  {
   "cell_type": "code",
   "execution_count": null,
   "id": "90f69295-d4d4-4f42-965e-688d4bcaf749",
   "metadata": {},
   "outputs": [],
   "source": [
    "df['DOCTYPE'].value_counts()"
   ]
  },
  {
   "cell_type": "code",
   "execution_count": null,
   "id": "ae504a32-1be4-40ae-bbd8-7ea347661962",
   "metadata": {},
   "outputs": [],
   "source": [
    "# Distribution of slaves who were \"maroons\", i.e. runaways or escapees\n",
    "# 1 is maroon, so 1070 maroons. Would be interesting to plot against year\n",
    "plt.hist(num_df['MAROON'])\n",
    "plt.show()"
   ]
  },
  {
   "cell_type": "code",
   "execution_count": null,
   "id": "379c74b8-67aa-4fce-b03c-96325bfc373e",
   "metadata": {},
   "outputs": [],
   "source": [
    "num_df['MAROON'].value_counts()"
   ]
  },
  {
   "cell_type": "code",
   "execution_count": null,
   "id": "f98c7d18-fbac-47db-9384-e324ed93eebc",
   "metadata": {},
   "outputs": [],
   "source": [
    "# Distribution of revolts, 312 revolts, would be interesting to plot against year and maroons\n",
    "plt.hist(num_df['REVOLTS'])\n",
    "plt.show()"
   ]
  },
  {
   "cell_type": "code",
   "execution_count": null,
   "id": "466af882-0a58-4abf-bd16-7431f393eaa6",
   "metadata": {},
   "outputs": [],
   "source": [
    "num_df['REVOLTS'].value_counts()"
   ]
  },
  {
   "cell_type": "code",
   "execution_count": null,
   "id": "ecb78c0b-d8e2-40d0-b52c-c407da9ab4b6",
   "metadata": {},
   "outputs": [],
   "source": [
    "df['AFLANG'].max()"
   ]
  },
  {
   "cell_type": "code",
   "execution_count": null,
   "id": "6567696a-e27f-490f-902f-193bc550fdd9",
   "metadata": {},
   "outputs": [],
   "source": [
    "# Distribution of African languages, 12 is Benue-Congo\n",
    "plt.hist(num_df['AFLANG'].loc[num_df['AFLANG'] > 0],bins=15)\n",
    "\n",
    "plt.show()"
   ]
  },
  {
   "cell_type": "code",
   "execution_count": null,
   "id": "22551a8e-720a-4391-bd0b-7106926f12e8",
   "metadata": {},
   "outputs": [],
   "source": [
    "qqplot(df['AFLANG'].loc[df['AFLANG']>0], line='s')"
   ]
  },
  {
   "cell_type": "code",
   "execution_count": null,
   "id": "d7ac15ba-2c5b-4352-923f-31d19acf1a45",
   "metadata": {},
   "outputs": [],
   "source": [
    "num_df['AFLANG'].value_counts()"
   ]
  },
  {
   "cell_type": "code",
   "execution_count": null,
   "id": "e33b59ea-8923-4d53-8fad-1dc8399361fa",
   "metadata": {},
   "outputs": [],
   "source": [
    "# Probably not worth printing the distribution of free persons involved, but would love\n",
    "# to see plotted against year\n",
    "num_df['FREE'].value_counts()"
   ]
  },
  {
   "cell_type": "code",
   "execution_count": null,
   "id": "f72aeea1-c182-420a-966e-4362aa6fd758",
   "metadata": {},
   "outputs": [],
   "source": [
    "df['SELLER'].value_counts()"
   ]
  },
  {
   "cell_type": "code",
   "execution_count": null,
   "id": "1db8f36e-b678-482b-86b7-5c31cdebfe01",
   "metadata": {},
   "outputs": [],
   "source": [
    "# Distribution of where slaves were sold to\n",
    "plt.hist(num_df['WENT'].loc[df['WENT'] > 0])\n",
    "plt.yscale(\"log\")\n",
    "plt.show()"
   ]
  },
  {
   "cell_type": "code",
   "execution_count": null,
   "id": "1402c6ad-32a8-48cd-8ceb-ef2b9fdc3879",
   "metadata": {},
   "outputs": [],
   "source": [
    "qqplot(num_df['WENT'].loc[df['WENT']>0], line='s')"
   ]
  },
  {
   "cell_type": "code",
   "execution_count": null,
   "id": "e577d988-64d6-40b5-a560-5fc0b5b497d5",
   "metadata": {},
   "outputs": [],
   "source": [
    "# Distribution of types of names\n",
    "plt.hist(num_df['NAMETYPE'])\n",
    "plt.show()"
   ]
  },
  {
   "cell_type": "code",
   "execution_count": null,
   "id": "a5e68347-41f8-43f4-962d-322ebddb0a1a",
   "metadata": {},
   "outputs": [],
   "source": [
    "# Unfortunate lack of African names\n",
    "num_df['NAMETYPE'].value_counts()"
   ]
  },
  {
   "cell_type": "code",
   "execution_count": null,
   "id": "798a4691-6451-411f-9e40-e53abdfa5814",
   "metadata": {},
   "outputs": [],
   "source": [
    "# Distribution of race\n",
    "plt.hist(num_df['RACE'])\n",
    "plt.show()"
   ]
  },
  {
   "cell_type": "code",
   "execution_count": null,
   "id": "77e68840-7c53-41ef-97fe-4874741ac86b",
   "metadata": {},
   "outputs": [],
   "source": [
    "# Distribution of the age categories, when ages are not listed\n",
    "plt.hist(num_df['AGECATN'].loc[df['AGECATN']>0])\n",
    "plt.show()"
   ]
  },
  {
   "cell_type": "code",
   "execution_count": null,
   "id": "35b16c31-0ca8-4000-83ec-8b855991d7bc",
   "metadata": {},
   "outputs": [],
   "source": [
    "qqplot(df['SALEVALP'].loc[df['SALEVALP']>0], line='s')"
   ]
  },
  {
   "cell_type": "code",
   "execution_count": null,
   "id": "a7696817-d8a1-433b-b171-f89637af91c9",
   "metadata": {},
   "outputs": [],
   "source": [
    "df['AGECATN'].value_counts()"
   ]
  },
  {
   "cell_type": "code",
   "execution_count": null,
   "id": "9d5639d4-8532-41a2-b9cd-1d22e951bdd6",
   "metadata": {},
   "outputs": [],
   "source": [
    "# Distribution of the age categories, when ages are not listed\n",
    "plt.hist(num_df['SKILLCAT'])\n",
    "plt.show()"
   ]
  },
  {
   "cell_type": "code",
   "execution_count": null,
   "id": "985a815c-a79d-49fb-8b1b-0643d3735ccf",
   "metadata": {},
   "outputs": [],
   "source": [
    "qqplot(df['SKILLCAT'].loc[df['SKILLCAT']>0], line='s')"
   ]
  },
  {
   "cell_type": "code",
   "execution_count": null,
   "id": "79662e67-fccc-4f7c-80ca-731eca273148",
   "metadata": {},
   "outputs": [],
   "source": [
    "# Distribution of skill categories\n",
    "# 2=agricultural worker\n",
    "# 21=domestic worker\n",
    "\n",
    "num_df['SKILLCAT'].value_counts()"
   ]
  },
  {
   "cell_type": "code",
   "execution_count": null,
   "id": "8885fadf-a76c-4430-a7b2-c3e3218d0075",
   "metadata": {},
   "outputs": [],
   "source": [
    "# Distribution of experts\n",
    "plt.hist(num_df['EXPERT'])\n",
    "plt.show()"
   ]
  },
  {
   "cell_type": "code",
   "execution_count": null,
   "id": "82dc6bd4-6ac4-40b2-bec9-5358968183cd",
   "metadata": {},
   "outputs": [],
   "source": [
    "# Distribution of experts\n",
    "plt.hist(num_df['APPRENTICE'])\n",
    "plt.show()"
   ]
  },
  {
   "cell_type": "code",
   "execution_count": null,
   "id": "47833b60-8630-4409-8558-af7bc031077c",
   "metadata": {},
   "outputs": [],
   "source": [
    "num_df['APPRENTICE'].value_counts()"
   ]
  },
  {
   "cell_type": "code",
   "execution_count": null,
   "id": "d0aa4a10-169c-4d1a-b39e-487e81475290",
   "metadata": {},
   "outputs": [],
   "source": [
    "# Distribution of experts\n",
    "plt.hist(num_df['CHARCAT'].loc[num_df['CHARCAT']>0])\n",
    "plt.show()"
   ]
  },
  {
   "cell_type": "code",
   "execution_count": null,
   "id": "ba51f1d1-d1c8-4cb9-bde1-f10ef68e93c5",
   "metadata": {},
   "outputs": [],
   "source": [
    "# Highest characters: 1=good character, 1=runaway\n",
    "num_df['CHARCAT'].value_counts()"
   ]
  },
  {
   "cell_type": "code",
   "execution_count": null,
   "id": "48f41102-4a07-4323-88d4-824edd0785a6",
   "metadata": {},
   "outputs": [],
   "source": [
    "# Distribution of sicknesses\n",
    "plt.hist(df['SICKCAT'].loc[df['SICKCAT']>0])\n",
    "plt.show()"
   ]
  },
  {
   "cell_type": "code",
   "execution_count": null,
   "id": "76d0d266-762b-467a-8bf3-75e77676a16b",
   "metadata": {},
   "outputs": [],
   "source": [
    "qqplot(df['SICKCAT'].loc[df['SICKCAT']>0], line='s')"
   ]
  },
  {
   "cell_type": "code",
   "execution_count": null,
   "id": "9a9a42d5-5eb9-4ec0-95e7-157c8c0dc74c",
   "metadata": {},
   "outputs": [],
   "source": [
    "# 33 = ruptured back\n",
    "# 1 = ill\n",
    "# 84 = epilepsy\n",
    "# 3 = weak\n",
    "# 2 = sickly\n",
    "# 74 = old\n",
    "# 12 = ringworm\n",
    "# 18 = crippled\n",
    "\n",
    "df['SICKCAT'].value_counts()[2:10]"
   ]
  },
  {
   "cell_type": "code",
   "execution_count": null,
   "id": "0b7285e6-9462-40a1-8487-9da846e8baab",
   "metadata": {},
   "outputs": [],
   "source": [
    "# Distribution of birthplaces\n",
    "df['BIRTHPL'].sort_values()\n",
    "plt.hist(num_df['BIRTHPL'].loc[df['BIRTHPL']>0])\n",
    "\n",
    "plt.show()"
   ]
  },
  {
   "cell_type": "code",
   "execution_count": null,
   "id": "903e2236-3305-4542-9ce6-ce3d92dfb4d4",
   "metadata": {},
   "outputs": [],
   "source": [
    "qqplot(df['BIRTHPL'].loc[df['BIRTHPL']>0], line='s')"
   ]
  },
  {
   "cell_type": "code",
   "execution_count": null,
   "id": "ac6d90a9-cf88-483b-8a19-4f4952659a63",
   "metadata": {},
   "outputs": [],
   "source": [
    "# Most common:\n",
    "# 11=Louisiana Creole\n",
    "# 115=Coast of Senegal\n",
    "# 703=Recently landed from Africa\n",
    "# 551=CONGO\n",
    "# 704=Imputed African\n",
    "\n",
    "num_df['BIRTHPL'].value_counts()[2:]"
   ]
  },
  {
   "cell_type": "code",
   "execution_count": null,
   "id": "18550cf7-3f09-463a-962c-048829abf26d",
   "metadata": {},
   "outputs": [],
   "source": [
    "# Distribution of inventory value\n",
    "plt.hist(num_df['INVVALP'].loc[num_df['INVVALP'] > 0])\n",
    "plt.yscale(\"log\")\n",
    "plt.show()"
   ]
  },
  {
   "cell_type": "code",
   "execution_count": null,
   "id": "e2cf5389-3632-461a-8ecd-6fed6e5ba55b",
   "metadata": {},
   "outputs": [],
   "source": [
    "qqplot(df['INVVALP'].loc[df['INVVALP']>0], line='s')"
   ]
  },
  {
   "cell_type": "code",
   "execution_count": null,
   "id": "82d0c0bd-6478-44f5-9afb-791ae4f7cc7e",
   "metadata": {},
   "outputs": [],
   "source": [
    "num_df['INVVALP'].value_counts()[2:]"
   ]
  },
  {
   "cell_type": "code",
   "execution_count": null,
   "id": "e97df552-21d7-4726-b9d1-a216354b02ad",
   "metadata": {},
   "outputs": [],
   "source": [
    "# Distribution of sale values\n",
    "plt.hist(num_df['SALEVALP'].loc[num_df['SALEVALP'] > 0])\n",
    "# plt.yscale(\"log\")\n",
    "plt.xlabel(\"Inventory Value\")\n",
    "plt.ylabel(\"Number of transactions at inventory value\")\n",
    "plt.legend()\n",
    "plt.show()"
   ]
  },
  {
   "cell_type": "code",
   "execution_count": null,
   "id": "0f047466-3762-48d1-bad6-0a05563119ee",
   "metadata": {},
   "outputs": [],
   "source": [
    "num_df['INVVALP'].value_counts()[2:]"
   ]
  },
  {
   "cell_type": "code",
   "execution_count": null,
   "id": "57365813-9601-4206-a029-f267b207d83e",
   "metadata": {},
   "outputs": [],
   "source": [
    "# Distribution of mate/spouse of slave sold with slave\n",
    "plt.hist(num_df['MATE'])\n",
    "\n",
    "plt.show()"
   ]
  },
  {
   "cell_type": "code",
   "execution_count": null,
   "id": "a325c51c-858e-4435-ab23-f15cb671aa96",
   "metadata": {},
   "outputs": [],
   "source": [
    "num_df['MATE'].value_counts()"
   ]
  },
  {
   "cell_type": "code",
   "execution_count": null,
   "id": "71d42f34-ebe4-44e2-85d2-67c8e3cb6ebf",
   "metadata": {},
   "outputs": [],
   "source": [
    "# Distribution of the birthplace of spouse\n",
    "plt.hist(num_df['ORIGINMATE'])\n",
    "\n",
    "plt.show()"
   ]
  },
  {
   "cell_type": "code",
   "execution_count": null,
   "id": "03dbe979-4e83-4c64-b352-8ead9baae149",
   "metadata": {},
   "outputs": [],
   "source": [
    "num_df['ORIGINMATE'].value_counts()"
   ]
  },
  {
   "cell_type": "code",
   "execution_count": null,
   "id": "0ba8e250-5062-47f2-addf-bf00740f5d5c",
   "metadata": {},
   "outputs": [],
   "source": [
    "# Distribution of Emancipation\n",
    "plt.hist(num_df['EMANCIP'])\n",
    "\n",
    "plt.show()"
   ]
  },
  {
   "cell_type": "code",
   "execution_count": null,
   "id": "67cc0fc3-bbbc-4b2d-9ac4-838d274ff311",
   "metadata": {},
   "outputs": [],
   "source": [
    "# Distribution of dead at sale\n",
    "plt.hist(num_df['DEAD'])\n",
    "\n",
    "plt.show()"
   ]
  },
  {
   "cell_type": "code",
   "execution_count": null,
   "id": "d809fe25-e266-46d2-9b02-afb6a7c2a668",
   "metadata": {},
   "outputs": [],
   "source": [
    "num_df['DEAD'].value_counts()"
   ]
  },
  {
   "cell_type": "code",
   "execution_count": null,
   "id": "782f2610-1a78-4102-8741-1a72466db5e4",
   "metadata": {},
   "outputs": [],
   "source": [
    "# Distribution of runaways, log scale\n",
    "plt.hist(num_df['RUNAWAY'])\n",
    "plt.yscale(\"log\")\n",
    "plt.show()"
   ]
  },
  {
   "cell_type": "code",
   "execution_count": null,
   "id": "600304b8-0be5-42f8-a0e8-d0d55571df02",
   "metadata": {},
   "outputs": [],
   "source": [
    "# 1 = actual runaway\n",
    "# 2 = slave sheltered runaways\n",
    "# 3 = slave testified against runaways\n",
    "num_df['RUNAWAY'].value_counts()"
   ]
  },
  {
   "cell_type": "code",
   "execution_count": null,
   "id": "74d361bb-7a9e-4b33-9a20-6c8b5c65acd3",
   "metadata": {},
   "outputs": [],
   "source": [
    "# Distribution of types of enterprises\n",
    "# Most common:\n",
    "# 6=sugar\n",
    "# 7=tobacco\n",
    "# 4=mixed farming\n",
    "\n",
    "plt.hist(num_df['ENTERPRISE'].loc[num_df['ENTERPRISE'] > 0])\n",
    "#plt.yscale(\"log\")\n",
    "plt.show()"
   ]
  },
  {
   "cell_type": "code",
   "execution_count": null,
   "id": "eb85cdc6-c7b9-41c7-acf2-f5fe215916b3",
   "metadata": {},
   "outputs": [],
   "source": [
    "qqplot(df['ENTERPRISE'].loc[df['ENTERPRISE']>0], line='s')"
   ]
  },
  {
   "cell_type": "code",
   "execution_count": null,
   "id": "a8f444aa-9bd1-46e8-a6d0-8c4cb3c5b46d",
   "metadata": {},
   "outputs": [],
   "source": [
    "num_df['ENTERPRISE'].value_counts()[2:]"
   ]
  },
  {
   "cell_type": "code",
   "execution_count": null,
   "id": "e22d6e64-d90a-49b4-9716-5a9d9a6917ac",
   "metadata": {},
   "outputs": [],
   "source": [
    "# Distribution of stport (maritime trade embarkation)\n",
    "# Most common:\n",
    "# 83=Senegal\n",
    "# 85=Bight of Benin\n",
    "# 86=W Central Africa\n",
    "# 51=Jamaica\n",
    "\n",
    "plt.hist(num_df['STPORT'].loc[num_df['STPORT'] > 0])\n",
    "#plt.yscale(\"log\")\n",
    "plt.show()"
   ]
  },
  {
   "cell_type": "code",
   "execution_count": null,
   "id": "6d33bb2a-7fe6-43a2-aeec-b1454f2bee00",
   "metadata": {
    "tags": []
   },
   "outputs": [],
   "source": [
    "num_df['STPORT'].value_counts()[1:]"
   ]
  },
  {
   "cell_type": "code",
   "execution_count": null,
   "id": "bdc947f0-1849-4098-b382-770f8f6ec0c7",
   "metadata": {},
   "outputs": [],
   "source": [
    "# Distribution of dead at sale\n",
    "plt.hist(num_df['VIA'].loc[num_df['VIA'] > 0])\n",
    "plt.show()"
   ]
  },
  {
   "cell_type": "code",
   "execution_count": null,
   "id": "39af377b-70bd-4dfa-80f1-dc1cd327f743",
   "metadata": {},
   "outputs": [],
   "source": [
    "qqplot(df['VIA'].loc[df['VIA']>0], line='s')"
   ]
  },
  {
   "cell_type": "code",
   "execution_count": null,
   "id": "bc1b8e61-5578-4398-bd5b-cee7dc941d8b",
   "metadata": {},
   "outputs": [],
   "source": [
    "num_df['VIA'].value_counts()[1:]"
   ]
  },
  {
   "cell_type": "markdown",
   "id": "3c45a2af-15ae-46e6-8a36-bd0f1cd4f643",
   "metadata": {},
   "source": [
    "Why is there a huge discrepancy between VIA and STPORT?"
   ]
  },
  {
   "cell_type": "code",
   "execution_count": null,
   "id": "a95e9646-f9e9-4aef-abcb-3b72e25b3296",
   "metadata": {},
   "outputs": [],
   "source": [
    "statistic, p_values = sc.stats.normaltest(num_df)"
   ]
  },
  {
   "cell_type": "code",
   "execution_count": null,
   "id": "20f0c6d7-c7e3-47d7-9c78-a87a6ed1bfd3",
   "metadata": {},
   "outputs": [],
   "source": [
    "statistic"
   ]
  },
  {
   "cell_type": "code",
   "execution_count": null,
   "id": "57c5c96b-7c99-463b-a8f0-f34c7eacccea",
   "metadata": {},
   "outputs": [],
   "source": [
    "alpha = 0.05\n",
    "for items in p_values:\n",
    "    if items > alpha:\n",
    "        print('Sample looks Gaussian (fail to reject H0)')\n",
    "    else:\n",
    "        print('Sample does not look Gaussian (reject H0)')"
   ]
  },
  {
   "cell_type": "code",
   "execution_count": null,
   "id": "f2c246ac-4d47-477f-ac29-f4082f476c74",
   "metadata": {},
   "outputs": [],
   "source": [
    "mean_df"
   ]
  },
  {
   "cell_type": "code",
   "execution_count": null,
   "id": "80d870e6-4d66-4bc7-a8ba-537f7cae5138",
   "metadata": {},
   "outputs": [],
   "source": [
    "# Independent two-sided t test of years and sale value\n",
    "year = num_df['YEAR']\n",
    "year = year.astype('int')\n",
    "age_salevalp_ttest_ind = sc.stats.ttest_ind(num_df['AGE'],num_df['SALEVALP'])\n",
    "age_salevalp_ttest_rel = sc.stats.ttest_rel(num_df['AGE'],num_df['SALEVALP'])\n"
   ]
  },
  {
   "cell_type": "code",
   "execution_count": null,
   "id": "bbca21af-33ad-4311-98cf-b3e2aaadeda8",
   "metadata": {},
   "outputs": [],
   "source": [
    "age_salevalp_ttest_ind"
   ]
  },
  {
   "cell_type": "code",
   "execution_count": null,
   "id": "abbf49de-fd2a-4da4-af59-681787b2a014",
   "metadata": {},
   "outputs": [],
   "source": [
    "age_salevalp_ttest_rel"
   ]
  },
  {
   "cell_type": "code",
   "execution_count": null,
   "id": "c44a33fb-6b28-4c5e-b4de-153574f8ac49",
   "metadata": {},
   "outputs": [],
   "source": [
    "sex_salevalp_ttest_ind = sc.stats.ttest_ind(num_df['SEX'],num_df['SALEVALP'])\n",
    "sex_salevalp_ttest_rel = sc.stats.ttest_rel(num_df['SEX'],num_df['SALEVALP'])"
   ]
  },
  {
   "cell_type": "code",
   "execution_count": null,
   "id": "5e13680c-73e5-40a0-bcf1-6f3a04cf6464",
   "metadata": {},
   "outputs": [],
   "source": [
    "sex_salevalp_ttest_ind"
   ]
  },
  {
   "cell_type": "code",
   "execution_count": null,
   "id": "09b0608b-fa5b-4f65-839c-72679575eb17",
   "metadata": {},
   "outputs": [],
   "source": [
    "sex_salevalp_ttest_rel"
   ]
  },
  {
   "cell_type": "code",
   "execution_count": null,
   "id": "bd771d96-ebb2-47d1-9361-6d966a1bc53e",
   "metadata": {},
   "outputs": [],
   "source": [
    "stport_salevalp_ttest_ind = sc.stats.ttest_ind(num_df['STPORT'],num_df['SALEVALP'])\n",
    "stport_salevalp_ttest_rel = sc.stats.ttest_rel(num_df['STPORT'],num_df['SALEVALP'])"
   ]
  },
  {
   "cell_type": "code",
   "execution_count": null,
   "id": "de701c29-3164-4c7a-9fb1-2f2bacee7ced",
   "metadata": {},
   "outputs": [],
   "source": [
    "stport_salevalp_ttest_ind\n"
   ]
  },
  {
   "cell_type": "code",
   "execution_count": null,
   "id": "f996ad12-ded7-486e-a843-602ffb5cf5cd",
   "metadata": {},
   "outputs": [],
   "source": [
    "stport_salevalp_ttest_rel"
   ]
  },
  {
   "cell_type": "code",
   "execution_count": null,
   "id": "42636e7f-15ac-4a71-9448-6a2dc61736e2",
   "metadata": {},
   "outputs": [],
   "source": [
    "fast_details = ['GROUP','NAME','DATESALE','DOCDATE','SALEVALUE','SALEVALP','SEX','AGE','RACE']"
   ]
  },
  {
   "cell_type": "code",
   "execution_count": null,
   "id": "9b919933-52c9-43bf-bc6a-09d80ffdaa80",
   "metadata": {},
   "outputs": [],
   "source": [
    "seller_details = ['SELLER','FIRST1','BUYER','FIRST2','SALECUR','WENT']"
   ]
  },
  {
   "cell_type": "code",
   "execution_count": null,
   "id": "9675477f-3250-46e7-883d-0e98dcf5793f",
   "metadata": {},
   "outputs": [],
   "source": [
    "value_piastre_2021_USD = 21.89"
   ]
  },
  {
   "cell_type": "code",
   "execution_count": null,
   "id": "edc039b1-ca00-45ed-a977-4801659d4cf7",
   "metadata": {},
   "outputs": [],
   "source": [
    "df[fast_details].loc[df['SALEVALUE'] == 179000]"
   ]
  },
  {
   "cell_type": "code",
   "execution_count": null,
   "id": "d8a982db-dcbf-4fa4-8ed2-27c760b9dcb8",
   "metadata": {},
   "outputs": [],
   "source": [
    "df[seller_details].loc[df['SALEVALUE'] == 179000].value_counts()"
   ]
  },
  {
   "cell_type": "code",
   "execution_count": null,
   "id": "a58d727e-e852-4cd5-a44d-996ac962316d",
   "metadata": {},
   "outputs": [],
   "source": [
    "179000*value_piastre_2021_USD"
   ]
  },
  {
   "cell_type": "code",
   "execution_count": null,
   "id": "57051042-8916-473d-8d5e-c383e1412436",
   "metadata": {},
   "outputs": [],
   "source": [
    "df[fast_details].loc[df['BUYER'] == 'Jourdan/Hoa'].count()"
   ]
  },
  {
   "cell_type": "code",
   "execution_count": null,
   "id": "68fd4885-466e-40c3-9a30-6773abbabe50",
   "metadata": {},
   "outputs": [],
   "source": [
    "# Per person sale for Jourdan/Hoa sale in 2021 USD\n",
    "179000*value_piastre_2021_USD/90"
   ]
  },
  {
   "cell_type": "code",
   "execution_count": null,
   "id": "3cc7bfa8-b414-4d2e-9d16-19d5e0a66d6f",
   "metadata": {},
   "outputs": [],
   "source": [
    "df[fast_details].loc[(df['SALEVALUE'] == 150000) & (df['SELLER'] == 'Notts')]"
   ]
  },
  {
   "cell_type": "code",
   "execution_count": null,
   "id": "35e269dd-4ad4-499d-9198-81957c99e0ce",
   "metadata": {},
   "outputs": [],
   "source": [
    "df[seller_details].loc[(df['SALEVALUE'] == 150000) & (df['SELLER'] == 'Notts')].value_counts()"
   ]
  },
  {
   "cell_type": "code",
   "execution_count": null,
   "id": "bd59576d-cf15-4ba2-96f5-215a7a185b0b",
   "metadata": {},
   "outputs": [],
   "source": [
    "df[seller_details].loc[(df['SALEVALUE'] == 150000) & (df['SELLER'] != 'Notts')].value_counts()"
   ]
  },
  {
   "cell_type": "code",
   "execution_count": null,
   "id": "edd8e982-9188-40c9-be55-e69d4602d32b",
   "metadata": {},
   "outputs": [],
   "source": [
    "df[fast_details].loc[(df['SALEVALUE'] == 150000) & (df['SELLER'] != 'Notts')]"
   ]
  },
  {
   "cell_type": "code",
   "execution_count": null,
   "id": "cf2871be-c8e4-45d3-b30a-9c4ea8198923",
   "metadata": {},
   "outputs": [],
   "source": [
    "# Per person value of Chaipella sale\n",
    "150000*value_piastre_2021_USD/70"
   ]
  },
  {
   "cell_type": "code",
   "execution_count": null,
   "id": "189fc280-9652-43dd-9d5c-26c48ee839b5",
   "metadata": {},
   "outputs": [],
   "source": [
    "# Per person value of Notts sale\n",
    "150000*value_piastre_2021_USD/80"
   ]
  },
  {
   "cell_type": "code",
   "execution_count": null,
   "id": "8deb3953-2f24-455e-b193-3ae8746c3752",
   "metadata": {},
   "outputs": [],
   "source": [
    "# Who the fuck is Paul Lanusse?\n",
    "lanusse = df.loc[((df['SELLER'] == 'Lanusse') & (df['FIRST1'] == 'Paul')) |((df['BUYER'] == 'Lanusse')&(df['FIRST2'] == 'Paul')) ]"
   ]
  },
  {
   "cell_type": "code",
   "execution_count": null,
   "id": "c4c041d0-3275-4c2b-98f4-982883879bc4",
   "metadata": {},
   "outputs": [],
   "source": [
    "lanusse_was_seller = lanusse.loc[lanusse['SELLER'] == 'Lanusse']\n",
    "lanusse_was_buyer = lanusse.loc[lanusse['BUYER'] == 'Lanusse']\n",
    "                                 "
   ]
  },
  {
   "cell_type": "code",
   "execution_count": null,
   "id": "8d217564-8c76-49b8-bffa-d9981205995c",
   "metadata": {},
   "outputs": [],
   "source": [
    "lanusse_was_seller"
   ]
  },
  {
   "cell_type": "code",
   "execution_count": null,
   "id": "fbd6087e-7509-4285-a5bb-1ea52cb105ea",
   "metadata": {},
   "outputs": [],
   "source": [
    "lanusse_was_buyer"
   ]
  },
  {
   "cell_type": "code",
   "execution_count": null,
   "id": "d08bba57-b59a-42ea-a9f6-d220ed37f69b",
   "metadata": {},
   "outputs": [],
   "source": [
    "lanusse_was_seller['SALEVALP'].loc[lanusse_was_seller['DOCDATE'] < lanusse_was_buyer['DOCDATE'].iloc[0]]"
   ]
  },
  {
   "cell_type": "code",
   "execution_count": null,
   "id": "8fbf009b-09f2-4646-9668-e031466cb481",
   "metadata": {},
   "outputs": [],
   "source": [
    "lanusse_sale_dates = lanusse_was_seller['DOCDATE'].value_counts().sort_index()"
   ]
  },
  {
   "cell_type": "code",
   "execution_count": null,
   "id": "88981c6f-e287-4992-a43c-404e9f2abcb1",
   "metadata": {},
   "outputs": [],
   "source": [
    "lanusse_sale_dates"
   ]
  },
  {
   "cell_type": "code",
   "execution_count": null,
   "id": "7c3096dd-3941-4fea-ac8f-12a3a773c90b",
   "metadata": {},
   "outputs": [],
   "source": [
    "lanusse_initial_sale = lanusse_was_seller.loc[lanusse_was_seller['DOCDATE'] < lanusse_was_buyer['DOCDATE'].iloc[0]]"
   ]
  },
  {
   "cell_type": "code",
   "execution_count": null,
   "id": "b9545258-5034-4cfc-81aa-a194df8f17f9",
   "metadata": {},
   "outputs": [],
   "source": [
    "lanusse_initial_sale_value = lanusse_initial_sale['SALEVALP'].sum()*value_piastre_2021_USD"
   ]
  },
  {
   "cell_type": "code",
   "execution_count": null,
   "id": "feed5e21-58c2-42fa-bdba-735d379366cd",
   "metadata": {},
   "outputs": [],
   "source": [
    "lanusse_initial_purchase = lanusse_was_buyer.loc[lanusse_was_buyer['DOCDATE'] < lanusse_was_seller['DOCDATE'].iloc[3]]"
   ]
  },
  {
   "cell_type": "code",
   "execution_count": null,
   "id": "ee7563b1-2b13-4d9b-aae8-32e1d250e672",
   "metadata": {},
   "outputs": [],
   "source": [
    "lanusse_initial_purchase"
   ]
  },
  {
   "cell_type": "markdown",
   "id": "8ab8b225-6fa7-402c-a2c3-79e8c77e74aa",
   "metadata": {},
   "source": [
    "lanusse_initial_purchase_value = lanusse_initial_purchase['SALEVALP'].sum() * value_piastre_2021_USD"
   ]
  },
  {
   "cell_type": "code",
   "execution_count": null,
   "id": "9eed2b4e-18b8-49af-9cf4-4a8825449c56",
   "metadata": {},
   "outputs": [],
   "source": [
    "lanusse_funds_after_initial_sale_and_purchase = lanusse_initial_sale_value-lanusse_initial_purchase_value"
   ]
  },
  {
   "cell_type": "code",
   "execution_count": null,
   "id": "63bbcc6d-a63a-459d-a83e-49eb25512897",
   "metadata": {},
   "outputs": [],
   "source": [
    "lanusse_initial_sale_value"
   ]
  },
  {
   "cell_type": "code",
   "execution_count": null,
   "id": "766acd76-a6eb-4024-8552-9a28cc67c0a6",
   "metadata": {},
   "outputs": [],
   "source": [
    "lanusse_initial_purchase_value"
   ]
  },
  {
   "cell_type": "code",
   "execution_count": null,
   "id": "51adf4f4-e412-4da6-8223-b293443d4499",
   "metadata": {},
   "outputs": [],
   "source": [
    "lanusse_funds_after_initial_sale_and_purchase"
   ]
  },
  {
   "cell_type": "markdown",
   "id": "99c73c1b-11b7-4aa5-804b-bb5eb78234ac",
   "metadata": {},
   "source": [
    "Tracing Lanusse manually is getting boring. Let's do it programmatically."
   ]
  },
  {
   "cell_type": "code",
   "execution_count": null,
   "id": "3aab036c-b763-4927-97dd-a29703f0d78a",
   "metadata": {},
   "outputs": [],
   "source": [
    "def calc_"
   ]
  },
  {
   "cell_type": "code",
   "execution_count": null,
   "id": "3e16921b-1ace-4f37-9aac-773157703719",
   "metadata": {},
   "outputs": [],
   "source": [
    "correlation_df = num_df.corr().abs()"
   ]
  },
  {
   "cell_type": "markdown",
   "id": "a2ef2b3e-1454-4652-ad78-13dc18bfbb3b",
   "metadata": {},
   "source": [
    "drop salevalue and inventory value since the valp methods are more accurate"
   ]
  },
  {
   "cell_type": "code",
   "execution_count": null,
   "id": "b341292a-2feb-46ad-a155-f4120bc9f413",
   "metadata": {},
   "outputs": [],
   "source": [
    "correlation_df = correlation_df.drop('SALEVALUE', axis=1)"
   ]
  },
  {
   "cell_type": "code",
   "execution_count": null,
   "id": "fb5e407d-2da8-44cd-82c9-1e3f71328140",
   "metadata": {},
   "outputs": [],
   "source": [
    "correlation_df = correlation_df.drop('SALEVALUE')"
   ]
  },
  {
   "cell_type": "code",
   "execution_count": null,
   "id": "b2730655-5873-493f-987c-c1294c0411f7",
   "metadata": {},
   "outputs": [],
   "source": [
    "correlation_df = correlation_df.drop('INVVALUE', axis=1)"
   ]
  },
  {
   "cell_type": "code",
   "execution_count": null,
   "id": "355aef3e-f8d0-4a9b-a8c0-c0ba155fb25a",
   "metadata": {},
   "outputs": [],
   "source": [
    "correlation_df = correlation_df.drop('INVVALUE')"
   ]
  },
  {
   "cell_type": "code",
   "execution_count": null,
   "id": "2a97bdd2-3a17-4bfc-9043-f44c4a7e5257",
   "metadata": {},
   "outputs": [],
   "source": [
    "pd.set_option('display.max_rows', 500)\n",
    "pd.set_option('display.max_columns', 500)"
   ]
  },
  {
   "cell_type": "code",
   "execution_count": null,
   "id": "f9624f6f-eb4b-450e-9392-67bbbc93c3f4",
   "metadata": {},
   "outputs": [],
   "source": [
    "correlation_df"
   ]
  },
  {
   "cell_type": "code",
   "execution_count": null,
   "id": "2892cd68-a7a9-4e1c-af9b-1d5261cb6b4e",
   "metadata": {},
   "outputs": [],
   "source": [
    "def explore_correlations(high_val, low_val):\n",
    "    high_correlation = []\n",
    "    for col in correlation_df:\n",
    "        for index, value in correlation_df[col].items():\n",
    "\n",
    "            if value > low_val and value < high_val:\n",
    "                high_correlation.append([col, index, value])\n",
    "\n",
    "    return high_correlation\n",
    "explore_correlations(1,0.9)"
   ]
  },
  {
   "cell_type": "markdown",
   "id": "ab3cf8a7-4873-45eb-a150-5f1400108547",
   "metadata": {},
   "source": [
    "High correlation between having grandchildren and being dead isn't surprised, as are all of the \"grandparent\" related columns being correlated with each other. However, a bit of a surprise is the emancipation column. It is strongly correlated with becoming a grandparent."
   ]
  },
  {
   "cell_type": "code",
   "execution_count": null,
   "id": "1e076e60-d6bd-4b8b-8797-4e753814efa9",
   "metadata": {
    "tags": []
   },
   "outputs": [],
   "source": [
    "explore_correlations(0.9,0.8)"
   ]
  },
  {
   "cell_type": "code",
   "execution_count": null,
   "id": "2d6e9060-266a-482a-8c55-39b02023cf2c",
   "metadata": {},
   "outputs": [],
   "source": [
    "explore_correlations(0.8,0.7)"
   ]
  },
  {
   "cell_type": "code",
   "execution_count": null,
   "id": "e3d4cd4c-37eb-4f7a-91b2-c035aa0b7116",
   "metadata": {},
   "outputs": [],
   "source": [
    "explore_correlations(0.7,0.6)"
   ]
  },
  {
   "cell_type": "code",
   "execution_count": null,
   "id": "46307f41-db80-44c2-a90c-1d7e4fa0d884",
   "metadata": {},
   "outputs": [],
   "source": [
    "explore_correlations(0.6,0.5)"
   ]
  },
  {
   "cell_type": "code",
   "execution_count": null,
   "id": "f63f660f-3711-4755-af67-f0a302a50f53",
   "metadata": {},
   "outputs": [],
   "source": [
    "normalized_df = pd.DataFrame(num_df.value_counts(normalize=True).abs())"
   ]
  },
  {
   "cell_type": "code",
   "execution_count": null,
   "id": "1465d5b3-09dd-44fb-8711-820e99284a7a",
   "metadata": {},
   "outputs": [],
   "source": [
    "normalized_df"
   ]
  },
  {
   "cell_type": "code",
   "execution_count": null,
   "id": "d81d807a-b54c-44c1-b180-01b48329d462",
   "metadata": {},
   "outputs": [],
   "source": [
    "z_score_df = sc.stats.zscore(num_df)"
   ]
  },
  {
   "cell_type": "code",
   "execution_count": null,
   "id": "800c5402-8867-437e-9162-e6cba2893561",
   "metadata": {},
   "outputs": [],
   "source": [
    "z_score_df"
   ]
  },
  {
   "cell_type": "code",
   "execution_count": null,
   "id": "288637f8-9a5a-4e6b-b36e-d6b0b41f14fd",
   "metadata": {},
   "outputs": [],
   "source": [
    "mean_df = num_df[num_df != -1].mean()"
   ]
  },
  {
   "cell_type": "code",
   "execution_count": null,
   "id": "11af9f66-cf56-410e-bae6-b6ea086507b9",
   "metadata": {},
   "outputs": [],
   "source": [
    "mean_df"
   ]
  },
  {
   "cell_type": "code",
   "execution_count": null,
   "id": "2e995859-91c9-431e-88d6-7c4d76f7317b",
   "metadata": {},
   "outputs": [],
   "source": [
    "median_df = num_df[num_df != -1].median()"
   ]
  },
  {
   "cell_type": "code",
   "execution_count": null,
   "id": "fd753dfd-3568-4d5a-b018-d2da98851480",
   "metadata": {},
   "outputs": [],
   "source": [
    "median_df"
   ]
  },
  {
   "cell_type": "code",
   "execution_count": null,
   "id": "2df00265-162e-4374-921b-18309347bdc5",
   "metadata": {},
   "outputs": [],
   "source": [
    "mode_df = num_df[num_df != -1].mode()"
   ]
  },
  {
   "cell_type": "code",
   "execution_count": null,
   "id": "2159d861-0884-4707-abb0-5d2e5d55beb2",
   "metadata": {},
   "outputs": [],
   "source": [
    "mode_df"
   ]
  },
  {
   "cell_type": "code",
   "execution_count": null,
   "id": "db305088-32f7-4599-87f1-ce447433074f",
   "metadata": {},
   "outputs": [],
   "source": []
  },
  {
   "cell_type": "code",
   "execution_count": null,
   "id": "79e6c938-7b13-4813-93d2-e069532dbf06",
   "metadata": {},
   "outputs": [],
   "source": [
    "search_for_value(docdate, pd.to_datetime('1786-12-31'))"
   ]
  },
  {
   "cell_type": "markdown",
   "id": "565894ef-5bfb-42b8-9ca4-45a18e490e2a",
   "metadata": {},
   "source": [
    "WOAH! 957 different records come from 1786, on the last day of the year. I have no clue why, at the moment. This points to some very strange issues with the data. How many records are clustered on a given day?"
   ]
  },
  {
   "cell_type": "code",
   "execution_count": null,
   "id": "9fd67e49-09cf-4a84-97f3-68b027fbcda4",
   "metadata": {},
   "outputs": [],
   "source": [
    "docdate_occurrences = docdate.value_counts().astype('int')"
   ]
  },
  {
   "cell_type": "code",
   "execution_count": null,
   "id": "72c2478b-e80b-4533-bb0d-f3a93297e339",
   "metadata": {},
   "outputs": [],
   "source": [
    "docdate_occurrences"
   ]
  },
  {
   "cell_type": "markdown",
   "id": "e3484c43-4951-4a8f-9d6a-e63e69136422",
   "metadata": {},
   "source": [
    "This is a lot of data still to sift through. What I can see immediately is that some records come in clusters and some have only one entry. This points to very clumpy data. I need some way to sort out the two types of slave records, the low-intensity ones and the high-intensity ones. I am guesing that the dates with hundreds of entries are major auctions or otherwise memorable days. These should be grouped together and studied again. Similarly, the ones with just a few entires probably record much smaller scale, intimate interactions. I want to explore these two categories and compare them.\n",
    "\n",
    "This leads to an absurd problem. At what point do we consider the sale of human beings \"major\" or \"minor\"? To those being trafficked, all sales are major. So, whatever value we choose is bound to be arbitrary. And, clearly, however we group these transactions, they are more than the dates the documents were written. There are human factors to consider. There is also, as it were, a sort of numerical simplicity to everything. We can use machine learning to clump transactions together and find commonalities. So with nearly barbaric simplicity, I am going to split the dataset I've collected into a numerical subset, and a non-numerical subset. The numerical subset will be easier to feed into the algorithms I have in mind for this experiment. The non-numerical subset is important to reintroduce the human element into all of this. But first, one last conclusion from the data exploration phase of this project."
   ]
  },
  {
   "cell_type": "code",
   "execution_count": null,
   "id": "b18bd3a9-a72c-46a7-9f7f-ace93598bc04",
   "metadata": {},
   "outputs": [],
   "source": [
    "docdate_occurrences.median()"
   ]
  },
  {
   "cell_type": "markdown",
   "id": "241f7e37-69b0-45bc-b987-d36b6ad33892",
   "metadata": {},
   "source": [
    "Based on the median value in the occurrences column, I can conclude that most of these documents record small transactions. This is, I suppose, not very surprising. I would suspect most slaveholding transactions were oddly personal for something so dehumanizing. Probably if you plotted the sale of dogs or cows even in the present day you'd see the same disparity between small transactions and gigantic transactions."
   ]
  },
  {
   "cell_type": "code",
   "execution_count": null,
   "id": "3a459959-652e-438d-a21a-d510bf84bdec",
   "metadata": {},
   "outputs": [],
   "source": [
    "names = [col for col in df.columns]"
   ]
  },
  {
   "cell_type": "code",
   "execution_count": null,
   "id": "6129f61d-2593-46d0-994f-f41858e36d78",
   "metadata": {},
   "outputs": [],
   "source": [
    "names"
   ]
  },
  {
   "cell_type": "markdown",
   "id": "3d82ccb8-99e0-4de6-a4c0-6f966f8a833e",
   "metadata": {},
   "source": [
    "Time for some more data cleaning. The original project left a series of numeric codes for a bunch of columns. The only problem is that they simply left some entries blank if they didn't know the answer. I can't have blank entries for my later analysis. So, I need to get rid of the blanks. \n",
    "\n",
    "Let's start with the DOCNO column. The team used document number from the documents. Do I really need this in later analysis? No."
   ]
  },
  {
   "cell_type": "code",
   "execution_count": null,
   "id": "2e629166-e701-413a-85f9-c0942759a903",
   "metadata": {},
   "outputs": [],
   "source": [
    "df = df.drop(columns=['LOCATION', 'LINGUISTIC','NAMEXPLAIN'])  #DOCNO, CODER, DEPOT, LINGUISTIC"
   ]
  },
  {
   "cell_type": "code",
   "execution_count": null,
   "id": "688113f1-1e40-45a2-ae76-b20919b292c8",
   "metadata": {},
   "outputs": [],
   "source": [
    "df['PREGNANT'] = df['PREGNANT'].fillna(0) # AGECATN, AGE, RACE, SEX, NAMETYPE, WENT, ESTATEPOP, ESTATE, ESTATEFREE, FREE, AFLANG, Language, Notary, Maroon, REVOLTS"
   ]
  },
  {
   "cell_type": "code",
   "execution_count": null,
   "id": "e2fee389-5e04-4d0a-a948-5862abeb940a",
   "metadata": {},
   "outputs": [],
   "source": [
    "df['INVVALUE'] = df['INVVALUE'].replace(to_replace='Z', value = 'UNKNOWN') # SKILLS, NAME, FIRST2, BUYER, FIRST1, SELLER, ESTATE_OF"
   ]
  },
  {
   "cell_type": "code",
   "execution_count": null,
   "id": "6095d559-9002-486e-accc-d422d4b2d43b",
   "metadata": {},
   "outputs": [],
   "source": [
    "compression_opts = dict(method='zip',\n",
    "\n",
    "                        archive_name='out.csv')  \n",
    "\n",
    "df.to_csv('out.zip', index=False,\n",
    "\n",
    "          compression=compression_opts)  "
   ]
  },
  {
   "cell_type": "code",
   "execution_count": null,
   "id": "6f6263a0-f4b4-498c-981c-7982f3d6d594",
   "metadata": {},
   "outputs": [],
   "source": [
    "df['ISLAMIC'].iloc[df['ISLAMIC'].first_valid_index()]"
   ]
  },
  {
   "cell_type": "code",
   "execution_count": null,
   "id": "61c7ad82-65d9-4a1e-bcea-5686b1f1155f",
   "metadata": {},
   "outputs": [],
   "source": [
    "df.loc[:,df.isna().any()]"
   ]
  },
  {
   "cell_type": "code",
   "execution_count": null,
   "id": "5d39e192-fb5a-4b4f-9a08-53ea2c7da9db",
   "metadata": {},
   "outputs": [],
   "source": [
    "number_col = df.select_dtypes(include='number')"
   ]
  },
  {
   "cell_type": "code",
   "execution_count": null,
   "id": "88fcdd86-00c3-429e-98a7-a58eaad02e01",
   "metadata": {},
   "outputs": [],
   "source": [
    "number_col"
   ]
  },
  {
   "cell_type": "code",
   "execution_count": null,
   "id": "68dfd00a-808d-4525-b6c6-b703f8202734",
   "metadata": {},
   "outputs": [],
   "source": [
    "number_col_names = [col for col in number_col.columns]\n",
    "number_col_names"
   ]
  },
  {
   "cell_type": "code",
   "execution_count": null,
   "id": "28f5e8bd-de89-4069-9a99-b00ea2281681",
   "metadata": {},
   "outputs": [],
   "source": [
    "number_col_names = [col for col in number_col.columns]"
   ]
  },
  {
   "cell_type": "code",
   "execution_count": null,
   "id": "6733dcef-555e-4062-b21b-6255018a5a8a",
   "metadata": {},
   "outputs": [],
   "source": [
    "number_col = number_col.drop(columns=['DEPOT','PREGNANT','DOCNO','CODER','REVOLTS','LINGUISTIC'])"
   ]
  },
  {
   "cell_type": "code",
   "execution_count": null,
   "id": "c1eadc53-13c4-4d65-a53e-afeaed5157a8",
   "metadata": {},
   "outputs": [],
   "source": [
    "import matplotlib.pyplot as plt\n",
    "from kneed import KneeLocator\n",
    "from sklearn.datasets import make_blobs\n",
    "from sklearn.cluster import KMeans\n",
    "from sklearn.metrics import silhouette_score\n",
    "from sklearn.preprocessing import StandardScaler"
   ]
  },
  {
   "cell_type": "code",
   "execution_count": null,
   "id": "bd8e6f4e-dd6d-49af-a4f9-db1f472eb51a",
   "metadata": {},
   "outputs": [],
   "source": [
    "kmeans = KMeans(\n",
    "        init=\"random\",\n",
    "        n_clusters=2,\n",
    "        n_init=10,\n",
    "        max_iter=300,\n",
    "        random_state=42\n",
    "    )"
   ]
  },
  {
   "cell_type": "code",
   "execution_count": null,
   "id": "1bc5c385-45cb-4284-a0d6-ab8bfb2f1cb3",
   "metadata": {},
   "outputs": [],
   "source": [
    "# Create a new dataframe with enterprise, age, salevalp, invalp, sex and race\n",
    "auction_value = pd.concat([number_col['ENTERPRISE'],number_col['AGE'],number_col['SALEVALP'],number_col['INVVALP'],number_col['SEX'],number_col['RACE']],axis=1)"
   ]
  },
  {
   "cell_type": "code",
   "execution_count": null,
   "id": "a8dc4f50-888a-4c6c-aa40-1bc7893e1b92",
   "metadata": {},
   "outputs": [],
   "source": [
    "auction_value"
   ]
  },
  {
   "cell_type": "code",
   "execution_count": null,
   "id": "b52f2123-5b3a-482c-a65b-a998199d5fff",
   "metadata": {},
   "outputs": [],
   "source": [
    "\n",
    "scaled_value = scaler.fit_transform(auction_value)"
   ]
  },
  {
   "cell_type": "code",
   "execution_count": null,
   "id": "aa152e0d-b725-4ee4-8fc1-c168f48ced26",
   "metadata": {},
   "outputs": [],
   "source": [
    "kmeans.fit(scaled_value)"
   ]
  },
  {
   "cell_type": "code",
   "execution_count": null,
   "id": "61ee4e35-31ce-4c34-a5e6-8f980715f764",
   "metadata": {},
   "outputs": [],
   "source": [
    "kmeans_silhouette = silhouette_score(scaled_value, kmeans.labels_).round(2)\n"
   ]
  },
  {
   "cell_type": "code",
   "execution_count": null,
   "id": "b6b8bb6e-e924-4e2f-9356-41036e65411f",
   "metadata": {},
   "outputs": [],
   "source": [
    "kmeans_silhouette"
   ]
  },
  {
   "cell_type": "code",
   "execution_count": null,
   "id": "86afaa67-66b2-4997-be87-4425750c405f",
   "metadata": {},
   "outputs": [],
   "source": [
    "# Plot the data and cluster silhouette comparison\n",
    "fig, (ax1) = plt.subplots(\n",
    "    1, figsize=(8, 6), sharex=True, sharey=True)\n",
    "\n",
    "fig.suptitle(f\"Pregnancy Cluster To Demographic Factors in Slavetrading 1721-1820\", fontsize=16)\n",
    "fte_colors = {\n",
    "    0: \"#008fd5\",\n",
    "    1: \"#fc4f30\",}\n",
    "# The k-means plot\n",
    "km_colors = [fte_colors[label] for label in kmeans.labels_]\n",
    "ax1.scatter(scaled_number_col[:, 0], scaled_number_col[:, 1], c=km_colors)\n",
    "ax1.set_title(\n",
    "    f\"k-means\\nSilhouette: {kmeans_silhouette}\", fontdict={\"fontsize\": 12})\n",
    "\n",
    "plt.show()"
   ]
  },
  {
   "cell_type": "markdown",
   "id": "a0a2084d-557a-4688-bc47-ae62394a629a",
   "metadata": {},
   "source": [
    "Let's take the mean and standard deviation of the years column."
   ]
  },
  {
   "cell_type": "code",
   "execution_count": null,
   "id": "4bee2605-aaad-4976-9ba2-9b69d10b24ff",
   "metadata": {},
   "outputs": [],
   "source": [
    "df = pd.read_csv(\"out.csv\")"
   ]
  },
  {
   "cell_type": "markdown",
   "id": "0ad6fbd8-479d-4237-9b22-c67f5885b0c8",
   "metadata": {},
   "source": [
    "Here's something weird. If you run a simple Pearson's ranking between the year column and the df['DEAD'] column, there's a negative correlation. It's rather slight, but this indicates that as the years went on, slaves were less likely to be sold as part of an estate sale."
   ]
  },
  {
   "cell_type": "code",
   "execution_count": null,
   "id": "5e871e18-75bf-4764-96df-fb68e46b209b",
   "metadata": {},
   "outputs": [],
   "source": []
  },
  {
   "cell_type": "markdown",
   "id": "73e2d6cb-a2e3-4b6d-a011-00b5aeef43a3",
   "metadata": {},
   "source": [
    "Similarly, there's an ever-so-slight correlation between listing a slave auction as part of an estate sale, and the sale of expert workers."
   ]
  },
  {
   "cell_type": "code",
   "execution_count": null,
   "id": "f4724748-971f-4329-b67f-5b091c98d0c6",
   "metadata": {},
   "outputs": [],
   "source": [
    "dead_expert_correlation = dead.corr(expert)\n",
    "dead_expert_correlation"
   ]
  },
  {
   "cell_type": "markdown",
   "id": "d69c420d-daeb-4772-86fe-f14c5f596bd9",
   "metadata": {},
   "source": [
    "There is practically no correlation between listing someone as an apprentice (i.e. not skilled) and estate sales."
   ]
  },
  {
   "cell_type": "code",
   "execution_count": null,
   "id": "1ecabbef-43e1-47bd-bc5a-0fc6c2abf22e",
   "metadata": {},
   "outputs": [],
   "source": [
    "dead_apprentice_correlation = dead.corr(apprentice)\n",
    "dead_apprentice_correlation"
   ]
  },
  {
   "cell_type": "code",
   "execution_count": null,
   "id": "a4dac373-8656-447d-b0eb-a423a94f804d",
   "metadata": {},
   "outputs": [],
   "source": [
    "def count_items_statistical_significance(column, exclude_list):\n",
    "    '''\n",
    "    Method to count items specifically for statistical significance. The reason I'm not\n",
    "    using in-built methods is because I want to exclude certain values.\n",
    "    \n",
    "    Column is just a string name for the DataFrame column, but exclude list has to be a list.\n",
    "    '''\n",
    "    if type(exclude_list) is not list:\n",
    "        error_message = \"The exclude list must be a list, and only one level\"\n",
    "        return error_message\n",
    "    counter = 0\n",
    "    for index, value in df[column.upper()].items():\n",
    "        if value not in exclude_list:\n",
    "            counter += 1\n",
    "    return counter"
   ]
  },
  {
   "cell_type": "code",
   "execution_count": null,
   "id": "05bffb94-9e0a-4095-886a-cc9e80e9ad2f",
   "metadata": {},
   "outputs": [],
   "source": [
    "# How many experts are there in the dataset?\n",
    "print(count_items_statistical_significance('EXPERT',[-1,0]))\n",
    "\n",
    "# How many apprentices are there in the dataset?\n",
    "print(count_items_statistical_significance('apprentice',[-1,0]))\n",
    "\n",
    "df['APPRENTICE'].median()"
   ]
  },
  {
   "cell_type": "markdown",
   "id": "96d42193-3920-4e09-9196-7b06772e8ec9",
   "metadata": {},
   "source": [
    "How are there 1191 experts but only 26 apprentices? Isn't an apprentice a step in the journey to being an expert? Is this price-gouging? Is this industry specific? "
   ]
  },
  {
   "cell_type": "code",
   "execution_count": null,
   "id": "89b3a978-7a1a-4234-a9b6-fbc783704a2c",
   "metadata": {},
   "outputs": [],
   "source": [
    "def count_column1_with_respect_to_column2(col1, col2_value, col2):\n",
    "    '''\n",
    "        Counts how many entries in column 1 have a specific entry in column 2 and returns a \n",
    "    list with the count and the indices. However, this one just pulls all values that are \n",
    "    NOT in a certain range.\n",
    "    \n",
    "    Requires a list as col2_value.\n",
    "    '''\n",
    "    positives = []\n",
    "\n",
    "    if col1 == col2:\n",
    "        for index, value in df[col1.upper()].items():\n",
    "            if df[col1.upper()].iloc[index] in col2_value:\n",
    "                positives.append(index)\n",
    "    for index, value in df[col1.upper()].items():\n",
    "        if df[col2.upper()].iloc[index] in col2_value:\n",
    "            positives.append(index)\n",
    "\n",
    "    return [len(positives), positives]"
   ]
  },
  {
   "cell_type": "code",
   "execution_count": null,
   "id": "dce5e340-b2dd-4d56-8ff9-80cf9c1aedc8",
   "metadata": {},
   "outputs": [],
   "source": [
    "def clump_yparam(dist_list, y_param, x_param = 'YEAR'):\n",
    "    '''\n",
    "    It is helpful to figure out what year a specific column tends to clump by.\n",
    "    '''\n",
    "    dict_returned = {}\n",
    "    for entries in dist_list[1]:\n",
    "        year = str(df[x_param.upper()].iloc[entries])\n",
    "        if year in dict_returned and df[y_param].iloc[entries] > 0:\n",
    "            dict_returned[year] += 1\n",
    "\n",
    "        elif df[y_param].iloc[entries] > 0 and year not in dict_returned:\n",
    "            dict_returned[year] = 1\n",
    "    return dict_returned\n",
    "\n",
    "def clump_filtered_yparam(dist_list, y_param, x_param = 'YEAR'):\n",
    "    \n",
    "    '''\n",
    "    Instead of giving a total persons for the year, this one returns the average value\n",
    "    '''\n",
    "    dict_returned = {}\n",
    "    for entries in dist_list[1]:\n",
    "        year = str(df[x_param.upper()].iloc[entries])\n",
    "        if year in dict_returned and df[y_param].iloc[entries] > 0:\n",
    "            dict_returned[year].append(float(df[y_param.upper()].iloc[entries]))\n",
    "\n",
    "        elif df[y_param].iloc[entries] > 0 and year not in dict_returned:\n",
    "            dict_returned[year] = [float(df[y_param.upper()].iloc[entries])]\n",
    "    for years in dict_returned:\n",
    "        dict_returned[years] = statistics.mean(dict_returned[years])\n",
    "    return dict_returned"
   ]
  },
  {
   "cell_type": "markdown",
   "id": "dcc00c9f-2402-4ccd-8ff4-6092477ccb79",
   "metadata": {},
   "source": [
    "Why does the sale of experts increase so much in the 1810s? Is it significant that this is after the law banning importation of slaves? The standard deviation is nearly thirty."
   ]
  },
  {
   "cell_type": "markdown",
   "id": "68fb5966-14a1-455b-97d6-cbbd4c169c40",
   "metadata": {},
   "source": [
    "So something changed in the early 19th century. Can we find that exact pivot? I want to plot the years on the y axis and the number of expert slaves sold on the x axis."
   ]
  },
  {
   "cell_type": "markdown",
   "id": "31f6019b-a967-4d0e-98ae-f5d26c3f0208",
   "metadata": {},
   "source": [
    "So apprentices seem to have sold at a spiky but consistent rate, with a tiny uptick in the 1810s. But experts sold exponentially more often after 1790, and especially after 1800. Why were so many experts being sold but not apprentices?"
   ]
  },
  {
   "cell_type": "code",
   "execution_count": null,
   "id": "3c54d87f-6070-4dc6-a600-741abd6267cd",
   "metadata": {},
   "outputs": [],
   "source": [
    "def plot_col1_against_col2_by_year(y_param, xlabel, ylabel, filter_values, x_param = 'YEAR', filter_param = 'YEAR'):\n",
    "    '''\n",
    "    Plots the frequency of col2's sale against years (default) or any other column (optional)\n",
    "    Col2: string\n",
    "    Col2_values: list\n",
    "    xlabel, ylabel, col1: strings\n",
    "    '''\n",
    "\n",
    "    # Figure out how often col2 occurs and how it is distributed across col3's values\n",
    "    if filter_param == 'YEAR':\n",
    "        distribution_list = count_column1_with_respect_to_column2(y_param.upper(), filter_values, y_param)\n",
    "        frequency_dict = clump_yparam(distribution_list, y_param.upper(), x_param.upper())\n",
    "    else:\n",
    "        distribution_list = count_column1_with_respect_to_column2(y_param.upper(), filter_values, filter_param.upper())\n",
    "        frequency_dict = clump_filtered_yparam(distribution_list, y_param.upper(), x_param.upper())\n",
    "    # Change into a frequency calculation\n",
    "\n",
    "    x_axis = []\n",
    "    y_axis = []\n",
    "    for year, total_count in frequency_dict.items():\n",
    "        x_axis.append(year)\n",
    "        y_axis.append(total_count)\n",
    "\n",
    "    # Plot a line graph \n",
    "    plt.xlabel(xlabel)\n",
    "    plt.ylabel(ylabel)\n",
    "    plt.title(xlabel + ' vs ' + ylabel)\n",
    "\n",
    "    plt.plot(x_axis, y_axis)\n",
    "\n",
    "    plt.show()\n",
    "    \n",
    "    print(\"Correlation between \",filter_param,\" and \",y_param,\": \",df[filter_param.upper()].corr(df[y_param.upper()]))\n",
    "    print(\"Standard deviation between\", y_param,\" filtered on\", filter_param,\": \",statistics.pstdev(y_axis))\n",
    "    print(\"Median value of\",y_param,\"filtered on\", filter_param,filter_values,\": \", statistics.median(y_axis))\n",
    "\n",
    "    "
   ]
  },
  {
   "cell_type": "code",
   "execution_count": null,
   "id": "86edd6a5-ad27-488a-b0ef-682c76223e77",
   "metadata": {},
   "outputs": [],
   "source": [
    "# Women = 1 on SEX category\n",
    "plot_col1_against_col2_by_year('INVVALP', 'Year', 'Total inventory value of women sold',[1],'YEAR','SEX')\n",
    "plot_col1_against_col2_by_year('SALEVALP', 'Year', 'Total sale value of women sold',[1],'YEAR', 'SEX')\n",
    "\n",
    "plot_col1_against_col2_by_year('INVVALP', 'Year', 'Total inventory value of Pregnant persons',[1],'YEAR','PREGNANT')"
   ]
  },
  {
   "cell_type": "code",
   "execution_count": null,
   "id": "3be0ac5a-842e-4eda-8ddd-17045eba86d4",
   "metadata": {},
   "outputs": [],
   "source": [
    "plot_col1_against_col2_by_year('SEX','Year','Women sold into slavery',[1] )\n",
    "plot_col1_against_col2_by_year('SEX','Year','Men sold into slavery',[2])\n",
    "plot_col1_against_col2_by_year('APPRENTICE','Year','Number of apprentices sold',[1])"
   ]
  },
  {
   "cell_type": "code",
   "execution_count": null,
   "id": "9a14c961-21ab-4cbc-8264-bf18b471afd9",
   "metadata": {},
   "outputs": [],
   "source": [
    "plot_col1_against_col2_by_year('INVVALP', 'Year', 'Inventory value of expert slaves',[-1,0],'YEAR','EXPERT')\n",
    "\n",
    "plot_col1_against_col2_by_year('INVVALP', 'Year','Inventory value of non-expert slaves',[1],'YEAR', 'EXPERT')\n",
    "plot_col1_against_col2_by_year('SALEVALP', 'Year', 'Sale value of expert slaves', [-1,0], 'YEAR', 'EXPERT')\n",
    "plot_col1_against_col2_by_year('SALEVALP', 'Year', 'Sale value of non-expert slaves', [1], 'YEAR', 'EXPERT')\n"
   ]
  },
  {
   "cell_type": "code",
   "execution_count": null,
   "id": "f687e66a-622b-47ed-862c-36012dcbe95e",
   "metadata": {},
   "outputs": [],
   "source": [
    "plot_col1_against_col2_by_year('INVVALP', 'Year', 'Inventory value of apprenticed slaves',[-1,0],'YEAR','APPRENTICE')\n",
    "plot_col1_against_col2_by_year('INVVALP', 'Year', 'Inventory value of non-apprenticed slaves',[1],'YEAR', 'APPRENTICE')\n",
    "plot_col1_against_col2_by_year('SALEVALP','Year', 'Sale value of apprenticed slaves',[-1,0],'YEAR','APPRENTICE')\n",
    "plot_col1_against_col2_by_year('SALEVALP','Year', 'Sale value of non-apprenticed slaves',[1],'YEAR', 'APPRENTICE')"
   ]
  },
  {
   "cell_type": "code",
   "execution_count": null,
   "id": "a4c3d600-fb86-4ce3-922b-cbf5cfdeb9c5",
   "metadata": {},
   "outputs": [],
   "source": [
    "# Women = 1 on SEX category\n",
    "plot_col1_against_col2_by_year('INVVALP', 'Year', 'Inventory value of women',[-1,0,2,9],'YEAR','SEX')\n",
    "plot_col1_against_col2_by_year('INVVALP', 'Year', 'Inventory value of non-women',[1],'YEAR', 'SEX')\n",
    "plot_col1_against_col2_by_year('SALEVALP','Year', 'Sale value of women',[-1,0,2,9],'YEAR','SEX')\n",
    "plot_col1_against_col2_by_year('SALEVALP','Year', 'Sale value of non-women',[1],'YEAR', 'SEX')"
   ]
  },
  {
   "cell_type": "code",
   "execution_count": null,
   "id": "5a5c6b3e-ec53-4fde-9127-44eb5be2ed67",
   "metadata": {},
   "outputs": [],
   "source": [
    "# Women = 1 on SEX category\n",
    "plot_col1_against_col2_by_year('INVVALP', 'Year', 'Inventory value of unidentified gender',[-1,0,2,9],'YEAR','SEX')\n",
    "plot_col1_against_col2_by_year('SALEVALP', 'Year', 'SALE value of identified gender',[-1,0,2,9],'YEAR', 'SEX')\n",
    "\n",
    "plot_col1_against_col2_by_year('INVVALP', 'Year', 'Inventory value of Pregnant persons',[-1,0,2,9],'YEAR','PREGNANT')\n"
   ]
  },
  {
   "cell_type": "code",
   "execution_count": null,
   "id": "9e29d4fe-6d07-4c1c-a1f4-e29b427144d4",
   "metadata": {},
   "outputs": [],
   "source": [
    "# Men = 2 on SEX category\n",
    "plot_col1_against_col2_by_year('INVVALP', 'Year', 'Total inventory value of men sold',[-1,0,1,9],'YEAR','SEX')\n",
    "plot_col1_against_col2_by_year('SALEVALP', 'Year', 'Total sale value of men sold',[-1,0,1,9],'YEAR', 'SEX')"
   ]
  },
  {
   "cell_type": "code",
   "execution_count": null,
   "id": "d4052bb5-06c1-4f7e-8328-72b5dcb62864",
   "metadata": {},
   "outputs": [],
   "source": []
  },
  {
   "cell_type": "code",
   "execution_count": null,
   "id": "3c777828-fb8b-4b4f-ac47-412a6c839346",
   "metadata": {},
   "outputs": [],
   "source": []
  },
  {
   "cell_type": "code",
   "execution_count": null,
   "id": "e2a66d73-25e7-4012-827c-43ca0a2526e9",
   "metadata": {},
   "outputs": [],
   "source": []
  }
 ],
 "metadata": {
  "kernelspec": {
   "display_name": "Python 3 (ipykernel)",
   "language": "python",
   "name": "python3"
  },
  "language_info": {
   "codemirror_mode": {
    "name": "ipython",
    "version": 3
   },
   "file_extension": ".py",
   "mimetype": "text/x-python",
   "name": "python",
   "nbconvert_exporter": "python",
   "pygments_lexer": "ipython3",
   "version": "3.8.5"
  }
 },
 "nbformat": 4,
 "nbformat_minor": 5
}
